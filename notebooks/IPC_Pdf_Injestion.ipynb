{
 "cells": [
  {
   "cell_type": "markdown",
   "id": "f107e278",
   "metadata": {},
   "source": [
    "## Indian Constitution PDF Document ingestion for RAGSTER project"
   ]
  },
  {
   "cell_type": "code",
   "execution_count": 10,
   "id": "2dd06800",
   "metadata": {},
   "outputs": [
    {
     "name": "stdout",
     "output_type": "stream",
     "text": [
      "--2025-07-08 11:53:02--  https://raw.githubusercontent.com/sreekanthpogula/ragster/master/requirements.txt\n",
      "Resolving raw.githubusercontent.com (raw.githubusercontent.com)... 185.199.110.133, 185.199.111.133, 185.199.108.133, ...\n",
      "Connecting to raw.githubusercontent.com (raw.githubusercontent.com)|185.199.110.133|:443... connected.\n",
      "HTTP request sent, awaiting response... 200 OK\n",
      "Length: 294 [text/plain]\n",
      "Saving to: ‘requirements.txt.1’\n",
      "\n",
      "requirements.txt.1  100%[===================>]     294  --.-KB/s    in 0s      \n",
      "\n",
      "2025-07-08 11:53:04 (23.4 MB/s) - ‘requirements.txt.1’ saved [294/294]\n",
      "\n"
     ]
    }
   ],
   "source": [
    "!wget https://raw.githubusercontent.com/sreekanthpogula/ragster/master/requirements.txt"
   ]
  },
  {
   "cell_type": "code",
   "execution_count": 11,
   "id": "1c8da753",
   "metadata": {},
   "outputs": [
    {
     "name": "stdout",
     "output_type": "stream",
     "text": [
      "Requirement already satisfied: chroma-hnswlib==0.7.6 in /Users/sreekanthpogula/personal_learnings/ragster/venv/lib/python3.11/site-packages (from -r requirements.txt (line 1)) (0.7.6)\n",
      "Requirement already satisfied: chromadb==0.5.11 in /Users/sreekanthpogula/personal_learnings/ragster/venv/lib/python3.11/site-packages (from -r requirements.txt (line 2)) (0.5.11)\n",
      "Requirement already satisfied: langchain==0.2.9 in /Users/sreekanthpogula/personal_learnings/ragster/venv/lib/python3.11/site-packages (from -r requirements.txt (line 3)) (0.2.9)\n",
      "Requirement already satisfied: langchain-chroma==0.1.4 in /Users/sreekanthpogula/personal_learnings/ragster/venv/lib/python3.11/site-packages (from -r requirements.txt (line 4)) (0.1.4)\n",
      "Requirement already satisfied: langchain-community==0.2.10 in /Users/sreekanthpogula/personal_learnings/ragster/venv/lib/python3.11/site-packages (from -r requirements.txt (line 5)) (0.2.10)\n",
      "Requirement already satisfied: langchain-core==0.2.24 in /Users/sreekanthpogula/personal_learnings/ragster/venv/lib/python3.11/site-packages (from -r requirements.txt (line 6)) (0.2.24)\n",
      "Requirement already satisfied: langchain-openai in /Users/sreekanthpogula/personal_learnings/ragster/venv/lib/python3.11/site-packages (from -r requirements.txt (line 7)) (0.1.19)\n",
      "Requirement already satisfied: langchain-text-splitters==0.2.2 in /Users/sreekanthpogula/personal_learnings/ragster/venv/lib/python3.11/site-packages (from -r requirements.txt (line 8)) (0.2.2)\n",
      "Requirement already satisfied: langchainhub==0.1.20 in /Users/sreekanthpogula/personal_learnings/ragster/venv/lib/python3.11/site-packages (from -r requirements.txt (line 9)) (0.1.20)\n",
      "Requirement already satisfied: langdetect==1.0.9 in /Users/sreekanthpogula/personal_learnings/ragster/venv/lib/python3.11/site-packages (from -r requirements.txt (line 10)) (1.0.9)\n",
      "Requirement already satisfied: langsmith==0.1.93 in /Users/sreekanthpogula/personal_learnings/ragster/venv/lib/python3.11/site-packages (from -r requirements.txt (line 11)) (0.1.93)\n",
      "Requirement already satisfied: openai in /Users/sreekanthpogula/personal_learnings/ragster/venv/lib/python3.11/site-packages (from -r requirements.txt (line 12)) (1.93.1)\n",
      "Requirement already satisfied: PyMuPDF==1.24.9 in /Users/sreekanthpogula/personal_learnings/ragster/venv/lib/python3.11/site-packages (from -r requirements.txt (line 13)) (1.24.9)\n",
      "Requirement already satisfied: PyMuPDFb==1.24.9 in /Users/sreekanthpogula/personal_learnings/ragster/venv/lib/python3.11/site-packages (from -r requirements.txt (line 14)) (1.24.9)\n",
      "Requirement already satisfied: streamlit==1.37.0 in /Users/sreekanthpogula/personal_learnings/ragster/venv/lib/python3.11/site-packages (from -r requirements.txt (line 15)) (1.37.0)\n",
      "Requirement already satisfied: numpy in /Users/sreekanthpogula/personal_learnings/ragster/venv/lib/python3.11/site-packages (from chroma-hnswlib==0.7.6->-r requirements.txt (line 1)) (1.26.4)\n",
      "Requirement already satisfied: build>=1.0.3 in /Users/sreekanthpogula/personal_learnings/ragster/venv/lib/python3.11/site-packages (from chromadb==0.5.11->-r requirements.txt (line 2)) (1.2.2.post1)\n",
      "Requirement already satisfied: pydantic>=1.9 in /Users/sreekanthpogula/personal_learnings/ragster/venv/lib/python3.11/site-packages (from chromadb==0.5.11->-r requirements.txt (line 2)) (2.11.7)\n",
      "Requirement already satisfied: fastapi>=0.95.2 in /Users/sreekanthpogula/personal_learnings/ragster/venv/lib/python3.11/site-packages (from chromadb==0.5.11->-r requirements.txt (line 2)) (0.116.0)\n",
      "Requirement already satisfied: uvicorn>=0.18.3 in /Users/sreekanthpogula/personal_learnings/ragster/venv/lib/python3.11/site-packages (from uvicorn[standard]>=0.18.3->chromadb==0.5.11->-r requirements.txt (line 2)) (0.35.0)\n",
      "Requirement already satisfied: posthog>=2.4.0 in /Users/sreekanthpogula/personal_learnings/ragster/venv/lib/python3.11/site-packages (from chromadb==0.5.11->-r requirements.txt (line 2)) (6.0.3)\n",
      "Requirement already satisfied: typing-extensions>=4.5.0 in /Users/sreekanthpogula/personal_learnings/ragster/venv/lib/python3.11/site-packages (from chromadb==0.5.11->-r requirements.txt (line 2)) (4.14.1)\n",
      "Requirement already satisfied: onnxruntime>=1.14.1 in /Users/sreekanthpogula/personal_learnings/ragster/venv/lib/python3.11/site-packages (from chromadb==0.5.11->-r requirements.txt (line 2)) (1.22.0)\n",
      "Requirement already satisfied: opentelemetry-api>=1.2.0 in /Users/sreekanthpogula/personal_learnings/ragster/venv/lib/python3.11/site-packages (from chromadb==0.5.11->-r requirements.txt (line 2)) (1.34.1)\n",
      "Requirement already satisfied: opentelemetry-exporter-otlp-proto-grpc>=1.2.0 in /Users/sreekanthpogula/personal_learnings/ragster/venv/lib/python3.11/site-packages (from chromadb==0.5.11->-r requirements.txt (line 2)) (1.34.1)\n",
      "Requirement already satisfied: opentelemetry-instrumentation-fastapi>=0.41b0 in /Users/sreekanthpogula/personal_learnings/ragster/venv/lib/python3.11/site-packages (from chromadb==0.5.11->-r requirements.txt (line 2)) (0.55b1)\n",
      "Requirement already satisfied: opentelemetry-sdk>=1.2.0 in /Users/sreekanthpogula/personal_learnings/ragster/venv/lib/python3.11/site-packages (from chromadb==0.5.11->-r requirements.txt (line 2)) (1.34.1)\n",
      "Requirement already satisfied: tokenizers>=0.13.2 in /Users/sreekanthpogula/personal_learnings/ragster/venv/lib/python3.11/site-packages (from chromadb==0.5.11->-r requirements.txt (line 2)) (0.21.2)\n",
      "Requirement already satisfied: pypika>=0.48.9 in /Users/sreekanthpogula/personal_learnings/ragster/venv/lib/python3.11/site-packages (from chromadb==0.5.11->-r requirements.txt (line 2)) (0.48.9)\n",
      "Requirement already satisfied: tqdm>=4.65.0 in /Users/sreekanthpogula/personal_learnings/ragster/venv/lib/python3.11/site-packages (from chromadb==0.5.11->-r requirements.txt (line 2)) (4.67.1)\n",
      "Requirement already satisfied: overrides>=7.3.1 in /Users/sreekanthpogula/personal_learnings/ragster/venv/lib/python3.11/site-packages (from chromadb==0.5.11->-r requirements.txt (line 2)) (7.7.0)\n",
      "Requirement already satisfied: importlib-resources in /Users/sreekanthpogula/personal_learnings/ragster/venv/lib/python3.11/site-packages (from chromadb==0.5.11->-r requirements.txt (line 2)) (6.5.2)\n",
      "Requirement already satisfied: grpcio>=1.58.0 in /Users/sreekanthpogula/personal_learnings/ragster/venv/lib/python3.11/site-packages (from chromadb==0.5.11->-r requirements.txt (line 2)) (1.73.1)\n",
      "Requirement already satisfied: bcrypt>=4.0.1 in /Users/sreekanthpogula/personal_learnings/ragster/venv/lib/python3.11/site-packages (from chromadb==0.5.11->-r requirements.txt (line 2)) (4.3.0)\n",
      "Requirement already satisfied: typer>=0.9.0 in /Users/sreekanthpogula/personal_learnings/ragster/venv/lib/python3.11/site-packages (from chromadb==0.5.11->-r requirements.txt (line 2)) (0.16.0)\n",
      "Requirement already satisfied: kubernetes>=28.1.0 in /Users/sreekanthpogula/personal_learnings/ragster/venv/lib/python3.11/site-packages (from chromadb==0.5.11->-r requirements.txt (line 2)) (33.1.0)\n",
      "Requirement already satisfied: tenacity>=8.2.3 in /Users/sreekanthpogula/personal_learnings/ragster/venv/lib/python3.11/site-packages (from chromadb==0.5.11->-r requirements.txt (line 2)) (8.5.0)\n",
      "Requirement already satisfied: PyYAML>=6.0.0 in /Users/sreekanthpogula/personal_learnings/ragster/venv/lib/python3.11/site-packages (from chromadb==0.5.11->-r requirements.txt (line 2)) (6.0.2)\n",
      "Requirement already satisfied: mmh3>=4.0.1 in /Users/sreekanthpogula/personal_learnings/ragster/venv/lib/python3.11/site-packages (from chromadb==0.5.11->-r requirements.txt (line 2)) (5.1.0)\n",
      "Requirement already satisfied: orjson>=3.9.12 in /Users/sreekanthpogula/personal_learnings/ragster/venv/lib/python3.11/site-packages (from chromadb==0.5.11->-r requirements.txt (line 2)) (3.10.18)\n",
      "Requirement already satisfied: httpx>=0.27.0 in /Users/sreekanthpogula/personal_learnings/ragster/venv/lib/python3.11/site-packages (from chromadb==0.5.11->-r requirements.txt (line 2)) (0.28.1)\n",
      "Requirement already satisfied: rich>=10.11.0 in /Users/sreekanthpogula/personal_learnings/ragster/venv/lib/python3.11/site-packages (from chromadb==0.5.11->-r requirements.txt (line 2)) (13.9.4)\n",
      "Requirement already satisfied: SQLAlchemy<3,>=1.4 in /Users/sreekanthpogula/personal_learnings/ragster/venv/lib/python3.11/site-packages (from langchain==0.2.9->-r requirements.txt (line 3)) (2.0.41)\n",
      "Requirement already satisfied: aiohttp<4.0.0,>=3.8.3 in /Users/sreekanthpogula/personal_learnings/ragster/venv/lib/python3.11/site-packages (from langchain==0.2.9->-r requirements.txt (line 3)) (3.12.13)\n",
      "Requirement already satisfied: requests<3,>=2 in /Users/sreekanthpogula/personal_learnings/ragster/venv/lib/python3.11/site-packages (from langchain==0.2.9->-r requirements.txt (line 3)) (2.32.4)\n",
      "Requirement already satisfied: dataclasses-json<0.7,>=0.5.7 in /Users/sreekanthpogula/personal_learnings/ragster/venv/lib/python3.11/site-packages (from langchain-community==0.2.10->-r requirements.txt (line 5)) (0.6.7)\n",
      "Requirement already satisfied: jsonpatch<2.0,>=1.33 in /Users/sreekanthpogula/personal_learnings/ragster/venv/lib/python3.11/site-packages (from langchain-core==0.2.24->-r requirements.txt (line 6)) (1.33)\n",
      "Requirement already satisfied: packaging<25,>=23.2 in /Users/sreekanthpogula/personal_learnings/ragster/venv/lib/python3.11/site-packages (from langchain-core==0.2.24->-r requirements.txt (line 6)) (24.2)\n",
      "Requirement already satisfied: types-requests<3.0.0.0,>=2.31.0.2 in /Users/sreekanthpogula/personal_learnings/ragster/venv/lib/python3.11/site-packages (from langchainhub==0.1.20->-r requirements.txt (line 9)) (2.32.4.20250611)\n",
      "Requirement already satisfied: six in /Users/sreekanthpogula/personal_learnings/ragster/venv/lib/python3.11/site-packages (from langdetect==1.0.9->-r requirements.txt (line 10)) (1.17.0)\n",
      "Requirement already satisfied: altair<6,>=4.0 in /Users/sreekanthpogula/personal_learnings/ragster/venv/lib/python3.11/site-packages (from streamlit==1.37.0->-r requirements.txt (line 15)) (5.5.0)\n",
      "Requirement already satisfied: blinker<2,>=1.0.0 in /Users/sreekanthpogula/personal_learnings/ragster/venv/lib/python3.11/site-packages (from streamlit==1.37.0->-r requirements.txt (line 15)) (1.9.0)\n",
      "Requirement already satisfied: cachetools<6,>=4.0 in /Users/sreekanthpogula/personal_learnings/ragster/venv/lib/python3.11/site-packages (from streamlit==1.37.0->-r requirements.txt (line 15)) (5.5.2)\n",
      "Requirement already satisfied: click<9,>=7.0 in /Users/sreekanthpogula/personal_learnings/ragster/venv/lib/python3.11/site-packages (from streamlit==1.37.0->-r requirements.txt (line 15)) (8.2.1)\n",
      "Requirement already satisfied: pandas<3,>=1.3.0 in /Users/sreekanthpogula/personal_learnings/ragster/venv/lib/python3.11/site-packages (from streamlit==1.37.0->-r requirements.txt (line 15)) (2.3.1)\n",
      "Requirement already satisfied: pillow<11,>=7.1.0 in /Users/sreekanthpogula/personal_learnings/ragster/venv/lib/python3.11/site-packages (from streamlit==1.37.0->-r requirements.txt (line 15)) (10.4.0)\n",
      "Requirement already satisfied: protobuf<6,>=3.20 in /Users/sreekanthpogula/personal_learnings/ragster/venv/lib/python3.11/site-packages (from streamlit==1.37.0->-r requirements.txt (line 15)) (5.29.5)\n",
      "Requirement already satisfied: pyarrow>=7.0 in /Users/sreekanthpogula/personal_learnings/ragster/venv/lib/python3.11/site-packages (from streamlit==1.37.0->-r requirements.txt (line 15)) (20.0.0)\n",
      "Requirement already satisfied: toml<2,>=0.10.1 in /Users/sreekanthpogula/personal_learnings/ragster/venv/lib/python3.11/site-packages (from streamlit==1.37.0->-r requirements.txt (line 15)) (0.10.2)\n",
      "Requirement already satisfied: gitpython!=3.1.19,<4,>=3.0.7 in /Users/sreekanthpogula/personal_learnings/ragster/venv/lib/python3.11/site-packages (from streamlit==1.37.0->-r requirements.txt (line 15)) (3.1.44)\n",
      "Requirement already satisfied: pydeck<1,>=0.8.0b4 in /Users/sreekanthpogula/personal_learnings/ragster/venv/lib/python3.11/site-packages (from streamlit==1.37.0->-r requirements.txt (line 15)) (0.9.1)\n",
      "Requirement already satisfied: tornado<7,>=6.0.3 in /Users/sreekanthpogula/personal_learnings/ragster/venv/lib/python3.11/site-packages (from streamlit==1.37.0->-r requirements.txt (line 15)) (6.5.1)\n",
      "Requirement already satisfied: tiktoken<1,>=0.7 in /Users/sreekanthpogula/personal_learnings/ragster/venv/lib/python3.11/site-packages (from langchain-openai->-r requirements.txt (line 7)) (0.9.0)\n",
      "Requirement already satisfied: anyio<5,>=3.5.0 in /Users/sreekanthpogula/personal_learnings/ragster/venv/lib/python3.11/site-packages (from openai->-r requirements.txt (line 12)) (4.9.0)\n",
      "Requirement already satisfied: distro<2,>=1.7.0 in /Users/sreekanthpogula/personal_learnings/ragster/venv/lib/python3.11/site-packages (from openai->-r requirements.txt (line 12)) (1.9.0)\n",
      "Requirement already satisfied: jiter<1,>=0.4.0 in /Users/sreekanthpogula/personal_learnings/ragster/venv/lib/python3.11/site-packages (from openai->-r requirements.txt (line 12)) (0.10.0)\n",
      "Requirement already satisfied: sniffio in /Users/sreekanthpogula/personal_learnings/ragster/venv/lib/python3.11/site-packages (from openai->-r requirements.txt (line 12)) (1.3.1)\n",
      "Requirement already satisfied: aiohappyeyeballs>=2.5.0 in /Users/sreekanthpogula/personal_learnings/ragster/venv/lib/python3.11/site-packages (from aiohttp<4.0.0,>=3.8.3->langchain==0.2.9->-r requirements.txt (line 3)) (2.6.1)\n",
      "Requirement already satisfied: aiosignal>=1.1.2 in /Users/sreekanthpogula/personal_learnings/ragster/venv/lib/python3.11/site-packages (from aiohttp<4.0.0,>=3.8.3->langchain==0.2.9->-r requirements.txt (line 3)) (1.4.0)\n",
      "Requirement already satisfied: attrs>=17.3.0 in /Users/sreekanthpogula/personal_learnings/ragster/venv/lib/python3.11/site-packages (from aiohttp<4.0.0,>=3.8.3->langchain==0.2.9->-r requirements.txt (line 3)) (25.3.0)\n",
      "Requirement already satisfied: frozenlist>=1.1.1 in /Users/sreekanthpogula/personal_learnings/ragster/venv/lib/python3.11/site-packages (from aiohttp<4.0.0,>=3.8.3->langchain==0.2.9->-r requirements.txt (line 3)) (1.7.0)\n",
      "Requirement already satisfied: multidict<7.0,>=4.5 in /Users/sreekanthpogula/personal_learnings/ragster/venv/lib/python3.11/site-packages (from aiohttp<4.0.0,>=3.8.3->langchain==0.2.9->-r requirements.txt (line 3)) (6.6.3)\n",
      "Requirement already satisfied: propcache>=0.2.0 in /Users/sreekanthpogula/personal_learnings/ragster/venv/lib/python3.11/site-packages (from aiohttp<4.0.0,>=3.8.3->langchain==0.2.9->-r requirements.txt (line 3)) (0.3.2)\n",
      "Requirement already satisfied: yarl<2.0,>=1.17.0 in /Users/sreekanthpogula/personal_learnings/ragster/venv/lib/python3.11/site-packages (from aiohttp<4.0.0,>=3.8.3->langchain==0.2.9->-r requirements.txt (line 3)) (1.20.1)\n",
      "Requirement already satisfied: jinja2 in /Users/sreekanthpogula/personal_learnings/ragster/venv/lib/python3.11/site-packages (from altair<6,>=4.0->streamlit==1.37.0->-r requirements.txt (line 15)) (3.1.6)\n",
      "Requirement already satisfied: jsonschema>=3.0 in /Users/sreekanthpogula/personal_learnings/ragster/venv/lib/python3.11/site-packages (from altair<6,>=4.0->streamlit==1.37.0->-r requirements.txt (line 15)) (4.24.0)\n",
      "Requirement already satisfied: narwhals>=1.14.2 in /Users/sreekanthpogula/personal_learnings/ragster/venv/lib/python3.11/site-packages (from altair<6,>=4.0->streamlit==1.37.0->-r requirements.txt (line 15)) (1.46.0)\n",
      "Requirement already satisfied: idna>=2.8 in /Users/sreekanthpogula/personal_learnings/ragster/venv/lib/python3.11/site-packages (from anyio<5,>=3.5.0->openai->-r requirements.txt (line 12)) (3.10)\n",
      "Requirement already satisfied: pyproject_hooks in /Users/sreekanthpogula/personal_learnings/ragster/venv/lib/python3.11/site-packages (from build>=1.0.3->chromadb==0.5.11->-r requirements.txt (line 2)) (1.2.0)\n",
      "Requirement already satisfied: marshmallow<4.0.0,>=3.18.0 in /Users/sreekanthpogula/personal_learnings/ragster/venv/lib/python3.11/site-packages (from dataclasses-json<0.7,>=0.5.7->langchain-community==0.2.10->-r requirements.txt (line 5)) (3.26.1)\n",
      "Requirement already satisfied: typing-inspect<1,>=0.4.0 in /Users/sreekanthpogula/personal_learnings/ragster/venv/lib/python3.11/site-packages (from dataclasses-json<0.7,>=0.5.7->langchain-community==0.2.10->-r requirements.txt (line 5)) (0.9.0)\n",
      "Requirement already satisfied: starlette<0.47.0,>=0.40.0 in /Users/sreekanthpogula/personal_learnings/ragster/venv/lib/python3.11/site-packages (from fastapi>=0.95.2->chromadb==0.5.11->-r requirements.txt (line 2)) (0.46.2)\n",
      "Requirement already satisfied: gitdb<5,>=4.0.1 in /Users/sreekanthpogula/personal_learnings/ragster/venv/lib/python3.11/site-packages (from gitpython!=3.1.19,<4,>=3.0.7->streamlit==1.37.0->-r requirements.txt (line 15)) (4.0.12)\n",
      "Requirement already satisfied: certifi in /Users/sreekanthpogula/personal_learnings/ragster/venv/lib/python3.11/site-packages (from httpx>=0.27.0->chromadb==0.5.11->-r requirements.txt (line 2)) (2025.6.15)\n",
      "Requirement already satisfied: httpcore==1.* in /Users/sreekanthpogula/personal_learnings/ragster/venv/lib/python3.11/site-packages (from httpx>=0.27.0->chromadb==0.5.11->-r requirements.txt (line 2)) (1.0.9)\n",
      "Requirement already satisfied: h11>=0.16 in /Users/sreekanthpogula/personal_learnings/ragster/venv/lib/python3.11/site-packages (from httpcore==1.*->httpx>=0.27.0->chromadb==0.5.11->-r requirements.txt (line 2)) (0.16.0)\n",
      "Requirement already satisfied: jsonpointer>=1.9 in /Users/sreekanthpogula/personal_learnings/ragster/venv/lib/python3.11/site-packages (from jsonpatch<2.0,>=1.33->langchain-core==0.2.24->-r requirements.txt (line 6)) (3.0.0)\n",
      "Requirement already satisfied: python-dateutil>=2.5.3 in /Users/sreekanthpogula/personal_learnings/ragster/venv/lib/python3.11/site-packages (from kubernetes>=28.1.0->chromadb==0.5.11->-r requirements.txt (line 2)) (2.9.0.post0)\n",
      "Requirement already satisfied: google-auth>=1.0.1 in /Users/sreekanthpogula/personal_learnings/ragster/venv/lib/python3.11/site-packages (from kubernetes>=28.1.0->chromadb==0.5.11->-r requirements.txt (line 2)) (2.40.3)\n",
      "Requirement already satisfied: websocket-client!=0.40.0,!=0.41.*,!=0.42.*,>=0.32.0 in /Users/sreekanthpogula/personal_learnings/ragster/venv/lib/python3.11/site-packages (from kubernetes>=28.1.0->chromadb==0.5.11->-r requirements.txt (line 2)) (1.8.0)\n",
      "Requirement already satisfied: requests-oauthlib in /Users/sreekanthpogula/personal_learnings/ragster/venv/lib/python3.11/site-packages (from kubernetes>=28.1.0->chromadb==0.5.11->-r requirements.txt (line 2)) (2.0.0)\n",
      "Requirement already satisfied: oauthlib>=3.2.2 in /Users/sreekanthpogula/personal_learnings/ragster/venv/lib/python3.11/site-packages (from kubernetes>=28.1.0->chromadb==0.5.11->-r requirements.txt (line 2)) (3.3.1)\n",
      "Requirement already satisfied: urllib3>=1.24.2 in /Users/sreekanthpogula/personal_learnings/ragster/venv/lib/python3.11/site-packages (from kubernetes>=28.1.0->chromadb==0.5.11->-r requirements.txt (line 2)) (2.5.0)\n",
      "Requirement already satisfied: durationpy>=0.7 in /Users/sreekanthpogula/personal_learnings/ragster/venv/lib/python3.11/site-packages (from kubernetes>=28.1.0->chromadb==0.5.11->-r requirements.txt (line 2)) (0.10)\n",
      "Requirement already satisfied: coloredlogs in /Users/sreekanthpogula/personal_learnings/ragster/venv/lib/python3.11/site-packages (from onnxruntime>=1.14.1->chromadb==0.5.11->-r requirements.txt (line 2)) (15.0.1)\n",
      "Requirement already satisfied: flatbuffers in /Users/sreekanthpogula/personal_learnings/ragster/venv/lib/python3.11/site-packages (from onnxruntime>=1.14.1->chromadb==0.5.11->-r requirements.txt (line 2)) (25.2.10)\n",
      "Requirement already satisfied: sympy in /Users/sreekanthpogula/personal_learnings/ragster/venv/lib/python3.11/site-packages (from onnxruntime>=1.14.1->chromadb==0.5.11->-r requirements.txt (line 2)) (1.14.0)\n",
      "Requirement already satisfied: importlib-metadata<8.8.0,>=6.0 in /Users/sreekanthpogula/personal_learnings/ragster/venv/lib/python3.11/site-packages (from opentelemetry-api>=1.2.0->chromadb==0.5.11->-r requirements.txt (line 2)) (8.7.0)\n",
      "Requirement already satisfied: googleapis-common-protos~=1.52 in /Users/sreekanthpogula/personal_learnings/ragster/venv/lib/python3.11/site-packages (from opentelemetry-exporter-otlp-proto-grpc>=1.2.0->chromadb==0.5.11->-r requirements.txt (line 2)) (1.70.0)\n",
      "Requirement already satisfied: opentelemetry-exporter-otlp-proto-common==1.34.1 in /Users/sreekanthpogula/personal_learnings/ragster/venv/lib/python3.11/site-packages (from opentelemetry-exporter-otlp-proto-grpc>=1.2.0->chromadb==0.5.11->-r requirements.txt (line 2)) (1.34.1)\n",
      "Requirement already satisfied: opentelemetry-proto==1.34.1 in /Users/sreekanthpogula/personal_learnings/ragster/venv/lib/python3.11/site-packages (from opentelemetry-exporter-otlp-proto-grpc>=1.2.0->chromadb==0.5.11->-r requirements.txt (line 2)) (1.34.1)\n",
      "Requirement already satisfied: opentelemetry-instrumentation-asgi==0.55b1 in /Users/sreekanthpogula/personal_learnings/ragster/venv/lib/python3.11/site-packages (from opentelemetry-instrumentation-fastapi>=0.41b0->chromadb==0.5.11->-r requirements.txt (line 2)) (0.55b1)\n",
      "Requirement already satisfied: opentelemetry-instrumentation==0.55b1 in /Users/sreekanthpogula/personal_learnings/ragster/venv/lib/python3.11/site-packages (from opentelemetry-instrumentation-fastapi>=0.41b0->chromadb==0.5.11->-r requirements.txt (line 2)) (0.55b1)\n",
      "Requirement already satisfied: opentelemetry-semantic-conventions==0.55b1 in /Users/sreekanthpogula/personal_learnings/ragster/venv/lib/python3.11/site-packages (from opentelemetry-instrumentation-fastapi>=0.41b0->chromadb==0.5.11->-r requirements.txt (line 2)) (0.55b1)\n",
      "Requirement already satisfied: opentelemetry-util-http==0.55b1 in /Users/sreekanthpogula/personal_learnings/ragster/venv/lib/python3.11/site-packages (from opentelemetry-instrumentation-fastapi>=0.41b0->chromadb==0.5.11->-r requirements.txt (line 2)) (0.55b1)\n",
      "Requirement already satisfied: wrapt<2.0.0,>=1.0.0 in /Users/sreekanthpogula/personal_learnings/ragster/venv/lib/python3.11/site-packages (from opentelemetry-instrumentation==0.55b1->opentelemetry-instrumentation-fastapi>=0.41b0->chromadb==0.5.11->-r requirements.txt (line 2)) (1.17.2)\n",
      "Requirement already satisfied: asgiref~=3.0 in /Users/sreekanthpogula/personal_learnings/ragster/venv/lib/python3.11/site-packages (from opentelemetry-instrumentation-asgi==0.55b1->opentelemetry-instrumentation-fastapi>=0.41b0->chromadb==0.5.11->-r requirements.txt (line 2)) (3.9.0)\n",
      "Requirement already satisfied: pytz>=2020.1 in /Users/sreekanthpogula/personal_learnings/ragster/venv/lib/python3.11/site-packages (from pandas<3,>=1.3.0->streamlit==1.37.0->-r requirements.txt (line 15)) (2025.2)\n",
      "Requirement already satisfied: tzdata>=2022.7 in /Users/sreekanthpogula/personal_learnings/ragster/venv/lib/python3.11/site-packages (from pandas<3,>=1.3.0->streamlit==1.37.0->-r requirements.txt (line 15)) (2025.2)\n",
      "Requirement already satisfied: backoff>=1.10.0 in /Users/sreekanthpogula/personal_learnings/ragster/venv/lib/python3.11/site-packages (from posthog>=2.4.0->chromadb==0.5.11->-r requirements.txt (line 2)) (2.2.1)\n",
      "Requirement already satisfied: annotated-types>=0.6.0 in /Users/sreekanthpogula/personal_learnings/ragster/venv/lib/python3.11/site-packages (from pydantic>=1.9->chromadb==0.5.11->-r requirements.txt (line 2)) (0.7.0)\n",
      "Requirement already satisfied: pydantic-core==2.33.2 in /Users/sreekanthpogula/personal_learnings/ragster/venv/lib/python3.11/site-packages (from pydantic>=1.9->chromadb==0.5.11->-r requirements.txt (line 2)) (2.33.2)\n",
      "Requirement already satisfied: typing-inspection>=0.4.0 in /Users/sreekanthpogula/personal_learnings/ragster/venv/lib/python3.11/site-packages (from pydantic>=1.9->chromadb==0.5.11->-r requirements.txt (line 2)) (0.4.1)\n",
      "Requirement already satisfied: charset_normalizer<4,>=2 in /Users/sreekanthpogula/personal_learnings/ragster/venv/lib/python3.11/site-packages (from requests<3,>=2->langchain==0.2.9->-r requirements.txt (line 3)) (3.4.2)\n",
      "Requirement already satisfied: markdown-it-py>=2.2.0 in /Users/sreekanthpogula/personal_learnings/ragster/venv/lib/python3.11/site-packages (from rich>=10.11.0->chromadb==0.5.11->-r requirements.txt (line 2)) (3.0.0)\n",
      "Requirement already satisfied: pygments<3.0.0,>=2.13.0 in /Users/sreekanthpogula/personal_learnings/ragster/venv/lib/python3.11/site-packages (from rich>=10.11.0->chromadb==0.5.11->-r requirements.txt (line 2)) (2.19.2)\n",
      "Requirement already satisfied: regex>=2022.1.18 in /Users/sreekanthpogula/personal_learnings/ragster/venv/lib/python3.11/site-packages (from tiktoken<1,>=0.7->langchain-openai->-r requirements.txt (line 7)) (2024.11.6)\n",
      "Requirement already satisfied: huggingface-hub<1.0,>=0.16.4 in /Users/sreekanthpogula/personal_learnings/ragster/venv/lib/python3.11/site-packages (from tokenizers>=0.13.2->chromadb==0.5.11->-r requirements.txt (line 2)) (0.33.2)\n",
      "Requirement already satisfied: shellingham>=1.3.0 in /Users/sreekanthpogula/personal_learnings/ragster/venv/lib/python3.11/site-packages (from typer>=0.9.0->chromadb==0.5.11->-r requirements.txt (line 2)) (1.5.4)\n",
      "Requirement already satisfied: httptools>=0.6.3 in /Users/sreekanthpogula/personal_learnings/ragster/venv/lib/python3.11/site-packages (from uvicorn[standard]>=0.18.3->chromadb==0.5.11->-r requirements.txt (line 2)) (0.6.4)\n",
      "Requirement already satisfied: python-dotenv>=0.13 in /Users/sreekanthpogula/personal_learnings/ragster/venv/lib/python3.11/site-packages (from uvicorn[standard]>=0.18.3->chromadb==0.5.11->-r requirements.txt (line 2)) (1.1.1)\n",
      "Requirement already satisfied: uvloop>=0.15.1 in /Users/sreekanthpogula/personal_learnings/ragster/venv/lib/python3.11/site-packages (from uvicorn[standard]>=0.18.3->chromadb==0.5.11->-r requirements.txt (line 2)) (0.21.0)\n",
      "Requirement already satisfied: watchfiles>=0.13 in /Users/sreekanthpogula/personal_learnings/ragster/venv/lib/python3.11/site-packages (from uvicorn[standard]>=0.18.3->chromadb==0.5.11->-r requirements.txt (line 2)) (1.1.0)\n",
      "Requirement already satisfied: websockets>=10.4 in /Users/sreekanthpogula/personal_learnings/ragster/venv/lib/python3.11/site-packages (from uvicorn[standard]>=0.18.3->chromadb==0.5.11->-r requirements.txt (line 2)) (15.0.1)\n",
      "Requirement already satisfied: smmap<6,>=3.0.1 in /Users/sreekanthpogula/personal_learnings/ragster/venv/lib/python3.11/site-packages (from gitdb<5,>=4.0.1->gitpython!=3.1.19,<4,>=3.0.7->streamlit==1.37.0->-r requirements.txt (line 15)) (5.0.2)\n",
      "Requirement already satisfied: pyasn1-modules>=0.2.1 in /Users/sreekanthpogula/personal_learnings/ragster/venv/lib/python3.11/site-packages (from google-auth>=1.0.1->kubernetes>=28.1.0->chromadb==0.5.11->-r requirements.txt (line 2)) (0.4.2)\n",
      "Requirement already satisfied: rsa<5,>=3.1.4 in /Users/sreekanthpogula/personal_learnings/ragster/venv/lib/python3.11/site-packages (from google-auth>=1.0.1->kubernetes>=28.1.0->chromadb==0.5.11->-r requirements.txt (line 2)) (4.9.1)\n",
      "Requirement already satisfied: filelock in /Users/sreekanthpogula/personal_learnings/ragster/venv/lib/python3.11/site-packages (from huggingface-hub<1.0,>=0.16.4->tokenizers>=0.13.2->chromadb==0.5.11->-r requirements.txt (line 2)) (3.18.0)\n",
      "Requirement already satisfied: fsspec>=2023.5.0 in /Users/sreekanthpogula/personal_learnings/ragster/venv/lib/python3.11/site-packages (from huggingface-hub<1.0,>=0.16.4->tokenizers>=0.13.2->chromadb==0.5.11->-r requirements.txt (line 2)) (2025.5.1)\n",
      "Requirement already satisfied: hf-xet<2.0.0,>=1.1.2 in /Users/sreekanthpogula/personal_learnings/ragster/venv/lib/python3.11/site-packages (from huggingface-hub<1.0,>=0.16.4->tokenizers>=0.13.2->chromadb==0.5.11->-r requirements.txt (line 2)) (1.1.5)\n",
      "Requirement already satisfied: zipp>=3.20 in /Users/sreekanthpogula/personal_learnings/ragster/venv/lib/python3.11/site-packages (from importlib-metadata<8.8.0,>=6.0->opentelemetry-api>=1.2.0->chromadb==0.5.11->-r requirements.txt (line 2)) (3.23.0)\n",
      "Requirement already satisfied: MarkupSafe>=2.0 in /Users/sreekanthpogula/personal_learnings/ragster/venv/lib/python3.11/site-packages (from jinja2->altair<6,>=4.0->streamlit==1.37.0->-r requirements.txt (line 15)) (3.0.2)\n",
      "Requirement already satisfied: jsonschema-specifications>=2023.03.6 in /Users/sreekanthpogula/personal_learnings/ragster/venv/lib/python3.11/site-packages (from jsonschema>=3.0->altair<6,>=4.0->streamlit==1.37.0->-r requirements.txt (line 15)) (2025.4.1)\n",
      "Requirement already satisfied: referencing>=0.28.4 in /Users/sreekanthpogula/personal_learnings/ragster/venv/lib/python3.11/site-packages (from jsonschema>=3.0->altair<6,>=4.0->streamlit==1.37.0->-r requirements.txt (line 15)) (0.36.2)\n",
      "Requirement already satisfied: rpds-py>=0.7.1 in /Users/sreekanthpogula/personal_learnings/ragster/venv/lib/python3.11/site-packages (from jsonschema>=3.0->altair<6,>=4.0->streamlit==1.37.0->-r requirements.txt (line 15)) (0.26.0)\n",
      "Requirement already satisfied: mdurl~=0.1 in /Users/sreekanthpogula/personal_learnings/ragster/venv/lib/python3.11/site-packages (from markdown-it-py>=2.2.0->rich>=10.11.0->chromadb==0.5.11->-r requirements.txt (line 2)) (0.1.2)\n",
      "Requirement already satisfied: mypy-extensions>=0.3.0 in /Users/sreekanthpogula/personal_learnings/ragster/venv/lib/python3.11/site-packages (from typing-inspect<1,>=0.4.0->dataclasses-json<0.7,>=0.5.7->langchain-community==0.2.10->-r requirements.txt (line 5)) (1.1.0)\n",
      "Requirement already satisfied: humanfriendly>=9.1 in /Users/sreekanthpogula/personal_learnings/ragster/venv/lib/python3.11/site-packages (from coloredlogs->onnxruntime>=1.14.1->chromadb==0.5.11->-r requirements.txt (line 2)) (10.0)\n",
      "Requirement already satisfied: mpmath<1.4,>=1.1.0 in /Users/sreekanthpogula/personal_learnings/ragster/venv/lib/python3.11/site-packages (from sympy->onnxruntime>=1.14.1->chromadb==0.5.11->-r requirements.txt (line 2)) (1.3.0)\n",
      "Requirement already satisfied: pyasn1<0.7.0,>=0.6.1 in /Users/sreekanthpogula/personal_learnings/ragster/venv/lib/python3.11/site-packages (from pyasn1-modules>=0.2.1->google-auth>=1.0.1->kubernetes>=28.1.0->chromadb==0.5.11->-r requirements.txt (line 2)) (0.6.1)\n",
      "\n",
      "\u001b[1m[\u001b[0m\u001b[34;49mnotice\u001b[0m\u001b[1;39;49m]\u001b[0m\u001b[39;49m A new release of pip is available: \u001b[0m\u001b[31;49m24.0\u001b[0m\u001b[39;49m -> \u001b[0m\u001b[32;49m25.1.1\u001b[0m\n",
      "\u001b[1m[\u001b[0m\u001b[34;49mnotice\u001b[0m\u001b[1;39;49m]\u001b[0m\u001b[39;49m To update, run: \u001b[0m\u001b[32;49mpip install --upgrade pip\u001b[0m\n"
     ]
    }
   ],
   "source": [
    "!pip install -r requirements.txt"
   ]
  },
  {
   "cell_type": "code",
   "execution_count": 12,
   "id": "a32a6e39",
   "metadata": {},
   "outputs": [
    {
     "name": "stdout",
     "output_type": "stream",
     "text": [
      "--2025-07-08 11:53:40--  https://cdnbbsr.s3waas.gov.in/s380537a945c7aaa788ccfcdf1b99b5d8f/uploads/2024/07/20240716890312078.pdf\n",
      "Resolving cdnbbsr.s3waas.gov.in (cdnbbsr.s3waas.gov.in)... 23.46.228.46, 23.46.228.39\n",
      "Connecting to cdnbbsr.s3waas.gov.in (cdnbbsr.s3waas.gov.in)|23.46.228.46|:443... connected.\n",
      "HTTP request sent, awaiting response... 200 OK\n",
      "Length: 2413611 (2.3M) [application/pdf]\n",
      "Saving to: ‘20240716890312078.pdf’\n",
      "\n",
      "20240716890312078.p 100%[===================>]   2.30M  1.48MB/s    in 1.6s    \n",
      "\n",
      "2025-07-08 11:53:43 (1.48 MB/s) - ‘20240716890312078.pdf’ saved [2413611/2413611]\n",
      "\n"
     ]
    }
   ],
   "source": [
    "!wget https://cdnbbsr.s3waas.gov.in/s380537a945c7aaa788ccfcdf1b99b5d8f/uploads/2024/07/20240716890312078.pdf"
   ]
  },
  {
   "cell_type": "code",
   "execution_count": 13,
   "id": "36fd84ad",
   "metadata": {},
   "outputs": [],
   "source": [
    "!mv 20240716890312078.pdf IndianConstitution.pdf"
   ]
  },
  {
   "cell_type": "code",
   "execution_count": 14,
   "id": "bca0fd15",
   "metadata": {},
   "outputs": [],
   "source": [
    "from langchain_community.vectorstores import Chroma\n",
    "from langchain_community.document_loaders import PyMuPDFLoader\n",
    "import pymupdf\n",
    "import os\n",
    "from langchain_community.vectorstores import Chroma\n",
    "from langchain_chroma import Chroma"
   ]
  },
  {
   "cell_type": "code",
   "execution_count": 20,
   "id": "b4207caf",
   "metadata": {},
   "outputs": [],
   "source": [
    "file_path = os.path.join(\"IndianConstitution.pdf\")"
   ]
  },
  {
   "cell_type": "code",
   "execution_count": 21,
   "id": "76144902",
   "metadata": {},
   "outputs": [
    {
     "data": {
      "text/plain": [
       "Document(metadata={'source': 'IndianConstitution.pdf', 'file_path': 'IndianConstitution.pdf', 'page': 0, 'total_pages': 402, 'format': 'PDF 1.7', 'title': '', 'author': '', 'subject': '', 'keywords': '', 'creator': '', 'producer': 'iLovePDF', 'creationDate': '', 'modDate': 'D:20240701112033Z', 'trapped': ''}, page_content='£ÉÉ®iÉ BÉEÉ ºÉÆÉÊ´ÉvÉÉxÉ \\n[1\\n, 2024\\n]\\nTHE CONSTITUTION OF INDIA\\n[As on 1st May, 2024] \\n2024\\nGOVERNMENT OF INDIA\\nMINISTRY OF LAW AND JUSTICE\\nLEGISLATIVE DEPARTMENT, OFFICIAL LANGUAGES WING\\n')"
      ]
     },
     "execution_count": 21,
     "metadata": {},
     "output_type": "execute_result"
    }
   ],
   "source": [
    "#Splitting document pagewise using PyMuPdf\n",
    "loader = PyMuPDFLoader(file_path)\n",
    "data = loader.load()\n",
    "data[0]"
   ]
  },
  {
   "cell_type": "code",
   "execution_count": 22,
   "id": "a1f6ccae",
   "metadata": {},
   "outputs": [
    {
     "data": {
      "text/plain": [
       "Document(metadata={'source': 'IndianConstitution.pdf', 'file_path': 'IndianConstitution.pdf', 'page': 3, 'total_pages': 402, 'format': 'PDF 1.7', 'title': '', 'author': '', 'subject': '', 'keywords': '', 'creator': '', 'producer': 'iLovePDF', 'creationDate': '', 'modDate': 'D:20240701112033Z', 'trapped': ''}, page_content='THE CONSTITUTION OF INDIA\\n____________                                                                    \\nCONTENTS\\n__________\\n                                                                                          \\nPREAMBLE\\nPART I \\nTHE UNION AND ITS TERRITORY\\nARTICLES \\n1.\\nName and territory of the Union.\\n  2. \\nAdmission or establishment of new States. \\n[2A.         Sikkim to be associated with the Union.—Omitted.]\\n3.\\nFormation of new States and alteration of areas, boundaries or \\nnames of existing States.\\n4.\\nLaws made under articles 2 and 3 to provide for the amendment of \\nthe First and the Fourth Schedules and supplemental, incidental \\nand consequential matters.\\nPART II\\nCITIZENSHIP\\n5.\\nCitizenship at the commencement of the Constitution.\\n6.\\nRights of citizenship of certain persons who have migrated to \\nIndia from Pakistan.\\n7.\\nRights of citizenship of certain migrants to Pakistan.\\n8.\\nRights of citizenship of certain persons of Indian origin residing    \\noutside India.\\n9.\\nPersons voluntarily acquiring citizenship of a foreign State not to \\nbe citizens.\\n10.\\nContinuance of the rights of citizenship.\\n11.\\nParliament to regulate the right of citizenship by law.\\n')"
      ]
     },
     "execution_count": 22,
     "metadata": {},
     "output_type": "execute_result"
    }
   ],
   "source": [
    "# articles short\n",
    "#Pages 3 to 31 contains the  introduction\n",
    "articles_short = data[3:31]\n",
    "articles_short[0]"
   ]
  },
  {
   "cell_type": "code",
   "execution_count": 23,
   "id": "f04ccea3",
   "metadata": {},
   "outputs": [
    {
     "data": {
      "text/plain": [
       "Document(metadata={'source': 'IndianConstitution.pdf', 'file_path': 'IndianConstitution.pdf', 'page': 31, 'total_pages': 402, 'format': 'PDF 1.7', 'title': '', 'author': '', 'subject': '', 'keywords': '', 'creator': '', 'producer': 'iLovePDF', 'creationDate': '', 'modDate': 'D:20240701112033Z', 'trapped': ''}, page_content='THE CONSTITUTION OF INDIA \\nPREAMBLE\\nWE, THE PEOPLE OF INDIA, having solemnly resolved to constitute \\nIndia into a \\n1[SOVEREIGN SOCIALIST SECULAR DEMOCRATIC \\nREPUBLIC] and to secure to all its citizens:\\nJUSTICE, social, economic and political;\\n \\nLIBERTY of thought, expression, belief, faith and worship;\\nEQUALITY of status and of opportunity;\\nand to promote among them all\\nFRATERNITY assuring the dignity of the individual and the 2[unity \\nand integrity of the Nation];\\nIN OUR CONSTITUENT ASSEMBLY this twenty-sixth day of \\nNovember, 1949, do HEREBY ADOPT, ENACT AND GIVE TO \\nOURSELVES THIS CONSTITUTION.\\n______________________________________________\\n1. Subs. by the Constitution (Forty-second Amendment) Act, 1976, s.2, for \"SOVEREIGN \\nDEMOCRATIC REPUBLIC\" (w.e.f. 3-1-1977).\\n2. Subs. by s. 2, ibid., for \"Unity of the Nation\" (w.e.f. 3-1-1977). \\n')"
      ]
     },
     "execution_count": 23,
     "metadata": {},
     "output_type": "execute_result"
    }
   ],
   "source": [
    "# preamble\n",
    "preamble = data[31]\n",
    "preamble"
   ]
  },
  {
   "cell_type": "code",
   "execution_count": 24,
   "id": "8c54946a",
   "metadata": {},
   "outputs": [],
   "source": [
    "articles = data[32:283]"
   ]
  },
  {
   "cell_type": "code",
   "execution_count": 25,
   "id": "15573b95",
   "metadata": {},
   "outputs": [
    {
     "name": "stdout",
     "output_type": "stream",
     "text": [
      "2\n",
      "PART I\n",
      "THE UNION AND ITS TERRITORY\n",
      "1. Name and territory of the Union.—(1) India, that is Bharat, \n",
      "shall be a Union of States.\n",
      "1[(2) The States and the territories thereof shall be as specified in \n",
      "the First Schedule.]\n",
      "(3) The territory of India shall comprise—\n",
      "(a) the territories of the States; \n",
      "2[(b) the Union territories specified in the First Schedule; \n",
      "and]\n",
      "(c) such other territories as may be acquired.\n",
      "2. Admission or establishment of new States.—Parliament may \n",
      "by law admit into the Union, or establish, new States on such terms and \n",
      "conditions as it thinks fit.\n",
      "3[2A. [Sikkim to be associated with the Union.] —Omitted by the \n",
      "Constitution (Thirty-sixth Amendment) Act, 1975, s. 5 (w.e.f. 26-4-1975).]\n",
      "3. Formation of new States and alteration of areas, \n",
      "boundaries or names of existing States.—Parliament may by law—\n",
      "(a) form a new State by separation of territory from any \n",
      "State or by uniting two or more States or parts of States or by \n",
      "uniting any territory to a part of any State;\n",
      "(b) increase the area of any State;\n",
      "(c) diminish the area of any State;\n",
      "(d) alter the boundaries of any State;\n",
      "(e) alter the name of any State:\n",
      "______________________________________________\n",
      "1. Subs. by the Constitution (Seventh Amendment) Act, 1956, s. 2, for cl. (2) \n",
      "(w.e.f. 1-11-1956).\n",
      "2. Subs. by s. 2 ibid. for sub-clause (b) (w.e.f. 1-11-1956). \n",
      "3. Ins. by the Constitution  (Thirty-fifth Amendment)  Act, 1974, s. 2 (w.e.f. 1-3-1975).\n",
      " \n",
      "\n"
     ]
    }
   ],
   "source": [
    "print(articles[0].page_content)"
   ]
  },
  {
   "cell_type": "code",
   "execution_count": 26,
   "id": "70684af9",
   "metadata": {},
   "outputs": [],
   "source": [
    "##code to remove headers  and footers from pdf\n",
    "import re\n",
    "for art in articles:\n",
    "  art.page_content = re.split(r'_{2,}', art.page_content)[0].strip()"
   ]
  },
  {
   "cell_type": "code",
   "execution_count": 27,
   "id": "9c4607ff",
   "metadata": {},
   "outputs": [],
   "source": [
    "from langchain.text_splitter import RecursiveCharacterTextSplitter\n",
    "\n",
    "separator = \"PART \"  # Common chapter heading pattern\n",
    "\n",
    "# Initialize the RecursiveCharacterTextSplitter with your chapter separator\n",
    "text_splitter = RecursiveCharacterTextSplitter(\n",
    "    separators=[separator],  # List of separators used to split the document\n",
    "    chunk_size=1000,         # Maximum size of each split chunk\n",
    "    chunk_overlap=100          # No overlap between splits\n",
    ")\n",
    "\n",
    "# Concatenate the 'page_content' of all Document objects into a single string\n",
    "text = \"\".join([doc.page_content for doc in articles])\n",
    "\n",
    "# Split the combined text by chapters\n",
    "chapters = text_splitter.split_text(text)\n",
    "chapters = chapters[1:]"
   ]
  },
  {
   "cell_type": "code",
   "execution_count": 28,
   "id": "13c56c3a",
   "metadata": {},
   "outputs": [
    {
     "data": {
      "text/plain": [
       "'PART VII\\n[The States in Part B of the First Schedule].112'"
      ]
     },
     "execution_count": 28,
     "metadata": {},
     "output_type": "execute_result"
    }
   ],
   "source": [
    "chapters[7]"
   ]
  },
  {
   "cell_type": "code",
   "execution_count": 29,
   "id": "6c8c0d30",
   "metadata": {},
   "outputs": [],
   "source": [
    "def split_article_wise(chapter):\n",
    "  \"\"\" Split the text based on Articles\"\"\"\n",
    "  sections = re.split(r'(?=\\n\\d+\\[?\\d*[a-zA-Z]?[a-zA-Z]?\\.\\s)', chapter)\n",
    "  # Optional: Strip leading/trailing whitespaces from each section\n",
    "  sections = [section.strip() for section in sections]\n",
    "  return sections"
   ]
  },
  {
   "cell_type": "code",
   "execution_count": 30,
   "id": "b780838f",
   "metadata": {},
   "outputs": [],
   "source": [
    "articles=[]\n",
    "for chapter in chapters:\n",
    "  articles.append(split_article_wise(chapter))"
   ]
  },
  {
   "cell_type": "code",
   "execution_count": 31,
   "id": "63d84a81",
   "metadata": {},
   "outputs": [],
   "source": [
    "def cleaning_articles(arti):\n",
    "  \"\"\"Cleaning the articles text for unwanted special characters\"\"\"\n",
    "  cl_art=[]\n",
    "  for i in arti:\n",
    "    pattern = r'^\\d+\\['\n",
    "    if re.match(pattern, i):\n",
    "      pos=arti.index(i)\n",
    "      i = i.replace(i[:2], \"\", 1)\n",
    "      arti[pos] = i\n",
    "      cl_art.append(i)\n",
    "    else:\n",
    "      cl_art.append(i)\n",
    "  return cl_art"
   ]
  },
  {
   "cell_type": "code",
   "execution_count": 32,
   "id": "3137b779",
   "metadata": {},
   "outputs": [],
   "source": [
    "docs = [cleaning_articles(i) for i in articles]"
   ]
  },
  {
   "cell_type": "code",
   "execution_count": 33,
   "id": "b8a80fc2",
   "metadata": {},
   "outputs": [],
   "source": [
    "def adding_tag(docs):\n",
    "  '''For adding Article keyword before each article number'''\n",
    "  d=[docs[0]]\n",
    "  for i in range(1,len(docs)):\n",
    "    docs[i] = \"Article \" + docs[i]\n",
    "    d.append(docs[i])\n",
    "  return d\n"
   ]
  },
  {
   "cell_type": "code",
   "execution_count": 34,
   "id": "8d7decc0",
   "metadata": {},
   "outputs": [],
   "source": [
    "documents = [adding_tag(i) for i in docs]"
   ]
  },
  {
   "cell_type": "code",
   "execution_count": 35,
   "id": "6507a7b3",
   "metadata": {},
   "outputs": [],
   "source": [
    "nn =[i[1:] for i in documents]"
   ]
  },
  {
   "cell_type": "code",
   "execution_count": 36,
   "id": "74724b4a",
   "metadata": {},
   "outputs": [
    {
     "data": {
      "text/plain": [
       "'Article 1'"
      ]
     },
     "execution_count": 36,
     "metadata": {},
     "output_type": "execute_result"
    }
   ],
   "source": [
    "nn[0][0].split(\".\")[0]"
   ]
  },
  {
   "cell_type": "code",
   "execution_count": 37,
   "id": "1073b450",
   "metadata": {},
   "outputs": [
    {
     "data": {
      "text/plain": [
       "['Article 1. Name and territory of the Union.—(1) India, that is Bharat, \\nshall be a Union of States.\\n1[(2) The States and the territories thereof shall be as specified in \\nthe First Schedule.]\\n(3) The territory of India shall comprise—\\n(a) the territories of the States; \\n2[(b) the Union territories specified in the First Schedule; \\nand]\\n(c) such other territories as may be acquired.',\n",
       " 'Article 2. Admission or establishment of new States.—Parliament may \\nby law admit into the Union, or establish, new States on such terms and \\nconditions as it thinks fit.',\n",
       " 'Article 2A. [Sikkim to be associated with the Union.] —Omitted by the \\nConstitution (Thirty-sixth Amendment) Act, 1975, s. 5 (w.e.f. 26-4-1975).]',\n",
       " 'Article 3. Formation of new States and alteration of areas, \\nboundaries or names of existing States.—Parliament may by law—\\n(a) form a new State by separation of territory from any \\nState or by uniting two or more States or parts of States or by \\nuniting any territory to a part of any State;\\n(b) increase the area of any State;\\n(c) diminish the area of any State;\\n(d) alter the boundaries of any State;\\n(e) alter the name of any State:THE CONSTITUTION OF INDIA\\n(Part I.—Union and its territory)\\n3\\n1[Provided that no Bill for the purpose shall be introduced in \\neither House of Parliament except on the recommendation of the \\nPresident and unless, where the proposal contained in the Bill affects \\nthe area, boundaries or name of any of the States12***, the Bill has \\nbeen referred by the President to the Legislature of that State for \\nexpressing its views thereon within such period as may be specified in \\nthe reference or within such further period as the President may allow \\nand the period so specified or allowed has expired.] \\n3[Explanation I.—In this article, in clauses (a) to (e), “State” \\nincludes a Union territory, but in the proviso, “State” does not include a \\nUnion territory.\\nExplanation II.—The power conferred on Parliament by \\nclause (a) includes the power to form a new State or Union territory by \\nuniting a part of any State or Union territory to any other State or \\nUnion territory.]',\n",
       " 'Article 4. Laws made under articles 2 and 3 to provide for the \\namendment of the First and the Fourth Schedules and \\nsupplemental, incidental and consequential matters.—(1) Any law \\nreferred to in article 2 or article 3 shall contain such provisions for the \\namendment of the First Schedule and the Fourth Schedule as may be \\nnecessary to give effect to the provisions of the law and may also \\ncontain such supplemental, incidental and consequential provisions \\n(including provisions as to representation in Parliament and in the \\nLegislature or Legislatures of the State or States affected by such law) \\nas Parliament may deem necessary.\\n(2) No such law as aforesaid shall be deemed to be an \\namendment of this Constitution for the purposes of article 368.4']"
      ]
     },
     "execution_count": 37,
     "metadata": {},
     "output_type": "execute_result"
    }
   ],
   "source": [
    "nn[0]"
   ]
  },
  {
   "cell_type": "code",
   "execution_count": 38,
   "id": "2ffea566",
   "metadata": {},
   "outputs": [
    {
     "data": {
      "text/plain": [
       "['Article 1',\n",
       " 'Article 2',\n",
       " 'Article 2A',\n",
       " 'Article 3',\n",
       " 'Article 4',\n",
       " 'Article 5',\n",
       " 'Article 6',\n",
       " 'Article 7',\n",
       " 'Article 8',\n",
       " 'Article 9',\n",
       " 'Article 10',\n",
       " 'Article 11',\n",
       " 'Article 12',\n",
       " 'Article 13',\n",
       " 'Article 14',\n",
       " 'Article 15',\n",
       " 'Article 16',\n",
       " 'Article 17',\n",
       " 'Article 18',\n",
       " 'Article 19',\n",
       " 'Article 20',\n",
       " 'Article 21',\n",
       " 'Article 21A',\n",
       " 'Article 22',\n",
       " 'Article 23',\n",
       " 'Article 24',\n",
       " 'Article 25',\n",
       " 'Article 26',\n",
       " 'Article 27',\n",
       " 'Article 28',\n",
       " 'Article 29',\n",
       " 'Article 30',\n",
       " 'Article 31',\n",
       " 'Article 31A',\n",
       " 'Article 31B',\n",
       " 'Article 31C',\n",
       " 'Article 32',\n",
       " 'Article 132A',\n",
       " 'Article 33',\n",
       " 'Article 34',\n",
       " 'Article 35',\n",
       " 'Article 36',\n",
       " 'Article 37',\n",
       " 'Article 38',\n",
       " 'Article 39',\n",
       " 'Article 39A',\n",
       " 'Article 40',\n",
       " 'Article 41',\n",
       " 'Article 42',\n",
       " 'Article 43',\n",
       " 'Article 43A',\n",
       " 'Article 43B',\n",
       " 'Article 44',\n",
       " 'Article 45',\n",
       " 'Article 46',\n",
       " 'Article 47',\n",
       " 'Article 48',\n",
       " 'Article 48A',\n",
       " 'Article 49',\n",
       " 'Article 50',\n",
       " 'Article 51',\n",
       " 'Article 51A',\n",
       " 'Article 52',\n",
       " 'Article 53',\n",
       " 'Article 54',\n",
       " 'Article 55',\n",
       " 'Article 56',\n",
       " 'Article 57',\n",
       " 'Article 58',\n",
       " 'Article 59',\n",
       " 'Article 60',\n",
       " 'Article 61',\n",
       " 'Article 62',\n",
       " 'Article 63',\n",
       " 'Article 64',\n",
       " 'Article 66',\n",
       " 'Article 67',\n",
       " 'Article 68',\n",
       " 'Article 69',\n",
       " 'Article 70',\n",
       " 'Article 71',\n",
       " 'Article 72',\n",
       " 'Article 73',\n",
       " 'Article 74',\n",
       " 'Article 75',\n",
       " 'Article 76',\n",
       " 'Article 77',\n",
       " 'Article 78',\n",
       " 'Article 80',\n",
       " 'Article 81',\n",
       " 'Article 83',\n",
       " 'Article 84',\n",
       " 'Article 85',\n",
       " 'Article 86',\n",
       " 'Article 87',\n",
       " 'Article 88',\n",
       " 'Article 89',\n",
       " 'Article 90',\n",
       " 'Article 91',\n",
       " 'Article 92',\n",
       " 'Article 93',\n",
       " 'Article 94',\n",
       " 'Article 95',\n",
       " 'Article 96',\n",
       " 'Article 97',\n",
       " 'Article 98',\n",
       " 'Article 99',\n",
       " 'Article 100',\n",
       " 'Article 101',\n",
       " 'Article 102',\n",
       " 'Article 103',\n",
       " 'Article 104',\n",
       " 'Article 105',\n",
       " 'Article 106',\n",
       " 'Article 107',\n",
       " 'Article 108',\n",
       " 'Article 109',\n",
       " 'Article 110',\n",
       " 'Article 111',\n",
       " 'Article 112',\n",
       " 'Article 113',\n",
       " 'Article 114',\n",
       " 'Article 115',\n",
       " 'Article 116',\n",
       " 'Article 117',\n",
       " 'Article 118',\n",
       " 'Article 119',\n",
       " 'Article 120',\n",
       " 'Article 121',\n",
       " 'Article 122',\n",
       " 'Article 123',\n",
       " 'Article 124',\n",
       " 'Article 124A',\n",
       " 'Article 124B',\n",
       " 'Article 124C',\n",
       " 'Article 125',\n",
       " 'Article 126',\n",
       " 'Article 127',\n",
       " 'Article 128',\n",
       " 'Article 129',\n",
       " 'Article 130',\n",
       " 'Article 131',\n",
       " 'Article 131A',\n",
       " 'Article 132',\n",
       " 'Article 133',\n",
       " 'Article 134',\n",
       " 'Article 134A',\n",
       " 'Article 135',\n",
       " 'Article 136',\n",
       " 'Article 137',\n",
       " 'Article 138',\n",
       " 'Article 139',\n",
       " 'Article 139A',\n",
       " 'Article 140',\n",
       " 'Article 141',\n",
       " 'Article 142',\n",
       " 'Article 143',\n",
       " 'Article 144',\n",
       " 'Article 144A',\n",
       " 'Article 145',\n",
       " 'Article 146',\n",
       " 'Article 147',\n",
       " 'Article 148',\n",
       " 'Article 149',\n",
       " 'Article 150',\n",
       " 'Article 151',\n",
       " 'Article 152',\n",
       " 'Article 153',\n",
       " 'Article 154',\n",
       " 'Article 155',\n",
       " 'Article 156',\n",
       " 'Article 157',\n",
       " 'Article 158',\n",
       " 'Article 159',\n",
       " 'Article 160',\n",
       " 'Article 161',\n",
       " 'Article 162',\n",
       " 'Article 163',\n",
       " 'Article 164',\n",
       " 'Article 165',\n",
       " 'Article 166',\n",
       " 'Article 167',\n",
       " 'Article 168',\n",
       " 'Article 169',\n",
       " 'Article 170',\n",
       " 'Article 171',\n",
       " 'Article 172',\n",
       " 'Article 173',\n",
       " 'Article 174',\n",
       " 'Article 175',\n",
       " 'Article 176',\n",
       " 'Article 177',\n",
       " 'Article 178',\n",
       " 'Article 179',\n",
       " 'Article 180',\n",
       " 'Article 181',\n",
       " 'Article 182',\n",
       " 'Article 183',\n",
       " 'Article 184',\n",
       " 'Article 185',\n",
       " 'Article 186',\n",
       " 'Article 187',\n",
       " 'Article 188',\n",
       " 'Article 189',\n",
       " 'Article 190',\n",
       " 'Article 191',\n",
       " 'Article 192',\n",
       " 'Article 193',\n",
       " 'Article 194',\n",
       " 'Article 195',\n",
       " 'Article 196',\n",
       " 'Article 197',\n",
       " 'Article 198',\n",
       " 'Article 199',\n",
       " 'Article 200',\n",
       " 'Article 201',\n",
       " 'Article 202',\n",
       " 'Article 203',\n",
       " 'Article 204',\n",
       " 'Article 205',\n",
       " 'Article 206',\n",
       " 'Article 207',\n",
       " 'Article 208',\n",
       " 'Article 209',\n",
       " 'Article 210',\n",
       " 'Article 211',\n",
       " 'Article 212',\n",
       " 'Article 213',\n",
       " 'Article 214',\n",
       " 'Article 215',\n",
       " 'Article 216',\n",
       " 'Article 217',\n",
       " 'Article 218',\n",
       " 'Article 219',\n",
       " 'Article 220',\n",
       " 'Article 221',\n",
       " 'Article 222',\n",
       " 'Article 223',\n",
       " 'Article 224',\n",
       " 'Article 224A',\n",
       " 'Article 225',\n",
       " 'Article 226',\n",
       " 'Article 226A',\n",
       " 'Article 227',\n",
       " 'Article 228',\n",
       " 'Article 228A',\n",
       " 'Article 229',\n",
       " 'Article 230',\n",
       " 'Article 231',\n",
       " 'Article 233',\n",
       " 'Article 233A',\n",
       " 'Article 234',\n",
       " 'Article 235',\n",
       " 'Article 236',\n",
       " 'Article 237',\n",
       " 'Article 239',\n",
       " 'Article 239AA',\n",
       " 'Article 239AB',\n",
       " 'Article 239B',\n",
       " 'Article 240',\n",
       " 'Article 241',\n",
       " 'Article 242',\n",
       " 'Article 243',\n",
       " 'Article 243A',\n",
       " 'Article 243B',\n",
       " 'Article 243C',\n",
       " 'Article 243D',\n",
       " 'Article 243E',\n",
       " 'Article 243F',\n",
       " 'Article 243G',\n",
       " 'Article 243H',\n",
       " 'Article 243I',\n",
       " 'Article 243J',\n",
       " 'Article 243K',\n",
       " 'Article 243L',\n",
       " 'Article 243M',\n",
       " 'Article 243N',\n",
       " 'Article 243O',\n",
       " 'Article 243P',\n",
       " 'Article 243Q',\n",
       " 'Article 243R',\n",
       " 'Article 243S',\n",
       " 'Article 243T',\n",
       " 'Article 243U',\n",
       " 'Article 243V',\n",
       " 'Article 243W',\n",
       " 'Article 243X',\n",
       " 'Article 243Y',\n",
       " 'Article 243Z',\n",
       " 'Article 243ZA',\n",
       " 'Article 243ZB',\n",
       " 'Article 243ZC',\n",
       " 'Article 243ZD',\n",
       " 'Article 243ZE',\n",
       " 'Article 243ZF',\n",
       " 'Article 243ZG',\n",
       " 'Article 243ZH',\n",
       " 'Article 243ZI',\n",
       " 'Article 243ZJ',\n",
       " 'Article 243ZK',\n",
       " 'Article 243ZL',\n",
       " 'Article 243ZM',\n",
       " 'Article 243ZN',\n",
       " 'Article 243ZO',\n",
       " 'Article 243ZP',\n",
       " 'Article 243ZQ',\n",
       " 'Article 243ZR',\n",
       " 'Article 243ZS',\n",
       " 'Article 243ZT',\n",
       " 'Article 244',\n",
       " 'Article 244A',\n",
       " 'Article 245',\n",
       " 'Article 246',\n",
       " 'Article 246A',\n",
       " 'Article 247',\n",
       " 'Article 248',\n",
       " 'Article 249',\n",
       " 'Article 250',\n",
       " 'Article 251',\n",
       " 'Article 252',\n",
       " 'Article 253',\n",
       " 'Article 254',\n",
       " 'Article 255',\n",
       " 'Article 256',\n",
       " 'Article 257',\n",
       " 'Article 257A',\n",
       " 'Article 258',\n",
       " 'Article 258A',\n",
       " 'Article 260',\n",
       " 'Article 261',\n",
       " 'Article 262',\n",
       " 'Article 263',\n",
       " 'Article 264',\n",
       " 'Article 265',\n",
       " 'Article 266',\n",
       " 'Article 267',\n",
       " 'Article 268',\n",
       " 'Article 4268A',\n",
       " 'Article 269',\n",
       " 'Article 269A',\n",
       " 'Article 270',\n",
       " 'Article 271',\n",
       " 'Article 273',\n",
       " 'Article 274',\n",
       " 'Article 275',\n",
       " 'Article 276',\n",
       " 'Article 277',\n",
       " 'Article 278',\n",
       " 'Article 279',\n",
       " 'Article 279A',\n",
       " 'Article 280',\n",
       " 'Article 281',\n",
       " 'Article 282',\n",
       " 'Article 283',\n",
       " 'Article 284',\n",
       " 'Article 285',\n",
       " 'Article 286',\n",
       " 'Article 287',\n",
       " 'Article 288',\n",
       " 'Article 289',\n",
       " 'Article 290',\n",
       " 'Article 290A',\n",
       " 'Article 291',\n",
       " 'Article 292',\n",
       " 'Article 293',\n",
       " 'Article 294',\n",
       " 'Article 295',\n",
       " 'Article 296',\n",
       " 'Article 297',\n",
       " 'Article 298',\n",
       " 'Article 299',\n",
       " 'Article 300',\n",
       " 'Article 300A',\n",
       " 'Article 301',\n",
       " 'Article 302',\n",
       " 'Article 303',\n",
       " 'Article 304',\n",
       " 'Article 305',\n",
       " 'Article 306',\n",
       " 'Article 307',\n",
       " 'Article 308',\n",
       " 'Article 309',\n",
       " 'Article 310',\n",
       " 'Article 311',\n",
       " 'Article 312',\n",
       " 'Article 312A',\n",
       " 'Article 313',\n",
       " 'Article 314',\n",
       " 'Article 315',\n",
       " 'Article 316',\n",
       " 'Article 317',\n",
       " 'Article 318',\n",
       " 'Article 319',\n",
       " 'Article 320',\n",
       " 'Article 321',\n",
       " 'Article 322',\n",
       " 'Article 323',\n",
       " 'Article 323A',\n",
       " 'Article 323B',\n",
       " 'Article 324',\n",
       " 'Article 325',\n",
       " 'Article 326',\n",
       " 'Article 327',\n",
       " 'Article 328',\n",
       " 'Article 329',\n",
       " 'Article 3329A',\n",
       " 'Article 330',\n",
       " 'Article 330A',\n",
       " 'Article 331',\n",
       " 'Article 332',\n",
       " 'Article 332A',\n",
       " 'Article 333',\n",
       " 'Article 334',\n",
       " 'Article 334A',\n",
       " 'Article 335',\n",
       " 'Article 336',\n",
       " 'Article 337',\n",
       " 'Article 338A',\n",
       " 'Article 338B',\n",
       " 'Article 339',\n",
       " 'Article 340',\n",
       " 'Article 341',\n",
       " 'Article 342',\n",
       " 'Article 342A',\n",
       " 'Article 343',\n",
       " 'Article 344',\n",
       " 'Article 345',\n",
       " 'Article 346',\n",
       " 'Article 347',\n",
       " 'Article 348',\n",
       " 'Article 349',\n",
       " 'Article 350',\n",
       " 'Article 350A',\n",
       " 'Article 350B',\n",
       " 'Article 351',\n",
       " 'Article 352',\n",
       " 'Article 353',\n",
       " 'Article 354',\n",
       " 'Article 355',\n",
       " 'Article 356',\n",
       " 'Article 357',\n",
       " 'Article 358',\n",
       " 'Article 359',\n",
       " 'Article 3359A',\n",
       " 'Article 360',\n",
       " 'Article 361',\n",
       " 'Article 361A',\n",
       " 'Article 361B',\n",
       " 'Article 362',\n",
       " 'Article 363',\n",
       " 'Article 363A',\n",
       " 'Article 364',\n",
       " 'Article 365',\n",
       " 'Article 366',\n",
       " 'Article 367',\n",
       " 'Article 368',\n",
       " 'Article 369',\n",
       " 'Article 370',\n",
       " 'Article 371',\n",
       " 'Article 371A',\n",
       " 'Article 371B',\n",
       " 'Article 371C',\n",
       " 'Article 371D',\n",
       " 'Article 371E',\n",
       " 'Article 371F',\n",
       " 'Article 371G',\n",
       " 'Article 371H',\n",
       " 'Article 371J',\n",
       " 'Article 372',\n",
       " 'Article 372A',\n",
       " 'Article 373',\n",
       " 'Article 374',\n",
       " 'Article 375',\n",
       " 'Article 376',\n",
       " 'Article 377',\n",
       " 'Article 378',\n",
       " 'Article 378A',\n",
       " 'Article 379',\n",
       " 'Article 380',\n",
       " 'Article 381',\n",
       " 'Article 382',\n",
       " 'Article 383',\n",
       " 'Article 384',\n",
       " 'Article 385',\n",
       " 'Article 386',\n",
       " 'Article 387',\n",
       " 'Article 388',\n",
       " 'Article 389',\n",
       " 'Article 390',\n",
       " 'Article 391',\n",
       " 'Article 392',\n",
       " 'Article 393',\n",
       " 'Article 394',\n",
       " 'Article 394A',\n",
       " 'Article 395']"
      ]
     },
     "execution_count": 38,
     "metadata": {},
     "output_type": "execute_result"
    }
   ],
   "source": [
    "[j.split(\".\")[0] for i in nn for j in i]"
   ]
  },
  {
   "cell_type": "code",
   "execution_count": 39,
   "id": "1c0dcb16",
   "metadata": {},
   "outputs": [],
   "source": [
    "const = [\" \".join(i) for i in documents]"
   ]
  },
  {
   "cell_type": "code",
   "execution_count": 40,
   "id": "9418c4dc",
   "metadata": {},
   "outputs": [
    {
     "data": {
      "text/plain": [
       "'PART I THE UNION AND ITS TERRITORY Article 1. Name and territory of the Union.—(1) India, that is Bharat,  shall be a Union of States. 1[(2) The States and the territories thereof shall be as specified in  the First Schedule.] (3) The territory of India shall comprise— (a) the territories of the States;  2[(b) the Union territories specified in the First Schedule;  and] (c) such other territories as may be acquired. Article 2. Admission or establishment of new States.—Parliament may  by law admit into the Union, or establish, new States on such terms and  conditions as it thinks fit. Article 2A. [Sikkim to be associated with the Union.] —Omitted by the  Constitution (Thirty-sixth Amendment) Act, 1975, s. 5 (w.e.f. 26-4-1975).] Article 3. Formation of new States and alteration of areas,  boundaries or names of existing States.—Parliament may by law— (a) form a new State by separation of territory from any  State or by uniting two or more States or parts of States or by  uniting any territory to a part of any State; (b) increase the area of any State; (c) diminish the area of any State; (d) alter the boundaries of any State; (e) alter the name of any State:THE CONSTITUTION OF INDIA (Part I.—Union and its territory) 3 1[Provided that no Bill for the purpose shall be introduced in  either House of Parliament except on the recommendation of the  President and unless, where the proposal contained in the Bill affects  the area, boundaries or name of any of the States12***, the Bill has  been referred by the President to the Legislature of that State for  expressing its views thereon within such period as may be specified in  the reference or within such further period as the President may allow  and the period so specified or allowed has expired.]  3[Explanation I.—In this article, in clauses (a) to (e), “State”  includes a Union territory, but in the proviso, “State” does not include a  Union territory. Explanation II.—The power conferred on Parliament by  clause (a) includes the power to form a new State or Union territory by  uniting a part of any State or Union territory to any other State or  Union territory.] Article 4. Laws made under articles 2 and 3 to provide for the  amendment of the First and the Fourth Schedules and  supplemental, incidental and consequential matters.—(1) Any law  referred to in article 2 or article 3 shall contain such provisions for the  amendment of the First Schedule and the Fourth Schedule as may be  necessary to give effect to the provisions of the law and may also  contain such supplemental, incidental and consequential provisions  (including provisions as to representation in Parliament and in the  Legislature or Legislatures of the State or States affected by such law)  as Parliament may deem necessary. (2) No such law as aforesaid shall be deemed to be an  amendment of this Constitution for the purposes of article 368.4'"
      ]
     },
     "execution_count": 40,
     "metadata": {},
     "output_type": "execute_result"
    }
   ],
   "source": [
    "const[0].replace(\"\\n\",\" \")"
   ]
  },
  {
   "cell_type": "code",
   "execution_count": 41,
   "id": "d0a0d186",
   "metadata": {},
   "outputs": [
    {
     "data": {
      "text/plain": [
       "['PART I',\n",
       " 'PART II',\n",
       " 'PART III ',\n",
       " 'PART IV',\n",
       " 'PART  IVA',\n",
       " 'PART  V',\n",
       " 'PART VI',\n",
       " 'PART VII',\n",
       " 'PART VIII ',\n",
       " 'PART IX',\n",
       " 'PART IXA',\n",
       " 'PART IXB ',\n",
       " 'PART X',\n",
       " 'PART XI',\n",
       " 'PART XII',\n",
       " 'PART XIII',\n",
       " 'PART XIV',\n",
       " 'PART  XIVA',\n",
       " 'PART XV',\n",
       " 'PART  XVI',\n",
       " 'PART XVII',\n",
       " 'PART XVIII',\n",
       " 'PART XIX',\n",
       " 'PART XX',\n",
       " 'PART XXI',\n",
       " 'PART XXII']"
      ]
     },
     "execution_count": 41,
     "metadata": {},
     "output_type": "execute_result"
    }
   ],
   "source": [
    "z2_list=[]\n",
    "for chapter in chapters:\n",
    "  z2 = chapter.split('\\n')[0]\n",
    "  z2_list.append(z2)\n",
    "z2_list"
   ]
  },
  {
   "cell_type": "code",
   "execution_count": 42,
   "id": "36080119",
   "metadata": {},
   "outputs": [
    {
     "data": {
      "text/plain": [
       "26"
      ]
     },
     "execution_count": 42,
     "metadata": {},
     "output_type": "execute_result"
    }
   ],
   "source": [
    "len(z2_list)"
   ]
  },
  {
   "cell_type": "code",
   "execution_count": 43,
   "id": "ae54a8ea",
   "metadata": {},
   "outputs": [],
   "source": [
    "part_names = ['The union and its territories',\n",
    " 'Citizenship',\n",
    " 'Fundamental rights',\n",
    " 'Directive principles of state policy',\n",
    " 'Fundamental duties ',\n",
    " 'The union',\n",
    " 'The states',\n",
    " 'The States in Part B of the First Schedule',\n",
    " 'The union territories',\n",
    " 'The panchayats',\n",
    " 'The municipalities',\n",
    " 'The co-operative societies',\n",
    " 'The scheduled and tribal areas',\n",
    " 'Relations between the union and the states',\n",
    " 'Finance, property, contracts and suits',\n",
    " 'Trade, commerce and intercourse within the territory of india',\n",
    " 'Services under the union and the states',\n",
    " 'Tribunals',\n",
    " 'Elections',\n",
    " 'Special provisions relating to certain classes',\n",
    " 'Official language',\n",
    " 'Emergency provisions',\n",
    " 'Miscellaneous',\n",
    " 'Amendment of the constitution',\n",
    " 'Temporary, transitional and special provisions',\n",
    " 'Short title, commencement,authoritative text in hindi and repeals']"
   ]
  },
  {
   "cell_type": "code",
   "execution_count": 44,
   "id": "b529ae03",
   "metadata": {},
   "outputs": [
    {
     "data": {
      "text/plain": [
       "26"
      ]
     },
     "execution_count": 44,
     "metadata": {},
     "output_type": "execute_result"
    }
   ],
   "source": [
    "len(part_names)"
   ]
  },
  {
   "cell_type": "code",
   "execution_count": 45,
   "id": "d85f7303",
   "metadata": {},
   "outputs": [],
   "source": [
    "z1_list = [\" \".join(j.capitalize() for j in i.split(\" \")) for i in part_names]"
   ]
  },
  {
   "cell_type": "code",
   "execution_count": 46,
   "id": "e9f0479d",
   "metadata": {},
   "outputs": [],
   "source": [
    "z2_list = [i.strip() for i in z2_list]"
   ]
  },
  {
   "cell_type": "code",
   "execution_count": 47,
   "id": "e8a063bb",
   "metadata": {},
   "outputs": [
    {
     "data": {
      "text/plain": [
       "(['PART I',\n",
       "  'PART II',\n",
       "  'PART III',\n",
       "  'PART IV',\n",
       "  'PART  IVA',\n",
       "  'PART  V',\n",
       "  'PART VI',\n",
       "  'PART VII',\n",
       "  'PART VIII',\n",
       "  'PART IX',\n",
       "  'PART IXA',\n",
       "  'PART IXB',\n",
       "  'PART X',\n",
       "  'PART XI',\n",
       "  'PART XII',\n",
       "  'PART XIII',\n",
       "  'PART XIV',\n",
       "  'PART  XIVA',\n",
       "  'PART XV',\n",
       "  'PART  XVI',\n",
       "  'PART XVII',\n",
       "  'PART XVIII',\n",
       "  'PART XIX',\n",
       "  'PART XX',\n",
       "  'PART XXI',\n",
       "  'PART XXII'],\n",
       " ['The Union And Its Territories',\n",
       "  'Citizenship',\n",
       "  'Fundamental Rights',\n",
       "  'Directive Principles Of State Policy',\n",
       "  'Fundamental Duties ',\n",
       "  'The Union',\n",
       "  'The States',\n",
       "  'The States In Part B Of The First Schedule',\n",
       "  'The Union Territories',\n",
       "  'The Panchayats',\n",
       "  'The Municipalities',\n",
       "  'The Co-operative Societies',\n",
       "  'The Scheduled And Tribal Areas',\n",
       "  'Relations Between The Union And The States',\n",
       "  'Finance, Property, Contracts And Suits',\n",
       "  'Trade, Commerce And Intercourse Within The Territory Of India',\n",
       "  'Services Under The Union And The States',\n",
       "  'Tribunals',\n",
       "  'Elections',\n",
       "  'Special Provisions Relating To Certain Classes',\n",
       "  'Official Language',\n",
       "  'Emergency Provisions',\n",
       "  'Miscellaneous',\n",
       "  'Amendment Of The Constitution',\n",
       "  'Temporary, Transitional And Special Provisions',\n",
       "  'Short Title, Commencement,authoritative Text In Hindi And Repeals'])"
      ]
     },
     "execution_count": 47,
     "metadata": {},
     "output_type": "execute_result"
    }
   ],
   "source": [
    "z2_list,z1_list"
   ]
  },
  {
   "cell_type": "code",
   "execution_count": 48,
   "id": "572d3e4d",
   "metadata": {},
   "outputs": [],
   "source": [
    "from langchain.text_splitter import CharacterTextSplitter\n",
    "chunked_list = []\n",
    "t_splitter = RecursiveCharacterTextSplitter(\n",
    "    chunk_size=1000,\n",
    "    chunk_overlap=300,\n",
    "    length_function=len,\n",
    "    is_separator_regex=True,\n",
    ")"
   ]
  },
  {
   "cell_type": "code",
   "execution_count": 49,
   "id": "b2bdf552",
   "metadata": {},
   "outputs": [],
   "source": [
    "for i,chapter in enumerate(const):\n",
    "  # adding meta data here li is the list with name of chapters which we created above\n",
    "  metadatas = [{\"source\": \"https://cdnbbsr.s3waas.gov.in/s380537a945c7aaa788ccfcdf1b99b5d8f/uploads/2024/07/20240716890312078.pdf\",\n",
    "                \"source_name\": \"Indian Constitution\", \"country\":\"India\",\"db_owner\":\"LawGlance\",\"part\":z2_list[i],\"part_name\":z1_list[i]}]\n",
    "  # Use the splitter to split each chapter into chunks\n",
    "  chunks = t_splitter.create_documents([chapter],metadatas=metadatas)\n",
    "  # Append the chunks to the chunked_list\n",
    "  chunked_list.append(chunks)"
   ]
  },
  {
   "cell_type": "code",
   "execution_count": 50,
   "id": "d1da80c4",
   "metadata": {},
   "outputs": [
    {
     "data": {
      "text/plain": [
       "[Document(metadata={'source': 'https://cdnbbsr.s3waas.gov.in/s380537a945c7aaa788ccfcdf1b99b5d8f/uploads/2024/07/20240716890312078.pdf', 'source_name': 'Indian Constitution', 'country': 'India', 'db_owner': 'LawGlance', 'part': 'PART II', 'part_name': 'Citizenship'}, page_content='PART II\\nCITIZENSHIP Article 5. Citizenship at the commencement of the Constitution.—At the \\ncommencement of this Constitution, every person who has his domicile in the \\nterritory of India and—\\n(a) who was born in the territory of India; or \\n(b) either of whose parents was born in the territory of India; or\\n(c) who has been ordinarily resident in the territory of India for \\nnot less than five years immediately preceding such commencement,  \\nshall be a citizen of India. Article 6. Rights of citizenship of certain persons who have migrated to \\nIndia from Pakistan.—Notwithstanding anything in article 5, a person who \\nhas migrated to the territory of India from the territory now included in \\nPakistan shall be deemed to be a citizen of India at the commencement of this \\nConstitution if—\\n(a) he or either of his parents or any of his grand-parents was born \\nin India as defined in the Government of India Act, 1935 (as originally \\nenacted); and'),\n",
       " Document(metadata={'source': 'https://cdnbbsr.s3waas.gov.in/s380537a945c7aaa788ccfcdf1b99b5d8f/uploads/2024/07/20240716890312078.pdf', 'source_name': 'Indian Constitution', 'country': 'India', 'db_owner': 'LawGlance', 'part': 'PART II', 'part_name': 'Citizenship'}, page_content='Pakistan shall be deemed to be a citizen of India at the commencement of this \\nConstitution if—\\n(a) he or either of his parents or any of his grand-parents was born \\nin India as defined in the Government of India Act, 1935 (as originally \\nenacted); and\\n(b)(i) in the case where such person has so migrated before the \\nnineteenth day of July, 1948, he has been ordinarily resident in the \\nterritory of India since the date of his migration, or\\n(ii) in the case where such person has so migrated on or after the \\nnineteenth day of July, 1948, he has been registered as a citizen of India \\nby an officer appointed in that behalf by the Government of the \\nDominion of India on an application made by him therefor to such \\nofficer before the commencement of this Constitution in the form and \\nmanner prescribed by that Government:\\nProvided that no person shall be so registered unless he has been resident \\nin the territory of India for at least six months immediately preceding the date'),\n",
       " Document(metadata={'source': 'https://cdnbbsr.s3waas.gov.in/s380537a945c7aaa788ccfcdf1b99b5d8f/uploads/2024/07/20240716890312078.pdf', 'source_name': 'Indian Constitution', 'country': 'India', 'db_owner': 'LawGlance', 'part': 'PART II', 'part_name': 'Citizenship'}, page_content='officer before the commencement of this Constitution in the form and \\nmanner prescribed by that Government:\\nProvided that no person shall be so registered unless he has been resident \\nin the territory of India for at least six months immediately preceding the date \\nof his application. Article 7. Rights of citizenship of certain migrants to Pakistan.—\\nNotwithstanding anything in articles 5 and 6, a person who has after the first \\nday of March, 1947, migrated from the territory of India to the territory now \\nincluded in Pakistan shall not be deemed to be a citizen of India:THE CONSTITUTION OF INDIA\\n(Part II.—Citizenship)\\n5\\nProvided that nothing in this article shall apply to a person who, after \\nhaving so migrated to the territory now included in Pakistan, has returned to the \\nterritory of India under a permit for resettlement or permanent return issued by \\nor under the authority of any law and every such person shall for the purposes'),\n",
       " Document(metadata={'source': 'https://cdnbbsr.s3waas.gov.in/s380537a945c7aaa788ccfcdf1b99b5d8f/uploads/2024/07/20240716890312078.pdf', 'source_name': 'Indian Constitution', 'country': 'India', 'db_owner': 'LawGlance', 'part': 'PART II', 'part_name': 'Citizenship'}, page_content='having so migrated to the territory now included in Pakistan, has returned to the \\nterritory of India under a permit for resettlement or permanent return issued by \\nor under the authority of any law and every such person shall for the purposes \\nof clause (b) of article 6 be deemed to have migrated to the territory of India \\nafter the nineteenth day of July, 1948. Article 8. Rights of citizenship of certain persons of Indian origin residing \\noutside India.—Notwithstanding anything in article 5, any person who or \\neither of whose parents or any of whose grand-parents was born in India as \\ndefined in the Government of India Act, 1935 (as originally enacted), and who \\nis ordinarily residing in any country outside India as so defined shall be deemed \\nto be a citizen of India if he has been registered as a citizen of India by the \\ndiplomatic or consular representative of India in the country where he is for the \\ntime being residing on an application made by him therefor to such diplomatic'),\n",
       " Document(metadata={'source': 'https://cdnbbsr.s3waas.gov.in/s380537a945c7aaa788ccfcdf1b99b5d8f/uploads/2024/07/20240716890312078.pdf', 'source_name': 'Indian Constitution', 'country': 'India', 'db_owner': 'LawGlance', 'part': 'PART II', 'part_name': 'Citizenship'}, page_content='to be a citizen of India if he has been registered as a citizen of India by the \\ndiplomatic or consular representative of India in the country where he is for the \\ntime being residing on an application made by him therefor to such diplomatic \\nor consular representative, whether before or after the commencement of this \\nConstitution, in the form and manner prescribed by the Government of the \\nDominion of India or the Government of India. Article 9. Persons voluntarily acquiring citizenship of a foreign State not to \\nbe citizens.—No person shall be a citizen of India by virtue of article 5, or be \\ndeemed to be a citizen of India by virtue of article 6 or article 8, if he has \\nvoluntarily acquired the citizenship of any foreign State. Article 10. Continuance of the rights of citizenship.—Every person who is or \\nis deemed to be a citizen of India under any of the foregoing provisions of this \\nPart shall, subject to the provisions of any law that may be made by Parliament,'),\n",
       " Document(metadata={'source': 'https://cdnbbsr.s3waas.gov.in/s380537a945c7aaa788ccfcdf1b99b5d8f/uploads/2024/07/20240716890312078.pdf', 'source_name': 'Indian Constitution', 'country': 'India', 'db_owner': 'LawGlance', 'part': 'PART II', 'part_name': 'Citizenship'}, page_content='is deemed to be a citizen of India under any of the foregoing provisions of this \\nPart shall, subject to the provisions of any law that may be made by Parliament, \\ncontinue to be such citizen. Article 11. Parliament to regulate the right of citizenship by law.—Nothing \\nin the foregoing provisions of this Part shall derogate from the power of \\nParliament to make any provision with respect to the acquisition and \\ntermination of citizenship and all other matters relating to citizenship.6')]"
      ]
     },
     "execution_count": 50,
     "metadata": {},
     "output_type": "execute_result"
    }
   ],
   "source": [
    "chunked_list[1]"
   ]
  },
  {
   "cell_type": "code",
   "execution_count": 51,
   "id": "30586f43",
   "metadata": {},
   "outputs": [],
   "source": [
    "def flatten_extend(matrix):\n",
    "  flat_list = []\n",
    "  for row in matrix:\n",
    "    flat_list.extend(row)\n",
    "  return flat_list"
   ]
  },
  {
   "cell_type": "code",
   "execution_count": 52,
   "id": "a23a24a6",
   "metadata": {},
   "outputs": [],
   "source": [
    "do = flatten_extend(chunked_list)"
   ]
  },
  {
   "cell_type": "code",
   "execution_count": 54,
   "id": "e4b640c6",
   "metadata": {},
   "outputs": [],
   "source": [
    "from langchain.embeddings import OpenAIEmbeddings\n",
    "from langchain_openai import OpenAIEmbeddings\n",
    "from langchain_openai import OpenAI\n",
    "import os\n",
    "os.environ[\"OPENAI_API_KEY\"] = \"your_openai_api_key_here\"\n",
    "llm = OpenAI(temperature=0.9)\n",
    "embeddings = OpenAIEmbeddings()"
   ]
  },
  {
   "cell_type": "code",
   "execution_count": 55,
   "id": "8c1c3b26",
   "metadata": {},
   "outputs": [
    {
     "name": "stderr",
     "output_type": "stream",
     "text": [
      "Failed to send telemetry event ClientStartEvent: capture() takes 1 positional argument but 3 were given\n",
      "Failed to send telemetry event ClientCreateCollectionEvent: capture() takes 1 positional argument but 3 were given\n"
     ]
    },
    {
     "ename": "ConnectionError",
     "evalue": "HTTPSConnectionPool(host='openaipublic.blob.core.windows.net', port=443): Max retries exceeded with url: /encodings/cl100k_base.tiktoken (Caused by NameResolutionError(\"<urllib3.connection.HTTPSConnection object at 0x31d2774d0>: Failed to resolve 'openaipublic.blob.core.windows.net' ([Errno 8] nodename nor servname provided, or not known)\"))",
     "output_type": "error",
     "traceback": [
      "\u001b[31m---------------------------------------------------------------------------\u001b[39m",
      "\u001b[31mgaierror\u001b[39m                                  Traceback (most recent call last)",
      "\u001b[36mFile \u001b[39m\u001b[32m~/personal_learnings/ragster/venv/lib/python3.11/site-packages/urllib3/connection.py:198\u001b[39m, in \u001b[36mHTTPConnection._new_conn\u001b[39m\u001b[34m(self)\u001b[39m\n\u001b[32m    197\u001b[39m \u001b[38;5;28;01mtry\u001b[39;00m:\n\u001b[32m--> \u001b[39m\u001b[32m198\u001b[39m     sock = \u001b[43mconnection\u001b[49m\u001b[43m.\u001b[49m\u001b[43mcreate_connection\u001b[49m\u001b[43m(\u001b[49m\n\u001b[32m    199\u001b[39m \u001b[43m        \u001b[49m\u001b[43m(\u001b[49m\u001b[38;5;28;43mself\u001b[39;49m\u001b[43m.\u001b[49m\u001b[43m_dns_host\u001b[49m\u001b[43m,\u001b[49m\u001b[43m \u001b[49m\u001b[38;5;28;43mself\u001b[39;49m\u001b[43m.\u001b[49m\u001b[43mport\u001b[49m\u001b[43m)\u001b[49m\u001b[43m,\u001b[49m\n\u001b[32m    200\u001b[39m \u001b[43m        \u001b[49m\u001b[38;5;28;43mself\u001b[39;49m\u001b[43m.\u001b[49m\u001b[43mtimeout\u001b[49m\u001b[43m,\u001b[49m\n\u001b[32m    201\u001b[39m \u001b[43m        \u001b[49m\u001b[43msource_address\u001b[49m\u001b[43m=\u001b[49m\u001b[38;5;28;43mself\u001b[39;49m\u001b[43m.\u001b[49m\u001b[43msource_address\u001b[49m\u001b[43m,\u001b[49m\n\u001b[32m    202\u001b[39m \u001b[43m        \u001b[49m\u001b[43msocket_options\u001b[49m\u001b[43m=\u001b[49m\u001b[38;5;28;43mself\u001b[39;49m\u001b[43m.\u001b[49m\u001b[43msocket_options\u001b[49m\u001b[43m,\u001b[49m\n\u001b[32m    203\u001b[39m \u001b[43m    \u001b[49m\u001b[43m)\u001b[49m\n\u001b[32m    204\u001b[39m \u001b[38;5;28;01mexcept\u001b[39;00m socket.gaierror \u001b[38;5;28;01mas\u001b[39;00m e:\n",
      "\u001b[36mFile \u001b[39m\u001b[32m~/personal_learnings/ragster/venv/lib/python3.11/site-packages/urllib3/util/connection.py:60\u001b[39m, in \u001b[36mcreate_connection\u001b[39m\u001b[34m(address, timeout, source_address, socket_options)\u001b[39m\n\u001b[32m     58\u001b[39m     \u001b[38;5;28;01mraise\u001b[39;00m LocationParseError(\u001b[33mf\u001b[39m\u001b[33m\"\u001b[39m\u001b[33m'\u001b[39m\u001b[38;5;132;01m{\u001b[39;00mhost\u001b[38;5;132;01m}\u001b[39;00m\u001b[33m'\u001b[39m\u001b[33m, label empty or too long\u001b[39m\u001b[33m\"\u001b[39m) \u001b[38;5;28;01mfrom\u001b[39;00m\u001b[38;5;250m \u001b[39m\u001b[38;5;28;01mNone\u001b[39;00m\n\u001b[32m---> \u001b[39m\u001b[32m60\u001b[39m \u001b[38;5;28;01mfor\u001b[39;00m res \u001b[38;5;129;01min\u001b[39;00m \u001b[43msocket\u001b[49m\u001b[43m.\u001b[49m\u001b[43mgetaddrinfo\u001b[49m\u001b[43m(\u001b[49m\u001b[43mhost\u001b[49m\u001b[43m,\u001b[49m\u001b[43m \u001b[49m\u001b[43mport\u001b[49m\u001b[43m,\u001b[49m\u001b[43m \u001b[49m\u001b[43mfamily\u001b[49m\u001b[43m,\u001b[49m\u001b[43m \u001b[49m\u001b[43msocket\u001b[49m\u001b[43m.\u001b[49m\u001b[43mSOCK_STREAM\u001b[49m\u001b[43m)\u001b[49m:\n\u001b[32m     61\u001b[39m     af, socktype, proto, canonname, sa = res\n",
      "\u001b[36mFile \u001b[39m\u001b[32m~/.pyenv/versions/3.11.8/lib/python3.11/socket.py:962\u001b[39m, in \u001b[36mgetaddrinfo\u001b[39m\u001b[34m(host, port, family, type, proto, flags)\u001b[39m\n\u001b[32m    961\u001b[39m addrlist = []\n\u001b[32m--> \u001b[39m\u001b[32m962\u001b[39m \u001b[38;5;28;01mfor\u001b[39;00m res \u001b[38;5;129;01min\u001b[39;00m \u001b[43m_socket\u001b[49m\u001b[43m.\u001b[49m\u001b[43mgetaddrinfo\u001b[49m\u001b[43m(\u001b[49m\u001b[43mhost\u001b[49m\u001b[43m,\u001b[49m\u001b[43m \u001b[49m\u001b[43mport\u001b[49m\u001b[43m,\u001b[49m\u001b[43m \u001b[49m\u001b[43mfamily\u001b[49m\u001b[43m,\u001b[49m\u001b[43m \u001b[49m\u001b[38;5;28;43mtype\u001b[39;49m\u001b[43m,\u001b[49m\u001b[43m \u001b[49m\u001b[43mproto\u001b[49m\u001b[43m,\u001b[49m\u001b[43m \u001b[49m\u001b[43mflags\u001b[49m\u001b[43m)\u001b[49m:\n\u001b[32m    963\u001b[39m     af, socktype, proto, canonname, sa = res\n",
      "\u001b[31mgaierror\u001b[39m: [Errno 8] nodename nor servname provided, or not known",
      "\nThe above exception was the direct cause of the following exception:\n",
      "\u001b[31mNameResolutionError\u001b[39m                       Traceback (most recent call last)",
      "\u001b[36mFile \u001b[39m\u001b[32m~/personal_learnings/ragster/venv/lib/python3.11/site-packages/urllib3/connectionpool.py:787\u001b[39m, in \u001b[36mHTTPConnectionPool.urlopen\u001b[39m\u001b[34m(self, method, url, body, headers, retries, redirect, assert_same_host, timeout, pool_timeout, release_conn, chunked, body_pos, preload_content, decode_content, **response_kw)\u001b[39m\n\u001b[32m    786\u001b[39m \u001b[38;5;66;03m# Make the request on the HTTPConnection object\u001b[39;00m\n\u001b[32m--> \u001b[39m\u001b[32m787\u001b[39m response = \u001b[38;5;28;43mself\u001b[39;49m\u001b[43m.\u001b[49m\u001b[43m_make_request\u001b[49m\u001b[43m(\u001b[49m\n\u001b[32m    788\u001b[39m \u001b[43m    \u001b[49m\u001b[43mconn\u001b[49m\u001b[43m,\u001b[49m\n\u001b[32m    789\u001b[39m \u001b[43m    \u001b[49m\u001b[43mmethod\u001b[49m\u001b[43m,\u001b[49m\n\u001b[32m    790\u001b[39m \u001b[43m    \u001b[49m\u001b[43murl\u001b[49m\u001b[43m,\u001b[49m\n\u001b[32m    791\u001b[39m \u001b[43m    \u001b[49m\u001b[43mtimeout\u001b[49m\u001b[43m=\u001b[49m\u001b[43mtimeout_obj\u001b[49m\u001b[43m,\u001b[49m\n\u001b[32m    792\u001b[39m \u001b[43m    \u001b[49m\u001b[43mbody\u001b[49m\u001b[43m=\u001b[49m\u001b[43mbody\u001b[49m\u001b[43m,\u001b[49m\n\u001b[32m    793\u001b[39m \u001b[43m    \u001b[49m\u001b[43mheaders\u001b[49m\u001b[43m=\u001b[49m\u001b[43mheaders\u001b[49m\u001b[43m,\u001b[49m\n\u001b[32m    794\u001b[39m \u001b[43m    \u001b[49m\u001b[43mchunked\u001b[49m\u001b[43m=\u001b[49m\u001b[43mchunked\u001b[49m\u001b[43m,\u001b[49m\n\u001b[32m    795\u001b[39m \u001b[43m    \u001b[49m\u001b[43mretries\u001b[49m\u001b[43m=\u001b[49m\u001b[43mretries\u001b[49m\u001b[43m,\u001b[49m\n\u001b[32m    796\u001b[39m \u001b[43m    \u001b[49m\u001b[43mresponse_conn\u001b[49m\u001b[43m=\u001b[49m\u001b[43mresponse_conn\u001b[49m\u001b[43m,\u001b[49m\n\u001b[32m    797\u001b[39m \u001b[43m    \u001b[49m\u001b[43mpreload_content\u001b[49m\u001b[43m=\u001b[49m\u001b[43mpreload_content\u001b[49m\u001b[43m,\u001b[49m\n\u001b[32m    798\u001b[39m \u001b[43m    \u001b[49m\u001b[43mdecode_content\u001b[49m\u001b[43m=\u001b[49m\u001b[43mdecode_content\u001b[49m\u001b[43m,\u001b[49m\n\u001b[32m    799\u001b[39m \u001b[43m    \u001b[49m\u001b[43m*\u001b[49m\u001b[43m*\u001b[49m\u001b[43mresponse_kw\u001b[49m\u001b[43m,\u001b[49m\n\u001b[32m    800\u001b[39m \u001b[43m\u001b[49m\u001b[43m)\u001b[49m\n\u001b[32m    802\u001b[39m \u001b[38;5;66;03m# Everything went great!\u001b[39;00m\n",
      "\u001b[36mFile \u001b[39m\u001b[32m~/personal_learnings/ragster/venv/lib/python3.11/site-packages/urllib3/connectionpool.py:488\u001b[39m, in \u001b[36mHTTPConnectionPool._make_request\u001b[39m\u001b[34m(self, conn, method, url, body, headers, retries, timeout, chunked, response_conn, preload_content, decode_content, enforce_content_length)\u001b[39m\n\u001b[32m    487\u001b[39m         new_e = _wrap_proxy_error(new_e, conn.proxy.scheme)\n\u001b[32m--> \u001b[39m\u001b[32m488\u001b[39m     \u001b[38;5;28;01mraise\u001b[39;00m new_e\n\u001b[32m    490\u001b[39m \u001b[38;5;66;03m# conn.request() calls http.client.*.request, not the method in\u001b[39;00m\n\u001b[32m    491\u001b[39m \u001b[38;5;66;03m# urllib3.request. It also calls makefile (recv) on the socket.\u001b[39;00m\n",
      "\u001b[36mFile \u001b[39m\u001b[32m~/personal_learnings/ragster/venv/lib/python3.11/site-packages/urllib3/connectionpool.py:464\u001b[39m, in \u001b[36mHTTPConnectionPool._make_request\u001b[39m\u001b[34m(self, conn, method, url, body, headers, retries, timeout, chunked, response_conn, preload_content, decode_content, enforce_content_length)\u001b[39m\n\u001b[32m    463\u001b[39m \u001b[38;5;28;01mtry\u001b[39;00m:\n\u001b[32m--> \u001b[39m\u001b[32m464\u001b[39m     \u001b[38;5;28;43mself\u001b[39;49m\u001b[43m.\u001b[49m\u001b[43m_validate_conn\u001b[49m\u001b[43m(\u001b[49m\u001b[43mconn\u001b[49m\u001b[43m)\u001b[49m\n\u001b[32m    465\u001b[39m \u001b[38;5;28;01mexcept\u001b[39;00m (SocketTimeout, BaseSSLError) \u001b[38;5;28;01mas\u001b[39;00m e:\n",
      "\u001b[36mFile \u001b[39m\u001b[32m~/personal_learnings/ragster/venv/lib/python3.11/site-packages/urllib3/connectionpool.py:1093\u001b[39m, in \u001b[36mHTTPSConnectionPool._validate_conn\u001b[39m\u001b[34m(self, conn)\u001b[39m\n\u001b[32m   1092\u001b[39m \u001b[38;5;28;01mif\u001b[39;00m conn.is_closed:\n\u001b[32m-> \u001b[39m\u001b[32m1093\u001b[39m     \u001b[43mconn\u001b[49m\u001b[43m.\u001b[49m\u001b[43mconnect\u001b[49m\u001b[43m(\u001b[49m\u001b[43m)\u001b[49m\n\u001b[32m   1095\u001b[39m \u001b[38;5;66;03m# TODO revise this, see https://github.com/urllib3/urllib3/issues/2791\u001b[39;00m\n",
      "\u001b[36mFile \u001b[39m\u001b[32m~/personal_learnings/ragster/venv/lib/python3.11/site-packages/urllib3/connection.py:753\u001b[39m, in \u001b[36mHTTPSConnection.connect\u001b[39m\u001b[34m(self)\u001b[39m\n\u001b[32m    752\u001b[39m sock: socket.socket | ssl.SSLSocket\n\u001b[32m--> \u001b[39m\u001b[32m753\u001b[39m \u001b[38;5;28mself\u001b[39m.sock = sock = \u001b[38;5;28;43mself\u001b[39;49m\u001b[43m.\u001b[49m\u001b[43m_new_conn\u001b[49m\u001b[43m(\u001b[49m\u001b[43m)\u001b[49m\n\u001b[32m    754\u001b[39m server_hostname: \u001b[38;5;28mstr\u001b[39m = \u001b[38;5;28mself\u001b[39m.host\n",
      "\u001b[36mFile \u001b[39m\u001b[32m~/personal_learnings/ragster/venv/lib/python3.11/site-packages/urllib3/connection.py:205\u001b[39m, in \u001b[36mHTTPConnection._new_conn\u001b[39m\u001b[34m(self)\u001b[39m\n\u001b[32m    204\u001b[39m \u001b[38;5;28;01mexcept\u001b[39;00m socket.gaierror \u001b[38;5;28;01mas\u001b[39;00m e:\n\u001b[32m--> \u001b[39m\u001b[32m205\u001b[39m     \u001b[38;5;28;01mraise\u001b[39;00m NameResolutionError(\u001b[38;5;28mself\u001b[39m.host, \u001b[38;5;28mself\u001b[39m, e) \u001b[38;5;28;01mfrom\u001b[39;00m\u001b[38;5;250m \u001b[39m\u001b[34;01me\u001b[39;00m\n\u001b[32m    206\u001b[39m \u001b[38;5;28;01mexcept\u001b[39;00m SocketTimeout \u001b[38;5;28;01mas\u001b[39;00m e:\n",
      "\u001b[31mNameResolutionError\u001b[39m: <urllib3.connection.HTTPSConnection object at 0x31d2774d0>: Failed to resolve 'openaipublic.blob.core.windows.net' ([Errno 8] nodename nor servname provided, or not known)",
      "\nThe above exception was the direct cause of the following exception:\n",
      "\u001b[31mMaxRetryError\u001b[39m                             Traceback (most recent call last)",
      "\u001b[36mFile \u001b[39m\u001b[32m~/personal_learnings/ragster/venv/lib/python3.11/site-packages/requests/adapters.py:667\u001b[39m, in \u001b[36mHTTPAdapter.send\u001b[39m\u001b[34m(self, request, stream, timeout, verify, cert, proxies)\u001b[39m\n\u001b[32m    666\u001b[39m \u001b[38;5;28;01mtry\u001b[39;00m:\n\u001b[32m--> \u001b[39m\u001b[32m667\u001b[39m     resp = \u001b[43mconn\u001b[49m\u001b[43m.\u001b[49m\u001b[43murlopen\u001b[49m\u001b[43m(\u001b[49m\n\u001b[32m    668\u001b[39m \u001b[43m        \u001b[49m\u001b[43mmethod\u001b[49m\u001b[43m=\u001b[49m\u001b[43mrequest\u001b[49m\u001b[43m.\u001b[49m\u001b[43mmethod\u001b[49m\u001b[43m,\u001b[49m\n\u001b[32m    669\u001b[39m \u001b[43m        \u001b[49m\u001b[43murl\u001b[49m\u001b[43m=\u001b[49m\u001b[43murl\u001b[49m\u001b[43m,\u001b[49m\n\u001b[32m    670\u001b[39m \u001b[43m        \u001b[49m\u001b[43mbody\u001b[49m\u001b[43m=\u001b[49m\u001b[43mrequest\u001b[49m\u001b[43m.\u001b[49m\u001b[43mbody\u001b[49m\u001b[43m,\u001b[49m\n\u001b[32m    671\u001b[39m \u001b[43m        \u001b[49m\u001b[43mheaders\u001b[49m\u001b[43m=\u001b[49m\u001b[43mrequest\u001b[49m\u001b[43m.\u001b[49m\u001b[43mheaders\u001b[49m\u001b[43m,\u001b[49m\n\u001b[32m    672\u001b[39m \u001b[43m        \u001b[49m\u001b[43mredirect\u001b[49m\u001b[43m=\u001b[49m\u001b[38;5;28;43;01mFalse\u001b[39;49;00m\u001b[43m,\u001b[49m\n\u001b[32m    673\u001b[39m \u001b[43m        \u001b[49m\u001b[43massert_same_host\u001b[49m\u001b[43m=\u001b[49m\u001b[38;5;28;43;01mFalse\u001b[39;49;00m\u001b[43m,\u001b[49m\n\u001b[32m    674\u001b[39m \u001b[43m        \u001b[49m\u001b[43mpreload_content\u001b[49m\u001b[43m=\u001b[49m\u001b[38;5;28;43;01mFalse\u001b[39;49;00m\u001b[43m,\u001b[49m\n\u001b[32m    675\u001b[39m \u001b[43m        \u001b[49m\u001b[43mdecode_content\u001b[49m\u001b[43m=\u001b[49m\u001b[38;5;28;43;01mFalse\u001b[39;49;00m\u001b[43m,\u001b[49m\n\u001b[32m    676\u001b[39m \u001b[43m        \u001b[49m\u001b[43mretries\u001b[49m\u001b[43m=\u001b[49m\u001b[38;5;28;43mself\u001b[39;49m\u001b[43m.\u001b[49m\u001b[43mmax_retries\u001b[49m\u001b[43m,\u001b[49m\n\u001b[32m    677\u001b[39m \u001b[43m        \u001b[49m\u001b[43mtimeout\u001b[49m\u001b[43m=\u001b[49m\u001b[43mtimeout\u001b[49m\u001b[43m,\u001b[49m\n\u001b[32m    678\u001b[39m \u001b[43m        \u001b[49m\u001b[43mchunked\u001b[49m\u001b[43m=\u001b[49m\u001b[43mchunked\u001b[49m\u001b[43m,\u001b[49m\n\u001b[32m    679\u001b[39m \u001b[43m    \u001b[49m\u001b[43m)\u001b[49m\n\u001b[32m    681\u001b[39m \u001b[38;5;28;01mexcept\u001b[39;00m (ProtocolError, \u001b[38;5;167;01mOSError\u001b[39;00m) \u001b[38;5;28;01mas\u001b[39;00m err:\n",
      "\u001b[36mFile \u001b[39m\u001b[32m~/personal_learnings/ragster/venv/lib/python3.11/site-packages/urllib3/connectionpool.py:841\u001b[39m, in \u001b[36mHTTPConnectionPool.urlopen\u001b[39m\u001b[34m(self, method, url, body, headers, retries, redirect, assert_same_host, timeout, pool_timeout, release_conn, chunked, body_pos, preload_content, decode_content, **response_kw)\u001b[39m\n\u001b[32m    839\u001b[39m     new_e = ProtocolError(\u001b[33m\"\u001b[39m\u001b[33mConnection aborted.\u001b[39m\u001b[33m\"\u001b[39m, new_e)\n\u001b[32m--> \u001b[39m\u001b[32m841\u001b[39m retries = \u001b[43mretries\u001b[49m\u001b[43m.\u001b[49m\u001b[43mincrement\u001b[49m\u001b[43m(\u001b[49m\n\u001b[32m    842\u001b[39m \u001b[43m    \u001b[49m\u001b[43mmethod\u001b[49m\u001b[43m,\u001b[49m\u001b[43m \u001b[49m\u001b[43murl\u001b[49m\u001b[43m,\u001b[49m\u001b[43m \u001b[49m\u001b[43merror\u001b[49m\u001b[43m=\u001b[49m\u001b[43mnew_e\u001b[49m\u001b[43m,\u001b[49m\u001b[43m \u001b[49m\u001b[43m_pool\u001b[49m\u001b[43m=\u001b[49m\u001b[38;5;28;43mself\u001b[39;49m\u001b[43m,\u001b[49m\u001b[43m \u001b[49m\u001b[43m_stacktrace\u001b[49m\u001b[43m=\u001b[49m\u001b[43msys\u001b[49m\u001b[43m.\u001b[49m\u001b[43mexc_info\u001b[49m\u001b[43m(\u001b[49m\u001b[43m)\u001b[49m\u001b[43m[\u001b[49m\u001b[32;43m2\u001b[39;49m\u001b[43m]\u001b[49m\n\u001b[32m    843\u001b[39m \u001b[43m\u001b[49m\u001b[43m)\u001b[49m\n\u001b[32m    844\u001b[39m retries.sleep()\n",
      "\u001b[36mFile \u001b[39m\u001b[32m~/personal_learnings/ragster/venv/lib/python3.11/site-packages/urllib3/util/retry.py:519\u001b[39m, in \u001b[36mRetry.increment\u001b[39m\u001b[34m(self, method, url, response, error, _pool, _stacktrace)\u001b[39m\n\u001b[32m    518\u001b[39m     reason = error \u001b[38;5;129;01mor\u001b[39;00m ResponseError(cause)\n\u001b[32m--> \u001b[39m\u001b[32m519\u001b[39m     \u001b[38;5;28;01mraise\u001b[39;00m MaxRetryError(_pool, url, reason) \u001b[38;5;28;01mfrom\u001b[39;00m\u001b[38;5;250m \u001b[39m\u001b[34;01mreason\u001b[39;00m  \u001b[38;5;66;03m# type: ignore[arg-type]\u001b[39;00m\n\u001b[32m    521\u001b[39m log.debug(\u001b[33m\"\u001b[39m\u001b[33mIncremented Retry for (url=\u001b[39m\u001b[33m'\u001b[39m\u001b[38;5;132;01m%s\u001b[39;00m\u001b[33m'\u001b[39m\u001b[33m): \u001b[39m\u001b[38;5;132;01m%r\u001b[39;00m\u001b[33m\"\u001b[39m, url, new_retry)\n",
      "\u001b[31mMaxRetryError\u001b[39m: HTTPSConnectionPool(host='openaipublic.blob.core.windows.net', port=443): Max retries exceeded with url: /encodings/cl100k_base.tiktoken (Caused by NameResolutionError(\"<urllib3.connection.HTTPSConnection object at 0x31d2774d0>: Failed to resolve 'openaipublic.blob.core.windows.net' ([Errno 8] nodename nor servname provided, or not known)\"))",
      "\nDuring handling of the above exception, another exception occurred:\n",
      "\u001b[31mConnectionError\u001b[39m                           Traceback (most recent call last)",
      "\u001b[36mCell\u001b[39m\u001b[36m \u001b[39m\u001b[32mIn[55]\u001b[39m\u001b[32m, line 2\u001b[39m\n\u001b[32m      1\u001b[39m \u001b[38;5;66;03m# from langchain_chroma import Chroma\u001b[39;00m\n\u001b[32m----> \u001b[39m\u001b[32m2\u001b[39m db = \u001b[43mChroma\u001b[49m\u001b[43m.\u001b[49m\u001b[43mfrom_documents\u001b[49m\u001b[43m(\u001b[49m\u001b[43mdocuments\u001b[49m\u001b[43m=\u001b[49m\u001b[43mdo\u001b[49m\u001b[43m,\u001b[49m\u001b[43m \u001b[49m\u001b[43membedding\u001b[49m\u001b[43m=\u001b[49m\u001b[43membeddings\u001b[49m\u001b[43m,\u001b[49m\u001b[43m \u001b[49m\u001b[43mpersist_directory\u001b[49m\u001b[43m=\u001b[49m\u001b[33;43m\"\u001b[39;49m\u001b[33;43mchroma_db_legal_database\u001b[39;49m\u001b[33;43m\"\u001b[39;49m\u001b[43m)\u001b[49m\n",
      "\u001b[36mFile \u001b[39m\u001b[32m~/personal_learnings/ragster/venv/lib/python3.11/site-packages/langchain_chroma/vectorstores.py:1128\u001b[39m, in \u001b[36mChroma.from_documents\u001b[39m\u001b[34m(cls, documents, embedding, ids, collection_name, persist_directory, client_settings, client, collection_metadata, **kwargs)\u001b[39m\n\u001b[32m   1126\u001b[39m texts = [doc.page_content \u001b[38;5;28;01mfor\u001b[39;00m doc \u001b[38;5;129;01min\u001b[39;00m documents]\n\u001b[32m   1127\u001b[39m metadatas = [doc.metadata \u001b[38;5;28;01mfor\u001b[39;00m doc \u001b[38;5;129;01min\u001b[39;00m documents]\n\u001b[32m-> \u001b[39m\u001b[32m1128\u001b[39m \u001b[38;5;28;01mreturn\u001b[39;00m \u001b[38;5;28;43mcls\u001b[39;49m\u001b[43m.\u001b[49m\u001b[43mfrom_texts\u001b[49m\u001b[43m(\u001b[49m\n\u001b[32m   1129\u001b[39m \u001b[43m    \u001b[49m\u001b[43mtexts\u001b[49m\u001b[43m=\u001b[49m\u001b[43mtexts\u001b[49m\u001b[43m,\u001b[49m\n\u001b[32m   1130\u001b[39m \u001b[43m    \u001b[49m\u001b[43membedding\u001b[49m\u001b[43m=\u001b[49m\u001b[43membedding\u001b[49m\u001b[43m,\u001b[49m\n\u001b[32m   1131\u001b[39m \u001b[43m    \u001b[49m\u001b[43mmetadatas\u001b[49m\u001b[43m=\u001b[49m\u001b[43mmetadatas\u001b[49m\u001b[43m,\u001b[49m\n\u001b[32m   1132\u001b[39m \u001b[43m    \u001b[49m\u001b[43mids\u001b[49m\u001b[43m=\u001b[49m\u001b[43mids\u001b[49m\u001b[43m,\u001b[49m\n\u001b[32m   1133\u001b[39m \u001b[43m    \u001b[49m\u001b[43mcollection_name\u001b[49m\u001b[43m=\u001b[49m\u001b[43mcollection_name\u001b[49m\u001b[43m,\u001b[49m\n\u001b[32m   1134\u001b[39m \u001b[43m    \u001b[49m\u001b[43mpersist_directory\u001b[49m\u001b[43m=\u001b[49m\u001b[43mpersist_directory\u001b[49m\u001b[43m,\u001b[49m\n\u001b[32m   1135\u001b[39m \u001b[43m    \u001b[49m\u001b[43mclient_settings\u001b[49m\u001b[43m=\u001b[49m\u001b[43mclient_settings\u001b[49m\u001b[43m,\u001b[49m\n\u001b[32m   1136\u001b[39m \u001b[43m    \u001b[49m\u001b[43mclient\u001b[49m\u001b[43m=\u001b[49m\u001b[43mclient\u001b[49m\u001b[43m,\u001b[49m\n\u001b[32m   1137\u001b[39m \u001b[43m    \u001b[49m\u001b[43mcollection_metadata\u001b[49m\u001b[43m=\u001b[49m\u001b[43mcollection_metadata\u001b[49m\u001b[43m,\u001b[49m\n\u001b[32m   1138\u001b[39m \u001b[43m    \u001b[49m\u001b[43m*\u001b[49m\u001b[43m*\u001b[49m\u001b[43mkwargs\u001b[49m\u001b[43m,\u001b[49m\n\u001b[32m   1139\u001b[39m \u001b[43m\u001b[49m\u001b[43m)\u001b[49m\n",
      "\u001b[36mFile \u001b[39m\u001b[32m~/personal_learnings/ragster/venv/lib/python3.11/site-packages/langchain_chroma/vectorstores.py:1089\u001b[39m, in \u001b[36mChroma.from_texts\u001b[39m\u001b[34m(cls, texts, embedding, metadatas, ids, collection_name, persist_directory, client_settings, client, collection_metadata, **kwargs)\u001b[39m\n\u001b[32m   1083\u001b[39m         chroma_collection.add_texts(\n\u001b[32m   1084\u001b[39m             texts=batch[\u001b[32m3\u001b[39m] \u001b[38;5;28;01mif\u001b[39;00m batch[\u001b[32m3\u001b[39m] \u001b[38;5;28;01melse\u001b[39;00m [],\n\u001b[32m   1085\u001b[39m             metadatas=batch[\u001b[32m2\u001b[39m] \u001b[38;5;28;01mif\u001b[39;00m batch[\u001b[32m2\u001b[39m] \u001b[38;5;28;01melse\u001b[39;00m \u001b[38;5;28;01mNone\u001b[39;00m,  \u001b[38;5;66;03m# type: ignore\u001b[39;00m\n\u001b[32m   1086\u001b[39m             ids=batch[\u001b[32m0\u001b[39m],\n\u001b[32m   1087\u001b[39m         )\n\u001b[32m   1088\u001b[39m \u001b[38;5;28;01melse\u001b[39;00m:\n\u001b[32m-> \u001b[39m\u001b[32m1089\u001b[39m     \u001b[43mchroma_collection\u001b[49m\u001b[43m.\u001b[49m\u001b[43madd_texts\u001b[49m\u001b[43m(\u001b[49m\u001b[43mtexts\u001b[49m\u001b[43m=\u001b[49m\u001b[43mtexts\u001b[49m\u001b[43m,\u001b[49m\u001b[43m \u001b[49m\u001b[43mmetadatas\u001b[49m\u001b[43m=\u001b[49m\u001b[43mmetadatas\u001b[49m\u001b[43m,\u001b[49m\u001b[43m \u001b[49m\u001b[43mids\u001b[49m\u001b[43m=\u001b[49m\u001b[43mids\u001b[49m\u001b[43m)\u001b[49m\n\u001b[32m   1090\u001b[39m \u001b[38;5;28;01mreturn\u001b[39;00m chroma_collection\n",
      "\u001b[36mFile \u001b[39m\u001b[32m~/personal_learnings/ragster/venv/lib/python3.11/site-packages/langchain_chroma/vectorstores.py:508\u001b[39m, in \u001b[36mChroma.add_texts\u001b[39m\u001b[34m(self, texts, metadatas, ids, **kwargs)\u001b[39m\n\u001b[32m    506\u001b[39m texts = \u001b[38;5;28mlist\u001b[39m(texts)\n\u001b[32m    507\u001b[39m \u001b[38;5;28;01mif\u001b[39;00m \u001b[38;5;28mself\u001b[39m._embedding_function \u001b[38;5;129;01mis\u001b[39;00m \u001b[38;5;129;01mnot\u001b[39;00m \u001b[38;5;28;01mNone\u001b[39;00m:\n\u001b[32m--> \u001b[39m\u001b[32m508\u001b[39m     embeddings = \u001b[38;5;28;43mself\u001b[39;49m\u001b[43m.\u001b[49m\u001b[43m_embedding_function\u001b[49m\u001b[43m.\u001b[49m\u001b[43membed_documents\u001b[49m\u001b[43m(\u001b[49m\u001b[43mtexts\u001b[49m\u001b[43m)\u001b[49m\n\u001b[32m    509\u001b[39m \u001b[38;5;28;01mif\u001b[39;00m metadatas:\n\u001b[32m    510\u001b[39m     \u001b[38;5;66;03m# fill metadatas with empty dicts if somebody\u001b[39;00m\n\u001b[32m    511\u001b[39m     \u001b[38;5;66;03m# did not specify metadata for all texts\u001b[39;00m\n\u001b[32m    512\u001b[39m     length_diff = \u001b[38;5;28mlen\u001b[39m(texts) - \u001b[38;5;28mlen\u001b[39m(metadatas)\n",
      "\u001b[36mFile \u001b[39m\u001b[32m~/personal_learnings/ragster/venv/lib/python3.11/site-packages/langchain_openai/embeddings/base.py:526\u001b[39m, in \u001b[36mOpenAIEmbeddings.embed_documents\u001b[39m\u001b[34m(self, texts, chunk_size)\u001b[39m\n\u001b[32m    523\u001b[39m \u001b[38;5;66;03m# NOTE: to keep things simple, we assume the list may contain texts longer\u001b[39;00m\n\u001b[32m    524\u001b[39m \u001b[38;5;66;03m#       than the maximum context and use length-safe embedding function.\u001b[39;00m\n\u001b[32m    525\u001b[39m engine = cast(\u001b[38;5;28mstr\u001b[39m, \u001b[38;5;28mself\u001b[39m.deployment)\n\u001b[32m--> \u001b[39m\u001b[32m526\u001b[39m \u001b[38;5;28;01mreturn\u001b[39;00m \u001b[38;5;28;43mself\u001b[39;49m\u001b[43m.\u001b[49m\u001b[43m_get_len_safe_embeddings\u001b[49m\u001b[43m(\u001b[49m\u001b[43mtexts\u001b[49m\u001b[43m,\u001b[49m\u001b[43m \u001b[49m\u001b[43mengine\u001b[49m\u001b[43m=\u001b[49m\u001b[43mengine\u001b[49m\u001b[43m)\u001b[49m\n",
      "\u001b[36mFile \u001b[39m\u001b[32m~/personal_learnings/ragster/venv/lib/python3.11/site-packages/langchain_openai/embeddings/base.py:421\u001b[39m, in \u001b[36mOpenAIEmbeddings._get_len_safe_embeddings\u001b[39m\u001b[34m(self, texts, engine, chunk_size)\u001b[39m\n\u001b[32m    405\u001b[39m \u001b[38;5;250m\u001b[39m\u001b[33;03m\"\"\"\u001b[39;00m\n\u001b[32m    406\u001b[39m \u001b[33;03mGenerate length-safe embeddings for a list of texts.\u001b[39;00m\n\u001b[32m    407\u001b[39m \n\u001b[32m   (...)\u001b[39m\u001b[32m    418\u001b[39m \u001b[33;03m    List[List[float]]: A list of embeddings for each input text.\u001b[39;00m\n\u001b[32m    419\u001b[39m \u001b[33;03m\"\"\"\u001b[39;00m\n\u001b[32m    420\u001b[39m _chunk_size = chunk_size \u001b[38;5;129;01mor\u001b[39;00m \u001b[38;5;28mself\u001b[39m.chunk_size\n\u001b[32m--> \u001b[39m\u001b[32m421\u001b[39m _iter, tokens, indices = \u001b[38;5;28;43mself\u001b[39;49m\u001b[43m.\u001b[49m\u001b[43m_tokenize\u001b[49m\u001b[43m(\u001b[49m\u001b[43mtexts\u001b[49m\u001b[43m,\u001b[49m\u001b[43m \u001b[49m\u001b[43m_chunk_size\u001b[49m\u001b[43m)\u001b[49m\n\u001b[32m    422\u001b[39m batched_embeddings: List[List[\u001b[38;5;28mfloat\u001b[39m]] = []\n\u001b[32m    423\u001b[39m \u001b[38;5;28;01mfor\u001b[39;00m i \u001b[38;5;129;01min\u001b[39;00m _iter:\n",
      "\u001b[36mFile \u001b[39m\u001b[32m~/personal_learnings/ragster/venv/lib/python3.11/site-packages/langchain_openai/embeddings/base.py:361\u001b[39m, in \u001b[36mOpenAIEmbeddings._tokenize\u001b[39m\u001b[34m(self, texts, chunk_size)\u001b[39m\n\u001b[32m    359\u001b[39m \u001b[38;5;28;01melse\u001b[39;00m:\n\u001b[32m    360\u001b[39m     \u001b[38;5;28;01mtry\u001b[39;00m:\n\u001b[32m--> \u001b[39m\u001b[32m361\u001b[39m         encoding = \u001b[43mtiktoken\u001b[49m\u001b[43m.\u001b[49m\u001b[43mencoding_for_model\u001b[49m\u001b[43m(\u001b[49m\u001b[43mmodel_name\u001b[49m\u001b[43m)\u001b[49m\n\u001b[32m    362\u001b[39m     \u001b[38;5;28;01mexcept\u001b[39;00m \u001b[38;5;167;01mKeyError\u001b[39;00m:\n\u001b[32m    363\u001b[39m         encoding = tiktoken.get_encoding(\u001b[33m\"\u001b[39m\u001b[33mcl100k_base\u001b[39m\u001b[33m\"\u001b[39m)\n",
      "\u001b[36mFile \u001b[39m\u001b[32m~/personal_learnings/ragster/venv/lib/python3.11/site-packages/tiktoken/model.py:110\u001b[39m, in \u001b[36mencoding_for_model\u001b[39m\u001b[34m(model_name)\u001b[39m\n\u001b[32m    105\u001b[39m \u001b[38;5;28;01mdef\u001b[39;00m\u001b[38;5;250m \u001b[39m\u001b[34mencoding_for_model\u001b[39m(model_name: \u001b[38;5;28mstr\u001b[39m) -> Encoding:\n\u001b[32m    106\u001b[39m \u001b[38;5;250m    \u001b[39m\u001b[33;03m\"\"\"Returns the encoding used by a model.\u001b[39;00m\n\u001b[32m    107\u001b[39m \n\u001b[32m    108\u001b[39m \u001b[33;03m    Raises a KeyError if the model name is not recognised.\u001b[39;00m\n\u001b[32m    109\u001b[39m \u001b[33;03m    \"\"\"\u001b[39;00m\n\u001b[32m--> \u001b[39m\u001b[32m110\u001b[39m     \u001b[38;5;28;01mreturn\u001b[39;00m \u001b[43mget_encoding\u001b[49m\u001b[43m(\u001b[49m\u001b[43mencoding_name_for_model\u001b[49m\u001b[43m(\u001b[49m\u001b[43mmodel_name\u001b[49m\u001b[43m)\u001b[49m\u001b[43m)\u001b[49m\n",
      "\u001b[36mFile \u001b[39m\u001b[32m~/personal_learnings/ragster/venv/lib/python3.11/site-packages/tiktoken/registry.py:86\u001b[39m, in \u001b[36mget_encoding\u001b[39m\u001b[34m(encoding_name)\u001b[39m\n\u001b[32m     79\u001b[39m     \u001b[38;5;28;01mraise\u001b[39;00m \u001b[38;5;167;01mValueError\u001b[39;00m(\n\u001b[32m     80\u001b[39m         \u001b[33mf\u001b[39m\u001b[33m\"\u001b[39m\u001b[33mUnknown encoding \u001b[39m\u001b[38;5;132;01m{\u001b[39;00mencoding_name\u001b[38;5;132;01m}\u001b[39;00m\u001b[33m.\u001b[39m\u001b[38;5;130;01m\\n\u001b[39;00m\u001b[33m\"\u001b[39m\n\u001b[32m     81\u001b[39m         \u001b[33mf\u001b[39m\u001b[33m\"\u001b[39m\u001b[33mPlugins found: \u001b[39m\u001b[38;5;132;01m{\u001b[39;00m_available_plugin_modules()\u001b[38;5;132;01m}\u001b[39;00m\u001b[38;5;130;01m\\n\u001b[39;00m\u001b[33m\"\u001b[39m\n\u001b[32m     82\u001b[39m         \u001b[33mf\u001b[39m\u001b[33m\"\u001b[39m\u001b[33mtiktoken version: \u001b[39m\u001b[38;5;132;01m{\u001b[39;00mtiktoken.__version__\u001b[38;5;132;01m}\u001b[39;00m\u001b[33m (are you on latest?)\u001b[39m\u001b[33m\"\u001b[39m\n\u001b[32m     83\u001b[39m     )\n\u001b[32m     85\u001b[39m constructor = ENCODING_CONSTRUCTORS[encoding_name]\n\u001b[32m---> \u001b[39m\u001b[32m86\u001b[39m enc = Encoding(**\u001b[43mconstructor\u001b[49m\u001b[43m(\u001b[49m\u001b[43m)\u001b[49m)\n\u001b[32m     87\u001b[39m ENCODINGS[encoding_name] = enc\n\u001b[32m     88\u001b[39m \u001b[38;5;28;01mreturn\u001b[39;00m enc\n",
      "\u001b[36mFile \u001b[39m\u001b[32m~/personal_learnings/ragster/venv/lib/python3.11/site-packages/tiktoken_ext/openai_public.py:76\u001b[39m, in \u001b[36mcl100k_base\u001b[39m\u001b[34m()\u001b[39m\n\u001b[32m     75\u001b[39m \u001b[38;5;28;01mdef\u001b[39;00m\u001b[38;5;250m \u001b[39m\u001b[34mcl100k_base\u001b[39m():\n\u001b[32m---> \u001b[39m\u001b[32m76\u001b[39m     mergeable_ranks = \u001b[43mload_tiktoken_bpe\u001b[49m\u001b[43m(\u001b[49m\n\u001b[32m     77\u001b[39m \u001b[43m        \u001b[49m\u001b[33;43m\"\u001b[39;49m\u001b[33;43mhttps://openaipublic.blob.core.windows.net/encodings/cl100k_base.tiktoken\u001b[39;49m\u001b[33;43m\"\u001b[39;49m\u001b[43m,\u001b[49m\n\u001b[32m     78\u001b[39m \u001b[43m        \u001b[49m\u001b[43mexpected_hash\u001b[49m\u001b[43m=\u001b[49m\u001b[33;43m\"\u001b[39;49m\u001b[33;43m223921b76ee99bde995b7ff738513eef100fb51d18c93597a113bcffe865b2a7\u001b[39;49m\u001b[33;43m\"\u001b[39;49m\u001b[43m,\u001b[49m\n\u001b[32m     79\u001b[39m \u001b[43m    \u001b[49m\u001b[43m)\u001b[49m\n\u001b[32m     80\u001b[39m     special_tokens = {\n\u001b[32m     81\u001b[39m         ENDOFTEXT: \u001b[32m100257\u001b[39m,\n\u001b[32m     82\u001b[39m         FIM_PREFIX: \u001b[32m100258\u001b[39m,\n\u001b[32m   (...)\u001b[39m\u001b[32m     85\u001b[39m         ENDOFPROMPT: \u001b[32m100276\u001b[39m,\n\u001b[32m     86\u001b[39m     }\n\u001b[32m     87\u001b[39m     \u001b[38;5;28;01mreturn\u001b[39;00m {\n\u001b[32m     88\u001b[39m         \u001b[33m\"\u001b[39m\u001b[33mname\u001b[39m\u001b[33m\"\u001b[39m: \u001b[33m\"\u001b[39m\u001b[33mcl100k_base\u001b[39m\u001b[33m\"\u001b[39m,\n\u001b[32m     89\u001b[39m         \u001b[33m\"\u001b[39m\u001b[33mpat_str\u001b[39m\u001b[33m\"\u001b[39m: \u001b[33mr\u001b[39m\u001b[33m\"\"\"\u001b[39m\u001b[33m'\u001b[39m\u001b[33m(?i:[sdmt]|ll|ve|re)|[^\u001b[39m\u001b[33m\\\u001b[39m\u001b[33mr\u001b[39m\u001b[33m\\\u001b[39m\u001b[33mn\u001b[39m\u001b[33m\\\u001b[39m\u001b[33mp\u001b[39m\u001b[38;5;132;01m{L}\u001b[39;00m\u001b[33m\\\u001b[39m\u001b[33mp\u001b[39m\u001b[38;5;132;01m{N}\u001b[39;00m\u001b[33m]?+\u001b[39m\u001b[33m\\\u001b[39m\u001b[33mp\u001b[39m\u001b[38;5;132;01m{L}\u001b[39;00m\u001b[33m++|\u001b[39m\u001b[33m\\\u001b[39m\u001b[33mp\u001b[39m\u001b[38;5;132;01m{N}\u001b[39;00m\u001b[33m{\u001b[39m\u001b[33m1,3}+| ?[^\u001b[39m\u001b[33m\\\u001b[39m\u001b[33ms\u001b[39m\u001b[33m\\\u001b[39m\u001b[33mp\u001b[39m\u001b[38;5;132;01m{L}\u001b[39;00m\u001b[33m\\\u001b[39m\u001b[33mp\u001b[39m\u001b[38;5;132;01m{N}\u001b[39;00m\u001b[33m]++[\u001b[39m\u001b[33m\\\u001b[39m\u001b[33mr\u001b[39m\u001b[33m\\\u001b[39m\u001b[33mn]*+|\u001b[39m\u001b[33m\\\u001b[39m\u001b[33ms++$|\u001b[39m\u001b[33m\\\u001b[39m\u001b[33ms*[\u001b[39m\u001b[33m\\\u001b[39m\u001b[33mr\u001b[39m\u001b[33m\\\u001b[39m\u001b[33mn]|\u001b[39m\u001b[33m\\\u001b[39m\u001b[33ms+(?!\u001b[39m\u001b[33m\\\u001b[39m\u001b[33mS)|\u001b[39m\u001b[33m\\\u001b[39m\u001b[33ms\u001b[39m\u001b[33m\"\"\"\u001b[39m,\n\u001b[32m     90\u001b[39m         \u001b[33m\"\u001b[39m\u001b[33mmergeable_ranks\u001b[39m\u001b[33m\"\u001b[39m: mergeable_ranks,\n\u001b[32m     91\u001b[39m         \u001b[33m\"\u001b[39m\u001b[33mspecial_tokens\u001b[39m\u001b[33m\"\u001b[39m: special_tokens,\n\u001b[32m     92\u001b[39m     }\n",
      "\u001b[36mFile \u001b[39m\u001b[32m~/personal_learnings/ragster/venv/lib/python3.11/site-packages/tiktoken/load.py:148\u001b[39m, in \u001b[36mload_tiktoken_bpe\u001b[39m\u001b[34m(tiktoken_bpe_file, expected_hash)\u001b[39m\n\u001b[32m    146\u001b[39m \u001b[38;5;28;01mdef\u001b[39;00m\u001b[38;5;250m \u001b[39m\u001b[34mload_tiktoken_bpe\u001b[39m(tiktoken_bpe_file: \u001b[38;5;28mstr\u001b[39m, expected_hash: \u001b[38;5;28mstr\u001b[39m | \u001b[38;5;28;01mNone\u001b[39;00m = \u001b[38;5;28;01mNone\u001b[39;00m) -> \u001b[38;5;28mdict\u001b[39m[\u001b[38;5;28mbytes\u001b[39m, \u001b[38;5;28mint\u001b[39m]:\n\u001b[32m    147\u001b[39m     \u001b[38;5;66;03m# NB: do not add caching to this function\u001b[39;00m\n\u001b[32m--> \u001b[39m\u001b[32m148\u001b[39m     contents = \u001b[43mread_file_cached\u001b[49m\u001b[43m(\u001b[49m\u001b[43mtiktoken_bpe_file\u001b[49m\u001b[43m,\u001b[49m\u001b[43m \u001b[49m\u001b[43mexpected_hash\u001b[49m\u001b[43m)\u001b[49m\n\u001b[32m    149\u001b[39m     ret = {}\n\u001b[32m    150\u001b[39m     \u001b[38;5;28;01mfor\u001b[39;00m line \u001b[38;5;129;01min\u001b[39;00m contents.splitlines():\n",
      "\u001b[36mFile \u001b[39m\u001b[32m~/personal_learnings/ragster/venv/lib/python3.11/site-packages/tiktoken/load.py:63\u001b[39m, in \u001b[36mread_file_cached\u001b[39m\u001b[34m(blobpath, expected_hash)\u001b[39m\n\u001b[32m     60\u001b[39m     \u001b[38;5;28;01mexcept\u001b[39;00m \u001b[38;5;167;01mOSError\u001b[39;00m:\n\u001b[32m     61\u001b[39m         \u001b[38;5;28;01mpass\u001b[39;00m\n\u001b[32m---> \u001b[39m\u001b[32m63\u001b[39m contents = \u001b[43mread_file\u001b[49m\u001b[43m(\u001b[49m\u001b[43mblobpath\u001b[49m\u001b[43m)\u001b[49m\n\u001b[32m     64\u001b[39m \u001b[38;5;28;01mif\u001b[39;00m expected_hash \u001b[38;5;129;01mand\u001b[39;00m \u001b[38;5;129;01mnot\u001b[39;00m check_hash(contents, expected_hash):\n\u001b[32m     65\u001b[39m     \u001b[38;5;28;01mraise\u001b[39;00m \u001b[38;5;167;01mValueError\u001b[39;00m(\n\u001b[32m     66\u001b[39m         \u001b[33mf\u001b[39m\u001b[33m\"\u001b[39m\u001b[33mHash mismatch for data downloaded from \u001b[39m\u001b[38;5;132;01m{\u001b[39;00mblobpath\u001b[38;5;132;01m}\u001b[39;00m\u001b[33m (expected \u001b[39m\u001b[38;5;132;01m{\u001b[39;00mexpected_hash\u001b[38;5;132;01m}\u001b[39;00m\u001b[33m). \u001b[39m\u001b[33m\"\u001b[39m\n\u001b[32m     67\u001b[39m         \u001b[33mf\u001b[39m\u001b[33m\"\u001b[39m\u001b[33mThis may indicate a corrupted download. Please try again.\u001b[39m\u001b[33m\"\u001b[39m\n\u001b[32m     68\u001b[39m     )\n",
      "\u001b[36mFile \u001b[39m\u001b[32m~/personal_learnings/ragster/venv/lib/python3.11/site-packages/tiktoken/load.py:22\u001b[39m, in \u001b[36mread_file\u001b[39m\u001b[34m(blobpath)\u001b[39m\n\u001b[32m     19\u001b[39m \u001b[38;5;66;03m# avoiding blobfile for public files helps avoid auth issues, like MFA prompts\u001b[39;00m\n\u001b[32m     20\u001b[39m \u001b[38;5;28;01mimport\u001b[39;00m\u001b[38;5;250m \u001b[39m\u001b[34;01mrequests\u001b[39;00m\n\u001b[32m---> \u001b[39m\u001b[32m22\u001b[39m resp = \u001b[43mrequests\u001b[49m\u001b[43m.\u001b[49m\u001b[43mget\u001b[49m\u001b[43m(\u001b[49m\u001b[43mblobpath\u001b[49m\u001b[43m)\u001b[49m\n\u001b[32m     23\u001b[39m resp.raise_for_status()\n\u001b[32m     24\u001b[39m \u001b[38;5;28;01mreturn\u001b[39;00m resp.content\n",
      "\u001b[36mFile \u001b[39m\u001b[32m~/personal_learnings/ragster/venv/lib/python3.11/site-packages/requests/api.py:73\u001b[39m, in \u001b[36mget\u001b[39m\u001b[34m(url, params, **kwargs)\u001b[39m\n\u001b[32m     62\u001b[39m \u001b[38;5;28;01mdef\u001b[39;00m\u001b[38;5;250m \u001b[39m\u001b[34mget\u001b[39m(url, params=\u001b[38;5;28;01mNone\u001b[39;00m, **kwargs):\n\u001b[32m     63\u001b[39m \u001b[38;5;250m    \u001b[39m\u001b[33mr\u001b[39m\u001b[33;03m\"\"\"Sends a GET request.\u001b[39;00m\n\u001b[32m     64\u001b[39m \n\u001b[32m     65\u001b[39m \u001b[33;03m    :param url: URL for the new :class:`Request` object.\u001b[39;00m\n\u001b[32m   (...)\u001b[39m\u001b[32m     70\u001b[39m \u001b[33;03m    :rtype: requests.Response\u001b[39;00m\n\u001b[32m     71\u001b[39m \u001b[33;03m    \"\"\"\u001b[39;00m\n\u001b[32m---> \u001b[39m\u001b[32m73\u001b[39m     \u001b[38;5;28;01mreturn\u001b[39;00m \u001b[43mrequest\u001b[49m\u001b[43m(\u001b[49m\u001b[33;43m\"\u001b[39;49m\u001b[33;43mget\u001b[39;49m\u001b[33;43m\"\u001b[39;49m\u001b[43m,\u001b[49m\u001b[43m \u001b[49m\u001b[43murl\u001b[49m\u001b[43m,\u001b[49m\u001b[43m \u001b[49m\u001b[43mparams\u001b[49m\u001b[43m=\u001b[49m\u001b[43mparams\u001b[49m\u001b[43m,\u001b[49m\u001b[43m \u001b[49m\u001b[43m*\u001b[49m\u001b[43m*\u001b[49m\u001b[43mkwargs\u001b[49m\u001b[43m)\u001b[49m\n",
      "\u001b[36mFile \u001b[39m\u001b[32m~/personal_learnings/ragster/venv/lib/python3.11/site-packages/requests/api.py:59\u001b[39m, in \u001b[36mrequest\u001b[39m\u001b[34m(method, url, **kwargs)\u001b[39m\n\u001b[32m     55\u001b[39m \u001b[38;5;66;03m# By using the 'with' statement we are sure the session is closed, thus we\u001b[39;00m\n\u001b[32m     56\u001b[39m \u001b[38;5;66;03m# avoid leaving sockets open which can trigger a ResourceWarning in some\u001b[39;00m\n\u001b[32m     57\u001b[39m \u001b[38;5;66;03m# cases, and look like a memory leak in others.\u001b[39;00m\n\u001b[32m     58\u001b[39m \u001b[38;5;28;01mwith\u001b[39;00m sessions.Session() \u001b[38;5;28;01mas\u001b[39;00m session:\n\u001b[32m---> \u001b[39m\u001b[32m59\u001b[39m     \u001b[38;5;28;01mreturn\u001b[39;00m \u001b[43msession\u001b[49m\u001b[43m.\u001b[49m\u001b[43mrequest\u001b[49m\u001b[43m(\u001b[49m\u001b[43mmethod\u001b[49m\u001b[43m=\u001b[49m\u001b[43mmethod\u001b[49m\u001b[43m,\u001b[49m\u001b[43m \u001b[49m\u001b[43murl\u001b[49m\u001b[43m=\u001b[49m\u001b[43murl\u001b[49m\u001b[43m,\u001b[49m\u001b[43m \u001b[49m\u001b[43m*\u001b[49m\u001b[43m*\u001b[49m\u001b[43mkwargs\u001b[49m\u001b[43m)\u001b[49m\n",
      "\u001b[36mFile \u001b[39m\u001b[32m~/personal_learnings/ragster/venv/lib/python3.11/site-packages/requests/sessions.py:589\u001b[39m, in \u001b[36mSession.request\u001b[39m\u001b[34m(self, method, url, params, data, headers, cookies, files, auth, timeout, allow_redirects, proxies, hooks, stream, verify, cert, json)\u001b[39m\n\u001b[32m    584\u001b[39m send_kwargs = {\n\u001b[32m    585\u001b[39m     \u001b[33m\"\u001b[39m\u001b[33mtimeout\u001b[39m\u001b[33m\"\u001b[39m: timeout,\n\u001b[32m    586\u001b[39m     \u001b[33m\"\u001b[39m\u001b[33mallow_redirects\u001b[39m\u001b[33m\"\u001b[39m: allow_redirects,\n\u001b[32m    587\u001b[39m }\n\u001b[32m    588\u001b[39m send_kwargs.update(settings)\n\u001b[32m--> \u001b[39m\u001b[32m589\u001b[39m resp = \u001b[38;5;28;43mself\u001b[39;49m\u001b[43m.\u001b[49m\u001b[43msend\u001b[49m\u001b[43m(\u001b[49m\u001b[43mprep\u001b[49m\u001b[43m,\u001b[49m\u001b[43m \u001b[49m\u001b[43m*\u001b[49m\u001b[43m*\u001b[49m\u001b[43msend_kwargs\u001b[49m\u001b[43m)\u001b[49m\n\u001b[32m    591\u001b[39m \u001b[38;5;28;01mreturn\u001b[39;00m resp\n",
      "\u001b[36mFile \u001b[39m\u001b[32m~/personal_learnings/ragster/venv/lib/python3.11/site-packages/requests/sessions.py:703\u001b[39m, in \u001b[36mSession.send\u001b[39m\u001b[34m(self, request, **kwargs)\u001b[39m\n\u001b[32m    700\u001b[39m start = preferred_clock()\n\u001b[32m    702\u001b[39m \u001b[38;5;66;03m# Send the request\u001b[39;00m\n\u001b[32m--> \u001b[39m\u001b[32m703\u001b[39m r = \u001b[43madapter\u001b[49m\u001b[43m.\u001b[49m\u001b[43msend\u001b[49m\u001b[43m(\u001b[49m\u001b[43mrequest\u001b[49m\u001b[43m,\u001b[49m\u001b[43m \u001b[49m\u001b[43m*\u001b[49m\u001b[43m*\u001b[49m\u001b[43mkwargs\u001b[49m\u001b[43m)\u001b[49m\n\u001b[32m    705\u001b[39m \u001b[38;5;66;03m# Total elapsed time of the request (approximately)\u001b[39;00m\n\u001b[32m    706\u001b[39m elapsed = preferred_clock() - start\n",
      "\u001b[36mFile \u001b[39m\u001b[32m~/personal_learnings/ragster/venv/lib/python3.11/site-packages/requests/adapters.py:700\u001b[39m, in \u001b[36mHTTPAdapter.send\u001b[39m\u001b[34m(self, request, stream, timeout, verify, cert, proxies)\u001b[39m\n\u001b[32m    696\u001b[39m     \u001b[38;5;28;01mif\u001b[39;00m \u001b[38;5;28misinstance\u001b[39m(e.reason, _SSLError):\n\u001b[32m    697\u001b[39m         \u001b[38;5;66;03m# This branch is for urllib3 v1.22 and later.\u001b[39;00m\n\u001b[32m    698\u001b[39m         \u001b[38;5;28;01mraise\u001b[39;00m SSLError(e, request=request)\n\u001b[32m--> \u001b[39m\u001b[32m700\u001b[39m     \u001b[38;5;28;01mraise\u001b[39;00m \u001b[38;5;167;01mConnectionError\u001b[39;00m(e, request=request)\n\u001b[32m    702\u001b[39m \u001b[38;5;28;01mexcept\u001b[39;00m ClosedPoolError \u001b[38;5;28;01mas\u001b[39;00m e:\n\u001b[32m    703\u001b[39m     \u001b[38;5;28;01mraise\u001b[39;00m \u001b[38;5;167;01mConnectionError\u001b[39;00m(e, request=request)\n",
      "\u001b[31mConnectionError\u001b[39m: HTTPSConnectionPool(host='openaipublic.blob.core.windows.net', port=443): Max retries exceeded with url: /encodings/cl100k_base.tiktoken (Caused by NameResolutionError(\"<urllib3.connection.HTTPSConnection object at 0x31d2774d0>: Failed to resolve 'openaipublic.blob.core.windows.net' ([Errno 8] nodename nor servname provided, or not known)\"))"
     ]
    }
   ],
   "source": [
    "# from langchain_chroma import Chroma\n",
    "db = Chroma.from_documents(documents=do, embedding=embeddings, persist_directory=\"chroma_db_legal_database\")"
   ]
  },
  {
   "cell_type": "code",
   "execution_count": 57,
   "id": "372076d8",
   "metadata": {},
   "outputs": [
    {
     "name": "stderr",
     "output_type": "stream",
     "text": [
      "Failed to send telemetry event ClientStartEvent: capture() takes 1 positional argument but 3 were given\n",
      "Failed to send telemetry event ClientCreateCollectionEvent: capture() takes 1 positional argument but 3 were given\n"
     ]
    },
    {
     "ename": "ConnectionError",
     "evalue": "HTTPSConnectionPool(host='openaipublic.blob.core.windows.net', port=443): Max retries exceeded with url: /encodings/cl100k_base.tiktoken (Caused by NameResolutionError(\"<urllib3.connection.HTTPSConnection object at 0x31f428d50>: Failed to resolve 'openaipublic.blob.core.windows.net' ([Errno 8] nodename nor servname provided, or not known)\"))",
     "output_type": "error",
     "traceback": [
      "\u001b[31m---------------------------------------------------------------------------\u001b[39m",
      "\u001b[31mgaierror\u001b[39m                                  Traceback (most recent call last)",
      "\u001b[36mFile \u001b[39m\u001b[32m~/personal_learnings/ragster/venv/lib/python3.11/site-packages/urllib3/connection.py:198\u001b[39m, in \u001b[36mHTTPConnection._new_conn\u001b[39m\u001b[34m(self)\u001b[39m\n\u001b[32m    197\u001b[39m \u001b[38;5;28;01mtry\u001b[39;00m:\n\u001b[32m--> \u001b[39m\u001b[32m198\u001b[39m     sock = \u001b[43mconnection\u001b[49m\u001b[43m.\u001b[49m\u001b[43mcreate_connection\u001b[49m\u001b[43m(\u001b[49m\n\u001b[32m    199\u001b[39m \u001b[43m        \u001b[49m\u001b[43m(\u001b[49m\u001b[38;5;28;43mself\u001b[39;49m\u001b[43m.\u001b[49m\u001b[43m_dns_host\u001b[49m\u001b[43m,\u001b[49m\u001b[43m \u001b[49m\u001b[38;5;28;43mself\u001b[39;49m\u001b[43m.\u001b[49m\u001b[43mport\u001b[49m\u001b[43m)\u001b[49m\u001b[43m,\u001b[49m\n\u001b[32m    200\u001b[39m \u001b[43m        \u001b[49m\u001b[38;5;28;43mself\u001b[39;49m\u001b[43m.\u001b[49m\u001b[43mtimeout\u001b[49m\u001b[43m,\u001b[49m\n\u001b[32m    201\u001b[39m \u001b[43m        \u001b[49m\u001b[43msource_address\u001b[49m\u001b[43m=\u001b[49m\u001b[38;5;28;43mself\u001b[39;49m\u001b[43m.\u001b[49m\u001b[43msource_address\u001b[49m\u001b[43m,\u001b[49m\n\u001b[32m    202\u001b[39m \u001b[43m        \u001b[49m\u001b[43msocket_options\u001b[49m\u001b[43m=\u001b[49m\u001b[38;5;28;43mself\u001b[39;49m\u001b[43m.\u001b[49m\u001b[43msocket_options\u001b[49m\u001b[43m,\u001b[49m\n\u001b[32m    203\u001b[39m \u001b[43m    \u001b[49m\u001b[43m)\u001b[49m\n\u001b[32m    204\u001b[39m \u001b[38;5;28;01mexcept\u001b[39;00m socket.gaierror \u001b[38;5;28;01mas\u001b[39;00m e:\n",
      "\u001b[36mFile \u001b[39m\u001b[32m~/personal_learnings/ragster/venv/lib/python3.11/site-packages/urllib3/util/connection.py:60\u001b[39m, in \u001b[36mcreate_connection\u001b[39m\u001b[34m(address, timeout, source_address, socket_options)\u001b[39m\n\u001b[32m     58\u001b[39m     \u001b[38;5;28;01mraise\u001b[39;00m LocationParseError(\u001b[33mf\u001b[39m\u001b[33m\"\u001b[39m\u001b[33m'\u001b[39m\u001b[38;5;132;01m{\u001b[39;00mhost\u001b[38;5;132;01m}\u001b[39;00m\u001b[33m'\u001b[39m\u001b[33m, label empty or too long\u001b[39m\u001b[33m\"\u001b[39m) \u001b[38;5;28;01mfrom\u001b[39;00m\u001b[38;5;250m \u001b[39m\u001b[38;5;28;01mNone\u001b[39;00m\n\u001b[32m---> \u001b[39m\u001b[32m60\u001b[39m \u001b[38;5;28;01mfor\u001b[39;00m res \u001b[38;5;129;01min\u001b[39;00m \u001b[43msocket\u001b[49m\u001b[43m.\u001b[49m\u001b[43mgetaddrinfo\u001b[49m\u001b[43m(\u001b[49m\u001b[43mhost\u001b[49m\u001b[43m,\u001b[49m\u001b[43m \u001b[49m\u001b[43mport\u001b[49m\u001b[43m,\u001b[49m\u001b[43m \u001b[49m\u001b[43mfamily\u001b[49m\u001b[43m,\u001b[49m\u001b[43m \u001b[49m\u001b[43msocket\u001b[49m\u001b[43m.\u001b[49m\u001b[43mSOCK_STREAM\u001b[49m\u001b[43m)\u001b[49m:\n\u001b[32m     61\u001b[39m     af, socktype, proto, canonname, sa = res\n",
      "\u001b[36mFile \u001b[39m\u001b[32m~/.pyenv/versions/3.11.8/lib/python3.11/socket.py:962\u001b[39m, in \u001b[36mgetaddrinfo\u001b[39m\u001b[34m(host, port, family, type, proto, flags)\u001b[39m\n\u001b[32m    961\u001b[39m addrlist = []\n\u001b[32m--> \u001b[39m\u001b[32m962\u001b[39m \u001b[38;5;28;01mfor\u001b[39;00m res \u001b[38;5;129;01min\u001b[39;00m \u001b[43m_socket\u001b[49m\u001b[43m.\u001b[49m\u001b[43mgetaddrinfo\u001b[49m\u001b[43m(\u001b[49m\u001b[43mhost\u001b[49m\u001b[43m,\u001b[49m\u001b[43m \u001b[49m\u001b[43mport\u001b[49m\u001b[43m,\u001b[49m\u001b[43m \u001b[49m\u001b[43mfamily\u001b[49m\u001b[43m,\u001b[49m\u001b[43m \u001b[49m\u001b[38;5;28;43mtype\u001b[39;49m\u001b[43m,\u001b[49m\u001b[43m \u001b[49m\u001b[43mproto\u001b[49m\u001b[43m,\u001b[49m\u001b[43m \u001b[49m\u001b[43mflags\u001b[49m\u001b[43m)\u001b[49m:\n\u001b[32m    963\u001b[39m     af, socktype, proto, canonname, sa = res\n",
      "\u001b[31mgaierror\u001b[39m: [Errno 8] nodename nor servname provided, or not known",
      "\nThe above exception was the direct cause of the following exception:\n",
      "\u001b[31mNameResolutionError\u001b[39m                       Traceback (most recent call last)",
      "\u001b[36mFile \u001b[39m\u001b[32m~/personal_learnings/ragster/venv/lib/python3.11/site-packages/urllib3/connectionpool.py:787\u001b[39m, in \u001b[36mHTTPConnectionPool.urlopen\u001b[39m\u001b[34m(self, method, url, body, headers, retries, redirect, assert_same_host, timeout, pool_timeout, release_conn, chunked, body_pos, preload_content, decode_content, **response_kw)\u001b[39m\n\u001b[32m    786\u001b[39m \u001b[38;5;66;03m# Make the request on the HTTPConnection object\u001b[39;00m\n\u001b[32m--> \u001b[39m\u001b[32m787\u001b[39m response = \u001b[38;5;28;43mself\u001b[39;49m\u001b[43m.\u001b[49m\u001b[43m_make_request\u001b[49m\u001b[43m(\u001b[49m\n\u001b[32m    788\u001b[39m \u001b[43m    \u001b[49m\u001b[43mconn\u001b[49m\u001b[43m,\u001b[49m\n\u001b[32m    789\u001b[39m \u001b[43m    \u001b[49m\u001b[43mmethod\u001b[49m\u001b[43m,\u001b[49m\n\u001b[32m    790\u001b[39m \u001b[43m    \u001b[49m\u001b[43murl\u001b[49m\u001b[43m,\u001b[49m\n\u001b[32m    791\u001b[39m \u001b[43m    \u001b[49m\u001b[43mtimeout\u001b[49m\u001b[43m=\u001b[49m\u001b[43mtimeout_obj\u001b[49m\u001b[43m,\u001b[49m\n\u001b[32m    792\u001b[39m \u001b[43m    \u001b[49m\u001b[43mbody\u001b[49m\u001b[43m=\u001b[49m\u001b[43mbody\u001b[49m\u001b[43m,\u001b[49m\n\u001b[32m    793\u001b[39m \u001b[43m    \u001b[49m\u001b[43mheaders\u001b[49m\u001b[43m=\u001b[49m\u001b[43mheaders\u001b[49m\u001b[43m,\u001b[49m\n\u001b[32m    794\u001b[39m \u001b[43m    \u001b[49m\u001b[43mchunked\u001b[49m\u001b[43m=\u001b[49m\u001b[43mchunked\u001b[49m\u001b[43m,\u001b[49m\n\u001b[32m    795\u001b[39m \u001b[43m    \u001b[49m\u001b[43mretries\u001b[49m\u001b[43m=\u001b[49m\u001b[43mretries\u001b[49m\u001b[43m,\u001b[49m\n\u001b[32m    796\u001b[39m \u001b[43m    \u001b[49m\u001b[43mresponse_conn\u001b[49m\u001b[43m=\u001b[49m\u001b[43mresponse_conn\u001b[49m\u001b[43m,\u001b[49m\n\u001b[32m    797\u001b[39m \u001b[43m    \u001b[49m\u001b[43mpreload_content\u001b[49m\u001b[43m=\u001b[49m\u001b[43mpreload_content\u001b[49m\u001b[43m,\u001b[49m\n\u001b[32m    798\u001b[39m \u001b[43m    \u001b[49m\u001b[43mdecode_content\u001b[49m\u001b[43m=\u001b[49m\u001b[43mdecode_content\u001b[49m\u001b[43m,\u001b[49m\n\u001b[32m    799\u001b[39m \u001b[43m    \u001b[49m\u001b[43m*\u001b[49m\u001b[43m*\u001b[49m\u001b[43mresponse_kw\u001b[49m\u001b[43m,\u001b[49m\n\u001b[32m    800\u001b[39m \u001b[43m\u001b[49m\u001b[43m)\u001b[49m\n\u001b[32m    802\u001b[39m \u001b[38;5;66;03m# Everything went great!\u001b[39;00m\n",
      "\u001b[36mFile \u001b[39m\u001b[32m~/personal_learnings/ragster/venv/lib/python3.11/site-packages/urllib3/connectionpool.py:488\u001b[39m, in \u001b[36mHTTPConnectionPool._make_request\u001b[39m\u001b[34m(self, conn, method, url, body, headers, retries, timeout, chunked, response_conn, preload_content, decode_content, enforce_content_length)\u001b[39m\n\u001b[32m    487\u001b[39m         new_e = _wrap_proxy_error(new_e, conn.proxy.scheme)\n\u001b[32m--> \u001b[39m\u001b[32m488\u001b[39m     \u001b[38;5;28;01mraise\u001b[39;00m new_e\n\u001b[32m    490\u001b[39m \u001b[38;5;66;03m# conn.request() calls http.client.*.request, not the method in\u001b[39;00m\n\u001b[32m    491\u001b[39m \u001b[38;5;66;03m# urllib3.request. It also calls makefile (recv) on the socket.\u001b[39;00m\n",
      "\u001b[36mFile \u001b[39m\u001b[32m~/personal_learnings/ragster/venv/lib/python3.11/site-packages/urllib3/connectionpool.py:464\u001b[39m, in \u001b[36mHTTPConnectionPool._make_request\u001b[39m\u001b[34m(self, conn, method, url, body, headers, retries, timeout, chunked, response_conn, preload_content, decode_content, enforce_content_length)\u001b[39m\n\u001b[32m    463\u001b[39m \u001b[38;5;28;01mtry\u001b[39;00m:\n\u001b[32m--> \u001b[39m\u001b[32m464\u001b[39m     \u001b[38;5;28;43mself\u001b[39;49m\u001b[43m.\u001b[49m\u001b[43m_validate_conn\u001b[49m\u001b[43m(\u001b[49m\u001b[43mconn\u001b[49m\u001b[43m)\u001b[49m\n\u001b[32m    465\u001b[39m \u001b[38;5;28;01mexcept\u001b[39;00m (SocketTimeout, BaseSSLError) \u001b[38;5;28;01mas\u001b[39;00m e:\n",
      "\u001b[36mFile \u001b[39m\u001b[32m~/personal_learnings/ragster/venv/lib/python3.11/site-packages/urllib3/connectionpool.py:1093\u001b[39m, in \u001b[36mHTTPSConnectionPool._validate_conn\u001b[39m\u001b[34m(self, conn)\u001b[39m\n\u001b[32m   1092\u001b[39m \u001b[38;5;28;01mif\u001b[39;00m conn.is_closed:\n\u001b[32m-> \u001b[39m\u001b[32m1093\u001b[39m     \u001b[43mconn\u001b[49m\u001b[43m.\u001b[49m\u001b[43mconnect\u001b[49m\u001b[43m(\u001b[49m\u001b[43m)\u001b[49m\n\u001b[32m   1095\u001b[39m \u001b[38;5;66;03m# TODO revise this, see https://github.com/urllib3/urllib3/issues/2791\u001b[39;00m\n",
      "\u001b[36mFile \u001b[39m\u001b[32m~/personal_learnings/ragster/venv/lib/python3.11/site-packages/urllib3/connection.py:753\u001b[39m, in \u001b[36mHTTPSConnection.connect\u001b[39m\u001b[34m(self)\u001b[39m\n\u001b[32m    752\u001b[39m sock: socket.socket | ssl.SSLSocket\n\u001b[32m--> \u001b[39m\u001b[32m753\u001b[39m \u001b[38;5;28mself\u001b[39m.sock = sock = \u001b[38;5;28;43mself\u001b[39;49m\u001b[43m.\u001b[49m\u001b[43m_new_conn\u001b[49m\u001b[43m(\u001b[49m\u001b[43m)\u001b[49m\n\u001b[32m    754\u001b[39m server_hostname: \u001b[38;5;28mstr\u001b[39m = \u001b[38;5;28mself\u001b[39m.host\n",
      "\u001b[36mFile \u001b[39m\u001b[32m~/personal_learnings/ragster/venv/lib/python3.11/site-packages/urllib3/connection.py:205\u001b[39m, in \u001b[36mHTTPConnection._new_conn\u001b[39m\u001b[34m(self)\u001b[39m\n\u001b[32m    204\u001b[39m \u001b[38;5;28;01mexcept\u001b[39;00m socket.gaierror \u001b[38;5;28;01mas\u001b[39;00m e:\n\u001b[32m--> \u001b[39m\u001b[32m205\u001b[39m     \u001b[38;5;28;01mraise\u001b[39;00m NameResolutionError(\u001b[38;5;28mself\u001b[39m.host, \u001b[38;5;28mself\u001b[39m, e) \u001b[38;5;28;01mfrom\u001b[39;00m\u001b[38;5;250m \u001b[39m\u001b[34;01me\u001b[39;00m\n\u001b[32m    206\u001b[39m \u001b[38;5;28;01mexcept\u001b[39;00m SocketTimeout \u001b[38;5;28;01mas\u001b[39;00m e:\n",
      "\u001b[31mNameResolutionError\u001b[39m: <urllib3.connection.HTTPSConnection object at 0x31f428d50>: Failed to resolve 'openaipublic.blob.core.windows.net' ([Errno 8] nodename nor servname provided, or not known)",
      "\nThe above exception was the direct cause of the following exception:\n",
      "\u001b[31mMaxRetryError\u001b[39m                             Traceback (most recent call last)",
      "\u001b[36mFile \u001b[39m\u001b[32m~/personal_learnings/ragster/venv/lib/python3.11/site-packages/requests/adapters.py:667\u001b[39m, in \u001b[36mHTTPAdapter.send\u001b[39m\u001b[34m(self, request, stream, timeout, verify, cert, proxies)\u001b[39m\n\u001b[32m    666\u001b[39m \u001b[38;5;28;01mtry\u001b[39;00m:\n\u001b[32m--> \u001b[39m\u001b[32m667\u001b[39m     resp = \u001b[43mconn\u001b[49m\u001b[43m.\u001b[49m\u001b[43murlopen\u001b[49m\u001b[43m(\u001b[49m\n\u001b[32m    668\u001b[39m \u001b[43m        \u001b[49m\u001b[43mmethod\u001b[49m\u001b[43m=\u001b[49m\u001b[43mrequest\u001b[49m\u001b[43m.\u001b[49m\u001b[43mmethod\u001b[49m\u001b[43m,\u001b[49m\n\u001b[32m    669\u001b[39m \u001b[43m        \u001b[49m\u001b[43murl\u001b[49m\u001b[43m=\u001b[49m\u001b[43murl\u001b[49m\u001b[43m,\u001b[49m\n\u001b[32m    670\u001b[39m \u001b[43m        \u001b[49m\u001b[43mbody\u001b[49m\u001b[43m=\u001b[49m\u001b[43mrequest\u001b[49m\u001b[43m.\u001b[49m\u001b[43mbody\u001b[49m\u001b[43m,\u001b[49m\n\u001b[32m    671\u001b[39m \u001b[43m        \u001b[49m\u001b[43mheaders\u001b[49m\u001b[43m=\u001b[49m\u001b[43mrequest\u001b[49m\u001b[43m.\u001b[49m\u001b[43mheaders\u001b[49m\u001b[43m,\u001b[49m\n\u001b[32m    672\u001b[39m \u001b[43m        \u001b[49m\u001b[43mredirect\u001b[49m\u001b[43m=\u001b[49m\u001b[38;5;28;43;01mFalse\u001b[39;49;00m\u001b[43m,\u001b[49m\n\u001b[32m    673\u001b[39m \u001b[43m        \u001b[49m\u001b[43massert_same_host\u001b[49m\u001b[43m=\u001b[49m\u001b[38;5;28;43;01mFalse\u001b[39;49;00m\u001b[43m,\u001b[49m\n\u001b[32m    674\u001b[39m \u001b[43m        \u001b[49m\u001b[43mpreload_content\u001b[49m\u001b[43m=\u001b[49m\u001b[38;5;28;43;01mFalse\u001b[39;49;00m\u001b[43m,\u001b[49m\n\u001b[32m    675\u001b[39m \u001b[43m        \u001b[49m\u001b[43mdecode_content\u001b[49m\u001b[43m=\u001b[49m\u001b[38;5;28;43;01mFalse\u001b[39;49;00m\u001b[43m,\u001b[49m\n\u001b[32m    676\u001b[39m \u001b[43m        \u001b[49m\u001b[43mretries\u001b[49m\u001b[43m=\u001b[49m\u001b[38;5;28;43mself\u001b[39;49m\u001b[43m.\u001b[49m\u001b[43mmax_retries\u001b[49m\u001b[43m,\u001b[49m\n\u001b[32m    677\u001b[39m \u001b[43m        \u001b[49m\u001b[43mtimeout\u001b[49m\u001b[43m=\u001b[49m\u001b[43mtimeout\u001b[49m\u001b[43m,\u001b[49m\n\u001b[32m    678\u001b[39m \u001b[43m        \u001b[49m\u001b[43mchunked\u001b[49m\u001b[43m=\u001b[49m\u001b[43mchunked\u001b[49m\u001b[43m,\u001b[49m\n\u001b[32m    679\u001b[39m \u001b[43m    \u001b[49m\u001b[43m)\u001b[49m\n\u001b[32m    681\u001b[39m \u001b[38;5;28;01mexcept\u001b[39;00m (ProtocolError, \u001b[38;5;167;01mOSError\u001b[39;00m) \u001b[38;5;28;01mas\u001b[39;00m err:\n",
      "\u001b[36mFile \u001b[39m\u001b[32m~/personal_learnings/ragster/venv/lib/python3.11/site-packages/urllib3/connectionpool.py:841\u001b[39m, in \u001b[36mHTTPConnectionPool.urlopen\u001b[39m\u001b[34m(self, method, url, body, headers, retries, redirect, assert_same_host, timeout, pool_timeout, release_conn, chunked, body_pos, preload_content, decode_content, **response_kw)\u001b[39m\n\u001b[32m    839\u001b[39m     new_e = ProtocolError(\u001b[33m\"\u001b[39m\u001b[33mConnection aborted.\u001b[39m\u001b[33m\"\u001b[39m, new_e)\n\u001b[32m--> \u001b[39m\u001b[32m841\u001b[39m retries = \u001b[43mretries\u001b[49m\u001b[43m.\u001b[49m\u001b[43mincrement\u001b[49m\u001b[43m(\u001b[49m\n\u001b[32m    842\u001b[39m \u001b[43m    \u001b[49m\u001b[43mmethod\u001b[49m\u001b[43m,\u001b[49m\u001b[43m \u001b[49m\u001b[43murl\u001b[49m\u001b[43m,\u001b[49m\u001b[43m \u001b[49m\u001b[43merror\u001b[49m\u001b[43m=\u001b[49m\u001b[43mnew_e\u001b[49m\u001b[43m,\u001b[49m\u001b[43m \u001b[49m\u001b[43m_pool\u001b[49m\u001b[43m=\u001b[49m\u001b[38;5;28;43mself\u001b[39;49m\u001b[43m,\u001b[49m\u001b[43m \u001b[49m\u001b[43m_stacktrace\u001b[49m\u001b[43m=\u001b[49m\u001b[43msys\u001b[49m\u001b[43m.\u001b[49m\u001b[43mexc_info\u001b[49m\u001b[43m(\u001b[49m\u001b[43m)\u001b[49m\u001b[43m[\u001b[49m\u001b[32;43m2\u001b[39;49m\u001b[43m]\u001b[49m\n\u001b[32m    843\u001b[39m \u001b[43m\u001b[49m\u001b[43m)\u001b[49m\n\u001b[32m    844\u001b[39m retries.sleep()\n",
      "\u001b[36mFile \u001b[39m\u001b[32m~/personal_learnings/ragster/venv/lib/python3.11/site-packages/urllib3/util/retry.py:519\u001b[39m, in \u001b[36mRetry.increment\u001b[39m\u001b[34m(self, method, url, response, error, _pool, _stacktrace)\u001b[39m\n\u001b[32m    518\u001b[39m     reason = error \u001b[38;5;129;01mor\u001b[39;00m ResponseError(cause)\n\u001b[32m--> \u001b[39m\u001b[32m519\u001b[39m     \u001b[38;5;28;01mraise\u001b[39;00m MaxRetryError(_pool, url, reason) \u001b[38;5;28;01mfrom\u001b[39;00m\u001b[38;5;250m \u001b[39m\u001b[34;01mreason\u001b[39;00m  \u001b[38;5;66;03m# type: ignore[arg-type]\u001b[39;00m\n\u001b[32m    521\u001b[39m log.debug(\u001b[33m\"\u001b[39m\u001b[33mIncremented Retry for (url=\u001b[39m\u001b[33m'\u001b[39m\u001b[38;5;132;01m%s\u001b[39;00m\u001b[33m'\u001b[39m\u001b[33m): \u001b[39m\u001b[38;5;132;01m%r\u001b[39;00m\u001b[33m\"\u001b[39m, url, new_retry)\n",
      "\u001b[31mMaxRetryError\u001b[39m: HTTPSConnectionPool(host='openaipublic.blob.core.windows.net', port=443): Max retries exceeded with url: /encodings/cl100k_base.tiktoken (Caused by NameResolutionError(\"<urllib3.connection.HTTPSConnection object at 0x31f428d50>: Failed to resolve 'openaipublic.blob.core.windows.net' ([Errno 8] nodename nor servname provided, or not known)\"))",
      "\nDuring handling of the above exception, another exception occurred:\n",
      "\u001b[31mConnectionError\u001b[39m                           Traceback (most recent call last)",
      "\u001b[36mCell\u001b[39m\u001b[36m \u001b[39m\u001b[32mIn[57]\u001b[39m\u001b[32m, line 4\u001b[39m\n\u001b[32m      1\u001b[39m vector_store = Chroma(persist_directory=\u001b[33m\"\u001b[39m\u001b[33mchroma_db_legal_databse\u001b[39m\u001b[33m\"\u001b[39m, embedding_function=embeddings)\n\u001b[32m      2\u001b[39m retriever = vector_store.as_retriever(\n\u001b[32m      3\u001b[39m     search_type=\u001b[33m\"\u001b[39m\u001b[33msimilarity\u001b[39m\u001b[33m\"\u001b[39m, search_kwargs={\u001b[33m\"\u001b[39m\u001b[33mk\u001b[39m\u001b[33m\"\u001b[39m: \u001b[32m10\u001b[39m})\n\u001b[32m----> \u001b[39m\u001b[32m4\u001b[39m \u001b[43mretriever\u001b[49m\u001b[43m.\u001b[49m\u001b[43minvoke\u001b[49m\u001b[43m(\u001b[49m\u001b[33;43m\"\u001b[39;49m\u001b[33;43mWhat is aricle 1\u001b[39;49m\u001b[33;43m\"\u001b[39;49m\u001b[43m)\u001b[49m\n",
      "\u001b[36mFile \u001b[39m\u001b[32m~/personal_learnings/ragster/venv/lib/python3.11/site-packages/langchain_core/retrievers.py:221\u001b[39m, in \u001b[36mBaseRetriever.invoke\u001b[39m\u001b[34m(self, input, config, **kwargs)\u001b[39m\n\u001b[32m    219\u001b[39m \u001b[38;5;28;01mexcept\u001b[39;00m \u001b[38;5;167;01mException\u001b[39;00m \u001b[38;5;28;01mas\u001b[39;00m e:\n\u001b[32m    220\u001b[39m     run_manager.on_retriever_error(e)\n\u001b[32m--> \u001b[39m\u001b[32m221\u001b[39m     \u001b[38;5;28;01mraise\u001b[39;00m e\n\u001b[32m    222\u001b[39m \u001b[38;5;28;01melse\u001b[39;00m:\n\u001b[32m    223\u001b[39m     run_manager.on_retriever_end(\n\u001b[32m    224\u001b[39m         result,\n\u001b[32m    225\u001b[39m     )\n",
      "\u001b[36mFile \u001b[39m\u001b[32m~/personal_learnings/ragster/venv/lib/python3.11/site-packages/langchain_core/retrievers.py:214\u001b[39m, in \u001b[36mBaseRetriever.invoke\u001b[39m\u001b[34m(self, input, config, **kwargs)\u001b[39m\n\u001b[32m    212\u001b[39m _kwargs = kwargs \u001b[38;5;28;01mif\u001b[39;00m \u001b[38;5;28mself\u001b[39m._expects_other_args \u001b[38;5;28;01melse\u001b[39;00m {}\n\u001b[32m    213\u001b[39m \u001b[38;5;28;01mif\u001b[39;00m \u001b[38;5;28mself\u001b[39m._new_arg_supported:\n\u001b[32m--> \u001b[39m\u001b[32m214\u001b[39m     result = \u001b[38;5;28;43mself\u001b[39;49m\u001b[43m.\u001b[49m\u001b[43m_get_relevant_documents\u001b[49m\u001b[43m(\u001b[49m\n\u001b[32m    215\u001b[39m \u001b[43m        \u001b[49m\u001b[38;5;28;43minput\u001b[39;49m\u001b[43m,\u001b[49m\u001b[43m \u001b[49m\u001b[43mrun_manager\u001b[49m\u001b[43m=\u001b[49m\u001b[43mrun_manager\u001b[49m\u001b[43m,\u001b[49m\u001b[43m \u001b[49m\u001b[43m*\u001b[49m\u001b[43m*\u001b[49m\u001b[43m_kwargs\u001b[49m\n\u001b[32m    216\u001b[39m \u001b[43m    \u001b[49m\u001b[43m)\u001b[49m\n\u001b[32m    217\u001b[39m \u001b[38;5;28;01melse\u001b[39;00m:\n\u001b[32m    218\u001b[39m     result = \u001b[38;5;28mself\u001b[39m._get_relevant_documents(\u001b[38;5;28minput\u001b[39m, **_kwargs)\n",
      "\u001b[36mFile \u001b[39m\u001b[32m~/personal_learnings/ragster/venv/lib/python3.11/site-packages/langchain_core/vectorstores/base.py:1248\u001b[39m, in \u001b[36mVectorStoreRetriever._get_relevant_documents\u001b[39m\u001b[34m(self, query, run_manager)\u001b[39m\n\u001b[32m   1244\u001b[39m \u001b[38;5;28;01mdef\u001b[39;00m\u001b[38;5;250m \u001b[39m\u001b[34m_get_relevant_documents\u001b[39m(\n\u001b[32m   1245\u001b[39m     \u001b[38;5;28mself\u001b[39m, query: \u001b[38;5;28mstr\u001b[39m, *, run_manager: CallbackManagerForRetrieverRun\n\u001b[32m   1246\u001b[39m ) -> List[Document]:\n\u001b[32m   1247\u001b[39m     \u001b[38;5;28;01mif\u001b[39;00m \u001b[38;5;28mself\u001b[39m.search_type == \u001b[33m\"\u001b[39m\u001b[33msimilarity\u001b[39m\u001b[33m\"\u001b[39m:\n\u001b[32m-> \u001b[39m\u001b[32m1248\u001b[39m         docs = \u001b[38;5;28;43mself\u001b[39;49m\u001b[43m.\u001b[49m\u001b[43mvectorstore\u001b[49m\u001b[43m.\u001b[49m\u001b[43msimilarity_search\u001b[49m\u001b[43m(\u001b[49m\u001b[43mquery\u001b[49m\u001b[43m,\u001b[49m\u001b[43m \u001b[49m\u001b[43m*\u001b[49m\u001b[43m*\u001b[49m\u001b[38;5;28;43mself\u001b[39;49m\u001b[43m.\u001b[49m\u001b[43msearch_kwargs\u001b[49m\u001b[43m)\u001b[49m\n\u001b[32m   1249\u001b[39m     \u001b[38;5;28;01melif\u001b[39;00m \u001b[38;5;28mself\u001b[39m.search_type == \u001b[33m\"\u001b[39m\u001b[33msimilarity_score_threshold\u001b[39m\u001b[33m\"\u001b[39m:\n\u001b[32m   1250\u001b[39m         docs_and_similarities = (\n\u001b[32m   1251\u001b[39m             \u001b[38;5;28mself\u001b[39m.vectorstore.similarity_search_with_relevance_scores(\n\u001b[32m   1252\u001b[39m                 query, **\u001b[38;5;28mself\u001b[39m.search_kwargs\n\u001b[32m   1253\u001b[39m             )\n\u001b[32m   1254\u001b[39m         )\n",
      "\u001b[36mFile \u001b[39m\u001b[32m~/personal_learnings/ragster/venv/lib/python3.11/site-packages/langchain_chroma/vectorstores.py:582\u001b[39m, in \u001b[36mChroma.similarity_search\u001b[39m\u001b[34m(self, query, k, filter, **kwargs)\u001b[39m\n\u001b[32m    564\u001b[39m \u001b[38;5;28;01mdef\u001b[39;00m\u001b[38;5;250m \u001b[39m\u001b[34msimilarity_search\u001b[39m(\n\u001b[32m    565\u001b[39m     \u001b[38;5;28mself\u001b[39m,\n\u001b[32m    566\u001b[39m     query: \u001b[38;5;28mstr\u001b[39m,\n\u001b[32m   (...)\u001b[39m\u001b[32m    569\u001b[39m     **kwargs: Any,\n\u001b[32m    570\u001b[39m ) -> List[Document]:\n\u001b[32m    571\u001b[39m \u001b[38;5;250m    \u001b[39m\u001b[33;03m\"\"\"Run similarity search with Chroma.\u001b[39;00m\n\u001b[32m    572\u001b[39m \n\u001b[32m    573\u001b[39m \u001b[33;03m    Args:\u001b[39;00m\n\u001b[32m   (...)\u001b[39m\u001b[32m    580\u001b[39m \u001b[33;03m        List of documents most similar to the query text.\u001b[39;00m\n\u001b[32m    581\u001b[39m \u001b[33;03m    \"\"\"\u001b[39;00m\n\u001b[32m--> \u001b[39m\u001b[32m582\u001b[39m     docs_and_scores = \u001b[38;5;28;43mself\u001b[39;49m\u001b[43m.\u001b[49m\u001b[43msimilarity_search_with_score\u001b[49m\u001b[43m(\u001b[49m\n\u001b[32m    583\u001b[39m \u001b[43m        \u001b[49m\u001b[43mquery\u001b[49m\u001b[43m,\u001b[49m\u001b[43m \u001b[49m\u001b[43mk\u001b[49m\u001b[43m,\u001b[49m\u001b[43m \u001b[49m\u001b[38;5;28;43mfilter\u001b[39;49m\u001b[43m=\u001b[49m\u001b[38;5;28;43mfilter\u001b[39;49m\u001b[43m,\u001b[49m\u001b[43m \u001b[49m\u001b[43m*\u001b[49m\u001b[43m*\u001b[49m\u001b[43mkwargs\u001b[49m\n\u001b[32m    584\u001b[39m \u001b[43m    \u001b[49m\u001b[43m)\u001b[49m\n\u001b[32m    585\u001b[39m     \u001b[38;5;28;01mreturn\u001b[39;00m [doc \u001b[38;5;28;01mfor\u001b[39;00m doc, _ \u001b[38;5;129;01min\u001b[39;00m docs_and_scores]\n",
      "\u001b[36mFile \u001b[39m\u001b[32m~/personal_learnings/ragster/venv/lib/python3.11/site-packages/langchain_chroma/vectorstores.py:679\u001b[39m, in \u001b[36mChroma.similarity_search_with_score\u001b[39m\u001b[34m(self, query, k, filter, where_document, **kwargs)\u001b[39m\n\u001b[32m    671\u001b[39m     results = \u001b[38;5;28mself\u001b[39m.__query_collection(\n\u001b[32m    672\u001b[39m         query_texts=[query],\n\u001b[32m    673\u001b[39m         n_results=k,\n\u001b[32m   (...)\u001b[39m\u001b[32m    676\u001b[39m         **kwargs,\n\u001b[32m    677\u001b[39m     )\n\u001b[32m    678\u001b[39m \u001b[38;5;28;01melse\u001b[39;00m:\n\u001b[32m--> \u001b[39m\u001b[32m679\u001b[39m     query_embedding = \u001b[38;5;28;43mself\u001b[39;49m\u001b[43m.\u001b[49m\u001b[43m_embedding_function\u001b[49m\u001b[43m.\u001b[49m\u001b[43membed_query\u001b[49m\u001b[43m(\u001b[49m\u001b[43mquery\u001b[49m\u001b[43m)\u001b[49m\n\u001b[32m    680\u001b[39m     results = \u001b[38;5;28mself\u001b[39m.__query_collection(\n\u001b[32m    681\u001b[39m         query_embeddings=[query_embedding],\n\u001b[32m    682\u001b[39m         n_results=k,\n\u001b[32m   (...)\u001b[39m\u001b[32m    685\u001b[39m         **kwargs,\n\u001b[32m    686\u001b[39m     )\n\u001b[32m    688\u001b[39m \u001b[38;5;28;01mreturn\u001b[39;00m _results_to_docs_and_scores(results)\n",
      "\u001b[36mFile \u001b[39m\u001b[32m~/personal_learnings/ragster/venv/lib/python3.11/site-packages/langchain_openai/embeddings/base.py:566\u001b[39m, in \u001b[36mOpenAIEmbeddings.embed_query\u001b[39m\u001b[34m(self, text)\u001b[39m\n\u001b[32m    557\u001b[39m \u001b[38;5;28;01mdef\u001b[39;00m\u001b[38;5;250m \u001b[39m\u001b[34membed_query\u001b[39m(\u001b[38;5;28mself\u001b[39m, text: \u001b[38;5;28mstr\u001b[39m) -> List[\u001b[38;5;28mfloat\u001b[39m]:\n\u001b[32m    558\u001b[39m \u001b[38;5;250m    \u001b[39m\u001b[33;03m\"\"\"Call out to OpenAI's embedding endpoint for embedding query text.\u001b[39;00m\n\u001b[32m    559\u001b[39m \n\u001b[32m    560\u001b[39m \u001b[33;03m    Args:\u001b[39;00m\n\u001b[32m   (...)\u001b[39m\u001b[32m    564\u001b[39m \u001b[33;03m        Embedding for the text.\u001b[39;00m\n\u001b[32m    565\u001b[39m \u001b[33;03m    \"\"\"\u001b[39;00m\n\u001b[32m--> \u001b[39m\u001b[32m566\u001b[39m     \u001b[38;5;28;01mreturn\u001b[39;00m \u001b[38;5;28;43mself\u001b[39;49m\u001b[43m.\u001b[49m\u001b[43membed_documents\u001b[49m\u001b[43m(\u001b[49m\u001b[43m[\u001b[49m\u001b[43mtext\u001b[49m\u001b[43m]\u001b[49m\u001b[43m)\u001b[49m[\u001b[32m0\u001b[39m]\n",
      "\u001b[36mFile \u001b[39m\u001b[32m~/personal_learnings/ragster/venv/lib/python3.11/site-packages/langchain_openai/embeddings/base.py:526\u001b[39m, in \u001b[36mOpenAIEmbeddings.embed_documents\u001b[39m\u001b[34m(self, texts, chunk_size)\u001b[39m\n\u001b[32m    523\u001b[39m \u001b[38;5;66;03m# NOTE: to keep things simple, we assume the list may contain texts longer\u001b[39;00m\n\u001b[32m    524\u001b[39m \u001b[38;5;66;03m#       than the maximum context and use length-safe embedding function.\u001b[39;00m\n\u001b[32m    525\u001b[39m engine = cast(\u001b[38;5;28mstr\u001b[39m, \u001b[38;5;28mself\u001b[39m.deployment)\n\u001b[32m--> \u001b[39m\u001b[32m526\u001b[39m \u001b[38;5;28;01mreturn\u001b[39;00m \u001b[38;5;28;43mself\u001b[39;49m\u001b[43m.\u001b[49m\u001b[43m_get_len_safe_embeddings\u001b[49m\u001b[43m(\u001b[49m\u001b[43mtexts\u001b[49m\u001b[43m,\u001b[49m\u001b[43m \u001b[49m\u001b[43mengine\u001b[49m\u001b[43m=\u001b[49m\u001b[43mengine\u001b[49m\u001b[43m)\u001b[49m\n",
      "\u001b[36mFile \u001b[39m\u001b[32m~/personal_learnings/ragster/venv/lib/python3.11/site-packages/langchain_openai/embeddings/base.py:421\u001b[39m, in \u001b[36mOpenAIEmbeddings._get_len_safe_embeddings\u001b[39m\u001b[34m(self, texts, engine, chunk_size)\u001b[39m\n\u001b[32m    405\u001b[39m \u001b[38;5;250m\u001b[39m\u001b[33;03m\"\"\"\u001b[39;00m\n\u001b[32m    406\u001b[39m \u001b[33;03mGenerate length-safe embeddings for a list of texts.\u001b[39;00m\n\u001b[32m    407\u001b[39m \n\u001b[32m   (...)\u001b[39m\u001b[32m    418\u001b[39m \u001b[33;03m    List[List[float]]: A list of embeddings for each input text.\u001b[39;00m\n\u001b[32m    419\u001b[39m \u001b[33;03m\"\"\"\u001b[39;00m\n\u001b[32m    420\u001b[39m _chunk_size = chunk_size \u001b[38;5;129;01mor\u001b[39;00m \u001b[38;5;28mself\u001b[39m.chunk_size\n\u001b[32m--> \u001b[39m\u001b[32m421\u001b[39m _iter, tokens, indices = \u001b[38;5;28;43mself\u001b[39;49m\u001b[43m.\u001b[49m\u001b[43m_tokenize\u001b[49m\u001b[43m(\u001b[49m\u001b[43mtexts\u001b[49m\u001b[43m,\u001b[49m\u001b[43m \u001b[49m\u001b[43m_chunk_size\u001b[49m\u001b[43m)\u001b[49m\n\u001b[32m    422\u001b[39m batched_embeddings: List[List[\u001b[38;5;28mfloat\u001b[39m]] = []\n\u001b[32m    423\u001b[39m \u001b[38;5;28;01mfor\u001b[39;00m i \u001b[38;5;129;01min\u001b[39;00m _iter:\n",
      "\u001b[36mFile \u001b[39m\u001b[32m~/personal_learnings/ragster/venv/lib/python3.11/site-packages/langchain_openai/embeddings/base.py:361\u001b[39m, in \u001b[36mOpenAIEmbeddings._tokenize\u001b[39m\u001b[34m(self, texts, chunk_size)\u001b[39m\n\u001b[32m    359\u001b[39m \u001b[38;5;28;01melse\u001b[39;00m:\n\u001b[32m    360\u001b[39m     \u001b[38;5;28;01mtry\u001b[39;00m:\n\u001b[32m--> \u001b[39m\u001b[32m361\u001b[39m         encoding = \u001b[43mtiktoken\u001b[49m\u001b[43m.\u001b[49m\u001b[43mencoding_for_model\u001b[49m\u001b[43m(\u001b[49m\u001b[43mmodel_name\u001b[49m\u001b[43m)\u001b[49m\n\u001b[32m    362\u001b[39m     \u001b[38;5;28;01mexcept\u001b[39;00m \u001b[38;5;167;01mKeyError\u001b[39;00m:\n\u001b[32m    363\u001b[39m         encoding = tiktoken.get_encoding(\u001b[33m\"\u001b[39m\u001b[33mcl100k_base\u001b[39m\u001b[33m\"\u001b[39m)\n",
      "\u001b[36mFile \u001b[39m\u001b[32m~/personal_learnings/ragster/venv/lib/python3.11/site-packages/tiktoken/model.py:110\u001b[39m, in \u001b[36mencoding_for_model\u001b[39m\u001b[34m(model_name)\u001b[39m\n\u001b[32m    105\u001b[39m \u001b[38;5;28;01mdef\u001b[39;00m\u001b[38;5;250m \u001b[39m\u001b[34mencoding_for_model\u001b[39m(model_name: \u001b[38;5;28mstr\u001b[39m) -> Encoding:\n\u001b[32m    106\u001b[39m \u001b[38;5;250m    \u001b[39m\u001b[33;03m\"\"\"Returns the encoding used by a model.\u001b[39;00m\n\u001b[32m    107\u001b[39m \n\u001b[32m    108\u001b[39m \u001b[33;03m    Raises a KeyError if the model name is not recognised.\u001b[39;00m\n\u001b[32m    109\u001b[39m \u001b[33;03m    \"\"\"\u001b[39;00m\n\u001b[32m--> \u001b[39m\u001b[32m110\u001b[39m     \u001b[38;5;28;01mreturn\u001b[39;00m \u001b[43mget_encoding\u001b[49m\u001b[43m(\u001b[49m\u001b[43mencoding_name_for_model\u001b[49m\u001b[43m(\u001b[49m\u001b[43mmodel_name\u001b[49m\u001b[43m)\u001b[49m\u001b[43m)\u001b[49m\n",
      "\u001b[36mFile \u001b[39m\u001b[32m~/personal_learnings/ragster/venv/lib/python3.11/site-packages/tiktoken/registry.py:86\u001b[39m, in \u001b[36mget_encoding\u001b[39m\u001b[34m(encoding_name)\u001b[39m\n\u001b[32m     79\u001b[39m     \u001b[38;5;28;01mraise\u001b[39;00m \u001b[38;5;167;01mValueError\u001b[39;00m(\n\u001b[32m     80\u001b[39m         \u001b[33mf\u001b[39m\u001b[33m\"\u001b[39m\u001b[33mUnknown encoding \u001b[39m\u001b[38;5;132;01m{\u001b[39;00mencoding_name\u001b[38;5;132;01m}\u001b[39;00m\u001b[33m.\u001b[39m\u001b[38;5;130;01m\\n\u001b[39;00m\u001b[33m\"\u001b[39m\n\u001b[32m     81\u001b[39m         \u001b[33mf\u001b[39m\u001b[33m\"\u001b[39m\u001b[33mPlugins found: \u001b[39m\u001b[38;5;132;01m{\u001b[39;00m_available_plugin_modules()\u001b[38;5;132;01m}\u001b[39;00m\u001b[38;5;130;01m\\n\u001b[39;00m\u001b[33m\"\u001b[39m\n\u001b[32m     82\u001b[39m         \u001b[33mf\u001b[39m\u001b[33m\"\u001b[39m\u001b[33mtiktoken version: \u001b[39m\u001b[38;5;132;01m{\u001b[39;00mtiktoken.__version__\u001b[38;5;132;01m}\u001b[39;00m\u001b[33m (are you on latest?)\u001b[39m\u001b[33m\"\u001b[39m\n\u001b[32m     83\u001b[39m     )\n\u001b[32m     85\u001b[39m constructor = ENCODING_CONSTRUCTORS[encoding_name]\n\u001b[32m---> \u001b[39m\u001b[32m86\u001b[39m enc = Encoding(**\u001b[43mconstructor\u001b[49m\u001b[43m(\u001b[49m\u001b[43m)\u001b[49m)\n\u001b[32m     87\u001b[39m ENCODINGS[encoding_name] = enc\n\u001b[32m     88\u001b[39m \u001b[38;5;28;01mreturn\u001b[39;00m enc\n",
      "\u001b[36mFile \u001b[39m\u001b[32m~/personal_learnings/ragster/venv/lib/python3.11/site-packages/tiktoken_ext/openai_public.py:76\u001b[39m, in \u001b[36mcl100k_base\u001b[39m\u001b[34m()\u001b[39m\n\u001b[32m     75\u001b[39m \u001b[38;5;28;01mdef\u001b[39;00m\u001b[38;5;250m \u001b[39m\u001b[34mcl100k_base\u001b[39m():\n\u001b[32m---> \u001b[39m\u001b[32m76\u001b[39m     mergeable_ranks = \u001b[43mload_tiktoken_bpe\u001b[49m\u001b[43m(\u001b[49m\n\u001b[32m     77\u001b[39m \u001b[43m        \u001b[49m\u001b[33;43m\"\u001b[39;49m\u001b[33;43mhttps://openaipublic.blob.core.windows.net/encodings/cl100k_base.tiktoken\u001b[39;49m\u001b[33;43m\"\u001b[39;49m\u001b[43m,\u001b[49m\n\u001b[32m     78\u001b[39m \u001b[43m        \u001b[49m\u001b[43mexpected_hash\u001b[49m\u001b[43m=\u001b[49m\u001b[33;43m\"\u001b[39;49m\u001b[33;43m223921b76ee99bde995b7ff738513eef100fb51d18c93597a113bcffe865b2a7\u001b[39;49m\u001b[33;43m\"\u001b[39;49m\u001b[43m,\u001b[49m\n\u001b[32m     79\u001b[39m \u001b[43m    \u001b[49m\u001b[43m)\u001b[49m\n\u001b[32m     80\u001b[39m     special_tokens = {\n\u001b[32m     81\u001b[39m         ENDOFTEXT: \u001b[32m100257\u001b[39m,\n\u001b[32m     82\u001b[39m         FIM_PREFIX: \u001b[32m100258\u001b[39m,\n\u001b[32m   (...)\u001b[39m\u001b[32m     85\u001b[39m         ENDOFPROMPT: \u001b[32m100276\u001b[39m,\n\u001b[32m     86\u001b[39m     }\n\u001b[32m     87\u001b[39m     \u001b[38;5;28;01mreturn\u001b[39;00m {\n\u001b[32m     88\u001b[39m         \u001b[33m\"\u001b[39m\u001b[33mname\u001b[39m\u001b[33m\"\u001b[39m: \u001b[33m\"\u001b[39m\u001b[33mcl100k_base\u001b[39m\u001b[33m\"\u001b[39m,\n\u001b[32m     89\u001b[39m         \u001b[33m\"\u001b[39m\u001b[33mpat_str\u001b[39m\u001b[33m\"\u001b[39m: \u001b[33mr\u001b[39m\u001b[33m\"\"\"\u001b[39m\u001b[33m'\u001b[39m\u001b[33m(?i:[sdmt]|ll|ve|re)|[^\u001b[39m\u001b[33m\\\u001b[39m\u001b[33mr\u001b[39m\u001b[33m\\\u001b[39m\u001b[33mn\u001b[39m\u001b[33m\\\u001b[39m\u001b[33mp\u001b[39m\u001b[38;5;132;01m{L}\u001b[39;00m\u001b[33m\\\u001b[39m\u001b[33mp\u001b[39m\u001b[38;5;132;01m{N}\u001b[39;00m\u001b[33m]?+\u001b[39m\u001b[33m\\\u001b[39m\u001b[33mp\u001b[39m\u001b[38;5;132;01m{L}\u001b[39;00m\u001b[33m++|\u001b[39m\u001b[33m\\\u001b[39m\u001b[33mp\u001b[39m\u001b[38;5;132;01m{N}\u001b[39;00m\u001b[33m{\u001b[39m\u001b[33m1,3}+| ?[^\u001b[39m\u001b[33m\\\u001b[39m\u001b[33ms\u001b[39m\u001b[33m\\\u001b[39m\u001b[33mp\u001b[39m\u001b[38;5;132;01m{L}\u001b[39;00m\u001b[33m\\\u001b[39m\u001b[33mp\u001b[39m\u001b[38;5;132;01m{N}\u001b[39;00m\u001b[33m]++[\u001b[39m\u001b[33m\\\u001b[39m\u001b[33mr\u001b[39m\u001b[33m\\\u001b[39m\u001b[33mn]*+|\u001b[39m\u001b[33m\\\u001b[39m\u001b[33ms++$|\u001b[39m\u001b[33m\\\u001b[39m\u001b[33ms*[\u001b[39m\u001b[33m\\\u001b[39m\u001b[33mr\u001b[39m\u001b[33m\\\u001b[39m\u001b[33mn]|\u001b[39m\u001b[33m\\\u001b[39m\u001b[33ms+(?!\u001b[39m\u001b[33m\\\u001b[39m\u001b[33mS)|\u001b[39m\u001b[33m\\\u001b[39m\u001b[33ms\u001b[39m\u001b[33m\"\"\"\u001b[39m,\n\u001b[32m     90\u001b[39m         \u001b[33m\"\u001b[39m\u001b[33mmergeable_ranks\u001b[39m\u001b[33m\"\u001b[39m: mergeable_ranks,\n\u001b[32m     91\u001b[39m         \u001b[33m\"\u001b[39m\u001b[33mspecial_tokens\u001b[39m\u001b[33m\"\u001b[39m: special_tokens,\n\u001b[32m     92\u001b[39m     }\n",
      "\u001b[36mFile \u001b[39m\u001b[32m~/personal_learnings/ragster/venv/lib/python3.11/site-packages/tiktoken/load.py:148\u001b[39m, in \u001b[36mload_tiktoken_bpe\u001b[39m\u001b[34m(tiktoken_bpe_file, expected_hash)\u001b[39m\n\u001b[32m    146\u001b[39m \u001b[38;5;28;01mdef\u001b[39;00m\u001b[38;5;250m \u001b[39m\u001b[34mload_tiktoken_bpe\u001b[39m(tiktoken_bpe_file: \u001b[38;5;28mstr\u001b[39m, expected_hash: \u001b[38;5;28mstr\u001b[39m | \u001b[38;5;28;01mNone\u001b[39;00m = \u001b[38;5;28;01mNone\u001b[39;00m) -> \u001b[38;5;28mdict\u001b[39m[\u001b[38;5;28mbytes\u001b[39m, \u001b[38;5;28mint\u001b[39m]:\n\u001b[32m    147\u001b[39m     \u001b[38;5;66;03m# NB: do not add caching to this function\u001b[39;00m\n\u001b[32m--> \u001b[39m\u001b[32m148\u001b[39m     contents = \u001b[43mread_file_cached\u001b[49m\u001b[43m(\u001b[49m\u001b[43mtiktoken_bpe_file\u001b[49m\u001b[43m,\u001b[49m\u001b[43m \u001b[49m\u001b[43mexpected_hash\u001b[49m\u001b[43m)\u001b[49m\n\u001b[32m    149\u001b[39m     ret = {}\n\u001b[32m    150\u001b[39m     \u001b[38;5;28;01mfor\u001b[39;00m line \u001b[38;5;129;01min\u001b[39;00m contents.splitlines():\n",
      "\u001b[36mFile \u001b[39m\u001b[32m~/personal_learnings/ragster/venv/lib/python3.11/site-packages/tiktoken/load.py:63\u001b[39m, in \u001b[36mread_file_cached\u001b[39m\u001b[34m(blobpath, expected_hash)\u001b[39m\n\u001b[32m     60\u001b[39m     \u001b[38;5;28;01mexcept\u001b[39;00m \u001b[38;5;167;01mOSError\u001b[39;00m:\n\u001b[32m     61\u001b[39m         \u001b[38;5;28;01mpass\u001b[39;00m\n\u001b[32m---> \u001b[39m\u001b[32m63\u001b[39m contents = \u001b[43mread_file\u001b[49m\u001b[43m(\u001b[49m\u001b[43mblobpath\u001b[49m\u001b[43m)\u001b[49m\n\u001b[32m     64\u001b[39m \u001b[38;5;28;01mif\u001b[39;00m expected_hash \u001b[38;5;129;01mand\u001b[39;00m \u001b[38;5;129;01mnot\u001b[39;00m check_hash(contents, expected_hash):\n\u001b[32m     65\u001b[39m     \u001b[38;5;28;01mraise\u001b[39;00m \u001b[38;5;167;01mValueError\u001b[39;00m(\n\u001b[32m     66\u001b[39m         \u001b[33mf\u001b[39m\u001b[33m\"\u001b[39m\u001b[33mHash mismatch for data downloaded from \u001b[39m\u001b[38;5;132;01m{\u001b[39;00mblobpath\u001b[38;5;132;01m}\u001b[39;00m\u001b[33m (expected \u001b[39m\u001b[38;5;132;01m{\u001b[39;00mexpected_hash\u001b[38;5;132;01m}\u001b[39;00m\u001b[33m). \u001b[39m\u001b[33m\"\u001b[39m\n\u001b[32m     67\u001b[39m         \u001b[33mf\u001b[39m\u001b[33m\"\u001b[39m\u001b[33mThis may indicate a corrupted download. Please try again.\u001b[39m\u001b[33m\"\u001b[39m\n\u001b[32m     68\u001b[39m     )\n",
      "\u001b[36mFile \u001b[39m\u001b[32m~/personal_learnings/ragster/venv/lib/python3.11/site-packages/tiktoken/load.py:22\u001b[39m, in \u001b[36mread_file\u001b[39m\u001b[34m(blobpath)\u001b[39m\n\u001b[32m     19\u001b[39m \u001b[38;5;66;03m# avoiding blobfile for public files helps avoid auth issues, like MFA prompts\u001b[39;00m\n\u001b[32m     20\u001b[39m \u001b[38;5;28;01mimport\u001b[39;00m\u001b[38;5;250m \u001b[39m\u001b[34;01mrequests\u001b[39;00m\n\u001b[32m---> \u001b[39m\u001b[32m22\u001b[39m resp = \u001b[43mrequests\u001b[49m\u001b[43m.\u001b[49m\u001b[43mget\u001b[49m\u001b[43m(\u001b[49m\u001b[43mblobpath\u001b[49m\u001b[43m)\u001b[49m\n\u001b[32m     23\u001b[39m resp.raise_for_status()\n\u001b[32m     24\u001b[39m \u001b[38;5;28;01mreturn\u001b[39;00m resp.content\n",
      "\u001b[36mFile \u001b[39m\u001b[32m~/personal_learnings/ragster/venv/lib/python3.11/site-packages/requests/api.py:73\u001b[39m, in \u001b[36mget\u001b[39m\u001b[34m(url, params, **kwargs)\u001b[39m\n\u001b[32m     62\u001b[39m \u001b[38;5;28;01mdef\u001b[39;00m\u001b[38;5;250m \u001b[39m\u001b[34mget\u001b[39m(url, params=\u001b[38;5;28;01mNone\u001b[39;00m, **kwargs):\n\u001b[32m     63\u001b[39m \u001b[38;5;250m    \u001b[39m\u001b[33mr\u001b[39m\u001b[33;03m\"\"\"Sends a GET request.\u001b[39;00m\n\u001b[32m     64\u001b[39m \n\u001b[32m     65\u001b[39m \u001b[33;03m    :param url: URL for the new :class:`Request` object.\u001b[39;00m\n\u001b[32m   (...)\u001b[39m\u001b[32m     70\u001b[39m \u001b[33;03m    :rtype: requests.Response\u001b[39;00m\n\u001b[32m     71\u001b[39m \u001b[33;03m    \"\"\"\u001b[39;00m\n\u001b[32m---> \u001b[39m\u001b[32m73\u001b[39m     \u001b[38;5;28;01mreturn\u001b[39;00m \u001b[43mrequest\u001b[49m\u001b[43m(\u001b[49m\u001b[33;43m\"\u001b[39;49m\u001b[33;43mget\u001b[39;49m\u001b[33;43m\"\u001b[39;49m\u001b[43m,\u001b[49m\u001b[43m \u001b[49m\u001b[43murl\u001b[49m\u001b[43m,\u001b[49m\u001b[43m \u001b[49m\u001b[43mparams\u001b[49m\u001b[43m=\u001b[49m\u001b[43mparams\u001b[49m\u001b[43m,\u001b[49m\u001b[43m \u001b[49m\u001b[43m*\u001b[49m\u001b[43m*\u001b[49m\u001b[43mkwargs\u001b[49m\u001b[43m)\u001b[49m\n",
      "\u001b[36mFile \u001b[39m\u001b[32m~/personal_learnings/ragster/venv/lib/python3.11/site-packages/requests/api.py:59\u001b[39m, in \u001b[36mrequest\u001b[39m\u001b[34m(method, url, **kwargs)\u001b[39m\n\u001b[32m     55\u001b[39m \u001b[38;5;66;03m# By using the 'with' statement we are sure the session is closed, thus we\u001b[39;00m\n\u001b[32m     56\u001b[39m \u001b[38;5;66;03m# avoid leaving sockets open which can trigger a ResourceWarning in some\u001b[39;00m\n\u001b[32m     57\u001b[39m \u001b[38;5;66;03m# cases, and look like a memory leak in others.\u001b[39;00m\n\u001b[32m     58\u001b[39m \u001b[38;5;28;01mwith\u001b[39;00m sessions.Session() \u001b[38;5;28;01mas\u001b[39;00m session:\n\u001b[32m---> \u001b[39m\u001b[32m59\u001b[39m     \u001b[38;5;28;01mreturn\u001b[39;00m \u001b[43msession\u001b[49m\u001b[43m.\u001b[49m\u001b[43mrequest\u001b[49m\u001b[43m(\u001b[49m\u001b[43mmethod\u001b[49m\u001b[43m=\u001b[49m\u001b[43mmethod\u001b[49m\u001b[43m,\u001b[49m\u001b[43m \u001b[49m\u001b[43murl\u001b[49m\u001b[43m=\u001b[49m\u001b[43murl\u001b[49m\u001b[43m,\u001b[49m\u001b[43m \u001b[49m\u001b[43m*\u001b[49m\u001b[43m*\u001b[49m\u001b[43mkwargs\u001b[49m\u001b[43m)\u001b[49m\n",
      "\u001b[36mFile \u001b[39m\u001b[32m~/personal_learnings/ragster/venv/lib/python3.11/site-packages/requests/sessions.py:589\u001b[39m, in \u001b[36mSession.request\u001b[39m\u001b[34m(self, method, url, params, data, headers, cookies, files, auth, timeout, allow_redirects, proxies, hooks, stream, verify, cert, json)\u001b[39m\n\u001b[32m    584\u001b[39m send_kwargs = {\n\u001b[32m    585\u001b[39m     \u001b[33m\"\u001b[39m\u001b[33mtimeout\u001b[39m\u001b[33m\"\u001b[39m: timeout,\n\u001b[32m    586\u001b[39m     \u001b[33m\"\u001b[39m\u001b[33mallow_redirects\u001b[39m\u001b[33m\"\u001b[39m: allow_redirects,\n\u001b[32m    587\u001b[39m }\n\u001b[32m    588\u001b[39m send_kwargs.update(settings)\n\u001b[32m--> \u001b[39m\u001b[32m589\u001b[39m resp = \u001b[38;5;28;43mself\u001b[39;49m\u001b[43m.\u001b[49m\u001b[43msend\u001b[49m\u001b[43m(\u001b[49m\u001b[43mprep\u001b[49m\u001b[43m,\u001b[49m\u001b[43m \u001b[49m\u001b[43m*\u001b[49m\u001b[43m*\u001b[49m\u001b[43msend_kwargs\u001b[49m\u001b[43m)\u001b[49m\n\u001b[32m    591\u001b[39m \u001b[38;5;28;01mreturn\u001b[39;00m resp\n",
      "\u001b[36mFile \u001b[39m\u001b[32m~/personal_learnings/ragster/venv/lib/python3.11/site-packages/requests/sessions.py:703\u001b[39m, in \u001b[36mSession.send\u001b[39m\u001b[34m(self, request, **kwargs)\u001b[39m\n\u001b[32m    700\u001b[39m start = preferred_clock()\n\u001b[32m    702\u001b[39m \u001b[38;5;66;03m# Send the request\u001b[39;00m\n\u001b[32m--> \u001b[39m\u001b[32m703\u001b[39m r = \u001b[43madapter\u001b[49m\u001b[43m.\u001b[49m\u001b[43msend\u001b[49m\u001b[43m(\u001b[49m\u001b[43mrequest\u001b[49m\u001b[43m,\u001b[49m\u001b[43m \u001b[49m\u001b[43m*\u001b[49m\u001b[43m*\u001b[49m\u001b[43mkwargs\u001b[49m\u001b[43m)\u001b[49m\n\u001b[32m    705\u001b[39m \u001b[38;5;66;03m# Total elapsed time of the request (approximately)\u001b[39;00m\n\u001b[32m    706\u001b[39m elapsed = preferred_clock() - start\n",
      "\u001b[36mFile \u001b[39m\u001b[32m~/personal_learnings/ragster/venv/lib/python3.11/site-packages/requests/adapters.py:700\u001b[39m, in \u001b[36mHTTPAdapter.send\u001b[39m\u001b[34m(self, request, stream, timeout, verify, cert, proxies)\u001b[39m\n\u001b[32m    696\u001b[39m     \u001b[38;5;28;01mif\u001b[39;00m \u001b[38;5;28misinstance\u001b[39m(e.reason, _SSLError):\n\u001b[32m    697\u001b[39m         \u001b[38;5;66;03m# This branch is for urllib3 v1.22 and later.\u001b[39;00m\n\u001b[32m    698\u001b[39m         \u001b[38;5;28;01mraise\u001b[39;00m SSLError(e, request=request)\n\u001b[32m--> \u001b[39m\u001b[32m700\u001b[39m     \u001b[38;5;28;01mraise\u001b[39;00m \u001b[38;5;167;01mConnectionError\u001b[39;00m(e, request=request)\n\u001b[32m    702\u001b[39m \u001b[38;5;28;01mexcept\u001b[39;00m ClosedPoolError \u001b[38;5;28;01mas\u001b[39;00m e:\n\u001b[32m    703\u001b[39m     \u001b[38;5;28;01mraise\u001b[39;00m \u001b[38;5;167;01mConnectionError\u001b[39;00m(e, request=request)\n",
      "\u001b[31mConnectionError\u001b[39m: HTTPSConnectionPool(host='openaipublic.blob.core.windows.net', port=443): Max retries exceeded with url: /encodings/cl100k_base.tiktoken (Caused by NameResolutionError(\"<urllib3.connection.HTTPSConnection object at 0x31f428d50>: Failed to resolve 'openaipublic.blob.core.windows.net' ([Errno 8] nodename nor servname provided, or not known)\"))"
     ]
    }
   ],
   "source": [
    "vector_store = Chroma(persist_directory=\"chroma_db_legal_databse\", embedding_function=embeddings)\n",
    "retriever = vector_store.as_retriever(\n",
    "    search_type=\"similarity\", search_kwargs={\"k\": 10})\n",
    "retriever.invoke(\"What is aricle 1\")"
   ]
  },
  {
   "cell_type": "code",
   "execution_count": 58,
   "id": "053dea0b",
   "metadata": {},
   "outputs": [],
   "source": [
    "def footer_remover(dat):\n",
    "  for art in dat:\n",
    "    art.page_content = re.split(r'_{2,}', art.page_content)[0].strip()\n",
    "  return(\" \".join([i.page_content for i in dat]))"
   ]
  },
  {
   "cell_type": "code",
   "execution_count": 59,
   "id": "4f3da9e0",
   "metadata": {},
   "outputs": [],
   "source": [
    "first_schedule = footer_remover(data[283:294])"
   ]
  },
  {
   "cell_type": "code",
   "execution_count": 60,
   "id": "1c078d95",
   "metadata": {},
   "outputs": [
    {
     "data": {
      "text/plain": [
       "'263\\nSECOND SCHEDULE\\n[Articles 59(3), 65(3), 75(6), 97, 125, 148(3), 158(3), 164 (5), 186 and 221] \\nPART A \\nPROVISIONS AS TO THE PRESIDENT AND THE GOVERNORS OF STATES 1***\\n1. There shall be paid to the President and to the Governors of the States\\n1***  the following emoluments per mensem, that is to say:—\\nThe President\\n……                10,000 rupees .\\nThe Governor of a State     ……   \\n5,500 rupees .\\n2. There shall also be paid to the President and to the Governors of the \\nStates 2***  such allowances as were payable respectively to the Governor-\\nGeneral of the Dominion of India and to the Governors of the corresponding \\nProvinces immediately before the commencement of this Constitution.\\n3. The President and the Governors of 3[the States] throughout their respective \\nterms of office shall be entitled to the same privileges to which the Governor-\\nGeneral and the Governors of the corresponding Provinces were respectively \\nentitled immediately before the commencement of this Constitution.\\n4. While the Vice-President or any other person  is discharging the \\nfunctions of, or is acting as, President, or any person is discharging the \\nfunctions of the Governor,  he shall be entitled to the same emoluments, \\nallowances and privileges as the President or the Governor whose functions he \\ndischarges or for whom he acts, as the case may be.\\n4*                           *                          * \\n*                         * THE CONSTITUTION OF  INDIA\\n(Second Schedule) \\n264\\nPART  C \\nPROVISIONS AS TO THE SPEAKER AND THE DEPUTY SPEAKER OF THE HOUSE \\nOF THE PEOPLE AND THE CHAIRMAN AND THE DEPUTY CHAIRMAN\\nOF THE COUNCIL OF STATES AND THE SPEAKER AND THE\\nDEPUTY SPEAKER OF THE LEGISLATIVE ASSEMBLY 1***\\nAND THE CHAIRMAN AND THE DEPUTY CHAIRMAN\\nOF THE LEGISLATIVE COUNCIL OF 2[A STATE] \\n7. There shall be paid to the Speaker of the House of the People and the \\nChairman of the Council of States such salaries and allowances as were payable \\nto the Speaker of the Constituent Assembly of the Dominion of India \\nimmediately before the commencement of this Constitution, and there shall be \\npaid to the Deputy Speaker of the House of the People and to the Deputy \\nChairman of the Council of States such salaries and allowances as were payable \\nto the Deputy Speaker of the Constituent Assembly of the Dominion of India \\nimmediately before such commencement.\\n8. There shall  be paid to the Speaker and the Deputy Speaker of the \\nLegislative Assembly 3*** and to the Chairman and the Deputy Chairman of \\nthe Legislative Council of 4[a State] such salaries and allowances as were \\npayable respectively to the Speaker and the Deputy Speaker of the Legislative \\nAssembly and the President and the Deputy President of the Legislative \\nCouncil of the corresponding Province immediately before the commencement \\nof this Constitution and, where the corresponding Province had no Legislative \\nCouncil immediately before such commencement, there shall be paid to the \\nChairman and the Deputy Chairman of the Legislative Council of the State \\nsuch salaries and allowances as the Governor of the State may determine. THE CONSTITUTION OF  INDIA\\n(Second Schedule) \\n265\\nPART D \\nPROVISIONS AS TO THE JUDGES OF THE SUPREME COURT AND OF THE \\nHIGH COURTS 1*** \\n9. [(1) There shall be paid to the Judges of the Supreme Court, in respect of \\ntime spent on actual service, salary at the following rates per mensem, that is to say:—\\nThe Chief Justice       ..\\n2[10,000 rupees.].\\nAny other Judge\\n..\\n3[9,000 rupees.].\\nProvided that if a Judge of the Supreme Court at the time of his \\nappointment is in receipt of a pension (other than a disability or wound \\npension) in respect of any previous service under the Government of India or \\nany of its predecessor Governments or under the Government of a State or  any \\nof its predecessor Governments, his salary in respect of service in the Supreme \\nCourt 4[shall be reduced—\\n(a) by the amount of that pension; and \\n(b) if he has, before such appointment, received in lieu of a portion of \\nthe pension due to him in respect of such previous service the commuted \\nvalue thereof, by the amount of that portion of the pension; and\\n(c) if he has, before such appointment, received a retirement gratuity in \\nrespect of such previous service, by the pension equivalent of that gratuity.]\\n(2) Every Judge of the Supreme Court shall be entitled without payment \\nof rent to the use of an official residence.\\n(3) Nothing in sub-paragraph (2) of this paragraph shall apply to a Judge \\nwho, immediately before the commencement of this Constitution,— THE CONSTITUTION OF  INDIA\\n(Second Schedule) \\n266\\n(a) was holding office as the Chief Justice of the Federal Court and \\nhas become on such commencement the Chief Justice of the Supreme \\nCourt under  clause (1) of article 374; or\\n(b) was holding office as any other Judge of the Federal Court and \\nhas on such commencement become a Judge (other than the Chief \\nJustice) of the Supreme Court under the said clause,\\nduring the period he holds office as such Chief Justice or other Judge, and \\nevery Judge who so becomes the Chief Justice or other Judge of the Supreme \\nCourt shall, in  respect of time spent on actual service as such Chief Justice or \\nother Judge, as the case may be, be entitled to receive in addition to the salary \\nspecified in sub-paragraph (1) of this paragraph as special pay an amount \\nequivalent to the difference between the salary so specified and the salary \\nwhich he was drawing immediately before such commencement.\\n(4) Every Judge of the Supreme Court shall receive such reasonable \\nallowances to reimburse him for expenses incurred in travelling on duty within \\nthe territory of India and shall be afforded such reasonable facilities in \\nconnection with travelling as the President may from time to time prescribe.\\n(5) The rights in respect of leave of absence (including leave allowances) \\nand pension of the Judges of the Supreme Court shall be governed by the \\nprovisions which, immediately before the commencement of this Constitution,  \\nwere applicable to the Judges of the Federal Court.\\n10. (1) 1[There shall be paid to the Judges of High Courts, in respect of time \\nspent on actual service, salary at the following rates per mensem, that is to say,—\\nThe Chief Justice        ..\\n2[9,000 rupees]  \\nAny other Judge\\n..\\n3[8,000 rupees]: THE CONSTITUTION OF  INDIA\\n(Second Schedule) \\n267\\nProvided that if a Judge of a High Court at the  time of his appointment is in \\nreceipt of a pension (other than a disability or wound pension) in respect of any \\nprevious service under the Government of India or any of its predecessor \\nGovernments or under  the Government of a State or any of its predecessor \\nGovernments, his salary in respect of service in the High Court shall be reduced—\\n(a) by the amount of that pension; and\\n(b) if he has, before such appointment, received in lieu of a portion of \\nthe pension due to him in respect of such previous service the commuted \\nvalue thereof, by the amount of that portion of the pension; and\\n(c) if he has, before such appointment, received a retirement gratuity in \\nrespect of such previous service, by the pension equivalent of that \\ngratuity.]\\n(2) Every person who immediately before the commencement of this \\nConstitution— \\n(a) was holding office as the Chief Justice of a High Court in any \\nProvince and has on such commencement become the Chief Justice of the \\nHigh Court in the corresponding State under clause (1) of article 376; or\\n(b) was holding office as any other Judge of a High Court in any Province \\nand has on such commencement become a Judge (other than the Chief \\nJustice) of the High Court in the corresponding State under the said clause,\\nshall, if he was immediately before such commencement drawing a salary at a \\nrate higher than that specified in sub-paragraph (1) of this paragraph, be \\nentitled to receive in respect of time spent on actual service as such Chief \\nJustice or other Judge, as the case may be, in addition to the salary specified in \\nthe said sub-paragraph as special pay an amount equivalent to the difference \\nbetween the salary so specified and the salary which he was drawing \\nimmediately before such commencement.\\n1[(3) Any person who, immediately before the commencement of the \\nConstitution (Seventh Amendment) Act, 1956, was holding office as the Chief \\nJustice of the High Court of  a State specified in Part B of the First Schedule \\nand has on such commencement become the Chief Justice of the High Court of \\na State specified in the said Schedule as amended by the said Act, shall, if he \\nwas immediately before such commencement drawing any amount as \\nallowance in addition to his salary, be entitled to receive in respect of time \\nspent on actual service as such Chief Justice, the same amount as allowance in \\naddition to the salary specified in sub-paragraph (1) of this paragraph.]. THE CONSTITUTION OF  INDIA\\n(Second Schedule) \\n268\\n11. In this Part, unless the context otherwise requires,—\\n(a) the expression “Chief Justice” includes an acting Chief Justice, \\nand a “Judge” includes an ad hoc Judge; \\n(b) “actual service” includes— \\n(i) time spent by a Judge on duty as a Judge or in the performance \\nof such other functions as he may at the request of the President \\nundertake to discharge;\\n(ii) vacations, excluding any time during which the Judge is absent \\non leave; and\\n(iii) joining time on transfer from a High Court to the Supreme \\nCourt or from one High Court to another. \\nPART E\\nPROVISIONS AS TO THE COMPTROLLER AND AUDITOR-GENERAL OF INDIA \\n12. (1) There shall be paid to the Comptroller and Auditor-General of \\nIndia a salary at the rate of *four thousand rupees per mensem.\\n(2) The person who was holding office immediately before the \\ncommencement of this Constitution as Auditor-General of India and has \\nbecome on such commencement the Comptroller and Auditor-General of India \\nunder article 377 shall in addition to the salary specified in sub-paragraph (1) of \\nthis paragraph be entitled to receive as special pay an amount equivalent to the \\ndifference between the salary so specified and the salary which he was drawing \\nas Auditor-General of India immediately before such commencement.\\n(3) The rights in respect of leave of absence and pension and the other \\nconditions of service of the Comptroller and Auditor-General of India shall be \\ngoverned or shall continue to be governed, as the case may be, by the provisions \\nwhich were applicable to the Auditor-General of India immediately before the \\ncommencement of this Constitution and all references in those provisions to the \\nGovernor-General shall be construed as references to the President. 269\\nTHIRD SCHEDULE\\n[Articles 75(4), 99, 124(6), 148(2), 164(3), 188 and 219]   \\nForms  of  Oaths  or Affirmations \\nI\\nForm of oath of office for a Minister for the Union:—\\n“I,   A. B.,  do  swear   in   the  name   of   God  that I will bear true faith\\n                                  solemnly affirm   \\nand allegiance to  the  Constitution of India as by law established, 1[that I \\nwill uphold the sovereignty and integrity of India,] that I will faithfully \\nand conscientiously discharge my duties as a Minister for the Union and \\nthat I will do right to all manner of people in accordance with the \\nConstitution and the law, without fear or favour, affection or ill-will.”\\nII\\nForm of oath of secrecy for a Minister for the Union:—\\n“I,   A.B.,  do swear  in  the  name  of  God that  I  will  not  directly  or\\nsolemnly affirm\\nindirectly communicate or reveal to any person or persons any matter \\nwhich shall be brought under my consideration or shall become known \\nto me as a Minister for the Union except as may be required for the due \\ndischarge of my duties as such Minister.”\\n2[III\\nA\\nForm of oath or affirmation to be made by a candidate for election to \\nParliament:—'"
      ]
     },
     "execution_count": 60,
     "metadata": {},
     "output_type": "execute_result"
    }
   ],
   "source": [
    "second_schedule = footer_remover(data[293:300])\n",
    "second_schedule"
   ]
  },
  {
   "cell_type": "code",
   "execution_count": 61,
   "id": "0cba3919",
   "metadata": {},
   "outputs": [
    {
     "data": {
      "text/plain": [
       "'269\\nTHIRD SCHEDULE\\n[Articles 75(4), 99, 124(6), 148(2), 164(3), 188 and 219]   \\nForms  of  Oaths  or Affirmations \\nI\\nForm of oath of office for a Minister for the Union:—\\n“I,   A. B.,  do  swear   in   the  name   of   God  that I will bear true faith\\n                                  solemnly affirm   \\nand allegiance to  the  Constitution of India as by law established, 1[that I \\nwill uphold the sovereignty and integrity of India,] that I will faithfully \\nand conscientiously discharge my duties as a Minister for the Union and \\nthat I will do right to all manner of people in accordance with the \\nConstitution and the law, without fear or favour, affection or ill-will.”\\nII\\nForm of oath of secrecy for a Minister for the Union:—\\n“I,   A.B.,  do swear  in  the  name  of  God that  I  will  not  directly  or\\nsolemnly affirm\\nindirectly communicate or reveal to any person or persons any matter \\nwhich shall be brought under my consideration or shall become known \\nto me as a Minister for the Union except as may be required for the due \\ndischarge of my duties as such Minister.”\\n2[III\\nA\\nForm of oath or affirmation to be made by a candidate for election to \\nParliament:— THE CONSTITUTION OF  INDIA\\n(Third Schedule) \\n270\\n“I, A.B., having been nominated as a  candidate  to  fill  a  seat in the  \\nCouncil  of  States (or  the  House of  the People) do swear in the name of   God   \\nsolemnly affirm\\nthat I will bear true  faith and allegiance to the Constitution of India as \\nby law established and that I will uphold the sovereignty and integrity of \\nIndia.” \\nB\\nForm of oath or affirmation to be made by a member of  Parliament:—\\n“I,  A.B., having been elected  (or  nominated)  a member of  the \\nCouncil  of  States  (or  the House of  the People) do swear in  the name of  God   \\n                                                                                   solemnly affirm\\nthat I will bear true faith and allegiance to the Constitution of India as by \\nlaw established, that I will uphold the sovereignty and integrity of India \\nand that I will faithfully discharge the duty upon which I am about to \\nenter.”]\\nIV\\nForm of oath or affirmation to be made by the Judges of the Supreme \\nCourt and the Comptroller and Auditor-General of India:—\\n“I, A.B., having been appointed Chief Justice (or a Judge) of  the \\nSupreme Court of  India  (or Comptroller and Auditor-General  of  \\nIndia)  do  swear  in  the  name  of   God that I  will  bear  true  faith and\\nsolemnly affirm\\nfaith and allegiance to the Constitution of India as by law established, \\n1[that I will uphold the sovereignty and integrity of India,] that I will \\nduly and faithfully and to the best of my ability, knowledge and \\njudgment perform the duties of my office without fear or favour, \\naffection or ill-will and that I will uphold the Constitution and the laws.” THE CONSTITUTION OF  INDIA\\n(Third Schedule) \\n271\\nV \\nForm of oath of office for a Minister for a State:—\\n“I, A.B.,  do swear  in  the  name  of  God that  I  will   bear   true  faith   \\nsolemnly affirm\\nand allegiance to the Constitution of India as by law established, 1[that I \\nwill uphold the sovereignty and integrity of India,] that I will faithfully \\nand conscientiously discharge my duties as a Minister for the State of \\n..........and that I will do right to all manner of people in accordance with \\nthe Constitution and the law without fear or favour, affection or ill-will.”\\nVI\\nForm of oath of secrecy for a Minister for a State:— \\n  “I,  A.B.,  do  swear  in  the  name   of   God that I  will  not  directly or \\n                            solemnly affirm\\nindirectly communicate or reveal to any person or persons any matter \\nwhich shall be brought under my consideration or shall become known to \\nme as a Minister for the State of ....................except as may be required for \\nthe due discharge of my duties as such Minister.”  \\n2[VII\\nA\\nForm of oath or affirmation to be made by a candidate for election to the \\nLegislature of a State:—\\n“I,  A.B.,  having  been  nominated  as  a  candidate  to fill  \\na seat  in  the  Legislative  Assembly  (or  Legislative  Council),  \\ndo swear  in the name  of  God that  I  will  bear  true  faith  and  \\nsolemnly affirm\\nallegiance  to  the Constitution of India as by law established and that I \\nwill uphold the sovereignty and integrity of India.” THE CONSTITUTION OF  INDIA\\n(Third Schedule) \\n272\\nB\\nForm of oath or affirmation to be made by a member of the Legislature \\nof a State:—\\n“I, A.B., having been elected (or nominated) a member of the Legislative \\nAssembly (or Legislative Council), do swear in the name of God that\\nsolemnly affirm\\nI  will  bear true  faith  and  allegiance to the Constitution of India as by \\nlaw established, that I will uphold the sovereignty and integrity of India \\nand that I will faithfully discharge the duty upon which I am about to \\nenter.”]\\nVIII \\nForm of oath or affirmation to be made by the Judges of a High Court:—\\n“I, A.B., having  been  appointed Chief Justice (or a Judge) of the High \\nCourt at (or  of) ……….….. do swear  in  the  name  of  God that  I will  bear\\nsolemnly affirm\\ntrue  faith  and  allegiance to the Constitution of India as by law \\nestablished, 1[that I will uphold the sovereignty and integrity of India,] that \\nI will duly and faithfully and to the best of my ability, knowledge and \\njudgment perform the duties of my office without fear or favour, affection \\nor ill-will and that I will uphold the Constitution and the laws.”'"
      ]
     },
     "execution_count": 61,
     "metadata": {},
     "output_type": "execute_result"
    }
   ],
   "source": [
    "\n",
    "third_schedule = footer_remover(data[299:303])\n",
    "third_schedule"
   ]
  },
  {
   "cell_type": "code",
   "execution_count": 62,
   "id": "9f371c1e",
   "metadata": {},
   "outputs": [
    {
     "data": {
      "text/plain": [
       "'273\\n1[FOURTH SCHEDULE\\n[Articles 4(1) and 80(2)] \\nAllocation of seats in the Council of States\\nTo each State or Union territory specified in the first column of  the \\nfollowing table, there shall be allotted the number of seats specified in the \\nsecond column thereof opposite to that State or that Union territory, as the case \\nmay be: \\nTABLE\\n  1. \\nAndhra Pradesh  ..........................................................\\n2[11]\\n3[2. \\nTelangana  ................................................................ 7]\\n4[3.]\\nAssam ........................................................................ 7\\n4[4.]\\nBihar ..........................................................................\\n5[16]\\n6[4[5.]\\nJharkhand ................................................................\\n6]\\n7[8[4[6.]\\nGoa ............................................................................\\n1]]\\n9[8[4[7.]\\nGujarat ................................................................\\n11]]\\n10[8[4[8.]\\nHaryana ................................................................\\n5]]\\n8[4[9.]\\nKerala ........................................................................ 9 THE CONSTITUTION OF  INDIA\\n(Fourth Schedule) \\n274\\n1[2[10.]]\\nMadhya Pradesh .........................................................\\n3[11]\\n4[1[2[11.] \\nChhattisgarh ...............................................................5]]\\n5[1[2[12.] \\nTamil Nadu ................................................................\\n6[18]]\\n7[1[2[13.]\\nMaharashtra ...............................................................\\n19]]\\n8[1[2[14.] \\nKarnataka ................................................................ 12]]\\n1[2[15.] \\n9[Odisha] ................................................................ 10]\\n1[2[16.]\\nPunjab ........................................................................\\n10[7]\\n1[2[17.] \\nRajasthan ................................................................ 10]\\n1[2[18.] \\nUttar Pradesh  \\n..............................................................\\n11[31]\\n12[1[2[19.]\\n13[Uttarakhand] ...........................................................3]]\\n1[2[20.] \\nWest Bengal  \\n...............................................................\\n16]\\n14[1[2[** \\n*        *          *............................................................. *]\\n15[16[1[2[21.]\\nNagaland ................................................................\\n1]] THE CONSTITUTION OF  INDIA\\n(Fourth Schedule) \\n275\\n1[2[3[4[22.] \\nHimachal Pradesh  \\n.......................................................\\n3]]]\\n3[2[4[23.] \\nManipur ................................................................\\n1]\\n3[2[4[24.] \\nTripura ................................................................\\n1]]\\n3[2[4[25.] \\nMeghalaya ................................................................1]]\\n5[3[2[4[26.] \\nSikkim  ................................................................\\n1]]\\n6[3[2[4[27.] \\nMizoram  ................................................................\\n1]]\\n7[3[2[4[28.]\\nArunachal Pradesh ......................................................\\n1]]\\n3[2[4[29.] \\nDelhi  \\n.......................................................................... 3]\\n3[2[4[30.]\\n8[Puducherry] .............................................................1]]\\n9[3[2[4[31. \\nJammu and Kashmir.................................................... 4]\\n \\nTotal\\n10[233]'"
      ]
     },
     "execution_count": 62,
     "metadata": {},
     "output_type": "execute_result"
    }
   ],
   "source": [
    "fourth_schedule = footer_remover(data[303:306])\n",
    "fourth_schedule"
   ]
  },
  {
   "cell_type": "code",
   "execution_count": 63,
   "id": "aad1b8ca",
   "metadata": {},
   "outputs": [
    {
     "data": {
      "text/plain": [
       "'276\\nFIFTH SCHEDULE\\n[Article 244(1)] \\nProvisions as to the Administration and Control of Scheduled Areas and \\nScheduled Tribes\\nPART A \\nGENERAL\\n1. Interpretation.—In this Schedule, unless the context otherwise \\nrequires, the expression “State” 1*** does not include the 2[States of Assam\\n3[, 4[Meghalaya, Tripura and Mizoram.]]]\\n2. Executive power of a State in Scheduled Areas.—Subject to the \\nprovisions of this Schedule, the executive power of a State extends to the \\nScheduled Areas therein.\\n3. Report by the Governor\\n5*** to the President regarding the \\nadministration of Scheduled Areas.—The  Governor 5*** of each State having \\nScheduled Areas therein shall annually, or whenever so required by the President, \\nmake a report to the President regarding the administration of the Scheduled \\nAreas in that State and the executive power of the Union shall extend to the \\ngiving of directions to the State as to the administration of the said areas.\\nPART B\\nADMINISTRATION AND CONTROL OF SCHEDULED AREAS AND \\nSCHEDULED TRIBES\\n4. Tribes Advisory Council.—(1) There shall be established in each \\nState having Scheduled Areas therein and, if the President so directs, also in \\nany State having Scheduled Tribes but not Scheduled Areas therein, a Tribes \\nAdvisory Council consisting of not more than twenty members of whom, as \\nnearly as may be, three-fourths shall be the representatives of the Scheduled \\nTribes in the Legislative Assembly of the State: THE CONSTITUTION OF  INDIA\\n(Fifth Schedule) \\n277\\nProvided that if the number of representatives of the Scheduled Tribes in \\nthe Legislative Assembly of the State is less than the number of seats in the \\nTribes Advisory Council to be filled by such representatives, the remaining \\nseats shall be filled by other members of those tribes.\\n(2) It shall be the duty of the Tribes Advisory Council to advise on such \\nmatters pertaining to the welfare and advancement of the Scheduled Tribes in \\nthe State as may be referred to them by the Governor 1***.\\n(3) The Governor 2*** may make rules prescribing or regulating, as the \\ncase may be,—\\n(a) the number of members of the Council, the mode of their \\nappointment and the appointment of the Chairman of the Council and of \\nthe officers and servants thereof;\\n(b) the conduct of its meetings and its procedure in general; and\\n(c) all other incidental matters.\\n5. Law applicable to Scheduled Areas.—(1) Notwithstanding anything \\nin this Constitution, the Governor 1*** may by public notification direct that \\nany particular Act of Parliament or of the Legislature of the State shall not \\napply to a Scheduled Area or  any part thereof in the State or shall apply to a \\nScheduled Area or any part thereof in the State subject to such exceptions and \\nmodifications as he may specify in the notification and any direction given \\nunder this sub-paragraph may be given so as to have retrospective effect.\\n(2) The Governor may make regulations for the peace and good \\ngovernment of any area in a State which is for the time being a Scheduled Area.\\nIn particular and without prejudice to the generality of the foregoing \\npower, such regulations may—\\n(a) prohibit or restrict the transfer of land by or among members \\nof the Scheduled Tribes in such area;\\n(b) regulate the allotment of land to members of the Scheduled \\nTribes in such area; THE CONSTITUTION OF  INDIA\\n(Fifth Schedule) \\n278\\n(c) regulate the carrying on of business as money-lender by \\npersons who lend money to members of the Scheduled Tribes in such \\narea.\\n(3) In making any such regulation as is referred to in sub-paragraph (2) \\nof this paragraph, the Governor\\n1*** may repeal or amend any Act of \\nParliament or of the Legislature of the State or any existing law which is for the \\ntime being applicable to the area in question.\\n(4) All regulations made under this paragraph shall be submitted \\nforthwith to the President and, until assented to by him, shall have no effect.\\n(5) No regulation shall be made under this paragraph unless the \\nGovernor21*** making the regulation has, in the case where there is a Tribes \\nAdvisory Council for the State, consulted such Council.\\nPART C\\nSCHEDULED AREAS\\n6. Scheduled Areas.—(1) In this Constitution, the expression \\n“Scheduled Areas” means such areas as the President may by order declare to \\nbe Scheduled Areas. \\n(2) The President may at any time by order —\\n(a) direct that the whole or any specified part of a Scheduled Area \\nshall cease to be a Scheduled Area or a part of such an area;\\n 2[(aa) increase the area of any Scheduled Area in a State after \\nconsultation with the Governor of that State;]\\n(b) alter, but only by way of rectification of boundaries, any \\nScheduled Area; THE CONSTITUTION OF  INDIA\\n(Fifth Schedule) \\n279\\n(c) on any alteration of the boundaries of a State or on the \\nadmission into the Union or the establishment of a new State, declare \\nany territory not previously included in any State to be, or to form part \\nof, a Scheduled Area;\\n1[(d) rescind, in relation to any State or States, any order or orders \\nmade under this paragraph, and in consultation with the Governor of the \\nState concerned, make fresh orders redefining the areas which are to be \\nScheduled Areas;]\\nand any such order may contain such incidental and consequential provisions as \\nappear to the President to be necessary and proper, but save as aforesaid, the \\norder made under sub-paragraph (1) of this paragraph shall not be varied by \\nany subsequent order. \\nPART D\\nAMENDMENT OF THE SCHEDULE\\n7. Amendment of the Schedule.—(1) Parliament may from time to time \\nby law amend by way of addition, variation or repeal any of the provisions of \\nthis Schedule and, when the Schedule is so amended, any reference to this \\nSchedule in this Constitution shall be construed as a reference to such Schedule \\nas so amended.\\n(2) No such law as is mentioned in sub-paragraph (1) of this paragraph \\nshall be deemed to be an amendment of this Constitution for the purposes of \\narticle 368.'"
      ]
     },
     "execution_count": 63,
     "metadata": {},
     "output_type": "execute_result"
    }
   ],
   "source": [
    "fifth_schedule = footer_remover(data[306:310])\n",
    "fifth_schedule"
   ]
  },
  {
   "cell_type": "code",
   "execution_count": 64,
   "id": "a8b6b997",
   "metadata": {},
   "outputs": [
    {
     "data": {
      "text/plain": [
       "'280\\nSIXTH SCHEDULE \\n[Articles 244(2) and 275(1)]\\nProvisions as to the Administration of Tribal Areas in  1[the States of \\nAssam, Meghalaya, Tripura and Mizoram]\\n21. Autonomous districts and autonomous regions.—(1) Subject to \\nthe provisions of this paragraph, the tribal areas in each item of 3[4[Parts I, II \\nand IIA] and in Part III] of the table appended to paragraph 20 of this \\nSchedule shall be an autonomous district.\\n(2) If there are different Scheduled Tribes in an autonomous district, \\nthe Governor may, by public notification, divide the area or areas inhabited \\nby them into autonomous regions.\\n(3) The Governor may, by public notification,—\\n(a) include any area in 3[any of the Parts] of the said table; \\n(b) exclude any area from 3[any of the Parts] of the said table;\\n(c) create a new autonomous district;\\n(d) increase the area of any autonomous district;\\n(e) diminish the area of any autonomous district;\\n(f) unite two or more autonomous districts or parts thereof so \\nas to form one autonomous district;\\n5[(ff) alter the name of any autonomous district];\\n(g) define the boundaries of any autonomous district: THE CONSTITUTION OF  INDIA\\n(Sixth Schedule) \\n281\\nProvided that no order shall be made by the Governor under clauses (c), \\n(d), (e) and (f) of this sub-paragraph except after consideration of the report of \\na Commission appointed under sub-paragraph (1) of paragraph 14 of this \\nSchedule: \\n1[Provided further that any order made by the Governor under this \\nsub-paragraph may contain such incidental and consequential provisions \\n(including any amendment of paragraph 20 and of any item in any of the \\nParts of the said Table) as appear to the Governor to be necessary for giving \\neffect to the provisions of the order.]\\n22. Constitution of District Councils  and  Regional Councils.—\\n3[(1) There shall be a District Council for each autonomous district   \\nconsisting of not more than thirty members, of whom not more than four \\npersons shall be nominated by the Governor and the rest shall be elected on \\nthe basis of adult suffrage.] THE CONSTITUTION OF  INDIA\\n(Sixth Schedule) \\n282\\n(2) There shall be a separate Regional Council for each area \\nconstituted an autonomous region under sub-paragraph (2) of paragraph 1 of \\nthis Schedule. \\n(3) Each District Council and each Regional Council shall be a body \\ncorporate by the name respectively of “the District Council of (name of \\ndistrict)” and “the Regional Council of (name of region)”, shall have \\nperpetual succession and a common seal and shall by the said name sue and \\nbe sued.\\n(4) Subject to the provisions of this Schedule, the administration of \\nan autonomous district shall, in so far as it is not vested under this Schedule \\nin any Regional Council within such district, be vested in the District \\nCouncil for such district and the administration of an autonomous region \\nshall be vested in the Regional Council for such region.\\n(5) In an autonomous district with Regional Councils, the District \\nCouncil shall have only such powers with respect to the areas under the \\nauthority of the Regional Council as may be delegated to it by the Regional \\nCouncil in addition to the powers conferred on it by this Schedule with \\nrespect to such areas.\\n(6) The Governor shall make rules for the first constitution of District \\nCouncils and Regional Councils in consultation with the existing tribal \\nCouncils or other representative tribal organisations within the autonomous \\ndistricts or regions concerned, and such rules shall provide for—\\n(a) the composition of the District Councils and Regional \\nCouncils and the allocation of seats therein;\\n(b) the delimitation of territorial constituencies for the purpose \\nof elections to those Councils;\\n(c) the qualifications for voting at such elections and the \\npreparation of electoral rolls therefor;\\n(d) the qualifications for being elected at such elections as \\nmembers of such Councils;\\n(e) the term of office of members of 1[Regional Councils]; THE CONSTITUTION OF  INDIA\\n(Sixth Schedule)\\n283\\n(f) any other matter relating to or connected with elections or\\nnominations to such Councils; \\n(g) the procedure and the conduct of business 1[(including the\\npower to act notwithstanding any vacancy)] in the District and \\nRegional Councils;\\n(h) the appointment of officers and staff of the District and\\nRegional Councils. \\n1[(6A) The elected members of the District Council shall hold office \\nfor a term of five years from the date appointed for the first meeting of the \\nCouncil after the general elections to the Council, unless the District \\nCouncil is sooner dissolved under paragraph 16 and a nominated member \\nshall hold office at the pleasure of the Governor: \\nProvided that the said period of five years may, while a Proclamation \\nof Emergency is in operation or if circumstances exist which, in the opinion \\nof the Governor, render the holding of elections impracticable, be extended \\nby the Governor for a period not exceeding one year at a time and in any \\ncase where a Proclamation of Emergency is in operation not extending \\nbeyond a period of six months after the Proclamation has ceased to operate: \\nProvided further that a member elected to fill a casual vacancy shall \\nhold office only for the remainder of the term of office of the member \\nwhom he replaces.] \\n(7) The District or the Regional Council may after its first\\nconstitution make  rules 1[with the approval of the Governor] with regard to \\nthe matters specified in sub-paragraph (6) of this paragraph and may also \\nmake rules 1[with like approval] regulating—\\n(a) the formation of subordinate local Councils or Boards and\\ntheir procedure and the conduct of their business; and\\n(b) generally all matters relating to the transaction of business\\npertaining to the administration of the district or region, as the case  \\nmay be: THE CONSTITUTION OF  INDIA\\n(Sixth Schedule)\\n284\\nProvided that until rules are made by the District or the Regional \\nCouncil under this sub-paragraph the rules made by the Governor under \\nsub-paragraph (6) of this paragraph shall have effect in respect of elections \\nto, the officers and staff of, and the procedure and the conduct of business \\nin, each such Council.\\n1* \\n *\\n* \\n* \\n2-323. Powers of the District Councils and Regional Councils to\\nmake laws.—(1) The Regional Council for an  autonomous region in THE CONSTITUTION OF  INDIA\\n(Sixth Schedule)\\n285\\n(Foot-note Continue),— \\n(g)\\nwater, that is to say, water supplies, irrigation and canals, drainage and \\nembankments, water storage and water power subject to the provisions of entry 56 of \\nList I of the Seventh Schedule;\\n(h)\\nsocial security and social insurance; employment and unemployment; \\n(i)\\nflood control schemes for protection of villages, paddy fields, markets, towns, etc. \\n(not of technical nature); \\n(j)\\ntheatre and dramatic performances, cinemas subject to the provisions of entry 60 of \\nList I of the Seventh Schedule; sports, entertainments and amusements; \\n(k)\\npublic health and sanitation, hospitals and dispensaries; \\n(l)\\nminor irrigation; \\n(m) trade and commerce in, and the production supply and distribution of, food stuffs, \\ncattle fodder, raw cotton and raw jute; \\n(n)\\nlibraries, museums and other similar institutions controlled or financed by the State; \\nancient and historical monuments and records other than those declared by or under \\nany law made by Parliament to be of national importance; and \\n(o) alienation of land. \\n(2) All laws made by the North Cachar Hills Autonomous Council and the Karbi Anglong \\nAutonomous Council under paragraph 3 or under this paragraph shall, in so far as they relate to \\nmatters specified in List III of the Seventh Schedule, be submitted forthwith to the Governor \\nwho shall reserve the same for the consideration of the President. \\n(3) When a law is reserved for the consideration of the President, the President shall declare\\neither that he assents to the said law or that he  withholds assent therefrom: \\nProvided that the President may direct the Governor to return the law to the North Cachar \\nHills Autonomous Council or the Karbi Anglong Autonomous Council, as the case may be, \\ntogether with a message requesting that the said Council will reconsider the law or any \\nspecified provisions thereof and, in particular, will, consider the desirability of introducing any \\nsuch amendments as he may recommend in his message and, when  the law is so returned, the  \\nsaid  Council shall consider the law accordingly within a period of six months from the date of \\nreceipt of such message and, if the law is again passed by the said Council with  or without \\namendment it shall be presented again to the President  for  his  consideration.\". \\nAfter paragraph 3A, the following paragraph has been inserted in its application to the State of Assam \\nby the Sixth Schedule to the Constitution (Amendment) Act, 2003 (44 of 2003), s. 2, (w.e.f. 7-9-\\n2003), namely:— \\n3B. Additional powers of the Bodoland Territorial Council to make laws.—(1) Without \\nprejudice to the provisions of paragraph 3, the Bodoland Territorial Council within its areas \\nshall have power to make laws with respect to :—  \\n(i) agriculture, including agricultural education and research, protection against \\npests and prevention of plant diseases;  (ii) animal husbandry and veterinary, that is to say, \\npreservation, protection and improvement of stock and prevention of animal diseases, \\nveterinary training and practice, cattle pounds; (iii) co-operation;  (iv) cultural affairs;  (v)  \\neducation, that is to say, primary education, higher secondary including vocational training, \\nadult education, college education (general); (vi) fisheries;  (vii) flood control for protection \\nof village, paddy fields, markets and towns (not of technical nature); (viii)  Food and civil THE CONSTITUTION OF  INDIA\\n(Sixth Schedule) \\n286\\nsupply;  (ix) forests (other than reserved forests);  (x) handloom and textile;  (xi) health and \\nfamily welfare, (xii) intoxicating liquors, opium and derivatives, subject to the provisions of \\nentry 84 of List I  of the Seventh Schedule; (xiii) irrigation; (xiv)  labour and employment;  \\n(xv) land and revenue; (xvi) library services (financed and controlled by the State \\nGovernment);  (xvii)  lotteries (subject to the provisions of entry 40 of List I of the Seventh \\nSchedule), theatres, dramatic performances and cinemas (subject to the provisions of entry \\n60 of List I of the Seventh Schedule); (xviii) markets and fairs; (xix) municipal corporation, \\nimprovement trust, district boards and other local authorities; (xx) museum and \\narchaeology institutions controlled or financed by the State, ancient and historical \\nmonuments and records other than those declared by or under any law made by Parliament \\nto be of national importance;  (xxi)  panchayat and rural development;  (xxii) planning and \\ndevelopment;  (xxiii) printing and stationery; (xxiv) public health engineering; (xxv) public \\nworks department;  (xxvi)  publicity and public relations; (xxvii) registration of births and \\ndeaths;  (xxviii)  relief and rehabilitation;  (xxix) sericulture; (xxx)  small, cottage and rural \\nindustry subject to the provisions of entries 7 and 52 of List I of the Seventh Schedule;  \\n(xxxi)  social Welfare;  (xxxii)  soil conservation; (xxxiii)  sports and youth welfare;  \\n(xxxiv)  statistics;  (xxxv) tourism; (xxxvi) transport (roads, bridges, ferries and other \\nmeans of communications not specified in List I of the Seventh Schedule, municipal \\ntramways,   ropeways, inland waterways and traffic thereon subject to the provision of List \\nI and List III of the Seventh Schedule with regard to such waterways, vehicles other than \\nmechanically propelled vehicles);  (xxxvii)  tribal research institute controlled and financed \\nby the State  Government; (xxxviii)   urban development—town  and country  planning;  \\n(xxxix) weights and measures subject to the provisions of entry 50 of List I of the  Seventh \\nSchedule; and   (xl)  Welfare of plain tribes and backward classes:\\nProvided that nothing in such laws shall—\\n(a)  extinguish or modify the existing rights and privileges of any citizen \\nin respect of his land at the date of commencement of this Act; and \\n(b) disallow and citizen from acquiring land either by way of inheritance, \\nallotment, settlement or by any other way of transfer if such citizen is otherwise \\neligible for such acquisition of land within the Bodoland Territorial Areas \\nDistrict.\\n(2) All laws made under paragraph 3 or under this paragraph shall in so far as they \\nrelate to matters specified in List III  of the Seventh Schedule, be submitted forthwith to the \\nGovernor who shall reserve the same for the consideration of the President. \\n(3) When a law is reserved for the consideration of the President, the President shall \\ndeclare  either that he assents to the said law or that he withholds assent therefrom:\\nProvided that the President may direct the Governor to return the law to the \\nBodoland Territorial Council, together with the message requesting that the said Council \\nwill reconsider the law or any specified provisions thereof and, in particular, will consider \\nthe desirability of introducing any such amendments as he may recommend in his message \\nand, when the law is so returned, the said Council shall consider the law accordingly within \\na period of six months from the date of receipt of such message and, if the law is again \\npassed by the said Council with or without amendments it shall be presented again to the \\nPresident for his consideration.”. THE CONSTITUTION OF  INDIA\\n(Sixth Schedule) \\n287\\nrespect of all areas within such  region and the District Council for an \\nautonomous district in respect of all areas within the district except those \\nwhich are under the authority of Regional Councils, if any, within the \\ndistrict shall have power to make laws with respect to—\\n(a) the allotment, occupation or use, or the setting apart, of \\nland, other  than any land which is a reserved forest for the purposes \\nof agriculture or grazing or for residential or other non-agricultural \\npurposes or  for  any  other  purpose likely to promote the interests of \\nthe inhabitants of any village or town: \\nProvided that nothing in such laws shall prevent the \\ncompulsory acquisition of any land, whether occupied or unoccupied, \\nfor public purposes 1[by the Government of the State concerned] in \\naccordance with the law for the time being in force authorising such \\nacquisition; \\n(b) the management of any forest not being a reserved forest;\\n(c) the use of any canal or water-course for the purpose of \\nagriculture;\\n(d) the regulation of the practice of jhum or other forms of \\nshifting cultivation;\\n(e) the establishment of village or town committees or councils \\nand their powers;\\n(f) any other matter relating to village or town administration, \\nincluding village or town police and public health and sanitation;\\n(g) the appointment or succession of Chiefs or Headmen;\\n(h) the inheritance of property;\\n 2[(i) marriage and divorce;] \\n(j) social customs.\\n(2) In this paragraph, a “reserved forest” means any area which is a \\nreserved forest under the Assam Forest Regulation, 1891, or under any other \\nlaw for the time being in force in the area in question. THE CONSTITUTION OF  INDIA\\n(Sixth Schedule) \\n288\\n(3) All laws made under this paragraph shall be submitted forthwith \\nto the Governor and, until assented to by him, shall have no effect.\\n14. Administration of justice in autonomous districts and \\nautonomous regions.—(1) The Regional Council for an autonomous region \\nin respect of areas within such region and the District Council for an \\nautonomous district in respect of areas within the district other than those \\nwhich are under the authority of the Regional Councils, if any, within the \\ndistrict may constitute village councils or courts for the trial of suits and \\ncases between  the parties all of whom belong to Scheduled Tribes within \\nsuch areas, other than suits and cases  to which the provisions of             \\nsub-paragraph (1) of paragraph 5 of this Schedule  apply,  to the exclusion \\nof any court in the State, and may appoint suitable persons to be members of \\nsuch village councils or presiding officers of such courts, and may also \\nappoint such officers as may be necessary for the administration of the laws \\nmade under paragraph 3 of this Schedule.\\n(2) Notwithstanding anything in this Constitution, the Regional \\nCouncil for an autonomous region or any court constituted in that behalf by \\nthe Regional Council or, if in respect of any area within an autonomous \\ndistrict there is no Regional Council, the District Council for such district, \\nor any court constituted in that behalf by the District Council, shall exercise \\nthe powers of a court of appeal in respect of all suits and cases triable by a \\nvillage council or court constituted under sub-paragraph (1) of this \\nparagraph within such region or area, as the case may be, other than those to \\nwhich the provisions of sub-paragraph (1) of paragraph 5 of this Schedule \\napply, and no other court except the High Court and the Supreme Court \\nshall have jurisdiction over such suits or cases.\\n(3) The High Court 2*** shall have and exercise such jurisdiction \\nover the suits and cases to which the provisions of sub-paragraph (2) of this \\nparagraph apply as the Governor may from time to time by order specify. THE CONSTITUTION OF  INDIA\\n(Sixth Schedule) \\n289\\n(4) A Regional Council or District Council, as the case may be, may \\nwith the previous approval of the Governor make rules regulating —\\n(a) the constitution of village councils and courts and the \\npowers to be exercised by them under this paragraph;\\n(b) the procedure to be followed by village councils or courts in \\nthe trial of suits and cases under sub-paragraph (1) of this paragraph;\\n(c) the procedure to be followed by the Regional or District \\nCouncil or any court constituted by such Council in appeals and other \\nproceedings under sub-paragraph (2) of this paragraph;\\n(d) the enforcement of decisions and orders of such councils \\nand courts; \\n(e) all other ancillary matters for the carrying out of the \\nprovisions of sub-paragraphs (1) and (2) of this paragraph.\\n1[(5) On and from such date as the President may, 2[after consulting the \\nGovernment of the State concerned], by notification appoint in this behalf, this \\nparagraph shall have effect in relation to such autonomous district or region as \\nmay be specified in the notification, as if—\\n(i) in sub-paragraph (1), for the words “between the parties all of \\nwhom belong to Scheduled Tribes within such areas, other than suits \\nand cases to which the provisions of sub-paragraph (1) of paragraph 5 \\nof this Schedule apply,”, the words “not being suits and cases of the \\nnature referred to in sub-paragraph (1) of paragraph (5) of this \\nSchedule, which the Governor may specify in this behalf,” had been \\nsubstituted;\\n(ii) sub-paragraphs (2) and (3) had been omitted;\\n(iii) in sub-paragraph (4)—\\n(a) for the words “A Regional Council or District \\nCouncil, as the case may be, may with the previous approval of \\nthe Governor make rules regulating”, the words “the Governor \\nmay make rules regulating” had been substituted; and\\n(b) for clause (a), the following clause had been \\nsubstituted, namely:— THE CONSTITUTION OF  INDIA\\n(Sixth Schedule) \\n290\\n“(a) the constitution of village councils and courts, \\nthe powers to be exercised by them under this paragraph \\nand the courts to which appeals from the decisions of \\nvillage councils and courts shall lie;”; \\n(c) for clause (c), the following clause had been \\nsubstituted, namely:—\\n“(c) the transfer of appeals and other proceedings \\npending before the Regional or District Council or any \\ncourt constituted by such Council immediately before the \\ndate appointed by the President under sub-paragraph \\n(5);”; and \\n(d) in clause (e), for the words, brackets and figures   \\n“sub-paragraphs (1) and (2)”, the word, brackets and figure \\n“sub-paragraph (1)” had been substituted.] \\n5. Conferment of powers under the Code of Civil Procedure, \\n1908, and the Code of Criminal Procedure, 18981, on the Regional and \\nDistrict Councils and on certain courts and officers for the trial of \\ncertain suits, cases and offences.—(1) The Governor may, for the trial of \\nsuits or cases arising out of any law in force in any autonomous district or \\nregion being a law specified in that behalf by the Governor, or for the trial \\nof offences punishable with death, transportation for life, or imprisonment \\nfor a term of not less than five years under the Indian Penal Code or under \\nany other law for the time being applicable to such district or region, confer \\non the District Council or the Regional Council having authority over such \\ndistrict or region or on courts constituted by such District Council or on any \\nofficer appointed in that behalf by the Governor, such powers under the \\nCode of Civil Procedure, 1908, or, as the case may be, the Code of Criminal \\nProcedure, 18981, as he deems appropriate, and thereupon the said Council, \\ncourt or officer shall try the suits, cases or offences in exercise of the \\npowers so conferred.\\n(2) The Governor may withdraw or modify any of the powers \\nconferred on a District Council, Regional Council, court or officer under \\nsub-paragraph (1) of this paragraph.\\n(3) Save as expressly provided in this paragraph, the Code of Civil \\nProcedure, 1908, and the Code of Criminal Procedure, 18981, shall not \\napply to the trial of any suits, cases or offences in an autonomous district or \\nin any autonomous region to which the provisions of this paragraph apply. THE CONSTITUTION OF  INDIA\\n(Sixth Schedule) \\n291\\n1[(4) On and from the date appointed by the President under \\nsub-paragraph (5) of paragraph 4 in relation to any autonomous district or \\nautonomous region, nothing contained in this paragraph shall, in its \\napplication to that district or region, be deemed to authorise the Governor to \\nconfer on the District Council or Regional  Council or on courts constituted \\nby the District Council any of the powers referred to in sub-paragraph (1) of \\nthis paragraph.] \\n2[6. Powers of the District Council to establish primary schools, \\netc.— (1) The District Council for an autonomous district may establish, \\nconstruct, or manage primary schools, dispensaries, markets, 3[cattle \\npounds], ferries, fisheries, roads, road transport and waterways in the district \\nand may, with the previous approval of the Governor, make regulations for \\nthe regulation and control thereof and, in particular, may prescribe the \\nlanguage and the manner in which primary education shall be imparted in \\nthe primary schools in the district.\\n(2) The Governor may, with the consent of any District Council, \\nentrust either conditionally or unconditionally to that Council or to its \\nofficers functions in relation to agriculture, animal husbandry, community \\nprojects, co-operative societies, social welfare, village planning or any other \\nmatter to which the executive power of the State 4***  extends.\\n7. District and Regional Funds.—(1) There shall be constituted for \\neach autonomous district, a District Fund and for each autonomous region, a \\nRegional Fund to which shall be credited all moneys received respectively \\nby the District Council for that district and the Regional Council for that \\nregion in the course of the administration of such district or region, as the \\ncase may be, in accordance with the provisions of this Constitution. THE CONSTITUTION OF  INDIA\\n(Sixth Schedule) \\n292\\n1[(2) The Governor may make rules for the management of the \\nDistrict Fund, or, as the case may be, the Regional Fund and for the \\nprocedure to be followed in respect of payment of money into the said Fund, \\nthe withdrawal of moneys therefrom, the custody of moneys therein and any \\nother matter connected with or ancillary to the matters  aforesaid.\\n(3) The accounts of the District Council or, as the case may be, the \\nRegional Council shall be kept in such form as the Comptroller and \\nAuditor-General of India may, with the approval of the President, prescribe.\\n(4) The Comptroller and Auditor-General shall cause the accounts of \\nthe District and Regional Councils to be audited in such manner as he may \\nthink fit, and the reports of the Comptroller and Auditor-General relating to \\nsuch accounts shall be submitted to the Governor who shall cause them to \\nbe laid before the Council.] \\n8. Powers to assess and collect land revenue and to impose \\ntaxes.—(1) The Regional Council for an autonomous region in respect of all \\nlands within such region and the District Council for an autonomous district \\nin respect of all lands within the district except those which are in the areas \\nunder the authority of Regional Councils, if any, within the district, shall \\nhave the power to assess and collect revenue in respect of such lands in \\naccordance with the principles for the time being followed 2[by the \\nGovernment of the State in assessing lands for the purpose of land revenue \\nin the State generally.]\\n(2) The Regional Council for an autonomous region in respect of areas \\nwithin such region and the District Council for an autonomous district in \\nrespect of all areas in the district except those which are under the authority of \\nRegional Councils, if any, within the district, shall have power to levy and \\ncollect taxes on lands and buildings, and tolls on persons resident within such \\nareas.\\n(3) The District Council for an autonomous district shall have the power to \\nlevy  and  collect  all or any of the following taxes within such district, that is to  \\nsay —\\n(a) taxes on professions, trades, callings and employments;\\n(b) taxes on animals, vehicles and boats; THE CONSTITUTION OF  INDIA\\n(Sixth Schedule)\\n293\\n(c) taxes on the entry of goods into a market for sale therein,\\nand tolls on passengers and goods carried in ferries; 1***\\n(d) taxes for the maintenance of schools, dispensaries or roads;\\n2[and] \\n3[(e)  taxes on entertainment and amusements.]\\n(4) A Regional Council or District Council, as the case may be, may\\nmake regulations to provide for the levy and collection of any of the taxes \\nspecified in sub-paragraphs (2) and (3) of this paragraph 4[and every such \\nregulation shall be submitted forthwith to the Governor and, until assented \\nto by him, shall have no effect].\\n59. Licences or leases for the purpose of prospecting for, or\\nextraction of, minerals.—(1) Such share of the royalties accruing each year \\nfrom licences or leases for the purpose of prospecting for, or the extraction of, \\nminerals granted by 6[the Government of the State] in respect of any area \\nwithin an autonomous district as may be agreed upon between 6[the \\nGovernment of the State] and the District Council of such district shall be \\nmade over to that District Council.\\n(2) If any dispute arises as to the share of such royalties to be made\\nover to a District Council, it shall be referred to the Governor for \\ndetermination and the amount determined by the Governor in his discretion \\nshall be deemed to be the amount payable under sub-paragraph (1) of this \\nparagraph to the District Council and the decision of the Governor shall be \\nfinal. THE CONSTITUTION OF  INDIA\\n(Sixth Schedule) \\n294\\n110. Power of District Council to make regulations for the control \\nof money-lending  and  trading  by non-tribals.—(1)  The  District  \\nCouncil   of  an   autonomous  district  may   make regulations  for  the \\nregulation and control of money-lending or trading within the district by \\npersons other than Scheduled Tribes resident in the district.\\n(2) In particular and without prejudice to the generality of the \\nforegoing power, such regulations may— \\n(a) prescribe that no one except the holder of a licence issued \\nin that behalf shall   carry on the business of money-lending;\\n(b) prescribe the maximum rate of interest which may be \\ncharged or be recovered by a money-lender;\\n(c) provide for the maintenance of accounts by money-lenders \\nand for the inspection of such accounts by officers appointed in that \\nbehalf by the District Council;\\n(d) prescribe that no person who is not a member of the \\nScheduled Tribes resident in the district shall carry on wholesale or \\nretail business in any commodity except under a licence issued in that \\nbehalf by the District Council: THE CONSTITUTION OF  INDIA\\n(Sixth Schedule) \\n295\\nProvided that no regulations may be made under this paragraph \\nunless they are passed by a majority of not less than three-fourths of the \\ntotal membership of the District Council:\\nProvided further that it shall not be competent under any such \\nregulations to refuse the grant of a licence to a money-lender or a trader who \\nhas been carrying on business within the district since before the time of the \\nmaking of such regulations.\\n(3) All regulations made under this paragraph shall be submitted \\nforthwith to the Governor and, until assented to by him, shall have no \\neffect.\\n                              *                                  *                                   *\\n11. Publication of laws, rules and regulations made under the \\nSchedule.—All laws, rules and regulations made under this Schedule by a \\nDistrict Council or a Regional Council shall be published forthwith in the \\nOfficial Gazette of the State and shall on such publication have the force of \\nlaw. \\n-\\n12.\\n1[Application of Acts of Parliament and of the \\nLegislature of the State of Assam to autonomous districts and \\nautonomous regions in the State of Assam].— (1) Notwithstanding \\nanything in this Constitution,— THE CONSTITUTION OF  INDIA\\n(Sixth Schedule) \\n296\\n (a) no Act of the 1[Legislature of the State of Assam] in respect \\nof any of the matters specified in paragraph 3 of this Schedule as \\nmatters with respect to which a District Council or a Regional Council \\nmay make laws, and no Act of the Legislature of the State of Assam \\nprohibiting or restricting the consumption of any non-distilled alcoholic \\nliquor shall apply to any autonomous district or autonomous region 2[in \\nthat State] unless in either case the District Council for such district or \\nhaving jurisdiction over such region by public notification so directs, \\nand the District Council in giving such direction with respect to any \\nAct may direct that the Act shall in its application to such district or \\nregion or any part thereof have effect subject to such exceptions or \\nmodifications as it thinks fit;\\n(b) the Governor may, by public notification, direct that any \\nAct of Parliament or of the 1[Legislature of the State of Assam] to \\nwhich the provisions of clause (a) of this sub-paragraph do not apply \\nshall not apply to an autonomous district or an autonomous region \\n2[in that State], or shall apply to such district or region or any part \\nthereof subject to such exceptions or modifications as he may specify \\nin the notification.\\n(2) Any direction given under sub-paragraph (1) of this paragraph \\nmay be given so as to have retrospective effect.\\n3[12A. Application of Acts of Parliament and of the Legislature of \\nthe State of Meghalaya to autonomous districts and autonomous \\nregions in the State of Meghalaya.—Notwithstanding anything in this \\nConstitution,— THE CONSTITUTION OF  INDIA\\n(Sixth Schedule) \\n297\\n(a) if any provision of a law made by a District or Regional \\nCouncil in the State of Meghalaya with respect to any matter \\nspecified in sub-paragraph (1) of paragraph 3 of this Schedule or if \\nany provision of any regulation made by a District Council or a \\nRegional Council in that State under paragraph 8 or paragraph 10 of \\nthis Schedule, is repugnant to any provision of a law made by the \\nLegislature of the State of Meghalaya with respect to that matter, \\nthen, the law or regulation made by the District Council or, as the \\ncase may be,  the Regional Council whether made before or after the \\nlaw made by the Legislature of the State of Meghalaya, shall, to the \\nextent of repugnancy, be void and the law made by the Legislature of \\nthe State of Meghalaya shall prevail;\\n(b) the President may, with respect to any Act of Parliament, \\nby notification, direct that it shall not apply to an autonomous district \\nor an autonomous region in the State of Meghalaya, or shall apply to \\nsuch district or region or any part thereof subject to such exceptions \\nor modifications as he may specify in the notification and any such \\ndirection may be given so as to have retrospective effect.]\\n1[12AA. Application of Acts of Parliament and of the Legislature \\nof the State of Tripura to  the autonomous districts and autonomous \\nregions in the State of Tripura.—Notwithstanding anything in this \\nConstitution,—\\n(a) no Act of the Legislature of the State of Tripura in respect of \\nany of the matters specified in paragraph 3 of this Schedule as matters \\nwith respect to which a District Council or a Regional Council may \\nmake laws, and no Act of the Legislature of the State of Tripura \\nprohibiting or restricting the consumption of any non-distilled alcoholic \\nliquor shall apply to the autonomous district or an autonomous region \\nin that State unless, in either case, the District Council for that district \\nor having jurisdiction over such region by public notification so directs, \\nand the District Council in giving such direction with respect to any Act \\nmay direct that the Act shall, in its application to that district or such \\nregion or any part thereof have effect subject to such exceptions or \\nmodifications as it thinks fit; THE CONSTITUTION OF  INDIA\\n(Sixth Schedule) \\n298\\n(b) the Governor may, by public notification, direct that any \\nAct of the Legislature of the State of Tripura to which the provisions \\nof clause (a) of this sub-paragraph do not apply, shall not apply to the \\nautonomous district or an autonomous region in that State, or shall \\napply to that district or such region, or any part thereof, subject to \\nsuch exceptions or modifications, as he may specify in the \\nnotification;\\n(c) the President may, with respect to any Act of Parliament, \\nby notification, direct that it shall not apply to the autonomous district \\nor an autonomous region in the State of Tripura, or shall apply to \\nsuch district or region or any part thereof, subject to such exceptions \\nor modifications as he may specify in the notification and any such \\ndirection may be given so as to have retrospective effect. \\n12B. Application of Acts of Parliament and of the Legislature of \\nthe State of Mizoram to autonomous districts and autonomous regions \\nin \\nthe \\nState \\nof \\nMizoram.—Notwithstanding \\nanything \\nin \\nthis \\nConstitution,—\\n(a) no Act of the Legislature of the State of Mizoram in respect \\nof any of the matters specified in paragraph 3 of this Schedule as \\nmatters with respect to which a District Council or a Regional \\nCouncil may make laws, and no Act of the Legislature of the State of \\nMizoram prohibiting or restricting the consumption of any            \\nnon-distilled alcoholic liquor shall apply to any autonomous district \\nor autonomous region in that State unless, in either case, the District \\nCouncil for such district or having jurisdiction over such region, by \\npublic notification, so directs, and the District Council, in giving such \\ndirection with respect to any Act, may direct that the Act shall, in its \\napplication to such district or region or any part thereof, have effect \\nsubject to such exceptions or modifications as it thinks fit;\\n(b) the Governor may, by public notification, direct that any \\nAct of the Legislature of the State of Mizoram to which the \\nprovisions of clause (a) of this sub-paragraph do not apply, shall not \\napply to an autonomous district or an autonomous region in that \\nState, or shall apply to such district or region, or any part thereof, \\nsubject to such exceptions or modifications, as he may specify in the \\nnotification; THE CONSTITUTION OF  INDIA\\n(Sixth Schedule) \\n299\\n(c) the President may, with respect to any Act of Parliament, \\nby notification, direct that it shall not apply to an autonomous district \\nor an autonomous region in the State of Mizoram, or shall apply to \\nsuch district or region or any part thereof, subject to such exceptions \\nor modifications as he may specify in the notification and any such \\ndirection may be given so as to have retrospective effect.]] \\n13. Estimated receipts and expenditure pertaining to autonomous \\ndistricts to be shown separately in the annual financial statement.—The \\nestimated receipts and expenditure pertaining to an autonomous district \\nwhich are to be credited to, or is to be made from, the Consolidated Fund of \\nthe State 1*** shall be first placed before the District Council for discussion \\nand then after such discussion be shown separately in the annual financial \\nstatement of the State to be laid before the Legislature of the State under \\narticle 202. \\n214. Appointment of Commission to inquire into and report on \\nthe administration of autonomous districts and autonomous regions.—\\n(1) The Governor may at any time appoint a Commission to examine and \\nreport on any matter specified by him relating to the administration of the \\nautonomous districts and autonomous regions in the State, including matters \\nspecified in clauses (c), (d), (e) and (f) of sub-paragraph (3) of paragraph 1 \\nof this Schedule, or may appoint a Commission to inquire into and report \\nfrom time to time on the administration of autonomous districts and \\nautonomous regions in the State generally and in particular on—\\n(a) the provision of educational and medical facilities and \\ncommunications in such districts and regions;\\n(b) the need for any new or special legislation in respect of \\nsuch districts and regions; and\\n(c) the administration of the laws, rules and regulations made \\nby the District and Regional Councils;\\nand define the procedure to be followed by such Commission. THE CONSTITUTION OF  INDIA\\n(Sixth Schedule) \\n300\\n(2) The report of every such Commission with the recommendations \\nof the Governor with respect thereto shall be laid before the Legislature of \\nthe State by the Minister concerned together with an explanatory \\nmemorandum regarding the action proposed to be taken thereon by 1[the \\nGovernment of the State.]\\n(3) In allocating the business of the Government of the State among \\nhis Ministers the Governor may place one of his Ministers specially in \\ncharge of the welfare of the autonomous districts and autonomous regions in \\nthe State.\\n215. Annulment or suspension of acts and resolutions of District \\nand Regional Councils.—(1) If at any time the Governor is satisfied that an \\nact or resolution of a District or a Regional Council is likely to endanger the \\nsafety of India 3[or is likely to be prejudicial to public order], he may annul \\nor suspend such act or resolution and take such steps as he may consider \\nnecessary (including the suspension of the Council and the assumption to \\nhimself of all or any of the powers vested in or exercisable by the Council) \\nto prevent the commission or continuance of such act, or the giving of effect \\nto such resolution. \\n(2) Any order made by the Governor under sub-paragraph (1) of this \\nparagraph together with the reasons therefor shall be laid before the \\nLegislature of the State as soon as possible and the order shall, unless \\nrevoked by the Legislature of the State, continue in force for a period of \\ntwelve months from the date on which it was so made: \\nProvided that if and so often as a resolution approving the \\ncontinuance in force of such order is passed by the Legislature of the State, \\nthe order shall unless cancelled by the Governor continue in force for a \\nfurther period of twelve months from the date on which under this \\nparagraph it would otherwise have ceased to operate. THE CONSTITUTION OF  INDIA\\n(Sixth Schedule) \\n301\\n116. Dissolution of a District or a Regional Council.— 2[(1)] The \\nGovernor may on the recommendation of a Commission appointed under \\nparagraph 14 of this Schedule by public notification order the dissolution of \\na District or a Regional Council, and— \\n(a) direct that a fresh general election shall be held \\nimmediately for the reconstitution of the Council; or\\n(b) subject to the previous approval of the Legislature of the \\nState assume the administration of the area under the authority of \\nsuch Council himself or place the administration of such area under \\nthe Commission appointed under the said paragraph or any other \\nbody considered suitable by him for a period not exceeding twelve \\nmonths:\\nProvided that when an order under clause (a) of this paragraph has \\nbeen made, the Governor may take the action referred to in clause (b) of this \\nparagraph with regard to the administration of the area in question pending \\nthe reconstitution of the Council on fresh general election:\\nProvided further that no action shall be taken under clause (b) of this \\nparagraph without giving the District or the Regional Council, as the case \\nmay be, an opportunity of placing its views before the Legislature of the \\nState. THE CONSTITUTION OF  INDIA\\n(Sixth Schedule) \\n302\\n1[(2) If at any time the Governor is satisfied that a situation has arisen in \\nwhich the administration of an autonomous district or region cannot be carried \\non in accordance with the provisions of this Schedule, he may, by public \\nnotification, assume to himself all or any of the functions or powers vested in or \\nexercisable by the District Council or, as the case may be, the Regional Council \\nand declare that such functions or powers shall be exercisable by such person or \\nauthority as he may specify in this behalf, for a period not exceeding six months:\\nProvided that the Governor may by a further order or orders extend the  \\noperation of the initial order by a period not exceeding six months on each \\noccasion.\\n(3) Every order made under sub-paragraph (2) of this paragraph with \\nthe reasons therefor shall be laid before the Legislature of the State and shall \\ncease to operate at the expiration of thirty days from the date on which the \\nState Legislature first sits after the issue of the order, unless, before the \\nexpiry of that period it has been approved by that State Legislature.] \\n217. Exclusion of areas from autonomous districts in forming \\nconstituencies in such districts.—For the purposes of elections to 3[the \\nLegislative Assembly of Assam or Meghalaya] 4[or Tripura] 5[or Mizoram], \\nthe Governor may by order declare that any area within an autonomous \\ndistrict 6[in the State of Assam or Meghalaya 4[or Tripura] 5[or Mizoram], \\nas the case may be,] shall not form part of any constituency to fill a seat or \\nseats in the Assembly reserved for any such district but shall form part of a \\nconstituency to fill a seat or seats in the Assembly not so reserved to be \\nspecified in the order.\\n7[18.*\\n*\\n*\\n*                  *] THE CONSTITUTION OF  INDIA\\n(Sixth Schedule)\\n303\\n119. Transitional provisions.—(1) As soon as possible after the\\ncommencement of this Constitution the Governor shall take steps for the \\nconstitution of a District Council for each autonomous district in the State \\nunder this Schedule and, until a District Council is so constituted for an \\nautonomous district, the administration of such district shall be vested in the \\nGovernor and the following provisions shall apply to the administration of \\nthe areas within such district instead of the foregoing provisions of this \\nSchedule, namely:— \\n(a) no Act of Parliament or of the Legislature of the State shall\\napply to any such area unless the Governor by public notification so \\ndirects; and the Governor in giving such a direction with respect to \\nany Act may direct that the Act shall, in its application to the area or \\nto any specified part thereof, have effect subject to such exceptions or \\nmodifications as he thinks fit; \\n(b) the Governor may make regulations for the peace and good\\ngovernment of any such area and any regulations so made may repeal \\nor amend any Act of Parliament or of the Legislature of the State or \\nany existing law which is for the time being applicable to such area. \\n(2) Any direction given by the Governor under clause (a) of\\nsub-paragraph (1) of this paragraph may be given so as to have retrospective \\neffect. THE CONSTITUTION OF  INDIA\\n(Sixth Schedule)\\n304\\n(3) All regulations made under clause (b) of sub-paragraph (1) of this\\nparagraph  shall be submitted forthwith to the President and, until assented \\nto by him, shall have no effect.\\n1[20. Tribal areas.—(1) The areas specified in Parts I, II 2[, IIA] and \\nIII of the table below shall respectively be the tribal areas within the State of \\nAssam, the State of Meghalaya 2[, the State of Tripura] and the 3[State] of \\nMizoram. \\n(2) 4[Any reference in Part I, Part II or Part III of the table below] to\\nany district shall be construed as a reference to the territories comprised \\nwithin the autonomous district of that name existing immediately before the \\nday appointed under clause (b) of section 2 of the North-Eastern Areas \\n(Reorganisation)  Act, 1971: \\nProvided that for the purposes of clauses (e) and (f) of sub-paragraph \\n(1) of paragraph 3, paragraph 4, paragraph 5, paragraph 6, sub-paragraph\\n(2), clauses (a), (b) and (d) of sub-paragraph (3) and sub-paragraph (4) of\\nparagraph 8 and clause (d) of sub-paragraph (2) of paragraph 10 of this\\nSchedule, no part of the area comprised within the municipality of Shillong\\nshall be deemed to be within the 5[Khasi Hills District].\\n 2[(3) The reference in Part IIA in the table below to the \"Tripura \\nTribal Areas District\" shall be construed as a reference to the territory \\ncomprising the tribal areas specified in the First Schedule to the Tripura \\nTribal Areas Autonomous District Council Act, 1979.] THE CONSTITUTION OF  INDIA\\n(Sixth Schedule) \\n305\\nTABLE \\nPART  I\\n1. The North Cachar Hills District. \\n2.  1[The Karbi Anglong District.] \\n2[3.The Bodoland Territorial Areas District.]\\n \\nPART II\\n3[1.  Khasi Hills District.\\n2.  Jaintia Hills District.] \\n3.  The Garo Hills District.\\n4[PART IIA]\\n    Tripura Tribal Areas District] \\nPart III\\n5*   \\n*          *\\n6[1. The Chakma District.\\n7[2. The Mara District. \\n3.  The Lai District.]] \\n \\n8[20A. \\nDissolution \\nof \\nthe \\nMizo \\nDistrict \\nCouncil.—(1) \\nNotwithstanding anything in this Schedule, the District Council of the Mizo \\nDistrict existing immediately before the prescribed date (hereinafter referred \\nto as the Mizo District Council) shall stand dissolved and cease to exist. THE CONSTITUTION OF  INDIA\\n(Sixth Schedule)\\n306\\n(2) The Administrator of the Union territory of Mizoram may, by one or\\nmore orders, provide for all or any of the following matters, namely:—\\n(a) the transfer, in whole or in part, of the assets, rights and liabilities\\nof the Mizo District Council (including the rights and liabilities under\\nany contract made by it) to the Union or to any other authority;\\n(b) the substitution of the Union or any other authority for the Mizo\\nDistrict Council, or the addition of the Union or any other authority,\\nas a party to any legal proceedings to which the Mizo District\\nCouncil is a party;\\n(c) the transfer or re-employment of any employees of the Mizo\\nDistrict Council to or by the Union or any other authority, the terms\\nand conditions of service applicable to such employees after such \\ntransfer or re-employment;\\n(d) the continuance of any laws, made by the Mizo District Council\\nand in force immediately before its dissolution, subject to such \\nadaptations and modifications, whether by way of repeal or\\namendment, as the Administrator may make in this behalf, until such\\nlaws are altered, repealed or amended by a competent Legislature or\\nother competent authority;\\n(e) such incidental, consequential and supplementary matters as the\\nAdministrator considers necessary.\\nExplanation.—In this paragraph and in paragraph 20B of this Schedule, the \\nexpression \"prescribed date\" means the date on which the Legislative \\nAssembly of the Union territory of Mizoram is duly constituted under and in \\naccordance with the provisions of the Government of Union Territories Act, \\n1963. (20 of 1963)] \\n1[20B. Autonomous regions in the Union territory of Mizoram to \\nbe autonomous\\ndistricts\\nand\\ntransitory\\nprovisions\\nconsequent \\nthereto.—(1) Notwithstanding anything in this Schedule,— \\n(a) every autonomous region existing immediately before the\\nprescribed date in the Union territory of Mizoram shall, on and from\\nthat date, be an autonomous district in that Union territory (hereafter\\nreferred to as the corresponding new district) and the Administrator\\nthereof may, by one or more orders, direct that such consequential\\namendments as are necessary to give effect to the provisions of this\\nclause shall be made in paragraph 20 of this Schedule (including Part\\nIII of the table appended to that paragraph) and thereupon the said\\nparagraph and the said Part III shall be deemed to have been amended \\naccordingly; THE CONSTITUTION OF  INDIA\\n(Sixth Schedule)\\n307\\n(b) every Regional Council of an autonomous region in the\\nUnion territory of Mizoram existing immediately before the \\nprescribed date (hereafter referred to as the existing Regional \\nCouncil) shall, on and from that date and until a District Council is \\nduly constituted for the corresponding new district, be deemed to be \\nthe District Council of that district (hereafter referred to as the \\ncorresponding new District Council). \\n(2) Every member whether elected or nominated of an existing Regional \\nCouncil shall be deemed to have been elected or, as the case may be, nominated \\nto the corresponding new District Council and shall hold office until a District \\nCouncil is duly constituted for the corresponding new district under this \\nSchedule. \\n(3) Until rules are made under sub-paragraph (7) of paragraph 2 and\\nsub-paragraph (4) of paragraph 4 of this Schedule by the corresponding new \\nDistrict Council, the rules made under the said provisions by the existing \\nRegional Council and in force immediately before the prescribed date shall \\nhave effect in relation to the corresponding new District Council subject to \\nsuch adaptations and modifications as may be made therein by the \\nAdministrator of the Union territory of Mizoram.\\n(4) The Administrator of the Union territory of  Mizoram  may, by\\none or more orders, provide for all or any of the following matters, \\nnamely:—\\n(a) the transfer in whole or in part of the assets, rights and \\nliabilities of the existing Regional Council (including the rights and \\nliabilities under any contract made by it) to the corresponding new \\nDistrict Council;\\n(b) the substitution of the corresponding new District Council\\nfor the existing Regional Council as a party to the legal proceedings \\nto which the existing Regional Council is a party;\\n(c) the transfer or re-employment of any employees of the\\nexisting Regional Council to or by the corresponding new District \\nCouncil, the terms and conditions of service applicable to such \\nemployees after such transfer or re-employment; THE CONSTITUTION OF  INDIA\\n(Sixth Schedule) \\n308\\n(d) the continuance of any laws made by the existing Regional \\nCouncil and in force immediately before the prescribed date, subject \\nto such adaptations and modifications, whether by way of repeal or \\namendment, as the Administrator may make in this behalf until such \\nlaws are altered, repealed or amended by a competent Legislature or \\nother competent authority;\\n(e) such incidental, consequential and supplementary matters \\nas the Administrator considers necessary.]\\n1[20BA. Exercise of discretionary powers by the Governor in the \\ndischarge of his functions.—The Governor in the discharge of his \\nfunctions under sub-paragraphs (2) and (3) of paragraph 1, sub-paragraphs \\n(1), (6), sub-paragraph (6A) excluding the first proviso and sub-paragraph \\n(7) of paragraph 2, sub-paragraph (3) of paragraph 3, sub-paragraph (4) of \\nparagraph 4, paragraph 5, sub-paragraph (1) of paragraph 6, sub-paragraph \\n(2) of paragraph 7, sub-paragraph (4) of paragraph 8, sub-paragraph (3) of \\nparagraph 9, sub-paragraph (3) of paragraph 10, sub-paragraph (1) of \\nparagraph 14, sub-paragraph (1) of paragraph 15 and sub-paragraphs (1) and \\n(2) of paragraph 16 of this Schedule, shall, after consulting the Council of \\nMinisters and the North Cachar Hills Autonomous Council or the Karbi \\nAnglong Autonomous Council, as the case may be, take such action as he \\nconsiders necessary in his  discretion.]\\n2[20BB. Exercise of discretionary powers by the Governor in the \\ndischarge of his functions.—The Governor, in the discharge of his \\nfunctions under sub-paragraphs (2) and (3) of paragraph 1, sub-paragraphs \\n(1) and (7) of paragraph 2, sub-paragraph (3) of paragraph 3, sub-paragraph \\n(4) of paragraph 4, paragraph 5, sub-paragraph (1) of paragraph 6, sub-\\nparagraph (2) of paragraph 7, sub-paragraph (3) of  paragraph 9, sub-\\nparagraph (1) of paragraph 14, sub-paragraph (1) of paragraph 15 and sub-\\nparagraphs (1)  and (2) of paragraph 16 of this Schedule, shall, after \\nconsulting the Council of Ministers, and if he thinks it necessary, the \\nDistrict Council or the Regional Council concerned, take such action as he \\nconsiders necessary in his discretion.] THE CONSTITUTION OF  INDIA\\n(Sixth Schedule) \\n309\\n1[20C. Interpretation.—Subject to any provision made in this \\nbehalf, the provisions of this Schedule shall, in their application to the \\nUnion territory of Mizoram, have effect—\\n(1) as if references to the Governor and Government of the \\nState were references to the Administrator of the Union territory \\nappointed under article 239, references to State (except in the \\nexpression \"Government of the State\") were references to the Union \\nterritory of Mizoram and references to the State Legislature were \\nreferences to the Legislative Assembly of the Union territory of \\nMizoram; \\n(2) as if—\\n(a) in sub-paragraph (5) of paragraph 4, the provision \\nfor consultation with the Government of the State concerned \\nhad been omitted;\\n(b) in sub-paragraph (2) of paragraph 6, for the words \\n\"to which the executive power of the State extends\", the words \\n\"with respect to which the Legislative Assembly of the Union \\nterritory of Mizoram has power to make laws\" had been \\nsubstituted;\\n(c) in paragraph 13, the words and figures \"under article \\n202\" had been omitted.]\\n21. Amendment of the Schedule.—(1) Parliament may from time to \\ntime by law amend by way of addition, variation or repeal any of the \\nprovisions of this Schedule and, when the Schedule is so amended, any \\nreference to this Schedule in this Constitution shall be construed as a \\nreference to such Schedule as so amended.\\n(2) No such law as is mentioned in sub-paragraph (1) of this \\nparagraph shall be deemed to be an amendment of this Constitution for the \\npurposes of article 368.'"
      ]
     },
     "execution_count": 64,
     "metadata": {},
     "output_type": "execute_result"
    }
   ],
   "source": [
    "sixth_schedule = footer_remover(data[310:340])\n",
    "sixth_schedule"
   ]
  },
  {
   "cell_type": "code",
   "execution_count": 65,
   "id": "d031010c",
   "metadata": {},
   "outputs": [
    {
     "data": {
      "text/plain": [
       "\"310\\nSEVENTH SCHEDULE\\n(Article 246) \\nList I—Union List\\n1. Defence of India and every part thereof including preparation for \\ndefence and all such acts as may be conducive in times of war to its prosecution \\nand after its termination to effective demobilisation.\\n2. Naval, military and air forces; any other armed forces of the Union.\\n1[2A. Deployment of any armed force of the Union or any other force \\nsubject to the control of the Union or any contingent or unit thereof in any State \\nin aid of the civil power; powers, jurisdiction, privileges and liabilities of the \\nmembers of such forces while on such deployment.] \\n3. Delimitation of cantonment areas, local self-government in such areas, \\nthe constitution and powers within such areas of cantonment authorities and the \\nregulation of house accommodation (including the control of rents) in such \\nareas.\\n4. Naval, military and air force works.\\n5. Arms, firearms, ammunition and explosives.\\n6. Atomic energy and mineral resources necessary for its production.\\n7. Industries declared by Parliament by law to be necessary for the \\npurpose of defence or for the prosecution of war.\\n8. Central Bureau of Intelligence and Investigation.\\n9. Preventive detention for reasons connected with Defence, Foreign \\nAffairs, or the security of India; persons subjected to such detention.\\n10. Foreign affairs; all matters which bring the Union into relation with \\nany foreign country.\\n11. Diplomatic, consular and trade representation. \\n12. United Nations Organisation.\\n13. Participation in international conferences, associations and other \\nbodies and implementing of decisions made thereat.\\n14. Entering into treaties and agreements with foreign countries and \\nimplementing of treaties, agreements and conventions with foreign countries. THE CONSTITUTION OF  INDIA\\n(Seventh Schedule) \\n311\\n15. War and peace.\\n16. Foreign jurisdiction.\\n17. Citizenship, naturalisation and aliens.\\n18. Extradition.\\n19. Admission into, and emigration and expulsion from, India; passports \\nand visas. \\n20. Pilgrimages to places outside India.\\n21. Piracies and crimes committed on the high seas or in the air; offences \\nagainst the law of nations committed on land or the high seas or in the air. \\n22. Railways.\\n23. Highways declared by or under law made by Parliament to be national \\nhighways.\\n24. Shipping and navigation on inland waterways, declared by Parliament \\nby law to be national waterways, as regards mechanically propelled vessels; the \\nrule of the road on such waterways.\\n25. Maritime shipping and navigation, including shipping and navigation \\non tidal waters; provision of education and training for the mercantile marine \\nand regulation of such education and training provided by States and other \\nagencies.\\n26. Lighthouses, including lightships, beacons and other provision for the \\nsafety of shipping and aircraft.\\n27. Ports declared by or under law made by Parliament or existing law to \\nbe major ports, including their delimitation, and the constitution and powers of \\nport authorities therein.\\n28. Port quarantine, including hospitals connected therewith; seamen's and \\nmarine hospitals.\\n29. Airways; aircraft and air navigation; provision of aerodromes; \\nregulation and organisation of air traffic and of aerodromes; provision for \\naeronautical education and training and regulation of such education and \\ntraining provided by States and other agencies.\\n30. Carriage of passengers and goods by railway, sea or air, or by national \\nwaterways in mechanically propelled vessels. THE CONSTITUTION OF  INDIA\\n(Seventh Schedule) \\n312\\n31. Posts and telegraphs; telephones, wireless, broadcasting and other like \\nforms of communication. \\n32. Property of the Union and the revenue therefrom, but as regards \\nproperty situated in a State 1*** subject to legislation by the State, save in so \\nfar as Parliament by law otherwise provides.\\n2[33* \\n*   \\n*\\n*                        *]\\n34. Courts of wards for the estates of Rulers of Indian States.\\n35. Public debt of the Union.\\n36. Currency, coinage and legal tender;  foreign exchange.\\n37. Foreign loans.\\n38. Reserve Bank of India.\\n39. Post Office Savings Bank.\\n40. Lotteries organised by the Government of India or the Government of \\na State. \\n41. Trade and commerce with foreign countries; import and export across \\ncustoms frontiers; definition of customs frontiers. \\n42. Inter-State trade and commerce.\\n43. Incorporation, regulation and winding up of trading corporations, \\nincluding banking, insurance and financial corporations, but not including \\nco-operative societies.\\n44. Incorporation, regulation and winding up of corporations, whether \\ntrading or not, with objects not confined to one State, but not including \\nuniversities. \\n45. Banking.\\n46. Bills of exchange, cheques, promissory notes and other like \\ninstruments.\\n47. Insurance.\\n48. Stock exchanges and futures markets.\\n49. Patents, inventions and designs; copyright; trade-marks and merchandise \\nmarks. THE CONSTITUTION OF  INDIA\\n(Seventh Schedule) \\n313\\n50. Establishment of standards of weight and measure.\\n51. Establishment of standards of quality for goods to be exported out of \\nIndia or transported from one State to another. \\n52. Industries, the control of which by the Union is declared by Parliament \\nby law to be expedient in the public interest.\\n53. Regulation and development of oilfields and mineral oil resources; \\npetroleum and petroleum products; other liquids and substances declared by \\nParliament by law to be dangerously inflammable. \\n54. Regulation of mines and mineral development to the extent to which \\nsuch regulation and development under the control of the Union is declared by \\nParliament by law to be expedient in the public interest.\\n55. Regulation of labour and safety in mines and oilfields.\\n56. Regulation and development of inter-State rivers and river valleys to \\nthe extent to which such regulation and development under the control of the \\nUnion is declared by Parliament by law to be expedient in the public interest.\\n57. Fishing and fisheries beyond territorial waters.\\n58. Manufacture, supply and distribution of salt by Union agencies; \\nregulation and control of manufacture, supply and distribution of salt by other \\nagencies.\\n59. Cultivation, manufacture, and sale for export, of opium.\\n60. Sanctioning of cinematograph films for exhibition.\\n61. Industrial disputes concerning Union employees.\\n62. The institutions known at the commencement of this Constitution as \\nthe National Library, the Indian Museum, the Imperial War Museum, the \\nVictoria Memorial and the Indian War Memorial, and any other like institution \\nfinanced by the Government of India wholly or in  part and declared by \\nParliament by law to be an institution of national importance.\\n63. The institutions known at the commencement of this Constitution as the \\nBenares Hindu University, the Aligarh Muslim University and the 1[Delhi \\nUniversity; the University established in pursuance of article 371E;] any other \\ninstitution declared by Parliament by law to be an institution of national importance. THE CONSTITUTION OF  INDIA\\n(Seventh Schedule) \\n314\\n64. Institutions for scientific or technical education financed by the \\nGovernment of India wholly or in part and declared by Parliament by law to be \\ninstitutions of national importance.\\n65. Union agencies and institutions for—\\n(a) professional, vocational or technical training, including the \\ntraining of police officers; or\\n(b) the promotion of special studies or research; or\\n(c) scientific or technical assistance in the investigation or detection \\nof crime. \\n66. Co-ordination and determination of standards in institutions for higher \\neducation or research and scientific and technical institutions.\\n67. Ancient and historical monuments and records, and archaeological \\nsites and remains, 1[declared by or under law made by Parliament] to be of \\nnational importance.\\n68. The Survey of India, the Geological, Botanical, Zoological and \\nAnthropological Surveys of India; Meteorological organisations.\\n69.  Census. \\n70. Union Public Service; All-India Services; Union Public Service \\nCommission.\\n71. Union pensions, that is to say, pensions payable by the Government of \\nIndia or out of the Consolidated Fund of India.\\n72. Elections to Parliament, to the Legislatures of States and to the offices \\nof President and Vice-President; the Election Commission.\\n73. Salaries and allowances of members of Parliament, the Chairman and \\nDeputy Chairman of the Council of States and the Speaker and Deputy Speaker \\nof the House of the People.\\n74. Powers, privileges and immunities of each House of Parliament and of \\nthe members and the Committees of each House; enforcement of attendance of \\npersons for giving evidence or producing documents before committees of \\nParliament or commissions appointed by Parliament.\\n75. Emoluments, allowances, privileges, and rights in respect of leave\\nof absence, of the President and Governors; salaries and allowances of\\nthe Ministers for the Union; the salaries, allowances, and rights in respect of \\nleave of absence and other conditions of service of the Comptroller and \\nAuditor-General of India. THE CONSTITUTION OF  INDIA\\n(Seventh Schedule) \\n315\\n76. Audit of the accounts of the Union and of the States.\\n77. Constitution, organisation, jurisdiction and powers of the Supreme \\nCourt (including contempt of such Court), and the fees taken therein; persons \\nentitled to practise before the Supreme Court.\\n78. Constitution and organisation 1[(including vacations)] of the High \\nCourts except provisions as to officers and servants of High Courts; persons \\nentitled to practise before the High Courts.\\n2[79. Extension of the jurisdiction of a High Court to, and exclusion of the \\njurisdiction of a High Court from, any Union territory.]\\n80. Extension of the powers and jurisdiction of members of a police force \\nbelonging to any State to any area outside that State, but not so as to enable the \\npolice of one State to exercise powers and jurisdiction in any area outside that \\nState without the consent of the Government of the State in which such area is \\nsituated; extension of the powers and jurisdiction of members of a police force \\nbelonging to any State to railway areas outside that State. \\n81. Inter-State migration; inter-State quarantine.\\n82. Taxes on income other than agricultural income.\\n83. Duties of customs including export duties.\\n3[84. Duties of excise on the following goods manufactured or produced in \\nIndia, namely:—\\n(a) petroleum crude;\\n(b) high speed diesel;\\n(c) motor spirit (commonly known as petrol);\\n(d) natural gas;\\n(e) aviation turbine fuel; and\\n(f) tobacco and tobacco products.]\\n85. Corporation tax. THE CONSTITUTION OF  INDIA\\n(Seventh Schedule) \\n316\\n86. Taxes on the capital value of the assets, exclusive of agricultural land, \\nof individuals and companies; taxes on the capital of companies.\\n87. Estate duty in respect of property other than agricultural land.\\n88. Duties in respect of succession to property other than agricultural land. \\n89. Terminal taxes on goods or passengers, carried by railway, sea or air; \\ntaxes on railway fares and freights.\\n90. Taxes other than stamp duties on transactions in stock exchanges and \\nfutures markets.\\n91. Rates of stamp duty in respect of bills of exchange, cheques, \\npromissory notes, bills of lading, letters of credit, policies of insurance, transfer \\nof shares, debentures, proxies and receipts.\\n1[92. *                  *                  *                  *                  *                  *]\\n2[92A. Taxes on the sale or purchase of goods other than newspapers, \\nwhere such sale or purchase takes place in the course of inter-State trade or \\ncommerce.]\\n3[92B. Taxes on the consignments of goods (whether the consignment is to \\nthe person making it or to any other person), where such consignment takes \\nplace in the course of inter-State trade or  commerce.]\\n4[92C. *                  *                  *                  *                  *                  *]\\n93. Offences against laws with respect to any of the matters in this List.\\n94. Inquires, surveys and statistics for the purpose of any of the matters in \\nthis List.\\n95. Jurisdiction and powers of all courts, except the Supreme Court, with \\nrespect to any of the matters in this List; admiralty jurisdiction.\\n96. Fees in respect of any of the matters in this List, but not including fees \\ntaken in any court.\\n97. Any other matter not enumerated in List II or List III including any tax \\nnot mentioned in either of those Lists. THE CONSTITUTION OF  INDIA\\n(Seventh Schedule) \\n317\\nList II—State List\\n1. Public order (but not including 1[the use of any naval, military or air \\nforce or any other armed force of the Union or of any other force subject to the \\ncontrol of the Union or of any contingent or unit thereof] in aid of the civil \\npower).\\n2[2. Police (including railway and village police) subject to the provisions \\nof entry 2A of List I.]\\n3. 3*** Officers and servants of the High Court; procedure in rent and \\nrevenue courts; fees taken in all courts except the Supreme Court.\\n4. Prisons, reformatories, Borstal institutions and other institutions of a \\nlike nature, and persons detained therein; arrangements with other States for the \\nuse of prisons and other institutions. \\n5. Local government, that is to say, the constitution and powers of \\nmunicipal corporations, improvement trusts, districts boards, mining settlement \\nauthorities and other local authorities for the purpose of local self-government \\nor village administration.\\n6. Public health and sanitation; hospitals and dispensaries.\\n7. Pilgrimages, other than pilgrimages to places outside India.\\n8. Intoxicating liquors, that is to say, the production, manufacture, \\npossession, transport, purchase and sale of intoxicating liquors.\\n9. Relief of the disabled and unemployable.\\n10. Burials and burial grounds; cremations and cremation grounds.\\n4[11*\\n*\\n*\\n*\\n*]\\n12. Libraries, museums and other similar institutions controlled or \\nfinanced by the State; ancient and historical monuments and records other than \\nthose 5[declared by or under law made by Parliament] to be of national \\nimportance. THE CONSTITUTION OF  INDIA\\n(Seventh Schedule) \\n318\\n13. Communications, that is to say, roads, bridges, ferries, and other \\nmeans of communication not specified in List I; municipal tramways; \\nropeways; inland waterways and traffic thereon subject to the provisions of List \\nI and List III with regard to such waterways; vehicles other than mechanically \\npropelled vehicles.\\n14. Agriculture, including agricultural education and research, protection \\nagainst pests and prevention of plant diseases.\\n15. Preservation, protection and improvement of stock and prevention of \\nanimal diseases; veterinary training and practice.\\n16. Pounds and the prevention of cattle trespass.\\n17. Water, that is to say, water supplies, irrigation and canals, drainage \\nand embankments, water storage and water power subject to the provisions of \\nentry 56 of List I. \\n18. Land, that is to say, rights in or over land, land tenures including the \\nrelation of landlord and tenant, and the collection of rents; transfer and \\nalienation of agricultural land; land improvement and agricultural loans; \\ncolonization.\\n1[19*      \\n*\\n*                          *                       *\\n20*      \\n*                       *                          *                        *]\\n21. Fisheries.\\n22. Courts of wards subject to the provisions of entry 34 of List I; \\nencumbered and attached estates.\\n23. Regulation of mines and mineral development subject to the \\nprovisions of List I with respect to regulation and development under the \\ncontrol of the Union.\\n24. Industries subject to the provisions of 2[entries 7 and 52] of List I.\\n25. Gas and gas-works.\\n26. Trade and commerce within the State subject to the provisions of entry \\n33 of List III. THE CONSTITUTION OF  INDIA\\n(Seventh Schedule) \\n319\\n27. Production, supply and distribution of goods subject to the provisions \\nof entry 33 of List III. \\n28. Markets and fairs.\\n1[29*                    *                       *                        *                       *] \\n30. Money-lending and money-lenders; relief of agricultural indebtedness.\\n31. Inns and inn-keepers.\\n32. Incorporation, regulation and winding up of corporations, other than \\nthose specified in List I, and universities; unincorporated trading, literary, \\nscientific, religious and other societies and associations; co-operative societies.\\n33. Theatres and dramatic performances; cinemas subject to the provisions \\nof entry 60 of List I; sports, entertainments and amusements.\\n34. Betting and gambling. \\n35. Works,  lands and buildings vested in or in the possession of the State.\\n2[36*                    *                       *                        *                       *] \\n37. Elections to the Legislature of the State subject to the provisions of \\nany law made by Parliament. \\n38. Salaries and allowances of members of the Legislature of the State, of \\nthe Speaker and Deputy Speaker of the Legislative Assembly and, if there is a \\nLegislative Council, of the Chairman and Deputy Chairman thereof.\\n39. Powers, privileges and immunities of the Legislative Assembly and of \\nthe members and the committees thereof, and, if there is a Legislative Council, \\nof that Council and of the members and the committees thereof; enforcement of \\nattendance of persons for giving evidence or producing documents before \\ncommittees of the Legislature of the State.\\n40. Salaries and allowances of Ministers for the State.\\n41. State public services; State Public Service Commission.\\n42. State pensions, that is to say, pensions payable by the State or out of \\nthe Consolidated Fund of the State.\\n43. Public debt of the State.\\n44. Treasure trove. THE CONSTITUTION OF  INDIA\\n(Seventh Schedule) \\n320\\n45. Land revenue, including the assessment and collection of revenue, the \\nmaintenance of land records, survey for revenue purposes and records of rights, \\nand alienation of revenues.\\n46. Taxes on agricultural income.\\n47. Duties in respect of succession to agricultural land.\\n48. Estate duty in respect of agricultural land.\\n49. Taxes on lands and buildings.\\n50. Taxes on mineral rights subject to any limitations imposed by \\nParliament by law relating to mineral development.\\n51. Duties of excise on the following goods manufactured or produced in \\nthe State and countervailing duties at the same or lower rates on similar goods \\nmanufactured or produced elsewhere in India:—\\n(a) alcoholic liquors for human consumption; \\n(b) opium, Indian hemp and other narcotic drugs and narcotics,\\nbut not including medicinal and toilet preparations containing alcohol or any \\nsubstance included in sub-paragraph (b) of this entry.\\n1[52. *                  *                  *                  *                  *                  *]\\n53. Taxes on the consumption or sale of electricity.\\n2[54. Taxes on the sale of petroleum crude, high speed diesel, motor spirit \\n(commonly known as petrol), natural gas, aviation turbine fuel and alcoholic \\nliquor for human consumption, but not including sale in the course of \\ninter-State trade or commerce or sale in the course of international trade or \\ncommerce of such goods.]\\n3[55. *                  *                  *                  *                  *                  *]\\n56. Taxes on goods and passengers carried by road or on inland \\nwaterways. THE CONSTITUTION OF  INDIA\\n(Seventh Schedule) \\n321\\n57. Taxes on vehicles, whether mechanically propelled or not, suitable for \\nuse on roads, including tramcars subject to the provisions of entry 35 of List III.\\n58. Taxes on animals and boats. \\n59. Tolls.\\n60. Taxes on professions, trades, callings and employments.\\n61. Capitation taxes.\\n1[62. Taxes on entertainments and amusements to the extent levied and \\ncollected by a Panchayat or a Municipality or a Regional Council or a District \\nCouncil.]\\n63. Rates of stamp duty in respect of documents other than those specified \\nin the provisions of List I with regard to rates of stamp duty.\\n64. Offences against laws with respect to any of the matters in this List.\\n65. Jurisdiction and powers of all courts, except the Supreme Court, with \\nrespect to any of the matters in this List.\\n66. Fees in respect of any of the matters in this List, but not including fees \\ntaken in any court.\\nList III—Concurrent List\\n1. Criminal law, including all matters included in the Indian Penal Code \\nat the commencement of this Constitution but excluding offences against laws \\nwith respect to any of the matters specified in List I or List II and excluding the \\nuse of naval, military or air forces or any other armed forces of the Union in aid \\nof the civil power.\\n2. Criminal procedure, including all matters included in the Code of \\nCriminal Procedure at the commencement of this Constitution.\\n3. Preventive detention for reasons connected with the security of a State, \\nthe maintenance of public order, or the maintenance of supplies and services \\nessential to the community; persons subjected to such detention.\\n4. Removal from one State to another State of prisoners, accused persons \\nand persons subjected to preventive detention for reasons specified in entry 3 of \\nthis List. THE CONSTITUTION OF  INDIA\\n(Seventh Schedule) \\n322\\n5. Marriage and divorce; infants and minors; adoption; wills, intestacy \\nand succession; joint family and partition; all matters in respect of which \\nparties in judicial proceedings were immediately before the commencement of \\nthis Constitution subject to their personal law.\\n 6. Transfer of property other than agricultural land; registration of deeds \\nand documents.\\n7.  Contracts, including partnership, agency, contracts of carriage, and \\nother special forms of contracts, but not including contracts relating to \\nagricultural land. \\n 8.  Actionable wrongs.\\n 9.  Bankruptcy and insolvency.\\n10. Trust and Trustees.\\n11.  Administrators-general and official trustees. \\n1[11A. Administration of Justice; constitution and organisation of all \\ncourts, except the Supreme Court and the High Courts.] \\n12. Evidence and oaths; recognition of laws, public acts and records, and \\njudicial proceedings.\\n13. Civil procedure, including all matters included in the Code of Civil \\nProcedure at the commencement of this Constitution, limitation and arbitration.\\n14. Contempt of court, but not including contempt of the Supreme Court.\\n15. Vagrancy; nomadic and migratory tribes.\\n16. Lunacy and mental deficiency, including places for the reception or \\ntreatment of lunatics and mental deficients.\\n17. Prevention of cruelty to animals.\\n1[17A.  Forests.\\n17B. Protection of wild animals and birds.]\\n18. Adulteration of foodstuffs and other goods.\\n19. Drugs and poisons, subject to the provisions of entry 59 of List I with \\nrespect to opium.\\n20. Economic and social planning.\\n1[20A. Population control and family planning.] THE CONSTITUTION OF  INDIA\\n(Seventh Schedule) \\n323\\n21. Commercial and industrial monopolies, combines and trusts.\\n22. Trade unions; industrial and labour disputes.\\n23. Social security and social insurance; employment and unemployment.\\n24. Welfare of labour including conditions of work, provident funds, \\nemployers' liability, workmen's compensation, invalidity and old age pensions \\nand maternity benefits.\\n1[25. Education, including technical education, medical education and \\nuniversities, subject to the provisions of entries 63, 64, 65 and 66 of List I; \\nvocational and technical training of labour.]\\n26. Legal, medical and other professions.\\n27. Relief and rehabilitation of persons displaced from their original place \\nof residence by reason of the setting up of the Dominions of India and Pakistan.\\n28. Charities  and  charitable  institutions,  charitable \\nand \\nreligious \\nendowments and religious institutions.\\n29. Prevention of the extension from one State to another of infectious or \\ncontagious diseases or pests affecting men, animals or plants. \\n30. Vital statistics including registration of births and deaths.\\n31. Ports other than those declared by or under law made by Parliament or \\nexisting law to be major ports.\\n32. Shipping and navigation on inland waterways as regards mechanically \\npropelled vessels, and the rule of the road on such waterways, and the carriage \\nof passengers and goods on inland waterways subject to the provisions of List I \\nwith respect to national waterways.\\n2[33. Trade and commerce in, and the production, supply and distribution \\nof,—\\n(a) the products of any industry where the control of such industry \\nby the Union is declared by Parliament by law to be expedient in the \\npublic interest, and imported goods of the same kind as such products;\\n(b) foodstuffs, including edible oilseeds and oils;\\n(c) cattle fodder, including oilcakes and other concentrates;\\n(d) raw cotton, whether ginned or unginned, and cotton seed; and\\n(e) raw jute.] THE CONSTITUTION OF  INDIA\\n(Seventh Schedule) \\n324\\n1[33A. Weights and measures except establishment of standards.]\\n34.  Price control. \\n35. Mechanically propelled vehicles including the principles on which \\ntaxes on such vehicles are to be levied.\\n36. Factories\\n37. Boilers.\\n38. Electricity. \\n39. Newspapers, books and printing presses. \\n40. Archaeological sites and remains other than those 2[declared by or \\nunder law made by Parliament] to be of national importance.\\n41. Custody, management and disposal of property (including agricultural \\nland) declared by law to be evacuee property. \\n3[42. Acquisition and requisitioning of property.]\\n43. Recovery in a State of claims in respect of taxes and other public \\ndemands, including arrears of land-revenue and sums recoverable as such \\narrears, arising outside that State.\\n44. Stamp duties other than duties or fees collected by means of judicial \\nstamps, but not including rates of stamp duty.\\n45. Inquiries and statistics for the purposes of any of the matters specified \\nin List II or List III.\\n46. Jurisdiction and powers of all courts, except the Supreme Court, with \\nrespect to any of the matters in this List.\\n47. Fees in respect of any of the matters in this List, but not including fees \\ntaken in any court.\""
      ]
     },
     "execution_count": 65,
     "metadata": {},
     "output_type": "execute_result"
    }
   ],
   "source": [
    "seventh_schedule = footer_remover(data[340:355])\n",
    "seventh_schedule"
   ]
  },
  {
   "cell_type": "code",
   "execution_count": 66,
   "id": "fb12f183",
   "metadata": {},
   "outputs": [
    {
     "data": {
      "text/plain": [
       "'325\\nEIGHTH SCHEDULE\\n[Articles 344(1) and 351]\\nLanguages \\n1.   Assamese.\\n2.   Bengali.\\n1[3.   Bodo. \\n4.  Dogri.] \\n2[5.] Gujarati.\\n3[6.] Hindi.\\n3[7.] Kannada.\\n3[8.]  Kashmiri. \\n4[3[9.]   Konkani.]\\n1[10. Maithili.]\\n5[11.] Malayalam.\\n4[6[12.] Manipuri.]\\n6[13.] Marathi.\\n4[6[14.] Nepali.]\\n6[15.] 7[Odia].\\n6[16.] Punjabi.\\n6[17.] Sanskrit. THE CONSTITUTION OF  INDIA\\n(Eighth Schedule)\\n326\\n1[18.  Santhali.]\\n2[3[19.] Sindhi.]\\n4[20.] Tamil.\\n4[21.] Telugu.\\n           4[22.]  Urdu.'"
      ]
     },
     "execution_count": 66,
     "metadata": {},
     "output_type": "execute_result"
    }
   ],
   "source": [
    "eighth_schedule = footer_remover(data[355:357])\n",
    "eighth_schedule"
   ]
  },
  {
   "cell_type": "code",
   "execution_count": 67,
   "id": "4905da4d",
   "metadata": {},
   "outputs": [
    {
     "data": {
      "text/plain": [
       "\"327\\n1[NINTH SCHEDULE\\n(Article 31B)\\n1. The Bihar Land Reforms Act, 1950 (Bihar Act XXX of 1950).\\n2. The Bombay Tenancy and Agricultural Lands Act, 1948. (Bombay Act \\nLXVII of 1948). \\n3. The Bombay Maleki Tenure Abolition Act, 1949 (Bombay Act LXI of 1949).\\n4. The Bombay Taluqdari Tenure Abolition Act, 1949. (Bombay Act LXII \\nof 1949). \\n5. The Panch Mahals Mehwassi Tenure Abolition Act, 1949. (Bombay Act \\nLXIII of 1949).\\n6. The Bombay Khoti Abolition Act, 1950 (Bombay Act VI of 1950).\\n7. The Bombay Paragana and Kulkarni Watan Abolition Act, 1950. \\n(Bombay Act LX of 1950).\\n8. The Madhya Pradesh Abolition of Proprietary Rights (Estates, Mahals, \\nAlienated Lands) Act, 1950 (Madhya Pradesh Act I of 1951).\\n9. The Madras Estates (Abolition and Conversion into Ryotwari) Act, 1948 \\n(Madras Act XXVI of 1948). \\n10. The Madras Estates (Abolition and Conversion into Ryotwari) \\nAmendment Act, 1950 (Madras Act I of 1950).\\n11. The Uttar Pradesh  Zamindari Abolition and Land Reforms Act, 1950 \\n(Uttar Pradesh Act I of 1951).\\n12. The Hyderabad (Abolition of Jagirs) Regulation, 1358F (No. LXIX of \\n1358, Fasli).\\n13. The Hyderabad Jagirs (Commutation) Regulation, 1359F (No. XXV of \\n1359, Fasli).]\\n2[14. The Bihar Displaced Persons Rehabilitation (Acquisition of Land) \\nAct, 1950 (Bihar Act XXXVIII of 1950). \\n15. The United Provinces Land Acquisition (Rehabilitation of Refugees) \\nAct, 1948 (U.P. Act XXVI of 1948).\\n16. The Resettlement of Displaced Persons (Land Acquisition) Act, 1948 \\n(Act LX of 1948).\\n17. Sections 52A to 52G of the Insurance Act, 1938 (Act IV of 1938), as inserted \\nby section 42 of the Insurance (Amendment) Act, 1950 (Act XLVII of 1950).\\n18. The Railway Companies (Emergency Provisions) Act, 1951 (Act LI of 1951). THE CONSTITUTION OF  INDIA\\n(Ninth Schedule)\\n328\\n19. Chapter III-A of the Industries (Development and Regulation) \\nAct, 1951 (Act LXV of 1951), as inserted by section 13 of the Industries \\n(Development and Regulation) Amendment Act, 1953 (Act XXVI of 1953). \\n20. The West Bengal Land Development and Planning Act, 1948 \\n(West Bengal Act XXI of 1948), as amended by West Bengal Act XXIX of \\n1951.]\\n1[21. The Andhra Pradesh Ceiling on Agricultural Holdings Act, 1961 \\n(Andhra Pradesh Act X of 1961).\\n22. The Andhra Pradesh (Telangana Area) Tenancy and Agricultural Lands \\n(Validation) Act, 1961 (Andhra Pradesh Act XXI of 1961).\\n23. The Andhra  Pradesh (Telangana Area) Ijara and Kowli Land \\nCancellation of Irregular Pattas and Abolition of Concessional Assessment   \\nAct, 1961 (Andhra Pradesh Act XXXVI of 1961).\\n24. The Assam State Acquisition of Lands belonging to Religious or \\nCharitable Institution of Public Nature Act, 1959 (Assam Act IX of 1961).\\n25. The Bihar Land Reforms (Amendment) Act, 1953 (Bihar Act XX of 1954).\\n26. The Bihar Land Reforms (Fixation of Ceiling Area and Acquisition of \\nSurplus Land) Act, 1961 (Bihar Act XII of 1962),  except section 28 of this Act.\\n27. The Bombay Taluqdari Tenure Abolition (Amendment) Act, 1954 \\n(Bombay Act I of 1955).\\n28. The Bombay Taluqdari Tenure Abolition (Amendment) Act, 1957 \\n(Bombay Act XVIII of 1958).\\n29. The Bombay Inams (Kutch Area) Abolition Act, 1958 (Bombay \\nAct XCVIII of 1958).\\n30. The Bombay Tenancy and Agricultural Lands (Gujarat Amendment) \\nAct, 1960 (Gujarat Act XVI of 1960).\\n31. The Gujarat Agricultural Lands Ceiling Act, 1960 (Gujarat Act XXVI \\nof 1961).\\n32. The Sagbara and Mehwassi Estates (Proprietary Rights Abolition, etc.) \\nRegulation, 1962 (Gujarat Regulation I of 1962). THE CONSTITUTION OF  INDIA\\n(Ninth Schedule)\\n329\\n33. The Gujarat Surviving Alienations Abolition Act, 1963 (Gujarat Act \\nXXXIII of 1963), except in so far as this Act relates to an alienation referred to \\nin sub-clause (d) of clause (3) of section 2 thereof.\\n34. The Maharashtra Agricultural Lands (Ceiling on Holdings) Act, 1961 \\n(Maharashtra Act XXVII of 1961).\\n35. The Hyderabad Tenancy and Agricultural Lands (Re-enactment, Validation \\nand Further Amendment) Act, 1961 (Maharashtra Act XLV of 1961).\\n36. The Hyderabad Tenancy and Agricultural Lands Act, 1950 \\n(Hyderabad Act XXI of 1950).\\n37. The Jenmikaram Payment (Abolition) Act, 1960 (Kerala Act III of 1961).\\n38. The Kerala Land Tax Act, 1961 (Kerala Act XIII of 1961).\\n39. The Kerala Land Reforms Act, 1963 (Kerala Act I of 1964).  \\n40. The Madhya Pradesh Land Revenue Code, 1959 (Madhya Pradesh \\nAct XX of 1959). \\n41. The Madhya Pradesh Ceiling on Agricultural Holdings Act, 1960 \\n(Madhya Pradesh Act XX of 1960).\\n42. \\nThe \\nMadras \\nCultivating \\nTenants \\nProtection \\nAct, \\n1955 \\n(Madras Act XXV of 1955).\\n43. The Madras Cultivating Tenants (Payment of Fair Rent) Act, 1956 \\n(Madras Act XXIV of 1956).\\n44. The Madras Occupants of Kudiyiruppu (Protection from Eviction) \\nAct, 1961 (Madras Act XXXVIII of 1961).\\n45. The Madras Public Trusts (Regulation of Administration of \\nAgricultural Lands) Act, 1961 (Madras Act LVII of 1961).\\n46. The Madras Land Reforms (Fixation of Ceiling on Land) Act, 1961 \\n(Madras Act LVIII of 1961).\\n47. The Mysore  Tenancy Act, 1952 (Mysore Act XIII of 1952).\\n48. The Coorg Tenants Act, 1957 (Mysore Act XIV of 1957).\\n49. The Mysore Village Offices Abolition Act, 1961 (Mysore Act XIV of 1961).\\n50. The Hyderabad Tenancy and Agricultural Lands (Validation) Act, 1961 \\n(Mysore Act XXXVI of 1961).\\n51. The Mysore Land Reforms Act, 1961 (Mysore Act X of 1962). THE CONSTITUTION OF  INDIA\\n(Ninth Schedule)\\n330\\n52. The Orissa Land Reforms Act, 1960 (Orissa Act XVI of 1960).\\n53. The Orissa Merged Territories (Village Offices Abolition) Act, 1963 \\n(Orissa Act X of 1963). \\n54. The Punjab Security of Land Tenures Act, 1953 (Punjab Act X of 1953).\\n55. The Rajasthan Tenancy Act, 1955 (Rajasthan Act III of 1955).\\n56. The Rajasthan Zamindari and Biswedari Abolition Act, 1959 \\n(Rajasthan Act VIII of 1959).\\n57. The Kumaun and Uttarakhand Zamindari Abolition and Land Reforms \\nAct, 1960 (Uttar Pradesh Act XVII of 1960).\\n58. The Uttar Pradesh Imposition of Ceiling on Land Holdings Act, 1960 \\n(Uttar Pradesh Act I of 1961).\\n59. The West Bengal Estates Acquisition Act, 1953 (West Bengal Act I of 1954).\\n60. The West Bengal Land Reforms Act, 1955 (West Bengal Act X of 1956).  \\n61. The Delhi Land Reforms Act, 1954 (Delhi Act VIII of 1954). \\n62. The Delhi Land Holdings (Ceiling) Act, 1960 (Central Act 24 of 1960).\\n63. The Manipur Land Revenue and Land Reforms Act, 1960 \\n(Central Act 33 of 1960).\\n64. The Tripura Land Revenue and Land Reforms Act, 1960 \\n(Central Act 43 of 1960).\\n1[65. \\nThe \\nKerala \\nLand \\nReforms \\n(Amendment) \\nAct, \\n1969 \\n(Kerala Act 35 of 1969).\\n66. \\nThe \\nKerala \\nLand \\nReforms \\n(Amendment) \\nAct, \\n1971 \\n(Kerala Act 25 of 1971).]\\n2[67. The Andhra Pradesh Land Reforms (Ceiling on Agricultural \\nHoldings) Act, 1973 (Andhra Pradesh Act 1 of 1973).\\n68. The Bihar Land Reforms (Fixation of Ceiling Area and Acquisition of \\nSurplus Land) (Amendment) Act, 1972 (Bihar Act I of 1973). THE CONSTITUTION OF  INDIA\\n(Ninth Schedule)\\n331\\n69. The Bihar Land Reforms (Fixation of Ceiling Area and Acquisition of \\nSurplus Land) (Amendment) Act, 1973 (Bihar Act IX of 1973).\\n70. The Bihar Land Reforms (Amendment) Act, 1972 (Bihar Act V of  \\n1972). \\n71. The Gujarat Agricultural Lands Ceiling (Amendment) Act, 1972 \\n(Gujarat Act 2 of 1974).\\n72. The Haryana Ceiling on Land Holdings Act, 1972 (Haryana Act 26 of 1972). \\n73. The Himachal Pradesh Ceiling on Land Holdings Act, 1972 (Himachal \\nPradesh Act 19 of 1973).\\n74. The Kerala Land Reforms (Amendment) Act, 1972 (Kerala Act 17 of 1972). \\n75. The Madhya Pradesh Ceiling on Agricultural Holdings (Amendment) \\nAct, 1972 (Madhya Pradesh Act 12 of 1974).\\n76. The Madhya Pradesh Ceiling on Agricultural Holdings (Second \\nAmendment) Act, 1972 (Madhya Pradesh Act 13 of 1974). \\n77. \\nThe \\nMysore \\nLand \\nReforms \\n(Amendment) \\nAct, \\n1973 \\n(Karnataka Act 1 of 1974).\\n78. The Punjab Land Reforms Act, 1972 (Punjab Act 10 of 1973).\\n79. The Rajasthan Imposition of Ceiling on Agricultural Holdings Act, \\n1973 (Rajasthan Act 11 of 1973).\\n80. The Gudalur Janmam Estates (Abolition and Conversion into Ryotwari) \\nAct, 1969 (Tamil Nadu Act 24 of 1969).\\n81.  The West Bengal Land Reforms (Amendment) Act, 1972 (West \\nBengal Act XII of 1972).\\n82. The West Bengal Estates Acquisition (Amendment) Act, 1964 (West \\nBengal Act XXII of 1964).\\n83. The West Bengal Estates Acquisition (Second Amendment) Act, 1973 \\n(West Bengal Act XXXIII of 1973).\\n84. The Bombay Tenancy and Agricultural Lands (Gujarat Amendment) \\nAct, 1972 (Gujarat Act 5 of 1973).\\n85. The Orissa Land Reforms (Amendment) Act, 1974 (Orissa Act 9 of \\n1974).\\n86. The Tripura Land Revenue and Land Reforms (Second Amendment) \\nAct, 1974 (Tripura Act 7 of 1974).] THE CONSTITUTION OF  INDIA\\n(Ninth Schedule)\\n332\\n1[287* \\n*                       * \\n* \\n*]\\n88. The Industries (Development and Regulation) Act, 1951 (Central Act \\n65 of 1951). \\n89. The Requisitioning and Acquisition of Immovable Property Act, 1952 \\n(Central Act 30 of 1952). \\n90. The Mines and Minerals (Regulation and Development) Act, 1957 \\n(Central Act 67 of 1957).\\n91. The Monopolies and Restrictive Trade Practices Act, 1969 (Central \\nAct 54 of 1969).\\n2[92*                    *                   *                        * \\n *]\\n93. The Coking Coal Mines (Emergency Provisions) Act, 1971 (Central \\nAct 64 of 1971). \\n94. The Coking Coal Mines (Nationalisation) Act, 1972 (Central Act 36 of \\n1972). \\n95. The General Insurance Business (Nationalisation) Act, 1972 (Central \\nAct 57 of 1972).\\n96. The Indian Copper Corporation (Acquisition of Undertaking) Act, 1972 \\n(Central Act 58 of 1972).\\n97. The Sick Textile Undertakings (Taking Over of Management) Act, \\n1972 (Central Act 72 of 1972).\\n98. The Coal Mines (Taking Over of Management) Act, 1973 (Central Act \\n15 of 1973).\\n99. The Coal Mines (Nationalisation) Act, 1973 (Central Act 26 of 1973).\\n100. The Foreign Exchange Regulation Act, 1973 (Central Act 46 of \\n1973).\\n101. The Alcock Ashdown Company Limited (Acquisition of Under-\\ntakings) Act, 1973 (Central Act 56 of 1973). THE CONSTITUTION OF  INDIA\\n(Ninth Schedule)\\n333\\n102. The Coal Mines (Conservation and Development) Act, 1974 (Central \\nAct 28 of 1974). \\n103. The Additional Emoluments (Compulsory Deposit) Act, 1974 (Central \\nAct 37 of 1974). \\n104. The Conservation of Foreign Exchange and Prevention of Smuggling \\nActivities Act, 1974 (Central Act 52 of 1974).\\n105. The Sick Textile Undertakings (Nationalisation) Act, 1974 (Central \\nAct 57 of 1974).\\n106. The  Maharashtra Agricultural Lands  (Ceiling  on  Holdings) \\n(Amendment) Act, 1964 (Maharashtra Act XVI of 1965).\\n107. The Maharashtra Agricultural Lands (Ceiling on Holdings) \\n(Amendment) Act, 1965 (Maharashtra Act XXXII of 1965).\\n108. The Maharashtra Agricultural Lands (Ceiling on Holdings) \\n(Amendment) Act, 1968 (Maharashtra Act XVI of 1968).\\n109. The Maharashtra Agricultural Lands (Ceiling on Holdings) (Second \\nAmendment) Act, 1968 (Maharashtra Act XXXIII of 1968).\\n110. The Maharashtra Agricultural Lands (Ceiling on Holdings) \\n(Amendment) Act, 1969 (Maharashtra Act XXXVII of 1969).\\n111. The Maharashtra Agricultural Lands (Ceiling on Holdings) (Second \\nAmendment) Act, 1969 (Maharashtra Act XXXVIII of 1969).\\n112. The Maharashtra Agricultural Lands (Ceiling\\non\\nHoldings) \\n(Amendment) Act, 1970 (Maharashtra Act XXVII of 1970).\\n113. The Maharashtra Agricultural\\nLands\\n(Ceiling\\non\\nHoldings) \\n(Amendment) Act, 1972 (Maharashtra Act XIII of 1972).\\n114. The \\nMaharashtra\\nAgricultural\\nLands \\n(Ceiling on Holdings) \\n(Amendment) Act, 1973 (Maharashtra Act L of 1973).\\n115. The Orissa Land Reforms (Amendment) Act, 1965 (Orissa Act 13 of \\n1965).\\n116. The Orissa Land Reforms (Amendment) Act, 1966 (Orissa Act 8 of \\n1967).\\n117. The Orissa Land Reforms (Amendment) Act, 1967 (Orissa Act 13 of \\n1967). THE CONSTITUTION OF  INDIA\\n(Ninth Schedule)\\n334\\n118. The Orissa Land Reforms (Amendment) Act, 1969 (Orissa Act 13 of \\n1969).\\n119. The Orissa Land Reforms (Amendment) Act, 1970 (Orissa Act 18 of \\n1970).\\n120. The Uttar Pradesh Imposition of Ceiling on Land Holdings \\n(Amendment) Act, 1972 (Uttar Pradesh  Act 18 of 1973).\\n121. The Uttar Pradesh Imposition of Ceiling on Land Holdings \\n(Amendment) Act, 1974 (Uttar Pradesh  Act 2 of 1975).\\n122. The Tripura Land Revenue and Land Reforms  (Third Amendment) \\nAct, 1975 (Tripura Act 3 of 1975).\\n123.The Dadra and Nagar Haveli Land Reforms Regulation, 1971 (3 of 1971).\\n124. The Dadra and Nagar Haveli Land Reforms (Amendment)  \\nRegulation, 1973 (5 of 1973).]\\n1[125. Section 66A and Chapter IVA of the Motor Vehicles Act, 1939\\n(Central Act 4 of 1939).\\n126. The Essential Commodities Act, 1955 (Central Act 10 of 1955).\\n127. The Smugglers and Foreign Exchange Manipulators (Forfeiture of \\nProperty) Act, 1976 (Central Act 13 of 1976).\\n128. The Bonded Labour System (Abolition) Act, 1976 (Central Act 19 of \\n1976).\\n129. The Conservation of Foreign Exchange and Prevention of Smuggling \\nActivities (Amendment) Act, 1976 (Central Act 20 of 1976).\\n2130*                       *                          *                        *  \\n*\\n131. The Levy Sugar Price Equalisation Fund Act, 1976 (Central Act 31 of \\n1976).\\n132. The Urban Land (Ceiling and Regulation) Act, 1976 (Central Act 33 \\nof 1976). THE CONSTITUTION OF  INDIA\\n(Ninth Schedule)\\n335\\n133. The Departmentalisation of Union Accounts (Transfer of Personnel) \\nAct, 1976 (Central Act 59 of 1976).\\n134. The Assam Fixation of Ceiling on Land Holdings Act, 1956 (Assam \\nAct I of 1957). \\n135. The Bombay Tenancy and Agricultural Lands (Vidarbha Region) Act, \\n1958 (Bombay Act XCIX of 1958).\\n136. The Gujarat Private Forests (Acquisition) Act, 1972 (Gujarat Act 14 \\nof 1973). \\n137. The Haryana Ceiling on Land Holdings (Amendment) Act, 1976 \\n(Haryana Act 17 of 1976).\\n138. The Himachal Pradesh Tenancy and Land Reforms Act, 1972 \\n(Himachal Pradesh Act 8 of 1974).\\n139. The Himachal Pradesh Village Common Lands Vesting and \\nUtilisation Act, 1974 (Himachal Pradesh Act 18 of 1974).\\n140. The Karnataka Land Reforms (Second Amendment and Miscellaneous \\nProvisions) Act, 1974 (Karnataka Act 31 of 1974).\\n141. The Karnataka Land Reforms (Second Amendment) Act, 1976 \\n(Karnataka Act 27 of 1976).\\n142. The Kerala Prevention of Eviction Act, 1966 (Kerala Act 12 of 1966).\\n143. The Thiruppuvaram Payment (Abolition) Act, 1969 (Kerala Act 19 of 1969).\\n144. The Sreepadam Lands Enfranchisement Act, 1969 (Kerala Act 20 of \\n1969).\\n145. The Sree Pandaravaka Lands (Vesting and Enfranchisement) Act, \\n1971 (Kerala Act 20 of 1971).\\n146. The Kerala Private Forests (Vesting and Assignment) Act, 1971 \\n(Kerala Act 26 of 1971).\\n147. The Kerala Agricultural Workers Act, 1974 (Kerala Act 18 of 1974).\\n148. The Kerala Cashew Factories (Acquisition) Act, 1974 (Kerala Act 29 \\nof 1974).\\n149. The Kerala Chitties Act, 1975 (Kerala Act 23 of 1975).\\n150. The Kerala Scheduled Tribes (Restriction on Transfer of Lands and \\nRestoration of Alienated Lands) Act, 1975 (Kerala Act 31 of 1975). THE CONSTITUTION OF  INDIA\\n(Ninth Schedule)\\n336\\n151.  The Kerala Land Reforms (Amendment) Act, 1976 (Kerala Act 15 of \\n1976). \\n152. The Kanam Tenancy Abolition Act, 1976 (Kerala Act 16 of 1976). \\n153. The Madhya Pradesh Ceiling on Agricultural Holdings (Amendment) \\nAct, 1974 (Madhya Pradesh Act 20 of 1974).\\n154. The Madhya Pradesh Ceiling on Agricultural Holdings  (Amendment) \\nAct, 1975 (Madhya Pradesh Act 2 of 1976).\\n155. The West Khandesh Mehwassi Estates (Proprietary Rights Abolition, \\netc.) Regulation, 1961 (Maharashtra Regulation 1 of 1962).\\n156. The Maharashtra Restoration of Lands to Scheduled Tribes Act, 1974 \\n(Maharashtra Act XIV of 1975).\\n157. The Maharashtra Agricultural Lands (Lowering of Ceiling on \\nHoldings) and (Amendment) Act, 1972 (Maharashtra Act XXI of 1975).\\n158. The Maharashtra Private Forest (Acquisition) Act, 1975 (Maharashtra \\nAct XXIX of 1975).\\n159. The Maharashtra Agricultural Lands (Lowering of Ceiling on \\nHoldings) and (Amendment) Amendment Act, 1975 (Maharashtra Act XLVII \\nof 1975).\\n160. The Maharashtra Agricultural Lands (Ceiling on Holdings) \\n(Amendment) Act, 1975 (Maharashtra Act II of 1976). \\n161. The Orissa Estates Abolition Act, 1951 (Orissa Act I of 1952).\\n162. The Rajasthan Colonisation Act, 1954 (Rajasthan Act XXVII of 1954).\\n163. The Rajasthan Land Reforms and Acquisition of Landowners’ Estates \\nAct, 1963 (Rajasthan Act 11 of 1964).\\n164. The Rajasthan Imposition of Ceiling on Agricultural Holdings \\n(Amendment) Act, 1976 (Rajasthan Act 8 of 1976).\\n165. The Rajasthan Tenancy (Amendment) Act, 1976 (Rajasthan Act 12 of \\n1976).\\n166. The Tamil Nadu Land Reforms (Reduction of Ceiling on Land) Act, \\n1970  (Tamil Nadu Act 17 of 1970).\\n167. The Tamil Nadu Land Reforms (Fixation of Ceiling on Land) \\nAmendment Act, 1971 (Tamil Nadu Act 41 of 1971). THE CONSTITUTION OF  INDIA\\n(Ninth Schedule)\\n337\\n168.  The Tamil Nadu Land Reforms (Fixation of Ceiling on Land) \\nAmendment Act, 1972 (Tamil Nadu Act 10 of 1972). \\n169. The Tamil Nadu Land Reforms (Fixation of Ceiling on Land) Second \\nAmendment Act, 1972 (Tamil Nadu Act 20 of 1972). \\n170. The Tamil Nadu Land Reforms (Fixation of Ceiling on Land) Third \\nAmendment Act, 1972 (Tamil Nadu Act 37 of 1972).\\n171. The Tamil Nadu Land Reforms (Fixation of Ceiling on Land) Fourth \\nAmendment Act, 1972 (Tamil Nadu Act 39 of 1972). \\n172. The Tamil Nadu Land Reforms (Fixation of Ceiling on Land) Sixth \\nAmendment Act, 1972 (Tamil Nadu Act 7 of 1974).\\n173. The Tamil Nadu Land Reforms (Fixation of Ceiling on Land) Fifth \\nAmendment Act, 1972 (Tamil Nadu Act 10 of 1974).\\n174. The Tamil Nadu Land Reforms (Fixation of Ceiling on Land) \\nAmendment Act, 1974 (Tamil Nadu Act 15 of 1974). \\n175. The Tamil Nadu Land Reforms (Fixation of Ceiling on Land) Third \\nAmendment Act, 1974 (Tamil Nadu Act 30 of 1974).\\n176. The Tamil Nadu  Land Reforms (Fixation of Ceiling on Land) Second \\nAmendment Act, 1974 (Tamil Nadu Act 32 of 1974).\\n177. The Tamil Nadu Land Reforms (Fixation of Ceiling on Land) \\nAmendment Act, 1975 (Tamil Nadu Act 11 of 1975).\\n178. The Tamil Nadu Land Reforms (Fixation of Ceiling on Land) Second \\nAmendment Act, 1975 (Tamil Nadu Act 21 of 1975).\\n179. Amendments made to the Uttar Pradesh Zamindari Abolition and \\nLand Reforms Act, 1950 (Uttar Pradesh Act I of 1951) by the Uttar Pradesh \\nLand Laws (Amendment) Act, 1971 (Uttar Pradesh Act 21 of 1971) and the \\nUttar Pradesh Land Laws (Amendment) Act, 1974 (Uttar Pradesh Act 34 of \\n1974).\\n180. The Uttar Pradesh Imposition of Ceiling on Land Holdings \\n(Amendment) Act, 1976 (Uttar Pradesh Act 20 of 1976). \\n181. The West Bengal Land Reforms (Second Amendment) Act, 1972 \\n(West Bengal Act XXVIII of 1972).\\n182. The West Bengal Restoration of Alienated Land Act, 1973 (West \\nBengal Act XXIII of 1973). THE CONSTITUTION OF  INDIA\\n(Ninth Schedule)\\n338\\n183. The West Bengal Land Reforms (Amendment) Act, 1974 (West \\nBengal Act XXXIII of 1974).\\n184. The West Bengal Land Reforms (Amendment) Act, 1975 (West \\nBengal Act XXIII of 1975).\\n185. The West Bengal Land Reforms (Amendment) Act, 1976 (West \\nBengal Act XII of 1976).\\n186. The Delhi Land Holdings (Ceiling) Amendment Act, 1976 (Central \\nAct 15 of 1976).\\n187. The Goa, Daman and Diu Mundkars (Protection from Eviction) Act, \\n1975 (Goa, Daman and Diu Act 1 of 1976).\\n188. The Pondicherry Land Reforms (Fixation of Ceiling on Land) Act, \\n1973 (Pondicherry Act 9 of 1974).]\\n1[189. The Assam (Temporarily Settled Areas) Tenancy Act, 1971 (Assam \\nAct XXIII of 1971). \\n190. The Assam (Temporarily Settled Areas) Tenancy (Amendment) Act, \\n1974 (Assam Act XVIII of 1974).\\n191. The Bihar Land Reforms (Fixation of Ceiling Area and Acquisition of \\nSurplus Land) (Amendment) Amending Act, 1974 (Bihar Act 13 of 1975).\\n192. The Bihar Land Reforms (Fixation of Ceiling Area and Acquisition of \\nSurplus Land) (Amendment) Act, 1976 (Bihar Act 22 of 1976).\\n193. The Bihar Land Reforms (Fixation of Ceiling Area and Acquisition of \\nSurplus Land) (Amendment) Act, 1978 (Bihar Act VII of 1978).\\n194. The Land Acquisition (Bihar Amendment) Act, 1979 (Bihar Act 2 of \\n1980).\\n195. The Haryana Ceiling on Land Holdings (Amendment) Act, 1977 \\n(Haryana Act 14 of 1977).\\n196. The Tamil Nadu Land Reforms (Fixation of Ceiling on Land) \\nAmendment Act, 1978 (Tamil Nadu Act 25 of 1978).\\n197. The Tamil Nadu Land Reforms (Fixation of Ceiling on Land) \\nAmendment Act, 1979 (Tamil Nadu Act 11 of 1979). THE CONSTITUTION OF  INDIA\\n(Ninth Schedule)\\n339\\n198. The Uttar Pradesh Zamindari Abolition Laws (Amendment) Act, 1978 \\n(Uttar Pradesh Act 15 of 1978).\\n199. The West Bengal Restoration of Alienated Land (Amendment) Act, \\n1978 (West Bengal Act XXIV of 1978).\\n200. The West Bengal Restoration of Alienated Land (Amendment) Act, \\n1980 (West Bengal Act LVI of 1980).\\n201. The Goa, Daman and Diu Agricultural Tenancy Act, 1964 (Goa, \\nDaman and Diu Act 7 of 1964).\\n202. The Goa, Daman and Diu Agricultural Tenancy (Fifth Amendment) \\nAct, 1976 (Goa, Daman and Diu Act 17 of 1976).]\\n1[203. The Andhra Pradesh Scheduled Areas Land Transfer Regulation, \\n1959 (Andhra Pradesh Regulation 1 of 1959).\\n204. The Andhra Pradesh Scheduled Areas Laws (Extension and \\nAmendment) Regulation, 1963 (Andhra Pradesh Regulation 2 of 1963). \\n205. The Andhra Pradesh Scheduled Areas Land Transfer (Amendment) \\nRegulation, 1970 (Andhra Pradesh Regulation 1 of 1970).\\n206. The Andhra Pradesh Scheduled Areas Land Transfer (Amendment) \\nRegulation, 1971 (Andhra Pradesh Regulation 1 of 1971).\\n207. The Andhra Pradesh Scheduled Areas Land Transfer (Amendment) \\nRegulation, 1978 (Andhra Pradesh Regulation 1 of 1978).\\n208. The Bihar Tenancy Act, 1885 (Bihar Act 8 of 1885).\\n209. The Chota Nagpur Tenancy Act, 1908 (Bengal Act 6 of 1908) \\n(Chapter VIII—sections 46, 47, 48, 48A and 49; Chapter X—sections 71, 71A \\nand 71B; and Chapter XVIII—sections 240, 241 and 242).\\n210. The Santhal Parganas Tenancy (Supplementary Provisions) Act, 1949 \\n(Bihar Act 14 of 1949) except section 53.\\n211. The Bihar Scheduled Areas Regulation, 1969 (Bihar Regulation 1 of 1969).\\n212. The Bihar Land Reforms (Fixation of Ceiling Area and Acquisition of \\nSurplus Land) (Amendment) Act, 1982 (Bihar Act 55 of 1982). THE CONSTITUTION OF  INDIA\\n(Ninth Schedule)\\n340\\n213. The Gujarat Devasthan Inams Abolition Act, 1969 (Gujarat Act 16 of \\n1969). \\n214. The Gujarat Tenancy Laws (Amendment) Act, 1976 (Gujarat Act 37 \\nof 1976). \\n215. The Gujarat Agricultural Lands Ceiling (Amendment) Act, 1976 \\n(President's Act 43 of 1976).\\n216. The Gujarat Devasthan Inams Abolition (Amendment) Act, 1977 \\n(Gujarat Act 27 of 1977).\\n217. The Gujarat Tenancy Laws (Amendment) Act, 1977 (Gujarat Act 30 \\nof 1977).\\n218. The Bombay Land Revenue (Gujarat Second Amendment) Act, 1980 \\n(Gujarat Act 37 of 1980).\\n219. The Bombay Land Revenue Code and Land Tenure Abolition Laws \\n(Gujarat Amendment) Act, 1982 (Gujarat Act 8 of 1982).\\n220. The Himachal Pradesh Transfer of Land (Regulation) Act, 1968 \\n(Himachal Pradesh Act 15 of 1969).\\n221. The Himachal Pradesh Transfer of Land (Regulation) (Amendment) \\nAct, 1986 (Himachal Pradesh Act 16 of 1986).\\n222. The Karnataka Scheduled Castes and Scheduled Tribes (Prohibition of \\nTransfer of Certain Lands) Act, 1978 (Karnataka Act 2 of 1979). \\n223. The Kerala Land Reforms (Amendment) Act, 1978 (Kerala Act 13 of 1978).\\n224. The Kerala Land Reforms (Amendment) Act, 1981 (Kerala Act 19 of \\n1981).\\n225. The Madhya Pradesh Land Revenue Code (Third Amendment) Act, \\n1976 (Madhya Pradesh Act 61 of 1976).\\n226. The Madhya Pradesh Land Revenue Code (Amendment) Act, 1980 \\n(Madhya Pradesh Act 15 of 1980).\\n227. The Madhya Pradesh Akrishik Jot Uchchatam Seema Adhiniyam, \\n1981 (Madhya Pradesh Act 11 of 1981).\\n228. The Madhya Pradesh Ceiling on Agricultural Holdings (Second \\nAmendment) Act, 1976 (Madhya Pradesh Act 1 of 1984).\\n229. The Madhya Pradesh Ceiling on Agricultural Holdings (Amendment) \\nAct, 1984 (Madhya Pradesh Act 14 of 1984). THE CONSTITUTION OF  INDIA\\n(Ninth Schedule)\\n341\\n230. The Madhya Pradesh Ceiling on Agricultural Holdings (Amendment) \\nAct, 1989 (Madhya Pradesh Act 8 of 1989).\\n231. The Maharashtra Land Revenue Code, 1966 (Maharashtra Act 41 of \\n1966), sections 36, 36A and 36B. \\n232. The Maharashtra Land Revenue\\nCode\\nand\\nthe Maharashtra \\nRestoration of Lands to Scheduled Tribes (Second Amendment) Act, 1976 \\n(Maharashtra Act 30 of 1977).\\n233. The Maharashtra Abolition of Subsisting Proprietary Rights to Mines \\nand Minerals in certain Lands Act, 1985 (Maharashtra Act 16 of 1985).\\n234. The Orissa Scheduled Areas Transfer of Immovable Property (by \\nScheduled Tribes) Regulation, 1956 (Orissa Regulation 2 of 1956).\\n235. The Orissa Land Reforms (Second Amendment) Act, 1975 (Orissa \\nAct 29 of 1976). \\n236. The Orissa Land Reforms (Amendment) Act, 1976 (Orissa Act 30 of 1976). \\n237. The Orissa Land Reforms (Second Amendment) Act, 1976 (Orissa \\nAct 44 of 1976).\\n238. The Rajasthan Colonisation (Amendment) Act, 1984 (Rajasthan Act \\n12 of 1984).\\n239. The Rajasthan Tenancy (Amendment) Act, 1984 (Rajasthan Act 13 of \\n1984).\\n240. The Rajasthan Tenancy (Amendment) Act, 1987 (Rajasthan Act 21 of \\n1987).\\n241. The Tamil Nadu Land Reforms (Fixation of Ceiling on Land) Second \\nAmendment Act, 1979 (Tamil Nadu Act 8 of 1980).\\n242. The Tamil Nadu Land Reforms (Fixation of Ceiling on Land) \\nAmendment Act, 1980 (Tamil Nadu Act 21 of 1980).\\n243. The Tamil Nadu Land Reforms (Fixation of Ceiling on Land) \\nAmendment Act, 1981 (Tamil Nadu Act 59 of 1981).\\n244. The Tamil Nadu Land Reforms (Fixation of Ceiling on Land) Second \\nAmendment Act, 1983 (Tamil Nadu Act 2 of 1984).\\n245. The Uttar Pradesh Land Laws (Amendment) Act, 1982 (Uttar Pradesh \\nAct 20 of 1982). THE CONSTITUTION OF  INDIA\\n(Ninth Schedule)\\n342\\n246. The West Bengal Land Reforms (Amendment) Act, 1965 (West \\nBengal Act 18 of 1965).\\n247. The West Bengal Land Reforms (Amendment) Act, 1966 (West \\nBengal Act 11 of 1966).\\n248. The West Bengal Land Reforms (Second Amendment) Act, 1969 \\n(West Bengal Act 23 of 1969).\\n249. The West Bengal Estate Acquisition (Amendment) Act, 1977 (West \\nBengal Act 36 of 1977).\\n250. The West Bengal Land Holding Revenue Act, 1979 (West Bengal Act \\n44 of 1979).\\n251. The West Bengal Land Reforms (Amendment) Act, 1980 (West \\nBengal Act 41 of 1980).\\n252. The West Bengal Land Holding Revenue (Amendment) Act, 1981 \\n(West Bengal Act 33 of 1981).\\n253. The Calcutta Thikka Tenancy (Acquisition and Regulation) Act, 1981 \\n(West Bengal Act 37 of 1981).\\n254. The West Bengal Land Holding Revenue (Amendment) Act, 1982 \\n(West Bengal Act 23 of 1982).\\n255. The Calcutta Thikka Tenancy (Acquisition and Regulation) \\n(Amendment) Act, 1984 (West Bengal Act 41 of 1984).\\n256. The Mahe Land Reforms Act, 1968 (Pondicherry Act 1 of 1968).\\n257. The Mahe Land Reforms (Amendment) Act, 1980 (Pondicherry Act 1 \\nof 1981).]\\n1[257A. The Tamil Nadu Backward Classes, Scheduled Castes and \\nScheduled Tribes (Reservation of Seats in Educational Institutions and of \\nappointments or posts in the Services under the State) Act, 1993 (Tamil Nadu \\nAct 45 of 1994).] THE CONSTITUTION OF  INDIA\\n(Ninth Schedule)\\n343\\n1[258. The Bihar Privileged Persons Homestead Tenancy Act, 1947 (Bihar \\nAct 4 of 1948). \\n259. The Bihar Consolidation of Holdings and Prevention of Fragmentation \\nAct, 1956 (Bihar Act 22 of 1956). \\n260. The Bihar Consolidation of Holdings and Prevention of Fragmentation \\n(Amendment) Act, 1970 (Bihar Act 7 of 1970).\\n261. The Bihar Privileged Persons Homestead Tenancy (Amendment) Act, \\n1970 (Bihar Act 9 of 1970). \\n262. The Bihar Consolidation of Holdings and Prevention of Fragmentation \\n(Amendment) Act, 1973 (Bihar Act 27 of 1975).\\n263. The Bihar Consolidation of Holdings and Prevention of Fragmentation \\n(Amendment) Act, 1981 (Bihar Act 35 of 1982).\\n264. The Bihar Land Reforms (Fixation of Ceiling Area and Acquisition of \\nSurplus Land) (Amendment) Act, 1987 (Bihar Act 21 of 1987).\\n265. The Bihar Privileged Persons Homestead Tenancy (Amendment) Act, \\n1989 (Bihar Act 11 of 1989).\\n266. The Bihar Land Reforms (Amendment) Act, 1989 (Bihar Act 11 of 1990).\\n267. The Karnataka Scheduled Castes and Scheduled Tribes (Prohibition of \\nTransfer of Certain Lands) (Amendment) Act, 1984 (Karnataka Act 3 of 1984).\\n268. The Kerala Land Reforms (Amendment) Act, 1989 (Kerala Act 16 of 1989).\\n269. The Kerala Land Reforms (Second Amendment) Act, 1989 (Kerala \\nAct 2 of 1990).\\n270. The Orissa Land Reforms (Amendment) Act, 1989 (Orissa Act 9 of \\n1990).\\n271. The Rajasthan Tenancy (Amendment) Act, 1979 (Rajasthan Act 16 of 1979).\\n272. The Rajasthan Colonisation (Amendment) Act, 1987 (Rajasthan Act 2 \\nof 1987).\\n273. The Rajasthan Colonisation (Amendment) Act, 1989 (Rajasthan Act \\n12 of 1989). THE CONSTITUTION OF  INDIA\\n(Ninth Schedule)\\n344\\n274. The Tamil Nadu Land Reforms (Fixation of Ceiling on Land) \\nAmendment Act, 1983 (Tamil Nadu Act 3 of 1984). \\n275. The Tamil Nadu Land Reforms (Fixation of Ceiling on Land) \\nAmendment Act, 1986 (Tamil Nadu Act 57 of 1986). \\n276. The Tamil Nadu Land Reforms (Fixation of Ceiling on Land) Second \\nAmendment Act, 1987 (Tamil Nadu Act 4 of 1988).\\n277. The Tamil Nadu Land Reforms (Fixation of Ceiling on Land) \\n(Amendment) Act, 1989 (Tamil Nadu Act 30 of 1989). \\n278. The West Bengal Land Reforms (Amendment) Act, 1981 (West \\nBengal Act 50 of 1981).\\n279. The West Bengal Land Reforms (Amendment) Act, 1986 (West \\nBengal Act 5 of 1986).\\n280. The West Bengal Land Reforms (Second Amendment) Act, 1986 \\n(West Bengal Act 19 of 1986).\\n281. The West Bengal Land Reforms (Third Amendment) Act, 1986 (West \\nBengal Act 35 of 1986).\\n282. The West Bengal Land Reforms (Amendment) Act, 1989 (West \\nBengal Act 23 of 1989).\\n283. The West Bengal Land Reforms (Amendment) Act, 1990 (West \\nBengal Act 24 of 1990).\\n284. The West Bengal Land Reforms Tribunal Act, 1991 (West Bengal Act \\n12 of 1991).]\\nExplanation:—Any acquisition made under the Rajasthan Tenancy Act, \\n1955 (Rajasthan Act 3 of 1955), in contravention of the second proviso to \\nclause(1) of article 31A shall, to the entent of the contravention, be void.]\""
      ]
     },
     "execution_count": 67,
     "metadata": {},
     "output_type": "execute_result"
    }
   ],
   "source": [
    "ninth_schedule = footer_remover(data[357:375])\n",
    "ninth_schedule"
   ]
  },
  {
   "cell_type": "code",
   "execution_count": 68,
   "id": "4957f227",
   "metadata": {},
   "outputs": [],
   "source": [
    "tenth_schedule = footer_remover(data[375:379])"
   ]
  },
  {
   "cell_type": "code",
   "execution_count": 69,
   "id": "beee18a5",
   "metadata": {},
   "outputs": [],
   "source": [
    "eleventh_schedule =footer_remover(data[379:380])"
   ]
  },
  {
   "cell_type": "code",
   "execution_count": 70,
   "id": "f616712d",
   "metadata": {},
   "outputs": [],
   "source": [
    "twelfth_schedule = footer_remover(data[380:381])"
   ]
  },
  {
   "cell_type": "code",
   "execution_count": 71,
   "id": "98ed324a",
   "metadata": {},
   "outputs": [],
   "source": [
    "schedules = []\n",
    "schedules.append(first_schedule)\n",
    "schedules.append(second_schedule)\n",
    "schedules.append(third_schedule)\n",
    "schedules.append(fourth_schedule)\n",
    "schedules.append(fifth_schedule)\n",
    "schedules.append(sixth_schedule)\n",
    "schedules.append(seventh_schedule)\n",
    "schedules.append(eighth_schedule)\n",
    "schedules.append(ninth_schedule)\n",
    "schedules.append(tenth_schedule)\n",
    "schedules.append(eleventh_schedule)\n",
    "schedules.append(twelfth_schedule)"
   ]
  },
  {
   "cell_type": "code",
   "execution_count": 72,
   "id": "7cae244b",
   "metadata": {},
   "outputs": [
    {
     "data": {
      "text/plain": [
       "'253\\n \\n1[FIRST SCHEDULE \\n[Articles 1 and 4]\\nI. THE STATES \\n \\nName\\nTerritories\\n1. \\nAndhra \\nPradesh\\n \\n \\n2[The territories specified in sub-section (1) of section 3 of \\nthe Andhra State Act, 1953, sub-section (1) of section 3 of  \\nthe States Reorganisation Act, 1956, the First Schedule to \\nthe Andhra Pradesh and Madras (Alteration of Boundaries) \\nAct, 1959, and the Schedule to the Andhra Pradesh and \\nMysore (Transfer of Territory) Act, 1968, but excluding \\nthe territories specified in the Second Schedule to the \\nAndhra Pradesh and Madras (Alteration of Boundaries) \\nAct, 1959] 3[and the territories specified in section 3 of \\nthe Andhra Pradesh Reorganisation Act, 2014].\\n2. Assam\\nThe \\nterritories \\nwhich \\nimmediately \\nbefore \\nthe \\ncommencement of this Constitution were comprised in the \\nProvince of Assam, the Khasi States and the Assam Tribal \\nAreas, \\nbut \\nexcluding \\nthe \\nterritories \\nspecified \\nin \\nthe \\nSchedule \\nto \\nthe \\nAssam \\n(Alteration of Boundaries) Act, 1951 4[and the territories \\nspecified in sub-section (1) of section 3 of the State of \\nNagaland Act, 1962]\\n5[and the territories specified in \\nsections 5, 6 and 7 of the North-Eastern Areas \\n(Reorganisation) Act, 1971] 6[and the territories referred \\nto in Part I of the Second Schedule to the Constitution \\n(One \\nHundredth \\nAmendment) \\nAct, \\n2015, \\nnotwithstanding \\nanything \\ncontained \\nin clause (a) of section 3 of the Constitution \\n(Ninth Amendment) Act, 1960, so far as it relates to the \\nterritories referred to in Part I of the Second Schedule to \\nthe Constitution (One Hundredth Amendment) Act, \\n2015.] THE CONSTITUTION OF  INDIA\\n(First Schedule)\\n         \\nName\\nTerritories\\n \\n254\\n3. Bihar \\n1[The territories \\nwhich \\nimmediately before the \\ncommencement of this Constitution were either \\ncomprised in the Province of Bihar or were being \\nadministered as if they formed part of that  Province \\nand the territories specified  in clause (a) of \\nsub-section (1) of section 3 of the Bihar and Uttar \\nPradesh (Alteration of Boundaries) Act, 1968, but \\nexcluding the territories specified in sub-section (1) of \\nsection \\n3 \\nof \\nthe \\nBihar \\nand \\nWest \\nBengal              \\n(Transfer of Territories) Act, 1956, and the territories \\nspecified in clause (b) of \\nsub-section (1) of section \\n3 of the first mentioned Act 2[and the territories \\nspecified in section 3 of the Bihar Reorganisation  Act, \\n2000].]\\n3[4. Gujarat\\nThe territories referred to in sub-section (1) of section 3 of \\nthe Bombay Reorganisation Act, 1960.]\\n5. Kerala\\nThe territories specified in sub-section (1) of section 5 \\nof the States Reorganisation Act, 1956.\\n6. Madhya\\nPradesh\\nThe territories specified in sub-section (1) of   section 9 of \\nthe States Reorganisation Act, 1956 4[and the First \\nSchedule to the Rajasthan and Madhya Pradesh (Transfer \\nof Territories) Act, 1959], 5[but excluding the territories \\nspecified in section 3 of the Madhya Pradesh \\nReorganisation Act, 2000]. THE CONSTITUTION OF  INDIA\\n(First Schedule)\\n         \\nName\\nTerritories\\n \\n255\\n1[7. Tamil Nadu]\\n \\n \\nThe \\nterritories \\nwhich \\nimmediately \\nbefore \\nthe \\ncommencement \\nof \\nthis \\nConstitution were either \\ncomprised in the Province  of Madras or were being \\nadministered as  if they formed part of that Province and \\nthe territories specified in section 4 of the States \\nReorganisation  Act, 1956, 2[and the Second Schedule to \\nthe Andhra Pradesh and Madras (Alteration of \\nBoundaries) Act, 1959], but excluding the territories \\nspecified in sub-section \\n(1) of section 3 \\nand \\nsub-section (1) of section 4 of the Andhra State Act, 1953 \\nand 3[the territories specified in clause (b) of sub-section \\n(1) of section 5, section 6 and clause (d) of sub-section \\n(1) of section 7 of the States Reorganisation  Act, 1956 \\nand \\nthe \\nterritories \\nspecified \\nin \\nthe                                  \\nFirst Schedule to the Andhra Pradesh and Madras                                 \\n(Alteration of Boundaries) Act, 1959.]\\n4[8. Maharashtra\\nThe territories specified in sub-section (1) of section 8 \\nof the States Reorganisation Act, 1956, but excluding \\nthe territories referred to in sub-section (1) of section 3 \\nof the Bombay Reorganisation Act, 1960.]\\n5[6[9.] \\nKarnataka]\\nThe territories specified in sub-section (1) of section 7 \\nof the States Reorganisation Act, 1956 7[but excluding \\nthe territory specified in the Schedule to the Andhra \\nPradesh and Mysore (Transfer of Territory) Act, 1968.] THE CONSTITUTION OF  INDIA\\n(First Schedule)\\n         \\nName\\nTerritories\\n \\n256\\n1[10.] 2[Odisha] \\nThe \\nterritories \\nwhich \\nimmediately \\nbefore \\nthe \\ncommencement of this Constitution were either comprised \\nin the Province of Orissa or were being administered as if \\nthey formed part of that Province. \\n1[11.]\\nPunjab\\nThe territories specified  in section 11 of the States \\nReorganisation Act, 1956 3[and the territories referred \\nto in Part II of the First Schedule to the Acquired \\nTerritories (Merger) Act, 1960]\\n4[but excluding the \\nterritories referred to in Part II of the First Schedule to \\nthe Constitution (Ninth Amendment) Act, 1960] 5[and \\nthe territories specified in sub-section (1) of section 3, \\nsection 4 and sub-section (1) of section 5 of the Punjab \\nReorganisation Act, 1966.]\\n1[12.]\\nRajasthan \\nThe territories specified in section 10 of the States \\nReorganisation Act, 1956 6[but excluding the territories \\nspecified in the First Schedule to the Rajasthan and \\nMadhya Pradesh (Transfer of Territories) Act, 1959]. THE CONSTITUTION OF  INDIA\\n(First Schedule)\\n         \\nName\\nTerritories\\n \\n257\\n1[13.] Uttar  \\nPradesh \\n 2[The \\nterritories \\nwhich \\nimmediately \\nbefore \\nthe \\ncommencement of this Constitution were either comprised \\nin the Province known as the United  Provinces or were \\nbeing administered as if they formed part of that Province, \\nthe territories specified in \\nclause (b) of sub-section (1) \\nof section 3 of the Bihar and Uttar Pradesh (Alteration of \\nBoundaries) Act, 1968, and the territories specified in \\nclause (b) of sub-section (1) of section 4 of the Haryana \\nand Uttar Pradesh (Alteration of Boundaries) Act, 1979, \\nbut excluding the territories specified in clause (a) of sub-\\nsection (1) of section 3 of the Bihar and Uttar Pradesh \\n(Alteration of Boundaries) Act, 1968, 3[and the territories \\nspecified in section 3 of the Uttar Pradesh Reorganisation \\nAct, 2000] and the territories specified in clause (a) of sub-\\nsection (1) of section 4 of the Haryana and Uttar Pradesh \\n(Alteration of Boundaries) Act, 1979.]\\n1[14.] West \\nBengal\\nThe \\nterritories \\nwhich \\nimmediately \\nbefore \\nthe \\ncommencement of this Constitution were either comprised \\nin the Province of West Bengal or were being administered \\nas if they formed part of that Province and the territory of \\nChandernagore as defined in clause (c) of section 2 of \\nthe Chandernagore (Merger) Act, 1954 and also the \\nterritories specified  in sub-section (1) of section 3 of the \\nBihar and West Bengal (Transfer of Territories) Act, 1956 \\n4[and also the territories referred to in Part III of the First \\nSchedule but excluding the territories referred to in Part III of \\nthe Second Schedule to the Constitution (One Hundredth \\nAmendment) Act, 2015, notwithstanding anything contained \\nin clause (c) of section 3 of the Constitution (Ninth \\nAmendment) Act, 1960, so far as it relates to the territories \\nreferred to in Part III of the First Schedule and the territories \\nreferred to in Part III of the Second Schedule to the \\nConstitution (One Hundredth Amendment) Act, 2015.] THE CONSTITUTION OF  INDIA\\n(First Schedule)\\n         \\nName\\nTerritories\\n \\n258\\n1[2[**\\n*                            *                          *]]\\n3[4[15.]\\nNagaland \\nThe territories specified in sub-section (1) of section 3 \\nof the State of Nagaland Act, 1962.]\\n3[5[16.]\\nHaryana\\n6[The territories specified in sub-section (1) of section 3 \\nof the Punjab Reorganisation Act, 1966 and the \\nterritories specified in clause (a) of sub-section (1) of \\nsection  4 of the Haryana and Uttar Pradesh (Alteration \\nof Boundaries) Act, 1979, but excluding the territories \\nspecified in clause (v) of  sub-section (1) of section 4 of \\nthat Act.]] \\n  3[7[17.] \\nHimachal \\nPradesh\\nThe \\nterritories \\nwhich \\nimmediately \\nbefore \\nthe \\ncommencement of this Constitution were being \\nadministered as if they were Chief Commissioners’ \\nProvinces under the names of  Himachal Pradesh and \\nBilaspur and the territories specified  in sub-section (1) \\nof section 5 of the Punjab Reorganisation Act, 1966.]\\n3[8[18.]\\nManipur\\nThe \\nterritory \\nwhich \\nimmediately \\nbefore \\nthe \\ncommencement \\nof \\nthis \\nConstitution \\nwas \\nbeing \\nadministered as if it were a Chief Commissioner’s \\nProvince under the name of Manipur.] THE CONSTITUTION OF  INDIA\\n(First Schedule)\\n         \\nName\\nTerritories\\n \\n259\\n1[19.] Tripura\\n \\n \\nThe \\nterritory \\nwhich \\nimmediately \\nbefore \\nthe \\ncommencement \\nof \\nthis \\nConstitution \\nwas \\nbeing \\nadministered as if it were a Chief Commissioner’s \\nProvince under the name of Tripura 2[and the territories \\nreferred to in Part II of the First Schedule to the \\nConstitution (One Hundredth Amendment) Act, 2015, \\nnotwithstanding anything contained in clause (d) of \\nsection 3 of the Constitution (Ninth Amendment) Act, \\n1960, so far as it relates to the territories referred to in \\nPart II of the First Schedule to the Constitution (One \\nHundredth Amendment) Act, 2015.] \\n1[20.] Meghalaya\\nThe territories specified in section 5 of the North-Eastern \\nAreas (Reorganisation) Act, 1971] 2[and the territories referred to \\nin Part I of the First Schedule but excluding the territories \\nreferred to in Part II of the Second Schedule to the Constitution \\n(One Hundredth Amendment) Act, 2015.]\\n1[3[21.] Sikkim\\nThe territories which immediately before the commencement of \\nthe Constitution (Thirty-sixth Amendment) Act, 1975, were \\ncomprised in Sikkim.]\\n1[4[22.] Mizoram\\nThe territories specified in section 6 of the North-Eastern \\nAreas (Reorganisation) Act, 1971.]\\n1[5[23.] Arunachal \\nPradesh \\nThe territories specified in section 7 of the North-Eastern \\nAreas (Reorganisation) Act, 1971.]\\n1[6[24.] Goa\\nThe territories specified in section 3 of  the Goa, Daman and \\nDiu Reorganisation Act, 1987.] THE CONSTITUTION OF  INDIA\\n(First Schedule)\\n         \\nName\\nTerritories\\n \\n260\\n1[2[25.] Chhattisgarh\\nThe territories specified in section 3 of the Madhya \\nPradesh Reorganisation Act, 2000.] \\n1[3[26.] 4[Uttarakhand] \\nThe territories specified in section 3 of the Uttar Pradesh    \\nReorganisation Act, 2000.] \\n1[5[27.] Jharkhand \\nThe territories specified in section 3 of the Bihar \\nReorganisation Act, 2000.] \\n1[6[28.] Telangana\\nThe territories specified in section 3 of the Andhra \\nPradesh Reorganisation Act, 2014.] \\nII. THE UNION TERRITORIES\\nName\\nExtent\\n1. Delhi\\nThe \\nterritory \\nwhich \\nimmediately \\nbefore \\nthe \\ncommencement of this Constitution was comprised in the \\nChief Commissioner’s Province of Delhi.\\n7[*\\n*\\n*\\n*\\n*]\\n8[2.] The Andaman \\nand Nicobar \\nIslands \\nThe \\nterritory \\nwhich \\nimmediately \\nbefore \\nthe \\ncommencement of  this Constitution was comprised in \\nthe Chief  Commissioner’s Province  of   the    \\nAndaman    and  Nicobar Islands. THE CONSTITUTION OF  INDIA\\n(First Schedule)\\n         \\nName\\nTerritories\\n \\n261\\n \\n1[3.] 2[Lakshadweep] \\nThe territory specified in section 6 of the States   \\nReorganisation Act, 1956. \\n3[1[4.] Dadra and \\nNagar Haveli \\nand Daman \\nand Diu\\n \\n \\nThe territory  which  immediately  before   the \\neleventh day of August, 1961 was comprised in \\nFree Dadra  and    Nagar  Haveli and the territories \\nspecified in section 4 of the Goa, Daman and Diu \\nReorganisation Act, 1987.] \\n4[1[*]3[\\n*                        *                       *\\n*]\\n5[1[6.] 6[Puducherry] \\nThe territories which immediately before the   \\nsixteenth day of August, 1962, were comprised in \\nthe French Establishments in India known as \\nPondicherry, Karikal, Mahe and Yanam.]\\n7[1[7.] Chandigarh\\nThe territories specified in section 4 of the Punjab  \\nReorganisation Act, 1966.] THE CONSTITUTION OF  INDIA\\n(First Schedule)\\n         \\nName\\nTerritories\\n \\n262\\n1[* \\n            *  \\n*\\n             *                     *]  \\n1[* \\n            *  \\n*\\n             *                     *]  \\n \\n2[8. Jammu and \\nKashmir\\nThe territories specified in section 4 of the Jammu \\nand Kashmir Reorganisation Act, 2019.\\n9. Ladakh\\nThe territories specified in section 3 of the Jammu \\nand Kashmir Reorganisation Act, 2019.] 263\\nSECOND SCHEDULE\\n[Articles 59(3), 65(3), 75(6), 97, 125, 148(3), 158(3), 164 (5), 186 and 221] \\nPART A \\nPROVISIONS AS TO THE PRESIDENT AND THE GOVERNORS OF STATES 1***\\n1. There shall be paid to the President and to the Governors of the States\\n1***  the following emoluments per mensem, that is to say:—\\nThe President\\n……                10,000 rupees .\\nThe Governor of a State     ……   \\n5,500 rupees .\\n2. There shall also be paid to the President and to the Governors of the \\nStates 2***  such allowances as were payable respectively to the Governor-\\nGeneral of the Dominion of India and to the Governors of the corresponding \\nProvinces immediately before the commencement of this Constitution.\\n3. The President and the Governors of 3[the States] throughout their respective \\nterms of office shall be entitled to the same privileges to which the Governor-\\nGeneral and the Governors of the corresponding Provinces were respectively \\nentitled immediately before the commencement of this Constitution.\\n4. While the Vice-President or any other person  is discharging the \\nfunctions of, or is acting as, President, or any person is discharging the \\nfunctions of the Governor,  he shall be entitled to the same emoluments, \\nallowances and privileges as the President or the Governor whose functions he \\ndischarges or for whom he acts, as the case may be.\\n4*                           *                          * \\n*                         *'"
      ]
     },
     "execution_count": 72,
     "metadata": {},
     "output_type": "execute_result"
    }
   ],
   "source": [
    "schedules[0]"
   ]
  },
  {
   "cell_type": "code",
   "execution_count": 73,
   "id": "8e1bfb41",
   "metadata": {},
   "outputs": [],
   "source": [
    "schedule_names = [\n",
    "    \"schedule 1\",\n",
    "    \"schedule 2\",\n",
    "    \"schedule 3\",\n",
    "    \"schedule 4\",\n",
    "    \"schedule 5\",\n",
    "    \"schedule 6\",\n",
    "    \"schedule 7\",\n",
    "    \"schedule 8\",\n",
    "    \"schedule 9\",\n",
    "    \"schedule 10\",\n",
    "    \"schedule 11\",\n",
    "    \"schedule 12\"\n",
    "]"
   ]
  },
  {
   "cell_type": "code",
   "execution_count": 74,
   "id": "0deb6411",
   "metadata": {},
   "outputs": [],
   "source": [
    "from langchain.text_splitter import CharacterTextSplitter\n",
    "chunked_list = []\n",
    "t_splitter = RecursiveCharacterTextSplitter(\n",
    "    chunk_size=1000,\n",
    "    chunk_overlap=300,\n",
    "    length_function=len,\n",
    "    is_separator_regex=True,\n",
    ")\n",
    "for i,chapter in enumerate(schedules):\n",
    "  # adding meta data here li is the list with name of chapters which we created above\n",
    "  metadatas = [{\"source\": \"https://cdnbbsr.s3waas.gov.in/s380537a945c7aaa788ccfcdf1b99b5d8f/uploads/2024/07/20240716890312078.pdf\",\n",
    "                \"source_name\": \"Indian Constitution\", \"country\":\"India\",\"db_owner\":\"LawGlance\",\"schedule\":schedule_names[i],}]\n",
    "  # Use the splitter to split each chapter into chunks\n",
    "  chunks = t_splitter.create_documents([chapter],metadatas=metadatas)\n",
    "  # Append the chunks to the chunked_list\n",
    "  chunked_list.append(chunks)"
   ]
  },
  {
   "cell_type": "code",
   "execution_count": 76,
   "id": "b5bf5a6a",
   "metadata": {},
   "outputs": [
    {
     "data": {
      "text/plain": [
       "Document(metadata={'source': 'https://cdnbbsr.s3waas.gov.in/s380537a945c7aaa788ccfcdf1b99b5d8f/uploads/2024/07/20240716890312078.pdf', 'source_name': 'Indian Constitution', 'country': 'India', 'db_owner': 'LawGlance', 'schedule': 'schedule 1'}, page_content='253\\n \\n1[FIRST SCHEDULE \\n[Articles 1 and 4]\\nI. THE STATES \\n \\nName\\nTerritories\\n1. \\nAndhra \\nPradesh\\n \\n \\n2[The territories specified in sub-section (1) of section 3 of \\nthe Andhra State Act, 1953, sub-section (1) of section 3 of  \\nthe States Reorganisation Act, 1956, the First Schedule to \\nthe Andhra Pradesh and Madras (Alteration of Boundaries) \\nAct, 1959, and the Schedule to the Andhra Pradesh and \\nMysore (Transfer of Territory) Act, 1968, but excluding \\nthe territories specified in the Second Schedule to the \\nAndhra Pradesh and Madras (Alteration of Boundaries) \\nAct, 1959] 3[and the territories specified in section 3 of \\nthe Andhra Pradesh Reorganisation Act, 2014].\\n2. Assam\\nThe \\nterritories \\nwhich \\nimmediately \\nbefore \\nthe \\ncommencement of this Constitution were comprised in the \\nProvince of Assam, the Khasi States and the Assam Tribal \\nAreas, \\nbut \\nexcluding \\nthe \\nterritories \\nspecified \\nin \\nthe \\nSchedule \\nto \\nthe \\nAssam \\n(Alteration of Boundaries) Act, 1951 4[and the territories')"
      ]
     },
     "execution_count": 76,
     "metadata": {},
     "output_type": "execute_result"
    }
   ],
   "source": [
    "chunked_list[0]"
   ]
  },
  {
   "cell_type": "code",
   "execution_count": 77,
   "id": "23490d95",
   "metadata": {},
   "outputs": [
    {
     "name": "stderr",
     "output_type": "stream",
     "text": [
      "Failed to send telemetry event ClientStartEvent: capture() takes 1 positional argument but 3 were given\n",
      "Failed to send telemetry event ClientCreateCollectionEvent: capture() takes 1 positional argument but 3 were given\n"
     ]
    },
    {
     "ename": "AttributeError",
     "evalue": "'tuple' object has no attribute 'page_content'",
     "output_type": "error",
     "traceback": [
      "\u001b[31m---------------------------------------------------------------------------\u001b[39m",
      "\u001b[31mAttributeError\u001b[39m                            Traceback (most recent call last)",
      "\u001b[36mCell\u001b[39m\u001b[36m \u001b[39m\u001b[32mIn[77]\u001b[39m\u001b[32m, line 9\u001b[39m\n\u001b[32m      7\u001b[39m persistant_directory = \u001b[33m\"\u001b[39m\u001b[33mchroma_db_legal_bot_part1\u001b[39m\u001b[33m\"\u001b[39m\n\u001b[32m      8\u001b[39m db1 = Chroma(persist_directory=persistant_directory, embedding_function=embeddings)\n\u001b[32m----> \u001b[39m\u001b[32m9\u001b[39m \u001b[43mdb1\u001b[49m\u001b[43m.\u001b[49m\u001b[43madd_documents\u001b[49m\u001b[43m(\u001b[49m\u001b[43mdocuments\u001b[49m\u001b[43m=\u001b[49m\u001b[43mdo\u001b[49m\u001b[43m)\u001b[49m\n",
      "\u001b[36mFile \u001b[39m\u001b[32m~/personal_learnings/ragster/venv/lib/python3.11/site-packages/langchain_core/vectorstores/base.py:489\u001b[39m, in \u001b[36mVectorStore.add_documents\u001b[39m\u001b[34m(self, documents, **kwargs)\u001b[39m\n\u001b[32m    485\u001b[39m     \u001b[38;5;28;01mreturn\u001b[39;00m \u001b[38;5;28mself\u001b[39m.upsert(documents_, **kwargs)[\u001b[33m\"\u001b[39m\u001b[33msucceeded\u001b[39m\u001b[33m\"\u001b[39m]\n\u001b[32m    487\u001b[39m \u001b[38;5;66;03m# Code path that delegates to add_text for backwards compatibility\u001b[39;00m\n\u001b[32m    488\u001b[39m \u001b[38;5;66;03m# TODO: Handle the case where the user doesn't provide ids on the Collection\u001b[39;00m\n\u001b[32m--> \u001b[39m\u001b[32m489\u001b[39m texts = \u001b[43m[\u001b[49m\u001b[43mdoc\u001b[49m\u001b[43m.\u001b[49m\u001b[43mpage_content\u001b[49m\u001b[43m \u001b[49m\u001b[38;5;28;43;01mfor\u001b[39;49;00m\u001b[43m \u001b[49m\u001b[43mdoc\u001b[49m\u001b[43m \u001b[49m\u001b[38;5;129;43;01min\u001b[39;49;00m\u001b[43m \u001b[49m\u001b[43mdocuments\u001b[49m\u001b[43m]\u001b[49m\n\u001b[32m    490\u001b[39m metadatas = [doc.metadata \u001b[38;5;28;01mfor\u001b[39;00m doc \u001b[38;5;129;01min\u001b[39;00m documents]\n\u001b[32m    491\u001b[39m \u001b[38;5;28;01mreturn\u001b[39;00m \u001b[38;5;28mself\u001b[39m.add_texts(texts, metadatas, **kwargs)\n",
      "\u001b[36mFile \u001b[39m\u001b[32m~/personal_learnings/ragster/venv/lib/python3.11/site-packages/langchain_core/vectorstores/base.py:489\u001b[39m, in \u001b[36m<listcomp>\u001b[39m\u001b[34m(.0)\u001b[39m\n\u001b[32m    485\u001b[39m     \u001b[38;5;28;01mreturn\u001b[39;00m \u001b[38;5;28mself\u001b[39m.upsert(documents_, **kwargs)[\u001b[33m\"\u001b[39m\u001b[33msucceeded\u001b[39m\u001b[33m\"\u001b[39m]\n\u001b[32m    487\u001b[39m \u001b[38;5;66;03m# Code path that delegates to add_text for backwards compatibility\u001b[39;00m\n\u001b[32m    488\u001b[39m \u001b[38;5;66;03m# TODO: Handle the case where the user doesn't provide ids on the Collection\u001b[39;00m\n\u001b[32m--> \u001b[39m\u001b[32m489\u001b[39m texts = [\u001b[43mdoc\u001b[49m\u001b[43m.\u001b[49m\u001b[43mpage_content\u001b[49m \u001b[38;5;28;01mfor\u001b[39;00m doc \u001b[38;5;129;01min\u001b[39;00m documents]\n\u001b[32m    490\u001b[39m metadatas = [doc.metadata \u001b[38;5;28;01mfor\u001b[39;00m doc \u001b[38;5;129;01min\u001b[39;00m documents]\n\u001b[32m    491\u001b[39m \u001b[38;5;28;01mreturn\u001b[39;00m \u001b[38;5;28mself\u001b[39m.add_texts(texts, metadatas, **kwargs)\n",
      "\u001b[31mAttributeError\u001b[39m: 'tuple' object has no attribute 'page_content'"
     ]
    }
   ],
   "source": [
    "def flatten_extend(matrix):\n",
    "  flat_list = []\n",
    "  for row in matrix:\n",
    "    flat_list.extend(row)\n",
    "  return flat_list\n",
    "do = flatten_extend(chunked_list)\n",
    "persistant_directory = \"chroma_db_legal_bot_part1\"\n",
    "db1 = Chroma(persist_directory=persistant_directory, embedding_function=embeddings)\n",
    "db1.add_documents(documents=do)"
   ]
  },
  {
   "cell_type": "code",
   "execution_count": 78,
   "id": "30e5fa27",
   "metadata": {},
   "outputs": [],
   "source": [
    "pr = data[3]\n",
    "pr.metadata.clear()"
   ]
  },
  {
   "cell_type": "code",
   "execution_count": 79,
   "id": "d8a70160",
   "metadata": {},
   "outputs": [
    {
     "data": {
      "text/plain": [
       "Document(page_content='THE CONSTITUTION OF INDIA\\n____________                                                                    \\nCONTENTS\\n__________\\n                                                                                          \\nPREAMBLE\\nPART I \\nTHE UNION AND ITS TERRITORY\\nARTICLES \\n1.\\nName and territory of the Union.\\n  2. \\nAdmission or establishment of new States. \\n[2A.         Sikkim to be associated with the Union.—Omitted.]\\n3.\\nFormation of new States and alteration of areas, boundaries or \\nnames of existing States.\\n4.\\nLaws made under articles 2 and 3 to provide for the amendment of \\nthe First and the Fourth Schedules and supplemental, incidental \\nand consequential matters.\\nPART II\\nCITIZENSHIP\\n5.\\nCitizenship at the commencement of the Constitution.\\n6.\\nRights of citizenship of certain persons who have migrated to \\nIndia from Pakistan.\\n7.\\nRights of citizenship of certain migrants to Pakistan.\\n8.\\nRights of citizenship of certain persons of Indian origin residing    \\noutside India.\\n9.\\nPersons voluntarily acquiring citizenship of a foreign State not to \\nbe citizens.\\n10.\\nContinuance of the rights of citizenship.\\n11.\\nParliament to regulate the right of citizenship by law.\\n')"
      ]
     },
     "execution_count": 79,
     "metadata": {},
     "output_type": "execute_result"
    }
   ],
   "source": [
    "pr"
   ]
  },
  {
   "cell_type": "code",
   "execution_count": 80,
   "id": "16130d41",
   "metadata": {},
   "outputs": [],
   "source": [
    "pr.metadata = {\"source\": \"https://cdnbbsr.s3waas.gov.in/s380537a945c7aaa788ccfcdf1b99b5d8f/uploads/2024/07/20240716890312078.pdf\",\n",
    "                \"source_name\": \"Indian Constitution\", \"country\":\"India\",\"db_owner\":\"LawGlance\",\"preamble\": \"preamble\",}\n"
   ]
  },
  {
   "cell_type": "code",
   "execution_count": 81,
   "id": "6957a56b",
   "metadata": {},
   "outputs": [
    {
     "data": {
      "text/plain": [
       "Document(metadata={'source': 'https://cdnbbsr.s3waas.gov.in/s380537a945c7aaa788ccfcdf1b99b5d8f/uploads/2024/07/20240716890312078.pdf', 'source_name': 'Indian Constitution', 'country': 'India', 'db_owner': 'LawGlance', 'preamble': 'preamble'}, page_content='THE CONSTITUTION OF INDIA\\n____________                                                                    \\nCONTENTS\\n__________\\n                                                                                          \\nPREAMBLE\\nPART I \\nTHE UNION AND ITS TERRITORY\\nARTICLES \\n1.\\nName and territory of the Union.\\n  2. \\nAdmission or establishment of new States. \\n[2A.         Sikkim to be associated with the Union.—Omitted.]\\n3.\\nFormation of new States and alteration of areas, boundaries or \\nnames of existing States.\\n4.\\nLaws made under articles 2 and 3 to provide for the amendment of \\nthe First and the Fourth Schedules and supplemental, incidental \\nand consequential matters.\\nPART II\\nCITIZENSHIP\\n5.\\nCitizenship at the commencement of the Constitution.\\n6.\\nRights of citizenship of certain persons who have migrated to \\nIndia from Pakistan.\\n7.\\nRights of citizenship of certain migrants to Pakistan.\\n8.\\nRights of citizenship of certain persons of Indian origin residing    \\noutside India.\\n9.\\nPersons voluntarily acquiring citizenship of a foreign State not to \\nbe citizens.\\n10.\\nContinuance of the rights of citizenship.\\n11.\\nParliament to regulate the right of citizenship by law.\\n')"
      ]
     },
     "execution_count": 81,
     "metadata": {},
     "output_type": "execute_result"
    }
   ],
   "source": [
    "pr"
   ]
  },
  {
   "cell_type": "code",
   "execution_count": 82,
   "id": "9fb7e967",
   "metadata": {},
   "outputs": [
    {
     "ename": "ConnectionError",
     "evalue": "HTTPSConnectionPool(host='openaipublic.blob.core.windows.net', port=443): Max retries exceeded with url: /encodings/cl100k_base.tiktoken (Caused by NameResolutionError(\"<urllib3.connection.HTTPSConnection object at 0x31ee05910>: Failed to resolve 'openaipublic.blob.core.windows.net' ([Errno 8] nodename nor servname provided, or not known)\"))",
     "output_type": "error",
     "traceback": [
      "\u001b[31m---------------------------------------------------------------------------\u001b[39m",
      "\u001b[31mgaierror\u001b[39m                                  Traceback (most recent call last)",
      "\u001b[36mFile \u001b[39m\u001b[32m~/personal_learnings/ragster/venv/lib/python3.11/site-packages/urllib3/connection.py:198\u001b[39m, in \u001b[36mHTTPConnection._new_conn\u001b[39m\u001b[34m(self)\u001b[39m\n\u001b[32m    197\u001b[39m \u001b[38;5;28;01mtry\u001b[39;00m:\n\u001b[32m--> \u001b[39m\u001b[32m198\u001b[39m     sock = \u001b[43mconnection\u001b[49m\u001b[43m.\u001b[49m\u001b[43mcreate_connection\u001b[49m\u001b[43m(\u001b[49m\n\u001b[32m    199\u001b[39m \u001b[43m        \u001b[49m\u001b[43m(\u001b[49m\u001b[38;5;28;43mself\u001b[39;49m\u001b[43m.\u001b[49m\u001b[43m_dns_host\u001b[49m\u001b[43m,\u001b[49m\u001b[43m \u001b[49m\u001b[38;5;28;43mself\u001b[39;49m\u001b[43m.\u001b[49m\u001b[43mport\u001b[49m\u001b[43m)\u001b[49m\u001b[43m,\u001b[49m\n\u001b[32m    200\u001b[39m \u001b[43m        \u001b[49m\u001b[38;5;28;43mself\u001b[39;49m\u001b[43m.\u001b[49m\u001b[43mtimeout\u001b[49m\u001b[43m,\u001b[49m\n\u001b[32m    201\u001b[39m \u001b[43m        \u001b[49m\u001b[43msource_address\u001b[49m\u001b[43m=\u001b[49m\u001b[38;5;28;43mself\u001b[39;49m\u001b[43m.\u001b[49m\u001b[43msource_address\u001b[49m\u001b[43m,\u001b[49m\n\u001b[32m    202\u001b[39m \u001b[43m        \u001b[49m\u001b[43msocket_options\u001b[49m\u001b[43m=\u001b[49m\u001b[38;5;28;43mself\u001b[39;49m\u001b[43m.\u001b[49m\u001b[43msocket_options\u001b[49m\u001b[43m,\u001b[49m\n\u001b[32m    203\u001b[39m \u001b[43m    \u001b[49m\u001b[43m)\u001b[49m\n\u001b[32m    204\u001b[39m \u001b[38;5;28;01mexcept\u001b[39;00m socket.gaierror \u001b[38;5;28;01mas\u001b[39;00m e:\n",
      "\u001b[36mFile \u001b[39m\u001b[32m~/personal_learnings/ragster/venv/lib/python3.11/site-packages/urllib3/util/connection.py:60\u001b[39m, in \u001b[36mcreate_connection\u001b[39m\u001b[34m(address, timeout, source_address, socket_options)\u001b[39m\n\u001b[32m     58\u001b[39m     \u001b[38;5;28;01mraise\u001b[39;00m LocationParseError(\u001b[33mf\u001b[39m\u001b[33m\"\u001b[39m\u001b[33m'\u001b[39m\u001b[38;5;132;01m{\u001b[39;00mhost\u001b[38;5;132;01m}\u001b[39;00m\u001b[33m'\u001b[39m\u001b[33m, label empty or too long\u001b[39m\u001b[33m\"\u001b[39m) \u001b[38;5;28;01mfrom\u001b[39;00m\u001b[38;5;250m \u001b[39m\u001b[38;5;28;01mNone\u001b[39;00m\n\u001b[32m---> \u001b[39m\u001b[32m60\u001b[39m \u001b[38;5;28;01mfor\u001b[39;00m res \u001b[38;5;129;01min\u001b[39;00m \u001b[43msocket\u001b[49m\u001b[43m.\u001b[49m\u001b[43mgetaddrinfo\u001b[49m\u001b[43m(\u001b[49m\u001b[43mhost\u001b[49m\u001b[43m,\u001b[49m\u001b[43m \u001b[49m\u001b[43mport\u001b[49m\u001b[43m,\u001b[49m\u001b[43m \u001b[49m\u001b[43mfamily\u001b[49m\u001b[43m,\u001b[49m\u001b[43m \u001b[49m\u001b[43msocket\u001b[49m\u001b[43m.\u001b[49m\u001b[43mSOCK_STREAM\u001b[49m\u001b[43m)\u001b[49m:\n\u001b[32m     61\u001b[39m     af, socktype, proto, canonname, sa = res\n",
      "\u001b[36mFile \u001b[39m\u001b[32m~/.pyenv/versions/3.11.8/lib/python3.11/socket.py:962\u001b[39m, in \u001b[36mgetaddrinfo\u001b[39m\u001b[34m(host, port, family, type, proto, flags)\u001b[39m\n\u001b[32m    961\u001b[39m addrlist = []\n\u001b[32m--> \u001b[39m\u001b[32m962\u001b[39m \u001b[38;5;28;01mfor\u001b[39;00m res \u001b[38;5;129;01min\u001b[39;00m \u001b[43m_socket\u001b[49m\u001b[43m.\u001b[49m\u001b[43mgetaddrinfo\u001b[49m\u001b[43m(\u001b[49m\u001b[43mhost\u001b[49m\u001b[43m,\u001b[49m\u001b[43m \u001b[49m\u001b[43mport\u001b[49m\u001b[43m,\u001b[49m\u001b[43m \u001b[49m\u001b[43mfamily\u001b[49m\u001b[43m,\u001b[49m\u001b[43m \u001b[49m\u001b[38;5;28;43mtype\u001b[39;49m\u001b[43m,\u001b[49m\u001b[43m \u001b[49m\u001b[43mproto\u001b[49m\u001b[43m,\u001b[49m\u001b[43m \u001b[49m\u001b[43mflags\u001b[49m\u001b[43m)\u001b[49m:\n\u001b[32m    963\u001b[39m     af, socktype, proto, canonname, sa = res\n",
      "\u001b[31mgaierror\u001b[39m: [Errno 8] nodename nor servname provided, or not known",
      "\nThe above exception was the direct cause of the following exception:\n",
      "\u001b[31mNameResolutionError\u001b[39m                       Traceback (most recent call last)",
      "\u001b[36mFile \u001b[39m\u001b[32m~/personal_learnings/ragster/venv/lib/python3.11/site-packages/urllib3/connectionpool.py:787\u001b[39m, in \u001b[36mHTTPConnectionPool.urlopen\u001b[39m\u001b[34m(self, method, url, body, headers, retries, redirect, assert_same_host, timeout, pool_timeout, release_conn, chunked, body_pos, preload_content, decode_content, **response_kw)\u001b[39m\n\u001b[32m    786\u001b[39m \u001b[38;5;66;03m# Make the request on the HTTPConnection object\u001b[39;00m\n\u001b[32m--> \u001b[39m\u001b[32m787\u001b[39m response = \u001b[38;5;28;43mself\u001b[39;49m\u001b[43m.\u001b[49m\u001b[43m_make_request\u001b[49m\u001b[43m(\u001b[49m\n\u001b[32m    788\u001b[39m \u001b[43m    \u001b[49m\u001b[43mconn\u001b[49m\u001b[43m,\u001b[49m\n\u001b[32m    789\u001b[39m \u001b[43m    \u001b[49m\u001b[43mmethod\u001b[49m\u001b[43m,\u001b[49m\n\u001b[32m    790\u001b[39m \u001b[43m    \u001b[49m\u001b[43murl\u001b[49m\u001b[43m,\u001b[49m\n\u001b[32m    791\u001b[39m \u001b[43m    \u001b[49m\u001b[43mtimeout\u001b[49m\u001b[43m=\u001b[49m\u001b[43mtimeout_obj\u001b[49m\u001b[43m,\u001b[49m\n\u001b[32m    792\u001b[39m \u001b[43m    \u001b[49m\u001b[43mbody\u001b[49m\u001b[43m=\u001b[49m\u001b[43mbody\u001b[49m\u001b[43m,\u001b[49m\n\u001b[32m    793\u001b[39m \u001b[43m    \u001b[49m\u001b[43mheaders\u001b[49m\u001b[43m=\u001b[49m\u001b[43mheaders\u001b[49m\u001b[43m,\u001b[49m\n\u001b[32m    794\u001b[39m \u001b[43m    \u001b[49m\u001b[43mchunked\u001b[49m\u001b[43m=\u001b[49m\u001b[43mchunked\u001b[49m\u001b[43m,\u001b[49m\n\u001b[32m    795\u001b[39m \u001b[43m    \u001b[49m\u001b[43mretries\u001b[49m\u001b[43m=\u001b[49m\u001b[43mretries\u001b[49m\u001b[43m,\u001b[49m\n\u001b[32m    796\u001b[39m \u001b[43m    \u001b[49m\u001b[43mresponse_conn\u001b[49m\u001b[43m=\u001b[49m\u001b[43mresponse_conn\u001b[49m\u001b[43m,\u001b[49m\n\u001b[32m    797\u001b[39m \u001b[43m    \u001b[49m\u001b[43mpreload_content\u001b[49m\u001b[43m=\u001b[49m\u001b[43mpreload_content\u001b[49m\u001b[43m,\u001b[49m\n\u001b[32m    798\u001b[39m \u001b[43m    \u001b[49m\u001b[43mdecode_content\u001b[49m\u001b[43m=\u001b[49m\u001b[43mdecode_content\u001b[49m\u001b[43m,\u001b[49m\n\u001b[32m    799\u001b[39m \u001b[43m    \u001b[49m\u001b[43m*\u001b[49m\u001b[43m*\u001b[49m\u001b[43mresponse_kw\u001b[49m\u001b[43m,\u001b[49m\n\u001b[32m    800\u001b[39m \u001b[43m\u001b[49m\u001b[43m)\u001b[49m\n\u001b[32m    802\u001b[39m \u001b[38;5;66;03m# Everything went great!\u001b[39;00m\n",
      "\u001b[36mFile \u001b[39m\u001b[32m~/personal_learnings/ragster/venv/lib/python3.11/site-packages/urllib3/connectionpool.py:488\u001b[39m, in \u001b[36mHTTPConnectionPool._make_request\u001b[39m\u001b[34m(self, conn, method, url, body, headers, retries, timeout, chunked, response_conn, preload_content, decode_content, enforce_content_length)\u001b[39m\n\u001b[32m    487\u001b[39m         new_e = _wrap_proxy_error(new_e, conn.proxy.scheme)\n\u001b[32m--> \u001b[39m\u001b[32m488\u001b[39m     \u001b[38;5;28;01mraise\u001b[39;00m new_e\n\u001b[32m    490\u001b[39m \u001b[38;5;66;03m# conn.request() calls http.client.*.request, not the method in\u001b[39;00m\n\u001b[32m    491\u001b[39m \u001b[38;5;66;03m# urllib3.request. It also calls makefile (recv) on the socket.\u001b[39;00m\n",
      "\u001b[36mFile \u001b[39m\u001b[32m~/personal_learnings/ragster/venv/lib/python3.11/site-packages/urllib3/connectionpool.py:464\u001b[39m, in \u001b[36mHTTPConnectionPool._make_request\u001b[39m\u001b[34m(self, conn, method, url, body, headers, retries, timeout, chunked, response_conn, preload_content, decode_content, enforce_content_length)\u001b[39m\n\u001b[32m    463\u001b[39m \u001b[38;5;28;01mtry\u001b[39;00m:\n\u001b[32m--> \u001b[39m\u001b[32m464\u001b[39m     \u001b[38;5;28;43mself\u001b[39;49m\u001b[43m.\u001b[49m\u001b[43m_validate_conn\u001b[49m\u001b[43m(\u001b[49m\u001b[43mconn\u001b[49m\u001b[43m)\u001b[49m\n\u001b[32m    465\u001b[39m \u001b[38;5;28;01mexcept\u001b[39;00m (SocketTimeout, BaseSSLError) \u001b[38;5;28;01mas\u001b[39;00m e:\n",
      "\u001b[36mFile \u001b[39m\u001b[32m~/personal_learnings/ragster/venv/lib/python3.11/site-packages/urllib3/connectionpool.py:1093\u001b[39m, in \u001b[36mHTTPSConnectionPool._validate_conn\u001b[39m\u001b[34m(self, conn)\u001b[39m\n\u001b[32m   1092\u001b[39m \u001b[38;5;28;01mif\u001b[39;00m conn.is_closed:\n\u001b[32m-> \u001b[39m\u001b[32m1093\u001b[39m     \u001b[43mconn\u001b[49m\u001b[43m.\u001b[49m\u001b[43mconnect\u001b[49m\u001b[43m(\u001b[49m\u001b[43m)\u001b[49m\n\u001b[32m   1095\u001b[39m \u001b[38;5;66;03m# TODO revise this, see https://github.com/urllib3/urllib3/issues/2791\u001b[39;00m\n",
      "\u001b[36mFile \u001b[39m\u001b[32m~/personal_learnings/ragster/venv/lib/python3.11/site-packages/urllib3/connection.py:753\u001b[39m, in \u001b[36mHTTPSConnection.connect\u001b[39m\u001b[34m(self)\u001b[39m\n\u001b[32m    752\u001b[39m sock: socket.socket | ssl.SSLSocket\n\u001b[32m--> \u001b[39m\u001b[32m753\u001b[39m \u001b[38;5;28mself\u001b[39m.sock = sock = \u001b[38;5;28;43mself\u001b[39;49m\u001b[43m.\u001b[49m\u001b[43m_new_conn\u001b[49m\u001b[43m(\u001b[49m\u001b[43m)\u001b[49m\n\u001b[32m    754\u001b[39m server_hostname: \u001b[38;5;28mstr\u001b[39m = \u001b[38;5;28mself\u001b[39m.host\n",
      "\u001b[36mFile \u001b[39m\u001b[32m~/personal_learnings/ragster/venv/lib/python3.11/site-packages/urllib3/connection.py:205\u001b[39m, in \u001b[36mHTTPConnection._new_conn\u001b[39m\u001b[34m(self)\u001b[39m\n\u001b[32m    204\u001b[39m \u001b[38;5;28;01mexcept\u001b[39;00m socket.gaierror \u001b[38;5;28;01mas\u001b[39;00m e:\n\u001b[32m--> \u001b[39m\u001b[32m205\u001b[39m     \u001b[38;5;28;01mraise\u001b[39;00m NameResolutionError(\u001b[38;5;28mself\u001b[39m.host, \u001b[38;5;28mself\u001b[39m, e) \u001b[38;5;28;01mfrom\u001b[39;00m\u001b[38;5;250m \u001b[39m\u001b[34;01me\u001b[39;00m\n\u001b[32m    206\u001b[39m \u001b[38;5;28;01mexcept\u001b[39;00m SocketTimeout \u001b[38;5;28;01mas\u001b[39;00m e:\n",
      "\u001b[31mNameResolutionError\u001b[39m: <urllib3.connection.HTTPSConnection object at 0x31ee05910>: Failed to resolve 'openaipublic.blob.core.windows.net' ([Errno 8] nodename nor servname provided, or not known)",
      "\nThe above exception was the direct cause of the following exception:\n",
      "\u001b[31mMaxRetryError\u001b[39m                             Traceback (most recent call last)",
      "\u001b[36mFile \u001b[39m\u001b[32m~/personal_learnings/ragster/venv/lib/python3.11/site-packages/requests/adapters.py:667\u001b[39m, in \u001b[36mHTTPAdapter.send\u001b[39m\u001b[34m(self, request, stream, timeout, verify, cert, proxies)\u001b[39m\n\u001b[32m    666\u001b[39m \u001b[38;5;28;01mtry\u001b[39;00m:\n\u001b[32m--> \u001b[39m\u001b[32m667\u001b[39m     resp = \u001b[43mconn\u001b[49m\u001b[43m.\u001b[49m\u001b[43murlopen\u001b[49m\u001b[43m(\u001b[49m\n\u001b[32m    668\u001b[39m \u001b[43m        \u001b[49m\u001b[43mmethod\u001b[49m\u001b[43m=\u001b[49m\u001b[43mrequest\u001b[49m\u001b[43m.\u001b[49m\u001b[43mmethod\u001b[49m\u001b[43m,\u001b[49m\n\u001b[32m    669\u001b[39m \u001b[43m        \u001b[49m\u001b[43murl\u001b[49m\u001b[43m=\u001b[49m\u001b[43murl\u001b[49m\u001b[43m,\u001b[49m\n\u001b[32m    670\u001b[39m \u001b[43m        \u001b[49m\u001b[43mbody\u001b[49m\u001b[43m=\u001b[49m\u001b[43mrequest\u001b[49m\u001b[43m.\u001b[49m\u001b[43mbody\u001b[49m\u001b[43m,\u001b[49m\n\u001b[32m    671\u001b[39m \u001b[43m        \u001b[49m\u001b[43mheaders\u001b[49m\u001b[43m=\u001b[49m\u001b[43mrequest\u001b[49m\u001b[43m.\u001b[49m\u001b[43mheaders\u001b[49m\u001b[43m,\u001b[49m\n\u001b[32m    672\u001b[39m \u001b[43m        \u001b[49m\u001b[43mredirect\u001b[49m\u001b[43m=\u001b[49m\u001b[38;5;28;43;01mFalse\u001b[39;49;00m\u001b[43m,\u001b[49m\n\u001b[32m    673\u001b[39m \u001b[43m        \u001b[49m\u001b[43massert_same_host\u001b[49m\u001b[43m=\u001b[49m\u001b[38;5;28;43;01mFalse\u001b[39;49;00m\u001b[43m,\u001b[49m\n\u001b[32m    674\u001b[39m \u001b[43m        \u001b[49m\u001b[43mpreload_content\u001b[49m\u001b[43m=\u001b[49m\u001b[38;5;28;43;01mFalse\u001b[39;49;00m\u001b[43m,\u001b[49m\n\u001b[32m    675\u001b[39m \u001b[43m        \u001b[49m\u001b[43mdecode_content\u001b[49m\u001b[43m=\u001b[49m\u001b[38;5;28;43;01mFalse\u001b[39;49;00m\u001b[43m,\u001b[49m\n\u001b[32m    676\u001b[39m \u001b[43m        \u001b[49m\u001b[43mretries\u001b[49m\u001b[43m=\u001b[49m\u001b[38;5;28;43mself\u001b[39;49m\u001b[43m.\u001b[49m\u001b[43mmax_retries\u001b[49m\u001b[43m,\u001b[49m\n\u001b[32m    677\u001b[39m \u001b[43m        \u001b[49m\u001b[43mtimeout\u001b[49m\u001b[43m=\u001b[49m\u001b[43mtimeout\u001b[49m\u001b[43m,\u001b[49m\n\u001b[32m    678\u001b[39m \u001b[43m        \u001b[49m\u001b[43mchunked\u001b[49m\u001b[43m=\u001b[49m\u001b[43mchunked\u001b[49m\u001b[43m,\u001b[49m\n\u001b[32m    679\u001b[39m \u001b[43m    \u001b[49m\u001b[43m)\u001b[49m\n\u001b[32m    681\u001b[39m \u001b[38;5;28;01mexcept\u001b[39;00m (ProtocolError, \u001b[38;5;167;01mOSError\u001b[39;00m) \u001b[38;5;28;01mas\u001b[39;00m err:\n",
      "\u001b[36mFile \u001b[39m\u001b[32m~/personal_learnings/ragster/venv/lib/python3.11/site-packages/urllib3/connectionpool.py:841\u001b[39m, in \u001b[36mHTTPConnectionPool.urlopen\u001b[39m\u001b[34m(self, method, url, body, headers, retries, redirect, assert_same_host, timeout, pool_timeout, release_conn, chunked, body_pos, preload_content, decode_content, **response_kw)\u001b[39m\n\u001b[32m    839\u001b[39m     new_e = ProtocolError(\u001b[33m\"\u001b[39m\u001b[33mConnection aborted.\u001b[39m\u001b[33m\"\u001b[39m, new_e)\n\u001b[32m--> \u001b[39m\u001b[32m841\u001b[39m retries = \u001b[43mretries\u001b[49m\u001b[43m.\u001b[49m\u001b[43mincrement\u001b[49m\u001b[43m(\u001b[49m\n\u001b[32m    842\u001b[39m \u001b[43m    \u001b[49m\u001b[43mmethod\u001b[49m\u001b[43m,\u001b[49m\u001b[43m \u001b[49m\u001b[43murl\u001b[49m\u001b[43m,\u001b[49m\u001b[43m \u001b[49m\u001b[43merror\u001b[49m\u001b[43m=\u001b[49m\u001b[43mnew_e\u001b[49m\u001b[43m,\u001b[49m\u001b[43m \u001b[49m\u001b[43m_pool\u001b[49m\u001b[43m=\u001b[49m\u001b[38;5;28;43mself\u001b[39;49m\u001b[43m,\u001b[49m\u001b[43m \u001b[49m\u001b[43m_stacktrace\u001b[49m\u001b[43m=\u001b[49m\u001b[43msys\u001b[49m\u001b[43m.\u001b[49m\u001b[43mexc_info\u001b[49m\u001b[43m(\u001b[49m\u001b[43m)\u001b[49m\u001b[43m[\u001b[49m\u001b[32;43m2\u001b[39;49m\u001b[43m]\u001b[49m\n\u001b[32m    843\u001b[39m \u001b[43m\u001b[49m\u001b[43m)\u001b[49m\n\u001b[32m    844\u001b[39m retries.sleep()\n",
      "\u001b[36mFile \u001b[39m\u001b[32m~/personal_learnings/ragster/venv/lib/python3.11/site-packages/urllib3/util/retry.py:519\u001b[39m, in \u001b[36mRetry.increment\u001b[39m\u001b[34m(self, method, url, response, error, _pool, _stacktrace)\u001b[39m\n\u001b[32m    518\u001b[39m     reason = error \u001b[38;5;129;01mor\u001b[39;00m ResponseError(cause)\n\u001b[32m--> \u001b[39m\u001b[32m519\u001b[39m     \u001b[38;5;28;01mraise\u001b[39;00m MaxRetryError(_pool, url, reason) \u001b[38;5;28;01mfrom\u001b[39;00m\u001b[38;5;250m \u001b[39m\u001b[34;01mreason\u001b[39;00m  \u001b[38;5;66;03m# type: ignore[arg-type]\u001b[39;00m\n\u001b[32m    521\u001b[39m log.debug(\u001b[33m\"\u001b[39m\u001b[33mIncremented Retry for (url=\u001b[39m\u001b[33m'\u001b[39m\u001b[38;5;132;01m%s\u001b[39;00m\u001b[33m'\u001b[39m\u001b[33m): \u001b[39m\u001b[38;5;132;01m%r\u001b[39;00m\u001b[33m\"\u001b[39m, url, new_retry)\n",
      "\u001b[31mMaxRetryError\u001b[39m: HTTPSConnectionPool(host='openaipublic.blob.core.windows.net', port=443): Max retries exceeded with url: /encodings/cl100k_base.tiktoken (Caused by NameResolutionError(\"<urllib3.connection.HTTPSConnection object at 0x31ee05910>: Failed to resolve 'openaipublic.blob.core.windows.net' ([Errno 8] nodename nor servname provided, or not known)\"))",
      "\nDuring handling of the above exception, another exception occurred:\n",
      "\u001b[31mConnectionError\u001b[39m                           Traceback (most recent call last)",
      "\u001b[36mCell\u001b[39m\u001b[36m \u001b[39m\u001b[32mIn[82]\u001b[39m\u001b[32m, line 1\u001b[39m\n\u001b[32m----> \u001b[39m\u001b[32m1\u001b[39m \u001b[43mdb1\u001b[49m\u001b[43m.\u001b[49m\u001b[43madd_documents\u001b[49m\u001b[43m(\u001b[49m\u001b[43mdocuments\u001b[49m\u001b[43m=\u001b[49m\u001b[43m[\u001b[49m\u001b[43mpr\u001b[49m\u001b[43m]\u001b[49m\u001b[43m)\u001b[49m\n",
      "\u001b[36mFile \u001b[39m\u001b[32m~/personal_learnings/ragster/venv/lib/python3.11/site-packages/langchain_core/vectorstores/base.py:491\u001b[39m, in \u001b[36mVectorStore.add_documents\u001b[39m\u001b[34m(self, documents, **kwargs)\u001b[39m\n\u001b[32m    489\u001b[39m texts = [doc.page_content \u001b[38;5;28;01mfor\u001b[39;00m doc \u001b[38;5;129;01min\u001b[39;00m documents]\n\u001b[32m    490\u001b[39m metadatas = [doc.metadata \u001b[38;5;28;01mfor\u001b[39;00m doc \u001b[38;5;129;01min\u001b[39;00m documents]\n\u001b[32m--> \u001b[39m\u001b[32m491\u001b[39m \u001b[38;5;28;01mreturn\u001b[39;00m \u001b[38;5;28;43mself\u001b[39;49m\u001b[43m.\u001b[49m\u001b[43madd_texts\u001b[49m\u001b[43m(\u001b[49m\u001b[43mtexts\u001b[49m\u001b[43m,\u001b[49m\u001b[43m \u001b[49m\u001b[43mmetadatas\u001b[49m\u001b[43m,\u001b[49m\u001b[43m \u001b[49m\u001b[43m*\u001b[49m\u001b[43m*\u001b[49m\u001b[43mkwargs\u001b[49m\u001b[43m)\u001b[49m\n",
      "\u001b[36mFile \u001b[39m\u001b[32m~/personal_learnings/ragster/venv/lib/python3.11/site-packages/langchain_chroma/vectorstores.py:508\u001b[39m, in \u001b[36mChroma.add_texts\u001b[39m\u001b[34m(self, texts, metadatas, ids, **kwargs)\u001b[39m\n\u001b[32m    506\u001b[39m texts = \u001b[38;5;28mlist\u001b[39m(texts)\n\u001b[32m    507\u001b[39m \u001b[38;5;28;01mif\u001b[39;00m \u001b[38;5;28mself\u001b[39m._embedding_function \u001b[38;5;129;01mis\u001b[39;00m \u001b[38;5;129;01mnot\u001b[39;00m \u001b[38;5;28;01mNone\u001b[39;00m:\n\u001b[32m--> \u001b[39m\u001b[32m508\u001b[39m     embeddings = \u001b[38;5;28;43mself\u001b[39;49m\u001b[43m.\u001b[49m\u001b[43m_embedding_function\u001b[49m\u001b[43m.\u001b[49m\u001b[43membed_documents\u001b[49m\u001b[43m(\u001b[49m\u001b[43mtexts\u001b[49m\u001b[43m)\u001b[49m\n\u001b[32m    509\u001b[39m \u001b[38;5;28;01mif\u001b[39;00m metadatas:\n\u001b[32m    510\u001b[39m     \u001b[38;5;66;03m# fill metadatas with empty dicts if somebody\u001b[39;00m\n\u001b[32m    511\u001b[39m     \u001b[38;5;66;03m# did not specify metadata for all texts\u001b[39;00m\n\u001b[32m    512\u001b[39m     length_diff = \u001b[38;5;28mlen\u001b[39m(texts) - \u001b[38;5;28mlen\u001b[39m(metadatas)\n",
      "\u001b[36mFile \u001b[39m\u001b[32m~/personal_learnings/ragster/venv/lib/python3.11/site-packages/langchain_openai/embeddings/base.py:526\u001b[39m, in \u001b[36mOpenAIEmbeddings.embed_documents\u001b[39m\u001b[34m(self, texts, chunk_size)\u001b[39m\n\u001b[32m    523\u001b[39m \u001b[38;5;66;03m# NOTE: to keep things simple, we assume the list may contain texts longer\u001b[39;00m\n\u001b[32m    524\u001b[39m \u001b[38;5;66;03m#       than the maximum context and use length-safe embedding function.\u001b[39;00m\n\u001b[32m    525\u001b[39m engine = cast(\u001b[38;5;28mstr\u001b[39m, \u001b[38;5;28mself\u001b[39m.deployment)\n\u001b[32m--> \u001b[39m\u001b[32m526\u001b[39m \u001b[38;5;28;01mreturn\u001b[39;00m \u001b[38;5;28;43mself\u001b[39;49m\u001b[43m.\u001b[49m\u001b[43m_get_len_safe_embeddings\u001b[49m\u001b[43m(\u001b[49m\u001b[43mtexts\u001b[49m\u001b[43m,\u001b[49m\u001b[43m \u001b[49m\u001b[43mengine\u001b[49m\u001b[43m=\u001b[49m\u001b[43mengine\u001b[49m\u001b[43m)\u001b[49m\n",
      "\u001b[36mFile \u001b[39m\u001b[32m~/personal_learnings/ragster/venv/lib/python3.11/site-packages/langchain_openai/embeddings/base.py:421\u001b[39m, in \u001b[36mOpenAIEmbeddings._get_len_safe_embeddings\u001b[39m\u001b[34m(self, texts, engine, chunk_size)\u001b[39m\n\u001b[32m    405\u001b[39m \u001b[38;5;250m\u001b[39m\u001b[33;03m\"\"\"\u001b[39;00m\n\u001b[32m    406\u001b[39m \u001b[33;03mGenerate length-safe embeddings for a list of texts.\u001b[39;00m\n\u001b[32m    407\u001b[39m \n\u001b[32m   (...)\u001b[39m\u001b[32m    418\u001b[39m \u001b[33;03m    List[List[float]]: A list of embeddings for each input text.\u001b[39;00m\n\u001b[32m    419\u001b[39m \u001b[33;03m\"\"\"\u001b[39;00m\n\u001b[32m    420\u001b[39m _chunk_size = chunk_size \u001b[38;5;129;01mor\u001b[39;00m \u001b[38;5;28mself\u001b[39m.chunk_size\n\u001b[32m--> \u001b[39m\u001b[32m421\u001b[39m _iter, tokens, indices = \u001b[38;5;28;43mself\u001b[39;49m\u001b[43m.\u001b[49m\u001b[43m_tokenize\u001b[49m\u001b[43m(\u001b[49m\u001b[43mtexts\u001b[49m\u001b[43m,\u001b[49m\u001b[43m \u001b[49m\u001b[43m_chunk_size\u001b[49m\u001b[43m)\u001b[49m\n\u001b[32m    422\u001b[39m batched_embeddings: List[List[\u001b[38;5;28mfloat\u001b[39m]] = []\n\u001b[32m    423\u001b[39m \u001b[38;5;28;01mfor\u001b[39;00m i \u001b[38;5;129;01min\u001b[39;00m _iter:\n",
      "\u001b[36mFile \u001b[39m\u001b[32m~/personal_learnings/ragster/venv/lib/python3.11/site-packages/langchain_openai/embeddings/base.py:361\u001b[39m, in \u001b[36mOpenAIEmbeddings._tokenize\u001b[39m\u001b[34m(self, texts, chunk_size)\u001b[39m\n\u001b[32m    359\u001b[39m \u001b[38;5;28;01melse\u001b[39;00m:\n\u001b[32m    360\u001b[39m     \u001b[38;5;28;01mtry\u001b[39;00m:\n\u001b[32m--> \u001b[39m\u001b[32m361\u001b[39m         encoding = \u001b[43mtiktoken\u001b[49m\u001b[43m.\u001b[49m\u001b[43mencoding_for_model\u001b[49m\u001b[43m(\u001b[49m\u001b[43mmodel_name\u001b[49m\u001b[43m)\u001b[49m\n\u001b[32m    362\u001b[39m     \u001b[38;5;28;01mexcept\u001b[39;00m \u001b[38;5;167;01mKeyError\u001b[39;00m:\n\u001b[32m    363\u001b[39m         encoding = tiktoken.get_encoding(\u001b[33m\"\u001b[39m\u001b[33mcl100k_base\u001b[39m\u001b[33m\"\u001b[39m)\n",
      "\u001b[36mFile \u001b[39m\u001b[32m~/personal_learnings/ragster/venv/lib/python3.11/site-packages/tiktoken/model.py:110\u001b[39m, in \u001b[36mencoding_for_model\u001b[39m\u001b[34m(model_name)\u001b[39m\n\u001b[32m    105\u001b[39m \u001b[38;5;28;01mdef\u001b[39;00m\u001b[38;5;250m \u001b[39m\u001b[34mencoding_for_model\u001b[39m(model_name: \u001b[38;5;28mstr\u001b[39m) -> Encoding:\n\u001b[32m    106\u001b[39m \u001b[38;5;250m    \u001b[39m\u001b[33;03m\"\"\"Returns the encoding used by a model.\u001b[39;00m\n\u001b[32m    107\u001b[39m \n\u001b[32m    108\u001b[39m \u001b[33;03m    Raises a KeyError if the model name is not recognised.\u001b[39;00m\n\u001b[32m    109\u001b[39m \u001b[33;03m    \"\"\"\u001b[39;00m\n\u001b[32m--> \u001b[39m\u001b[32m110\u001b[39m     \u001b[38;5;28;01mreturn\u001b[39;00m \u001b[43mget_encoding\u001b[49m\u001b[43m(\u001b[49m\u001b[43mencoding_name_for_model\u001b[49m\u001b[43m(\u001b[49m\u001b[43mmodel_name\u001b[49m\u001b[43m)\u001b[49m\u001b[43m)\u001b[49m\n",
      "\u001b[36mFile \u001b[39m\u001b[32m~/personal_learnings/ragster/venv/lib/python3.11/site-packages/tiktoken/registry.py:86\u001b[39m, in \u001b[36mget_encoding\u001b[39m\u001b[34m(encoding_name)\u001b[39m\n\u001b[32m     79\u001b[39m     \u001b[38;5;28;01mraise\u001b[39;00m \u001b[38;5;167;01mValueError\u001b[39;00m(\n\u001b[32m     80\u001b[39m         \u001b[33mf\u001b[39m\u001b[33m\"\u001b[39m\u001b[33mUnknown encoding \u001b[39m\u001b[38;5;132;01m{\u001b[39;00mencoding_name\u001b[38;5;132;01m}\u001b[39;00m\u001b[33m.\u001b[39m\u001b[38;5;130;01m\\n\u001b[39;00m\u001b[33m\"\u001b[39m\n\u001b[32m     81\u001b[39m         \u001b[33mf\u001b[39m\u001b[33m\"\u001b[39m\u001b[33mPlugins found: \u001b[39m\u001b[38;5;132;01m{\u001b[39;00m_available_plugin_modules()\u001b[38;5;132;01m}\u001b[39;00m\u001b[38;5;130;01m\\n\u001b[39;00m\u001b[33m\"\u001b[39m\n\u001b[32m     82\u001b[39m         \u001b[33mf\u001b[39m\u001b[33m\"\u001b[39m\u001b[33mtiktoken version: \u001b[39m\u001b[38;5;132;01m{\u001b[39;00mtiktoken.__version__\u001b[38;5;132;01m}\u001b[39;00m\u001b[33m (are you on latest?)\u001b[39m\u001b[33m\"\u001b[39m\n\u001b[32m     83\u001b[39m     )\n\u001b[32m     85\u001b[39m constructor = ENCODING_CONSTRUCTORS[encoding_name]\n\u001b[32m---> \u001b[39m\u001b[32m86\u001b[39m enc = Encoding(**\u001b[43mconstructor\u001b[49m\u001b[43m(\u001b[49m\u001b[43m)\u001b[49m)\n\u001b[32m     87\u001b[39m ENCODINGS[encoding_name] = enc\n\u001b[32m     88\u001b[39m \u001b[38;5;28;01mreturn\u001b[39;00m enc\n",
      "\u001b[36mFile \u001b[39m\u001b[32m~/personal_learnings/ragster/venv/lib/python3.11/site-packages/tiktoken_ext/openai_public.py:76\u001b[39m, in \u001b[36mcl100k_base\u001b[39m\u001b[34m()\u001b[39m\n\u001b[32m     75\u001b[39m \u001b[38;5;28;01mdef\u001b[39;00m\u001b[38;5;250m \u001b[39m\u001b[34mcl100k_base\u001b[39m():\n\u001b[32m---> \u001b[39m\u001b[32m76\u001b[39m     mergeable_ranks = \u001b[43mload_tiktoken_bpe\u001b[49m\u001b[43m(\u001b[49m\n\u001b[32m     77\u001b[39m \u001b[43m        \u001b[49m\u001b[33;43m\"\u001b[39;49m\u001b[33;43mhttps://openaipublic.blob.core.windows.net/encodings/cl100k_base.tiktoken\u001b[39;49m\u001b[33;43m\"\u001b[39;49m\u001b[43m,\u001b[49m\n\u001b[32m     78\u001b[39m \u001b[43m        \u001b[49m\u001b[43mexpected_hash\u001b[49m\u001b[43m=\u001b[49m\u001b[33;43m\"\u001b[39;49m\u001b[33;43m223921b76ee99bde995b7ff738513eef100fb51d18c93597a113bcffe865b2a7\u001b[39;49m\u001b[33;43m\"\u001b[39;49m\u001b[43m,\u001b[49m\n\u001b[32m     79\u001b[39m \u001b[43m    \u001b[49m\u001b[43m)\u001b[49m\n\u001b[32m     80\u001b[39m     special_tokens = {\n\u001b[32m     81\u001b[39m         ENDOFTEXT: \u001b[32m100257\u001b[39m,\n\u001b[32m     82\u001b[39m         FIM_PREFIX: \u001b[32m100258\u001b[39m,\n\u001b[32m   (...)\u001b[39m\u001b[32m     85\u001b[39m         ENDOFPROMPT: \u001b[32m100276\u001b[39m,\n\u001b[32m     86\u001b[39m     }\n\u001b[32m     87\u001b[39m     \u001b[38;5;28;01mreturn\u001b[39;00m {\n\u001b[32m     88\u001b[39m         \u001b[33m\"\u001b[39m\u001b[33mname\u001b[39m\u001b[33m\"\u001b[39m: \u001b[33m\"\u001b[39m\u001b[33mcl100k_base\u001b[39m\u001b[33m\"\u001b[39m,\n\u001b[32m     89\u001b[39m         \u001b[33m\"\u001b[39m\u001b[33mpat_str\u001b[39m\u001b[33m\"\u001b[39m: \u001b[33mr\u001b[39m\u001b[33m\"\"\"\u001b[39m\u001b[33m'\u001b[39m\u001b[33m(?i:[sdmt]|ll|ve|re)|[^\u001b[39m\u001b[33m\\\u001b[39m\u001b[33mr\u001b[39m\u001b[33m\\\u001b[39m\u001b[33mn\u001b[39m\u001b[33m\\\u001b[39m\u001b[33mp\u001b[39m\u001b[38;5;132;01m{L}\u001b[39;00m\u001b[33m\\\u001b[39m\u001b[33mp\u001b[39m\u001b[38;5;132;01m{N}\u001b[39;00m\u001b[33m]?+\u001b[39m\u001b[33m\\\u001b[39m\u001b[33mp\u001b[39m\u001b[38;5;132;01m{L}\u001b[39;00m\u001b[33m++|\u001b[39m\u001b[33m\\\u001b[39m\u001b[33mp\u001b[39m\u001b[38;5;132;01m{N}\u001b[39;00m\u001b[33m{\u001b[39m\u001b[33m1,3}+| ?[^\u001b[39m\u001b[33m\\\u001b[39m\u001b[33ms\u001b[39m\u001b[33m\\\u001b[39m\u001b[33mp\u001b[39m\u001b[38;5;132;01m{L}\u001b[39;00m\u001b[33m\\\u001b[39m\u001b[33mp\u001b[39m\u001b[38;5;132;01m{N}\u001b[39;00m\u001b[33m]++[\u001b[39m\u001b[33m\\\u001b[39m\u001b[33mr\u001b[39m\u001b[33m\\\u001b[39m\u001b[33mn]*+|\u001b[39m\u001b[33m\\\u001b[39m\u001b[33ms++$|\u001b[39m\u001b[33m\\\u001b[39m\u001b[33ms*[\u001b[39m\u001b[33m\\\u001b[39m\u001b[33mr\u001b[39m\u001b[33m\\\u001b[39m\u001b[33mn]|\u001b[39m\u001b[33m\\\u001b[39m\u001b[33ms+(?!\u001b[39m\u001b[33m\\\u001b[39m\u001b[33mS)|\u001b[39m\u001b[33m\\\u001b[39m\u001b[33ms\u001b[39m\u001b[33m\"\"\"\u001b[39m,\n\u001b[32m     90\u001b[39m         \u001b[33m\"\u001b[39m\u001b[33mmergeable_ranks\u001b[39m\u001b[33m\"\u001b[39m: mergeable_ranks,\n\u001b[32m     91\u001b[39m         \u001b[33m\"\u001b[39m\u001b[33mspecial_tokens\u001b[39m\u001b[33m\"\u001b[39m: special_tokens,\n\u001b[32m     92\u001b[39m     }\n",
      "\u001b[36mFile \u001b[39m\u001b[32m~/personal_learnings/ragster/venv/lib/python3.11/site-packages/tiktoken/load.py:148\u001b[39m, in \u001b[36mload_tiktoken_bpe\u001b[39m\u001b[34m(tiktoken_bpe_file, expected_hash)\u001b[39m\n\u001b[32m    146\u001b[39m \u001b[38;5;28;01mdef\u001b[39;00m\u001b[38;5;250m \u001b[39m\u001b[34mload_tiktoken_bpe\u001b[39m(tiktoken_bpe_file: \u001b[38;5;28mstr\u001b[39m, expected_hash: \u001b[38;5;28mstr\u001b[39m | \u001b[38;5;28;01mNone\u001b[39;00m = \u001b[38;5;28;01mNone\u001b[39;00m) -> \u001b[38;5;28mdict\u001b[39m[\u001b[38;5;28mbytes\u001b[39m, \u001b[38;5;28mint\u001b[39m]:\n\u001b[32m    147\u001b[39m     \u001b[38;5;66;03m# NB: do not add caching to this function\u001b[39;00m\n\u001b[32m--> \u001b[39m\u001b[32m148\u001b[39m     contents = \u001b[43mread_file_cached\u001b[49m\u001b[43m(\u001b[49m\u001b[43mtiktoken_bpe_file\u001b[49m\u001b[43m,\u001b[49m\u001b[43m \u001b[49m\u001b[43mexpected_hash\u001b[49m\u001b[43m)\u001b[49m\n\u001b[32m    149\u001b[39m     ret = {}\n\u001b[32m    150\u001b[39m     \u001b[38;5;28;01mfor\u001b[39;00m line \u001b[38;5;129;01min\u001b[39;00m contents.splitlines():\n",
      "\u001b[36mFile \u001b[39m\u001b[32m~/personal_learnings/ragster/venv/lib/python3.11/site-packages/tiktoken/load.py:63\u001b[39m, in \u001b[36mread_file_cached\u001b[39m\u001b[34m(blobpath, expected_hash)\u001b[39m\n\u001b[32m     60\u001b[39m     \u001b[38;5;28;01mexcept\u001b[39;00m \u001b[38;5;167;01mOSError\u001b[39;00m:\n\u001b[32m     61\u001b[39m         \u001b[38;5;28;01mpass\u001b[39;00m\n\u001b[32m---> \u001b[39m\u001b[32m63\u001b[39m contents = \u001b[43mread_file\u001b[49m\u001b[43m(\u001b[49m\u001b[43mblobpath\u001b[49m\u001b[43m)\u001b[49m\n\u001b[32m     64\u001b[39m \u001b[38;5;28;01mif\u001b[39;00m expected_hash \u001b[38;5;129;01mand\u001b[39;00m \u001b[38;5;129;01mnot\u001b[39;00m check_hash(contents, expected_hash):\n\u001b[32m     65\u001b[39m     \u001b[38;5;28;01mraise\u001b[39;00m \u001b[38;5;167;01mValueError\u001b[39;00m(\n\u001b[32m     66\u001b[39m         \u001b[33mf\u001b[39m\u001b[33m\"\u001b[39m\u001b[33mHash mismatch for data downloaded from \u001b[39m\u001b[38;5;132;01m{\u001b[39;00mblobpath\u001b[38;5;132;01m}\u001b[39;00m\u001b[33m (expected \u001b[39m\u001b[38;5;132;01m{\u001b[39;00mexpected_hash\u001b[38;5;132;01m}\u001b[39;00m\u001b[33m). \u001b[39m\u001b[33m\"\u001b[39m\n\u001b[32m     67\u001b[39m         \u001b[33mf\u001b[39m\u001b[33m\"\u001b[39m\u001b[33mThis may indicate a corrupted download. Please try again.\u001b[39m\u001b[33m\"\u001b[39m\n\u001b[32m     68\u001b[39m     )\n",
      "\u001b[36mFile \u001b[39m\u001b[32m~/personal_learnings/ragster/venv/lib/python3.11/site-packages/tiktoken/load.py:22\u001b[39m, in \u001b[36mread_file\u001b[39m\u001b[34m(blobpath)\u001b[39m\n\u001b[32m     19\u001b[39m \u001b[38;5;66;03m# avoiding blobfile for public files helps avoid auth issues, like MFA prompts\u001b[39;00m\n\u001b[32m     20\u001b[39m \u001b[38;5;28;01mimport\u001b[39;00m\u001b[38;5;250m \u001b[39m\u001b[34;01mrequests\u001b[39;00m\n\u001b[32m---> \u001b[39m\u001b[32m22\u001b[39m resp = \u001b[43mrequests\u001b[49m\u001b[43m.\u001b[49m\u001b[43mget\u001b[49m\u001b[43m(\u001b[49m\u001b[43mblobpath\u001b[49m\u001b[43m)\u001b[49m\n\u001b[32m     23\u001b[39m resp.raise_for_status()\n\u001b[32m     24\u001b[39m \u001b[38;5;28;01mreturn\u001b[39;00m resp.content\n",
      "\u001b[36mFile \u001b[39m\u001b[32m~/personal_learnings/ragster/venv/lib/python3.11/site-packages/requests/api.py:73\u001b[39m, in \u001b[36mget\u001b[39m\u001b[34m(url, params, **kwargs)\u001b[39m\n\u001b[32m     62\u001b[39m \u001b[38;5;28;01mdef\u001b[39;00m\u001b[38;5;250m \u001b[39m\u001b[34mget\u001b[39m(url, params=\u001b[38;5;28;01mNone\u001b[39;00m, **kwargs):\n\u001b[32m     63\u001b[39m \u001b[38;5;250m    \u001b[39m\u001b[33mr\u001b[39m\u001b[33;03m\"\"\"Sends a GET request.\u001b[39;00m\n\u001b[32m     64\u001b[39m \n\u001b[32m     65\u001b[39m \u001b[33;03m    :param url: URL for the new :class:`Request` object.\u001b[39;00m\n\u001b[32m   (...)\u001b[39m\u001b[32m     70\u001b[39m \u001b[33;03m    :rtype: requests.Response\u001b[39;00m\n\u001b[32m     71\u001b[39m \u001b[33;03m    \"\"\"\u001b[39;00m\n\u001b[32m---> \u001b[39m\u001b[32m73\u001b[39m     \u001b[38;5;28;01mreturn\u001b[39;00m \u001b[43mrequest\u001b[49m\u001b[43m(\u001b[49m\u001b[33;43m\"\u001b[39;49m\u001b[33;43mget\u001b[39;49m\u001b[33;43m\"\u001b[39;49m\u001b[43m,\u001b[49m\u001b[43m \u001b[49m\u001b[43murl\u001b[49m\u001b[43m,\u001b[49m\u001b[43m \u001b[49m\u001b[43mparams\u001b[49m\u001b[43m=\u001b[49m\u001b[43mparams\u001b[49m\u001b[43m,\u001b[49m\u001b[43m \u001b[49m\u001b[43m*\u001b[49m\u001b[43m*\u001b[49m\u001b[43mkwargs\u001b[49m\u001b[43m)\u001b[49m\n",
      "\u001b[36mFile \u001b[39m\u001b[32m~/personal_learnings/ragster/venv/lib/python3.11/site-packages/requests/api.py:59\u001b[39m, in \u001b[36mrequest\u001b[39m\u001b[34m(method, url, **kwargs)\u001b[39m\n\u001b[32m     55\u001b[39m \u001b[38;5;66;03m# By using the 'with' statement we are sure the session is closed, thus we\u001b[39;00m\n\u001b[32m     56\u001b[39m \u001b[38;5;66;03m# avoid leaving sockets open which can trigger a ResourceWarning in some\u001b[39;00m\n\u001b[32m     57\u001b[39m \u001b[38;5;66;03m# cases, and look like a memory leak in others.\u001b[39;00m\n\u001b[32m     58\u001b[39m \u001b[38;5;28;01mwith\u001b[39;00m sessions.Session() \u001b[38;5;28;01mas\u001b[39;00m session:\n\u001b[32m---> \u001b[39m\u001b[32m59\u001b[39m     \u001b[38;5;28;01mreturn\u001b[39;00m \u001b[43msession\u001b[49m\u001b[43m.\u001b[49m\u001b[43mrequest\u001b[49m\u001b[43m(\u001b[49m\u001b[43mmethod\u001b[49m\u001b[43m=\u001b[49m\u001b[43mmethod\u001b[49m\u001b[43m,\u001b[49m\u001b[43m \u001b[49m\u001b[43murl\u001b[49m\u001b[43m=\u001b[49m\u001b[43murl\u001b[49m\u001b[43m,\u001b[49m\u001b[43m \u001b[49m\u001b[43m*\u001b[49m\u001b[43m*\u001b[49m\u001b[43mkwargs\u001b[49m\u001b[43m)\u001b[49m\n",
      "\u001b[36mFile \u001b[39m\u001b[32m~/personal_learnings/ragster/venv/lib/python3.11/site-packages/requests/sessions.py:589\u001b[39m, in \u001b[36mSession.request\u001b[39m\u001b[34m(self, method, url, params, data, headers, cookies, files, auth, timeout, allow_redirects, proxies, hooks, stream, verify, cert, json)\u001b[39m\n\u001b[32m    584\u001b[39m send_kwargs = {\n\u001b[32m    585\u001b[39m     \u001b[33m\"\u001b[39m\u001b[33mtimeout\u001b[39m\u001b[33m\"\u001b[39m: timeout,\n\u001b[32m    586\u001b[39m     \u001b[33m\"\u001b[39m\u001b[33mallow_redirects\u001b[39m\u001b[33m\"\u001b[39m: allow_redirects,\n\u001b[32m    587\u001b[39m }\n\u001b[32m    588\u001b[39m send_kwargs.update(settings)\n\u001b[32m--> \u001b[39m\u001b[32m589\u001b[39m resp = \u001b[38;5;28;43mself\u001b[39;49m\u001b[43m.\u001b[49m\u001b[43msend\u001b[49m\u001b[43m(\u001b[49m\u001b[43mprep\u001b[49m\u001b[43m,\u001b[49m\u001b[43m \u001b[49m\u001b[43m*\u001b[49m\u001b[43m*\u001b[49m\u001b[43msend_kwargs\u001b[49m\u001b[43m)\u001b[49m\n\u001b[32m    591\u001b[39m \u001b[38;5;28;01mreturn\u001b[39;00m resp\n",
      "\u001b[36mFile \u001b[39m\u001b[32m~/personal_learnings/ragster/venv/lib/python3.11/site-packages/requests/sessions.py:703\u001b[39m, in \u001b[36mSession.send\u001b[39m\u001b[34m(self, request, **kwargs)\u001b[39m\n\u001b[32m    700\u001b[39m start = preferred_clock()\n\u001b[32m    702\u001b[39m \u001b[38;5;66;03m# Send the request\u001b[39;00m\n\u001b[32m--> \u001b[39m\u001b[32m703\u001b[39m r = \u001b[43madapter\u001b[49m\u001b[43m.\u001b[49m\u001b[43msend\u001b[49m\u001b[43m(\u001b[49m\u001b[43mrequest\u001b[49m\u001b[43m,\u001b[49m\u001b[43m \u001b[49m\u001b[43m*\u001b[49m\u001b[43m*\u001b[49m\u001b[43mkwargs\u001b[49m\u001b[43m)\u001b[49m\n\u001b[32m    705\u001b[39m \u001b[38;5;66;03m# Total elapsed time of the request (approximately)\u001b[39;00m\n\u001b[32m    706\u001b[39m elapsed = preferred_clock() - start\n",
      "\u001b[36mFile \u001b[39m\u001b[32m~/personal_learnings/ragster/venv/lib/python3.11/site-packages/requests/adapters.py:700\u001b[39m, in \u001b[36mHTTPAdapter.send\u001b[39m\u001b[34m(self, request, stream, timeout, verify, cert, proxies)\u001b[39m\n\u001b[32m    696\u001b[39m     \u001b[38;5;28;01mif\u001b[39;00m \u001b[38;5;28misinstance\u001b[39m(e.reason, _SSLError):\n\u001b[32m    697\u001b[39m         \u001b[38;5;66;03m# This branch is for urllib3 v1.22 and later.\u001b[39;00m\n\u001b[32m    698\u001b[39m         \u001b[38;5;28;01mraise\u001b[39;00m SSLError(e, request=request)\n\u001b[32m--> \u001b[39m\u001b[32m700\u001b[39m     \u001b[38;5;28;01mraise\u001b[39;00m \u001b[38;5;167;01mConnectionError\u001b[39;00m(e, request=request)\n\u001b[32m    702\u001b[39m \u001b[38;5;28;01mexcept\u001b[39;00m ClosedPoolError \u001b[38;5;28;01mas\u001b[39;00m e:\n\u001b[32m    703\u001b[39m     \u001b[38;5;28;01mraise\u001b[39;00m \u001b[38;5;167;01mConnectionError\u001b[39;00m(e, request=request)\n",
      "\u001b[31mConnectionError\u001b[39m: HTTPSConnectionPool(host='openaipublic.blob.core.windows.net', port=443): Max retries exceeded with url: /encodings/cl100k_base.tiktoken (Caused by NameResolutionError(\"<urllib3.connection.HTTPSConnection object at 0x31ee05910>: Failed to resolve 'openaipublic.blob.core.windows.net' ([Errno 8] nodename nor servname provided, or not known)\"))"
     ]
    }
   ],
   "source": [
    "db1.add_documents(documents=[pr])"
   ]
  },
  {
   "cell_type": "code",
   "execution_count": 83,
   "id": "aebe2f61",
   "metadata": {},
   "outputs": [],
   "source": [
    "from langchain.schema import Document\n",
    "\n",
    "greetings = [\n",
    "    {\"text\": \"Hello\", \"language\": \"English\"},\n",
    "    {\"text\": \"Hi\", \"language\": \"English\"},\n",
    "    {\"text\": \"Hey\", \"language\": \"English\"},\n",
    "    {\"text\": \"Greetings\", \"language\": \"English\"},\n",
    "    {\"text\": \"Good Morning\", \"language\": \"English\"},\n",
    "    {\"text\": \"Good Afternoon\", \"language\": \"English\"},\n",
    "    {\"text\": \"Good Evening\", \"language\": \"English\"},\n",
    "    {\"text\": \"Howdy\", \"language\": \"English\"},\n",
    "    {\"text\": \"What's up?\", \"language\": \"English\"},\n",
    "    {\"text\": \"Welcome\", \"language\": \"English\"},\n",
    "    {\"text\": \"Salutations\", \"language\": \"English\"},\n",
    "    {\"text\": \"Hiya\", \"language\": \"English\"},\n",
    "    {\"text\": \"Yo\", \"language\": \"English\"},\n",
    "    {\"text\": \"How’s it going?\", \"language\": \"English\"},\n",
    "    {\"text\": \"Nice to meet you\", \"language\": \"English\"},\n",
    "    {\"text\": \"How are you?\", \"language\": \"English\"},\n",
    "    {\"text\": \"Good day\", \"language\": \"English\"},\n",
    "    {\"text\": \"Pleased to meet you\", \"language\": \"English\"},\n",
    "    {\"text\": \"Hey there\", \"language\": \"English\"},\n",
    "    {\"text\": \"What's new?\", \"language\": \"English\"},\n",
    "    {\"text\": \"Long time no see\", \"language\": \"English\"},\n",
    "    {\"text\": \"How have you been?\", \"language\": \"English\"},\n",
    "    {\"text\": \"How do you do?\", \"language\": \"English\"},\n",
    "    {\"text\": \"Good to see you\", \"language\": \"English\"},\n",
    "    {\"text\": \"How are things?\", \"language\": \"English\"},\n",
    "    {\"text\": \"Hello there\", \"language\": \"English\"},\n",
    "    {\"text\": \"Hi there\", \"language\": \"English\"},\n",
    "]\n",
    "\n",
    "# Convert the greetings into a list of LangChain Documents with language metadata\n",
    "documents = [Document(page_content=greeting[\"text\"], metadata={\"source\": \"english greeting words\",\"db_owner\":\"LawGlance\",\"language\": greeting[\"language\"]})\n",
    "    for greeting in greetings\n",
    "]\n"
   ]
  }
 ],
 "metadata": {
  "kernelspec": {
   "display_name": "venv",
   "language": "python",
   "name": "python3"
  },
  "language_info": {
   "codemirror_mode": {
    "name": "ipython",
    "version": 3
   },
   "file_extension": ".py",
   "mimetype": "text/x-python",
   "name": "python",
   "nbconvert_exporter": "python",
   "pygments_lexer": "ipython3",
   "version": "3.11.8"
  }
 },
 "nbformat": 4,
 "nbformat_minor": 5
}
